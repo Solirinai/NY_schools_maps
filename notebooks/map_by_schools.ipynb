{
 "cells": [
  {
   "cell_type": "markdown",
   "id": "888b8e0c",
   "metadata": {},
   "source": [
    "# Analysis of NYC public schools results in ELA and math grades 3-8."
   ]
  },
  {
   "cell_type": "markdown",
   "id": "3e1cc970-ea50-4b77-a0bc-3b7d63c9b1f0",
   "metadata": {},
   "source": [
    "<span style=\"color: red;\">**If kernel can't connect to server again run command:**\n",
    "*netsh winsock reset*<span>"
   ]
  },
  {
   "cell_type": "markdown",
   "id": "dc01637a",
   "metadata": {},
   "source": [
    "<a id=\"TOC\"></a> \n",
    "## Table of Contents\n",
    "1. [Data sources and definitions](#data)\n",
    "2. [Imports: modules](#modules)\n",
    "3. [Read and prepare data](#read)\n",
    "4. [Best middle schools by math](#best)\n",
    "5. [Maps of middle schools by math results](#maps) \n"
   ]
  },
  {
   "cell_type": "markdown",
   "id": "00c1d9de-c41d-4577-8a53-84356c5ebcc4",
   "metadata": {},
   "source": [
    "<a id=\"data\"></a> \n",
    "#### Data:\n",
    "1. Data New York City grades 3-8 New York State English Language Arts and Math State Tests results 2013-2023:<br>https://infohub.nyced.org/reports/academics/test-results\n",
    "2. NYS schools locations:<br>\n",
    "https://data.gis.ny.gov/maps/b6c624c740e4476689aa60fdc4aacb8f/about\n",
    "3. Citywide or Boroughwide status:\n",
    "<br>https://www.nycschoolhelp.com/borowide-citywide-middle-schools"
   ]
  },
  {
   "cell_type": "markdown",
   "id": "c53d80ad",
   "metadata": {},
   "source": [
    "#### Definitions of Performance Levels for the 2023 Grades 3-8 English Language Arts and Mathematics Tests  \n",
    "\n",
    "**NYS Level 1**: Students performing at this level are below proficient in standards for their grade. They may demonstrate limited knowledge, skills, and practices embodied by the Learning Standards that are considered insufficient for the expectations at this grade. \n",
    "\n",
    "**NYS Level 2**: Students performing at this level are partially proficient in standards for their grade. They demonstrate knowledge, skills, and practices embodied by the Learning Standards that are considered partial but insufficient for the expectations at this grade. Students performing at Level 2 are considered on track to meet current New York high school graduation requirements but are not yet proficient in Learning Standards at this grade. \n",
    "\n",
    "**NYS Level 3**: Students performing at this level are proficient in standards for their grade. They demonstrate knowledge, skills, and practices embodied by the Learning Standards that are considered sufficient for the expectations at this grade.  \n",
    "\n",
    "**NYS Level 4**: Students performing at this level excel in standards for their grade. They demonstrate knowledge, skills, and practices embodied by the Learning Standards that are considered more than sufficient for the expectations at this grade.  \n",
    "\n",
    "*Source: NYSED, 2023, https://www.p12.nysed.gov/irs/ela-math/2023/ela-math-score-ranges-performance-levels-2023.pdf*"
   ]
  },
  {
   "cell_type": "raw",
   "id": "06c708fb",
   "metadata": {},
   "source": [
    "Scale Score Ranges Associated with Each Mathematics Performance Level \n",
    "\n",
    "Grade NYS Level 1 NYS Level 2 NYS Level 3 NYS Level 4 \n",
    "    3 377–423     424–449     450–486     487–501 \n",
    "    4 378–430     431–449     450–485     486–507 \n",
    "    5 381–431     432–449     450–482     483–506 \n",
    "    6 388–430     431–449     450–484     485–513 \n",
    "    7 379–429     430–449     450–476     477–509 \n",
    "    8 379–435     436–449     450–481     482–514 "
   ]
  },
  {
   "cell_type": "markdown",
   "id": "ac719a6d",
   "metadata": {},
   "source": [
    "## Questions\n",
    "*1. How the test results changed?*\n",
    "<br>Compare last year test results in a school with the school 10-year average as percentage of average:\n",
    "<br> school_change = (school_current_year - school_10year_average)/school_10year_average\n",
    "<br> citywide_change = (city_current_year - city_10year_average)/city_10year_average\n",
    "<br> relative_school_change = school_change - citywide_change\n",
    "<br><br>\n",
    "*2. How good the school is?* \n",
    "<br>Last three testing period results (2019, 2022, 2023) are different for some schools: due to COVID disruptions, testing procedures changes, in Destrict 15 due to admission rules changed. Therefore average 10 years scores do not reflect well schools situation now. Results for these 3 last testing years are teken instead.\n",
    "<br><br>\n",
    "*3. Is the school citywide or borowide?*\n",
    "<br><br>\n",
    "*4. Diversity?*\n",
    "<br><br>\n",
    "*5. Size?*"
   ]
  },
  {
   "cell_type": "markdown",
   "id": "b7250733",
   "metadata": {},
   "source": [
    "<a id=\"modules\"></a> \n",
    "#### Imports: modules"
   ]
  },
  {
   "cell_type": "code",
   "execution_count": 2,
   "id": "69e42758",
   "metadata": {},
   "outputs": [],
   "source": [
    "import os\n",
    "import pandas as pd\n",
    "import geopandas as gpd\n",
    "# import matplotlib.pyplot as plt\n",
    "import folium\n",
    "from shapely.geometry import Point\n",
    "# import difflib\n",
    "# from fuzzywuzzy import process\n",
    "# import fuzzywuzzy\n",
    "# import base64\n",
    "# from io import BytesIO\n",
    "# import math\n",
    "from tqdm import tqdm\n",
    "\n",
    "pd.set_option('display.float_format', '{:.3f}'.format)"
   ]
  },
  {
   "cell_type": "code",
   "execution_count": 3,
   "id": "be3dd827",
   "metadata": {},
   "outputs": [],
   "source": [
    "basePath = r\"G:\\My Drive\\Kids\\NYC_schools\"\n",
    "dataFolder = r\"raw_data\"\n",
    "outputFolder = r\"processed_data\""
   ]
  },
  {
   "cell_type": "markdown",
   "id": "873610ae",
   "metadata": {},
   "source": [
    "<a id=\"maps\"></a> \n",
    "### Maps of the NYC middle schools by assessment results "
   ]
  },
  {
   "cell_type": "markdown",
   "id": "63507d8e",
   "metadata": {},
   "source": [
    "Below mapping is done with the __[Folium library](https://python-visualization.github.io/folium/latest/)__"
   ]
  },
  {
   "cell_type": "markdown",
   "id": "caca0ad5",
   "metadata": {},
   "source": [
    "#### Read schools geolocation file"
   ]
  },
  {
   "cell_type": "code",
   "execution_count": 4,
   "id": "d853ef71",
   "metadata": {},
   "outputs": [],
   "source": [
    "## Read GeoJSON into data frame\n",
    "SchoolsFile = 'NYC_K-12_schools_public.geojson'\n",
    "NYCSchoolsPath = os.path.join(basePath, dataFolder, SchoolsFile)\n",
    "NYCSchoolsData = gpd.read_file(NYCSchoolsPath)\n",
    "\n",
    "DistrictsFile = 'School Districts.geojson'\n",
    "NYCDistrictsPath = os.path.join(basePath, dataFolder, DistrictsFile)\n",
    "NYCDistrictsData = gpd.read_file(NYCDistrictsPath)"
   ]
  },
  {
   "cell_type": "markdown",
   "id": "054fe905",
   "metadata": {},
   "source": [
    "### Preparing layer with districts"
   ]
  },
  {
   "cell_type": "code",
   "execution_count": 5,
   "id": "b1119d3f",
   "metadata": {
    "scrolled": true
   },
   "outputs": [
    {
     "name": "stdout",
     "output_type": "stream",
     "text": [
      "   Unnamed: 0  Year  # Level 1  # Level 2  # Level 3  # Level 4  District\n",
      "0           0  2013      0.259      0.310      0.195      0.237         1\n",
      "1           1  2014      0.256      0.313      0.218      0.214         1\n",
      "2           2  2015      0.235      0.330      0.206      0.229         1\n",
      "3           3  2016      0.225      0.330      0.178      0.267         1\n",
      "4           4  2017      0.293      0.289      0.173      0.245         1\n",
      "   Unnamed: 0  Year  # Level 1  # Level 2  # Level 3  # Level 4  District\n",
      "0           0  2013      0.265      0.461      0.465      0.997         1\n",
      "1           1  2014      0.214      0.438      0.518      0.997         1\n",
      "2           2  2015      0.216      0.397      0.537      0.997         1\n",
      "3           3  2016      0.156      0.425      0.535      0.997         1\n",
      "4           4  2017      0.169      0.395      0.501      0.998         1\n"
     ]
    }
   ],
   "source": [
    "# Read file with district wide Math test results to add to the map\n",
    "DistrictMathFile = \"DistrictsMSMAthNorm.xlsx\"\n",
    "DistrictMathPath = os.path.join(basePath, outputFolder, DistrictMathFile)\n",
    "DistrictMSMathData = pd.read_excel(DistrictMathPath)\n",
    "print(DistrictMSMathData.head(5))\n",
    "\n",
    "# Read file with district wide ELA test results to add to the map\n",
    "DistrictELAFile = \"DistrictsMSELANorm.xlsx\"\n",
    "DistrictELAPath = os.path.join(basePath, outputFolder, DistrictELAFile)\n",
    "DistrictMSELAData = pd.read_excel(DistrictELAPath)\n",
    "print(DistrictMSELAData.head(5))"
   ]
  },
  {
   "cell_type": "code",
   "execution_count": 8,
   "id": "38c4f4bb",
   "metadata": {},
   "outputs": [
    {
     "name": "stdout",
     "output_type": "stream",
     "text": [
      "   Unnamed: 0  Year  # Level 1 Math  # Level 2 Math  # Level 3 Math  \\\n",
      "0           0  2013           0.259           0.310           0.195   \n",
      "1           1  2014           0.256           0.313           0.218   \n",
      "2           2  2015           0.235           0.330           0.206   \n",
      "3           3  2016           0.225           0.330           0.178   \n",
      "4           4  2017           0.293           0.289           0.173   \n",
      "\n",
      "   # Level 4 Math  District  \n",
      "0           0.237         1  \n",
      "1           0.214         1  \n",
      "2           0.229         1  \n",
      "3           0.267         1  \n",
      "4           0.245         1  \n"
     ]
    },
    {
     "data": {
      "text/html": [
       "<div>\n",
       "<style scoped>\n",
       "    .dataframe tbody tr th:only-of-type {\n",
       "        vertical-align: middle;\n",
       "    }\n",
       "\n",
       "    .dataframe tbody tr th {\n",
       "        vertical-align: top;\n",
       "    }\n",
       "\n",
       "    .dataframe thead th {\n",
       "        text-align: right;\n",
       "    }\n",
       "</style>\n",
       "<table border=\"1\" class=\"dataframe\">\n",
       "  <thead>\n",
       "    <tr style=\"text-align: right;\">\n",
       "      <th></th>\n",
       "      <th>Unnamed: 0</th>\n",
       "      <th>Year</th>\n",
       "      <th># Level 1 ELA</th>\n",
       "      <th># Level 2 ELA</th>\n",
       "      <th># Level 3 ELA</th>\n",
       "      <th># Level 4 ELA</th>\n",
       "      <th>District</th>\n",
       "    </tr>\n",
       "  </thead>\n",
       "  <tbody>\n",
       "    <tr>\n",
       "      <th>0</th>\n",
       "      <td>0</td>\n",
       "      <td>2013</td>\n",
       "      <td>0.265</td>\n",
       "      <td>0.461</td>\n",
       "      <td>0.465</td>\n",
       "      <td>0.997</td>\n",
       "      <td>1</td>\n",
       "    </tr>\n",
       "    <tr>\n",
       "      <th>1</th>\n",
       "      <td>1</td>\n",
       "      <td>2014</td>\n",
       "      <td>0.214</td>\n",
       "      <td>0.438</td>\n",
       "      <td>0.518</td>\n",
       "      <td>0.997</td>\n",
       "      <td>1</td>\n",
       "    </tr>\n",
       "    <tr>\n",
       "      <th>2</th>\n",
       "      <td>2</td>\n",
       "      <td>2015</td>\n",
       "      <td>0.216</td>\n",
       "      <td>0.397</td>\n",
       "      <td>0.537</td>\n",
       "      <td>0.997</td>\n",
       "      <td>1</td>\n",
       "    </tr>\n",
       "    <tr>\n",
       "      <th>3</th>\n",
       "      <td>3</td>\n",
       "      <td>2016</td>\n",
       "      <td>0.156</td>\n",
       "      <td>0.425</td>\n",
       "      <td>0.535</td>\n",
       "      <td>0.997</td>\n",
       "      <td>1</td>\n",
       "    </tr>\n",
       "    <tr>\n",
       "      <th>4</th>\n",
       "      <td>4</td>\n",
       "      <td>2017</td>\n",
       "      <td>0.169</td>\n",
       "      <td>0.395</td>\n",
       "      <td>0.501</td>\n",
       "      <td>0.998</td>\n",
       "      <td>1</td>\n",
       "    </tr>\n",
       "  </tbody>\n",
       "</table>\n",
       "</div>"
      ],
      "text/plain": [
       "   Unnamed: 0  Year  # Level 1 ELA  # Level 2 ELA  # Level 3 ELA  \\\n",
       "0           0  2013          0.265          0.461          0.465   \n",
       "1           1  2014          0.214          0.438          0.518   \n",
       "2           2  2015          0.216          0.397          0.537   \n",
       "3           3  2016          0.156          0.425          0.535   \n",
       "4           4  2017          0.169          0.395          0.501   \n",
       "\n",
       "   # Level 4 ELA  District  \n",
       "0          0.997         1  \n",
       "1          0.997         1  \n",
       "2          0.997         1  \n",
       "3          0.997         1  \n",
       "4          0.998         1  "
      ]
     },
     "execution_count": 8,
     "metadata": {},
     "output_type": "execute_result"
    }
   ],
   "source": [
    "mathColumns = {'# Level 1':'# Level 1 Math','# Level 2':'# Level 2 Math', '# Level 3':'# Level 3 Math','# Level 4':'# Level 4 Math'}\n",
    "DistrictMSMathData.rename(columns = mathColumns, inplace = True) \n",
    "print(DistrictMSMathData.head())\n",
    "\n",
    "ELAColumns = {'# Level 1':'# Level 1 ELA','# Level 2':'# Level 2 ELA', '# Level 3':'# Level 3 ELA','# Level 4':'# Level 4 ELA'}\n",
    "DistrictMSELAData.rename(columns = ELAColumns, inplace = True)\n",
    "DistrictMSELAData.head()"
   ]
  },
  {
   "cell_type": "code",
   "execution_count": 12,
   "id": "93b6d340",
   "metadata": {},
   "outputs": [
    {
     "name": "stdout",
     "output_type": "stream",
     "text": [
      "<class 'pandas.core.frame.DataFrame'>\n",
      "RangeIndex: 288 entries, 0 to 287\n",
      "Data columns (total 7 columns):\n",
      " #   Column          Non-Null Count  Dtype  \n",
      "---  ------          --------------  -----  \n",
      " 0   Unnamed: 0      288 non-null    int64  \n",
      " 1   Year            288 non-null    int64  \n",
      " 2   # Level 1 Math  288 non-null    float64\n",
      " 3   # Level 2 Math  288 non-null    float64\n",
      " 4   # Level 3 Math  288 non-null    float64\n",
      " 5   # Level 4 Math  288 non-null    float64\n",
      " 6   District        288 non-null    int64  \n",
      "dtypes: float64(4), int64(3)\n",
      "memory usage: 15.9 KB\n"
     ]
    }
   ],
   "source": [
    "DistrictMSMathData.info()"
   ]
  },
  {
   "cell_type": "code",
   "execution_count": 16,
   "id": "38a83eba",
   "metadata": {},
   "outputs": [],
   "source": [
    "DistrictAllData = pd.merge(DistrictMSMathData, DistrictMSELAData, on = ['Year', 'District'], how = 'inner')"
   ]
  },
  {
   "cell_type": "code",
   "execution_count": 21,
   "id": "b84a0bfc",
   "metadata": {},
   "outputs": [],
   "source": [
    "DistrictAllData['# Level 4 Math+ELA'] = DistrictAllData['# Level 4 Math'] + DistrictAllData['# Level 4 ELA']"
   ]
  },
  {
   "cell_type": "code",
   "execution_count": 25,
   "id": "6280d014",
   "metadata": {},
   "outputs": [
    {
     "name": "stdout",
     "output_type": "stream",
     "text": [
      "<class 'pandas.core.frame.DataFrame'>\n",
      "Int64Index: 288 entries, 0 to 287\n",
      "Data columns (total 13 columns):\n",
      " #   Column              Non-Null Count  Dtype  \n",
      "---  ------              --------------  -----  \n",
      " 0   Unnamed: 0_x        288 non-null    int64  \n",
      " 1   Year                288 non-null    int64  \n",
      " 2   # Level 1 Math      288 non-null    float64\n",
      " 3   # Level 2 Math      288 non-null    float64\n",
      " 4   # Level 3 Math      288 non-null    float64\n",
      " 5   # Level 4 Math      288 non-null    float64\n",
      " 6   District            288 non-null    int64  \n",
      " 7   Unnamed: 0_y        288 non-null    int64  \n",
      " 8   # Level 1 ELA       288 non-null    float64\n",
      " 9   # Level 2 ELA       288 non-null    float64\n",
      " 10  # Level 3 ELA       288 non-null    float64\n",
      " 11  # Level 4 ELA       288 non-null    float64\n",
      " 12  # Level 4 Math+ELA  288 non-null    float64\n",
      "dtypes: float64(9), int64(4)\n",
      "memory usage: 31.5 KB\n"
     ]
    }
   ],
   "source": [
    "DistrictAllData.info()"
   ]
  },
  {
   "cell_type": "code",
   "execution_count": 19,
   "id": "de3422dd",
   "metadata": {},
   "outputs": [],
   "source": [
    "# Read saved GeoJSON with average tests results and plots\n",
    "AVGTestsPlotFile = 'schoolDataPlots.geojson'\n",
    "AVGTestsPlotPath = os.path.join(basePath, outputFolder,AVGTestsPlotFile)\n",
    "NYCSchoolsAVGData = gpd.read_file(AVGTestsPlotPath)"
   ]
  },
  {
   "cell_type": "code",
   "execution_count": 20,
   "id": "8f5711f1",
   "metadata": {},
   "outputs": [
    {
     "name": "stdout",
     "output_type": "stream",
     "text": [
      "<class 'geopandas.geodataframe.GeoDataFrame'>\n",
      "RangeIndex: 922 entries, 0 to 921\n",
      "Data columns (total 47 columns):\n",
      " #   Column                         Non-Null Count  Dtype   \n",
      "---  ------                         --------------  -----   \n",
      " 0   OBJECTID                       922 non-null    int64   \n",
      " 1   LEGAL_NAME                     922 non-null    object  \n",
      " 2   PHYSADDRLINE1                  922 non-null    object  \n",
      " 3   PHYSCITY                       922 non-null    object  \n",
      " 4   COUNTY_DESC                    922 non-null    object  \n",
      " 5   RECORD_TYPE_DESC               922 non-null    object  \n",
      " 6   SDL_DESC                       922 non-null    object  \n",
      " 7   DBN                            922 non-null    object  \n",
      " 8   School Name_x                  922 non-null    object  \n",
      " 9   10yrs avg Lvl 1 Math           914 non-null    float64 \n",
      " 10  10yrs avg Lvl 2 Math           914 non-null    float64 \n",
      " 11  10yrs avg Lvl 3 Math           914 non-null    float64 \n",
      " 12  10yrs avg Lvl 4 Math           914 non-null    float64 \n",
      " 13  10yrs avg Lvl 1 ELA            914 non-null    float64 \n",
      " 14  10yrs avg Lvl 2 ELA            914 non-null    float64 \n",
      " 15  10yrs avg Lvl 3 ELA            914 non-null    float64 \n",
      " 16  10yrs avg Lvl 4 ELA            914 non-null    float64 \n",
      " 17  10yrs avg Lvl 4 Math+Ela       914 non-null    float64 \n",
      " 18  Year_x                         922 non-null    int64   \n",
      " 19  Level 4 Math+Ela               912 non-null    float64 \n",
      " 20  2023-10yAVG                    912 non-null    float64 \n",
      " 21  3yrs avg Lvl 1 Math            914 non-null    float64 \n",
      " 22  3yrs avg Lvl 2 Math            914 non-null    float64 \n",
      " 23  3yrs avg Lvl 3 Math            914 non-null    float64 \n",
      " 24  3yrs avg Lvl 4 Math            914 non-null    float64 \n",
      " 25  3yrs avg Lvl 1 ELA             914 non-null    float64 \n",
      " 26  3yrs avg Lvl 2 ELA             914 non-null    float64 \n",
      " 27  3yrs avg Lvl 3 ELA             914 non-null    float64 \n",
      " 28  3yrs avg Lvl 4 ELA             914 non-null    float64 \n",
      " 29  3yrs avg Lvl 4 Math+Ela        914 non-null    float64 \n",
      " 30  Year_y                         922 non-null    object  \n",
      " 31  Total Enrollment               922 non-null    int64   \n",
      " 32  % Asian                        922 non-null    float64 \n",
      " 33  % Black                        922 non-null    float64 \n",
      " 34  % Hispanic                     922 non-null    float64 \n",
      " 35  % Multi-Racial                 922 non-null    float64 \n",
      " 36  % Native American              922 non-null    float64 \n",
      " 37  % White                        922 non-null    float64 \n",
      " 38  % Missing Race_Ethnicity Data  922 non-null    float64 \n",
      " 39  School Name_y                  116 non-null    object  \n",
      " 40  Open to                        116 non-null    object  \n",
      " 41  Comments                       46 non-null     object  \n",
      " 42  matched_name                   922 non-null    object  \n",
      " 43  Dvst_chart                     922 non-null    object  \n",
      " 44  plot Math                      922 non-null    object  \n",
      " 45  plot ELA                       922 non-null    object  \n",
      " 46  geometry                       922 non-null    geometry\n",
      "dtypes: float64(27), geometry(1), int64(3), object(16)\n",
      "memory usage: 338.7+ KB\n"
     ]
    }
   ],
   "source": [
    "NYCSchoolsAVGData.info()"
   ]
  },
  {
   "cell_type": "markdown",
   "id": "4af00401",
   "metadata": {},
   "source": [
    "#### Producing NYC map"
   ]
  },
  {
   "cell_type": "code",
   "execution_count": 24,
   "id": "0695b887",
   "metadata": {
    "scrolled": true
   },
   "outputs": [
    {
     "data": {
      "text/html": [
       "<style>.output_scroll { height: auto !important; max-height: 1500px; }</style>"
      ],
      "text/plain": [
       "<IPython.core.display.HTML object>"
      ]
     },
     "metadata": {},
     "output_type": "display_data"
    },
    {
     "name": "stderr",
     "output_type": "stream",
     "text": [
      "100%|████████████████████████████████████████████████████████████████████████████████| 922/922 [00:44<00:00, 20.70it/s]\n"
     ]
    }
   ],
   "source": [
    "from IPython.core.display import display, HTML\n",
    "\n",
    "display(HTML(\"<style>.output_scroll { height: auto !important; max-height: 1500px; }</style>\"))\n",
    "\n",
    "# Create a map object, centered at NYC\n",
    "MathTestMS_map = folium.Map(location=[40.6839, -73.9026], zoom_start=11, tiles=\"cartodb positron\")\n",
    "   \n",
    "# Add dataframes with coordinates and test results to the map\n",
    "\n",
    "def my_style(x):\n",
    "    level4 = x['properties']['3yrs avg Lvl 4 Math+Ela']\n",
    "    openTo = x['properties']['Open to']\n",
    "    color = 'yellow' if openTo == 'Citywide'  else '#3862e0' if openTo == 'Brooklyn' else '#54B96D'\n",
    "    weight = 2 if openTo == 'Citywide'  else 2 if openTo == 'Brooklyn' else 0.5\n",
    "    if level4 is None:\n",
    "        level4 = 0\n",
    "    #print(level4)\n",
    "    return {\n",
    "        \"radius\": (level4)*500,\n",
    "        \"color\": color,\n",
    "        \"weight\": weight\n",
    "    }  \n",
    "\n",
    "\n",
    "## Adding the layer to the map\n",
    "districts = folium.Choropleth(\n",
    "    geo_data = NYCDistrictsData,\n",
    "    data = DistrictAllData[DistrictAllData['Year'] == 2023],\n",
    "    columns = ['District','# Level 4 Math+ELA'],\n",
    "    key_on = \"feature.properties.school_dist\",\n",
    "    fill_color = \"BuPu\",\n",
    "    fill_opacity = 0.8,\n",
    "    line_opacity=0.3,\n",
    "    nan_fill_color=\"white\",\n",
    "    legend_name = 'Sum of percentages of middle school test takers with Level 4 result in Math and ELA, 2023',\n",
    "    popup = folium.GeoJsonPopup(fields=[\"school_dist\", \"Year\", \"# Level 1\", \"# Level 2\", \"# Level 3\", \"# Level 4\"]), \n",
    "    name = \"School districts\"\n",
    ").add_to(MathTestMS_map)\n",
    "\n",
    "# folium.GeoJson(\n",
    "#     NYCpublicSchoolsMath_mappable[NYCpublicSchoolsMath_mappable['Year'] == 2023],\n",
    "#     marker = folium.Circle(radius=10, fill_color='yellow', fill_opacity=1.0, color=\"orange\", weight=0.5),\n",
    "#     tooltip = folium.GeoJsonTooltip(fields=[\"LEGAL_NAME\",\"RECORD_TYPE_DESC\", \"# Level 4\"]),\n",
    "#     popup = folium.GeoJsonPopup(fields=[\"LEGAL_NAME\",\"RECORD_TYPE_DESC\", \"# Level 4\"]),\n",
    "#     style_function = my_style,        \n",
    "#     zoom_on_click = True,\n",
    "#     name = \"All middle schools\"\n",
    "# ).add_to(MathTestMS_map)\n",
    "\n",
    "# Function to create iframe for a given row\n",
    "def create_iframe(row):    \n",
    "    html =  '<strong>{0}:</strong> {1}<br><strong>{2}:</strong> {3}<br><strong>{4}:</strong> {5}<br>\\\n",
    "    <strong>{6}:</strong> {7}<br><strong>{8}:</strong> {9}<br><strong>{10}:</strong> {11}<br>\\\n",
    "    <strong>{12}:</strong> <br><img src=\"data:image/png;base64,{13}\"><br>\\\n",
    "    <img src=\"data:image/png;base64,{14}\"<br> <img src=\"data:image/png;base64,{15}\">'.format(\n",
    "        'School Name', row['LEGAL_NAME'],\n",
    "        'School Number', row['DBN'],\n",
    "        'Total Enrollment, students', row['Total Enrollment'],\n",
    "        'Level 4 share Avg 2019-2023 Math', round(row['3yrs avg Lvl 4 Math'], 2), \n",
    "        'Level 4 share Avg 2019-2023 ELA', round(row['3yrs avg Lvl 4 ELA'], 2),\n",
    "        'School Math+ELA % Level 4 2023 - 10 years average', round(row['2023-10yAVG'], 3),\n",
    "        'Citywide Math+ELA % Level 4 2023 - 10 years average: 0.100',\n",
    "        row['plot Math'], row['plot ELA'], row['Dvst_chart'])\n",
    "    return folium.IFrame(html, width=500, height=450)\n",
    "\n",
    "def create_popup(x):\n",
    "    iframe = create_iframe(x)\n",
    "    popup = folium.Popup(iframe)\n",
    "    return popup\n",
    "\n",
    "# Iterate over the GeoDataFrame and add a popup to each feature\n",
    "for _, row in tqdm(NYCSchoolsAVGData.iterrows(), total = len(NYCSchoolsAVGData)):\n",
    "    iframe = create_iframe(row)\n",
    "        \n",
    "    data = gpd.GeoDataFrame(row.to_frame().T, crs=NYCSchoolsAVGData.crs)\n",
    "    \n",
    "    folium.GeoJson(\n",
    "    data,\n",
    "    marker = folium.Circle(radius=10, fill_color='green', fill_opacity=1.0, color=\"green\", weight=0.5),\n",
    "    popup = folium.Popup(iframe),\n",
    "    style_function = my_style, \n",
    "    control = False    \n",
    "    #zoom_on_click = True,    \n",
    ").add_to(MathTestMS_map)    \n",
    "        \n",
    "folium.LayerControl().add_to(MathTestMS_map)    \n",
    "  \n",
    "# # Display the map\n",
    "# MathTestMS_map\n",
    "\n",
    "# Save map to html\n",
    "mfile = 'NYCMSmap.html'\n",
    "mpath = os.path.join(basePath, outputFolder, mfile)\n",
    "MathTestMS_map.save(mpath)"
   ]
  },
  {
   "cell_type": "markdown",
   "id": "fc73c6bb",
   "metadata": {},
   "source": [
    "#### Producing map zoomed on District 15"
   ]
  },
  {
   "cell_type": "code",
   "execution_count": 10,
   "id": "b50ec845",
   "metadata": {
    "scrolled": true
   },
   "outputs": [
    {
     "data": {
      "text/html": [
       "<style>.output_scroll { height: auto !important; max-height: 1500px; }</style>"
      ],
      "text/plain": [
       "<IPython.core.display.HTML object>"
      ]
     },
     "metadata": {},
     "output_type": "display_data"
    },
    {
     "name": "stderr",
     "output_type": "stream",
     "text": [
      "100%|████████████████████████████████████████████████████████████████████████████████| 922/922 [00:44<00:00, 20.74it/s]\n"
     ]
    }
   ],
   "source": [
    "from IPython.core.display import display, HTML\n",
    "\n",
    "display(HTML(\"<style>.output_scroll { height: auto !important; max-height: 1500px; }</style>\"))\n",
    "\n",
    "# Create a map object, centered at NYC\n",
    "MathTestMS_map = folium.Map(location=[40.666591, -73.995518], zoom_start=13, tiles=\"cartodb positron\")\n",
    "   \n",
    "# Add dataframes with coordinates and test results to the map\n",
    "\n",
    "def my_style(x):\n",
    "    level4 = x['properties']['3yrs avg Lvl 4 Math+Ela']\n",
    "    openTo = x['properties']['Open to']\n",
    "    color = 'yellow' if openTo == 'Citywide'  else '#3862e0' if openTo == 'Brooklyn' else '#54B96D'\n",
    "    weight = 2 if openTo == 'Citywide'  else 2 if openTo == 'Brooklyn' else 0.5\n",
    "    if level4 is None:\n",
    "        level4 = 0\n",
    "    #print(level4)\n",
    "    return {\n",
    "        \"radius\": (level4)*150,\n",
    "        \"color\": color,\n",
    "        \"weight\": weight\n",
    "    }  \n",
    "\n",
    "\n",
    "## Adding the layer to the map\n",
    "districts = folium.Choropleth(\n",
    "    geo_data = NYCDistrictsData,\n",
    "    data = DistrictMSMathData[DistrictMSMathData['Year'] == 2023],\n",
    "    columns = ['District','# Level 4'],\n",
    "    key_on = \"feature.properties.school_dist\",\n",
    "    fill_color = \"BuPu\",\n",
    "    fill_opacity = 0.8,\n",
    "    line_opacity=0.3,\n",
    "    nan_fill_color=\"white\",\n",
    "    legend_name = 'Percent of middle school test takers with Level 4 result',\n",
    "    popup = folium.GeoJsonPopup(fields=[\"school_dist\", \"Year\", \"# Level 1\", \"# Level 2\", \"# Level 3\", \"# Level 4\"]), \n",
    "    name = \"School districts\"\n",
    ").add_to(MathTestMS_map)\n",
    "\n",
    "# folium.GeoJson(\n",
    "#     NYCpublicSchoolsMath_mappable[NYCpublicSchoolsMath_mappable['Year'] == 2023],\n",
    "#     marker = folium.Circle(radius=10, fill_color='yellow', fill_opacity=1.0, color=\"orange\", weight=0.5),\n",
    "#     tooltip = folium.GeoJsonTooltip(fields=[\"LEGAL_NAME\",\"RECORD_TYPE_DESC\", \"# Level 4\"]),\n",
    "#     popup = folium.GeoJsonPopup(fields=[\"LEGAL_NAME\",\"RECORD_TYPE_DESC\", \"# Level 4\"]),\n",
    "#     style_function = my_style,        \n",
    "#     zoom_on_click = True,\n",
    "#     name = \"All middle schools\"\n",
    "# ).add_to(MathTestMS_map)\n",
    "\n",
    "# Function to create iframe for a given row\n",
    "def create_iframe(row):    \n",
    "    html =  '<strong>{0}:</strong> {1}<br><strong>{2}:</strong> {3}<br><strong>{4}:</strong> {5}<br>\\\n",
    "    <strong>{6}:</strong> {7}<br><strong>{8}:</strong> {9}<br><img src=\"data:image/png;base64,{10}\"><br>\\\n",
    "    <img src=\"data:image/png;base64,{11}\"<br> <img src=\"data:image/png;base64,{12}\">'.format(\n",
    "        'School Name', row['LEGAL_NAME'],\n",
    "        'School Number', row['DBN'],\n",
    "        'Total Enrollment, students', row['Total Enrollment'],\n",
    "        'Level 4 share Avg 2019-2023 Math', round(row['3yrs avg Lvl 4 Math'], 2), \n",
    "        'Level 4 share Avg 2019-2023 ELA', round(row['3yrs avg Lvl 4 ELA'], 2),\n",
    "        row['plot Math'], row['plot ELA'], row['Dvst_chart'])\n",
    "    return folium.IFrame(html, width=500, height=450)\n",
    "\n",
    "def create_popup(x):\n",
    "    iframe = create_iframe(x)\n",
    "    popup = folium.Popup(iframe)\n",
    "    return popup\n",
    "\n",
    "# Iterate over the GeoDataFrame and add a popup to each feature\n",
    "for _, row in tqdm(NYCSchoolsAVGData.iterrows(), total = len(NYCSchoolsAVGData)):\n",
    "    iframe = create_iframe(row)\n",
    "        \n",
    "    data = gpd.GeoDataFrame(row.to_frame().T, crs=NYCSchoolsAVGData.crs)\n",
    "    \n",
    "    folium.GeoJson(\n",
    "    data,\n",
    "    marker = folium.Circle(radius=10, fill_color='green', fill_opacity=1.0, color=\"green\", weight=0.5),\n",
    "    popup = folium.Popup(iframe),\n",
    "    style_function = my_style, \n",
    "    control = False    \n",
    "    #zoom_on_click = True,    \n",
    ").add_to(MathTestMS_map)    \n",
    "        \n",
    "folium.LayerControl().add_to(MathTestMS_map)    \n",
    "  \n",
    "# # Display the map\n",
    "# MathTestMS_map\n",
    "\n",
    "# Save map to html\n",
    "mfile = 'NYCMSmap_Dist15.html'\n",
    "mpath = os.path.join(basePath, outputFolder, mfile)\n",
    "MathTestMS_map.save(mpath)"
   ]
  },
  {
   "cell_type": "code",
   "execution_count": null,
   "id": "1b63827a",
   "metadata": {},
   "outputs": [],
   "source": []
  },
  {
   "cell_type": "code",
   "execution_count": 27,
   "id": "1cb9e16a-c098-4d4a-980c-a0a7f7ec0d83",
   "metadata": {},
   "outputs": [
    {
     "name": "stdout",
     "output_type": "stream",
     "text": [
      "CSV file 'cityBoroughWideschools.csv' has been created with 60 schools.\n"
     ]
    }
   ],
   "source": [
    "import re\n",
    "import csv\n",
    "\n",
    "# Lists of schools\n",
    "brooklyn_schools = [\n",
    "\"MS 113 Ronald Edmonds Learning Center (13K113) audition or Language criteria\",\n",
    "\"Urban Assembly Institute of Math and Science for Young Women (13K527)\",\n",
    "\"Fort Greene Prep (13K691) Language criteria\",\n",
    "\"Juan Morel Campos Secondary School (14K071)\",\n",
    "\"PS/MS 84 Jose de Diego (14K084) Language criteria\",\n",
    "\"IS 318 Eugenio Maria De Hostos (14K318)\",\n",
    "\"Young Women’s Leadership School of Brooklyn (14K614)\",\n",
    "\"Lyons Community School (14K586)\",\n",
    "\"JHS 88 Peter Rouget (15K088)\",\n",
    "\"Boerum Hill School for International Studies (15K497)\",\n",
    "\"IS 136 Charles O. Dewey (15K136)\",\n",
    "\"Ebbets Field (17K352)\",\n",
    "\"Science, Technology and Research Early College HS at Erasmus (17K543) school based assessment\",\n",
    "\"East Flatbush Community Research School (18K581)\",\n",
    "\"IS 285 Meyer Levin (18K285) audition and open\",\n",
    "\"Legacy School of the Arts (19K907) audition\",\n",
    "\"JHS 218 James P. Sinnott (19K218) Language criteria\",\n",
    "\"JHS 220 John J. Pershing (20K220)\",\n",
    "\"Urban Assembly School for Leadership and Empowerment (20K609)\",\n",
    "\"IS 228 David Boody (21K228) audition, talent assessment, test\",\n",
    "\"IS 281 Joseph B. Cavallaro (21K281)\",\n",
    "\"Eagle Academy for Young Men (23K644)\",\n",
    "\"Kappa V (23K518)\",\n",
    "\"IS 349 Math, Science & Tech (32K349)\",\n",
    "\"JHS 383 Philippa Schuyler (32K383) course grades\",\n",
    "\"JHS 291 Roland Hayes (32K291)\",\n",
    "\"Evergreen Middle School for Urban Exploration (32K562)\",\n",
    "\"All City Leadership Secondary School (32K554) course grades\"\n",
    "]\n",
    "\n",
    "citywide_schools = [\n",
    "\"New Explorations into Science, Technology & Math (01M539) course grades\",\n",
    "\"The Anderson School (03M334) course grades\",\n",
    "\"Tag Young Scholars (04M012) course grades\",\n",
    "\"Brooklyn School of Inquiry (20K686) course grades\",\n",
    "\"The 30th Avenue School (30Q300) course grades\",\n",
    "\"School for Global Leaders  (01M378)\",\n",
    "\"The 47 American Sign Language & English Lower School (02M347)\",\n",
    "\"Ballet Tech, NYC Public School Dance (02M442) audition\",\n",
    "\"Ella Baker School (02M225)\",\n",
    "\"I.C.E. Institute for Collaborative Education (02M407)\",\n",
    "\"School of the Future Middle and High School (02M413)\",\n",
    "\"Professional Performing Arts School (02M408) audition\",\n",
    "\"Quest to Learn (02M422)\",\n",
    "\"Special Music School (03M859) audition\",\n",
    "\"MS 224 Manhattan East School for Arts & Academics (04M224)\",\n",
    "\"J.H.S. 123 James M. Kieran  (08X123)\",\n",
    "\"Restoration Academy Magnet School of Global Exploration and Innovation (13K301)\",\n",
    "\"J.H.S. 050 John D. Wells  (14K050) Language criteria\",\n",
    "\"MS 448 Brooklyn Collaborative (15K448)\",\n",
    "\"Park Slope Collegiate  (15K464)\",\n",
    "\"M.S. 035 Stephen Decatur  (16K035)\",\n",
    "\"The Brooklyn Green School  (16K898)\",\n",
    "\"Medgar Evers College Preparatory School (17K590) school based assessment\",\n",
    "\"Lenox Academy (18K235) course grades\",\n",
    "\"I.S. 171 Abraham Lincoln  (19K171)\",\n",
    "\"Van Siclen Community Middle School  (19K654)\",\n",
    "\"Mark Twain IS 239 for the Gifted & Talented (21K239) variety of school based assessments and audition depending on the program\",\n",
    "\"I.S. 392  (23K392)\",\n",
    "\"Scholar’s Academy (27Q323) course grades\",\n",
    "\"Catherine & Count Basie Middle School  (28Q072)\",\n",
    "\"Redwood Middle School  (28Q332)\",\n",
    "\"M.S. 358  (28Q358)\",\n",
    "\"Baccalaureate School for Global Education (30Q580) school based assessment\"\n",
    "]\n",
    "\n",
    "# Function to process schools\n",
    "def process_schools(school_list, open_to):\n",
    "    processed_schools = []\n",
    "    pattern = re.compile(r\"(.+?)\\s+\\((\\d+[KMQ]\\d{3})\\)(.*)\")\n",
    "    for school in school_list:\n",
    "        match = pattern.match(school)\n",
    "        if match:\n",
    "            school_name = match.group(1).strip()\n",
    "            dbn = match.group(2).strip()\n",
    "            comments = match.group(3).strip()\n",
    "            processed_schools.append([dbn, school_name, open_to, comments])\n",
    "    return processed_schools\n",
    "\n",
    "# Process both lists\n",
    "processed_brooklyn = process_schools(brooklyn_schools, \"Brooklyn\")\n",
    "processed_citywide = process_schools(citywide_schools, \"Citywide\")\n",
    "\n",
    "# Combine lists\n",
    "all_schools = processed_brooklyn + processed_citywide\n",
    "\n",
    "# Write to CSV\n",
    "csv_filename = \"cityBoroughWideschools.csv\"\n",
    "csv_path = os.path.join(basePath, dataFolder, csv_filename)\n",
    "with open(csv_filename, \"w\", newline='') as csvfile:\n",
    "    writer = csv.writer(csvfile)\n",
    "    writer.writerow(['DBN', 'School Name', 'Open to', 'Comments']) # CSV header\n",
    "    for school in all_schools:\n",
    "        writer.writerow(school)\n",
    "\n",
    "print(f\"CSV file '{csv_filename}' has been created with {len(all_schools)} schools.\")\n"
   ]
  },
  {
   "cell_type": "code",
   "execution_count": null,
   "id": "d0d0fdc4-6e59-4aa6-a99e-2dcd9222326d",
   "metadata": {},
   "outputs": [],
   "source": []
  }
 ],
 "metadata": {
  "kernelspec": {
   "display_name": "Python 3 (ipykernel)",
   "language": "python",
   "name": "python3"
  },
  "language_info": {
   "codemirror_mode": {
    "name": "ipython",
    "version": 3
   },
   "file_extension": ".py",
   "mimetype": "text/x-python",
   "name": "python",
   "nbconvert_exporter": "python",
   "pygments_lexer": "ipython3",
   "version": "3.7.12"
  }
 },
 "nbformat": 4,
 "nbformat_minor": 5
}
