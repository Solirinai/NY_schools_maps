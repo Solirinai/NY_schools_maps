{
 "cells": [
  {
   "cell_type": "markdown",
   "id": "888b8e0c",
   "metadata": {},
   "source": [
    "# Analysis of NYC public schools results in ELA and math grades 3-8."
   ]
  },
  {
   "cell_type": "markdown",
   "id": "3e1cc970-ea50-4b77-a0bc-3b7d63c9b1f0",
   "metadata": {},
   "source": [
    "<span style=\"color: red;\">**If kernel can't connect to server again run command:**\n",
    "*netsh winsock reset*<span>"
   ]
  },
  {
   "cell_type": "markdown",
   "id": "873610ae",
   "metadata": {},
   "source": [
    "### Generating maps of the NYC middle schools by assessment results "
   ]
  },
  {
   "cell_type": "markdown",
   "id": "dc01637a",
   "metadata": {},
   "source": [
    "<a id=\"TOC\"></a> \n",
    "### Table of Contents\n",
    "1. [Data sources and definitions](#data)\n",
    "2. [Research questions](#questions)\n",
    "1. [Imports: modules](#modules)\n",
    "3. [Preparing layer with districts](#district)\n",
    "4. [Prepare schools' layer](#schools)\n",
    "5. [Generating NYC map](#nyc_map)\n",
    "6. [Generating map zoomed on a district (District 15)](#map_dist_15)"
   ]
  },
  {
   "cell_type": "markdown",
   "id": "2b27e9f3",
   "metadata": {},
   "source": [
    "<a id=\"data\"></a> \n",
    "\n",
    "### Data sources and definitions"
   ]
  },
  {
   "cell_type": "markdown",
   "id": "00c1d9de-c41d-4577-8a53-84356c5ebcc4",
   "metadata": {},
   "source": [
    "#### Data:\n",
    "1. New York City grades 3-8 New York State English Language Arts and Math State Tests results 2013-2023:<br>https://infohub.nyced.org/reports/academics/test-results\n",
    "2. New York City schools demographic data:<br>https://data.cityofnewyork.us/Education/2017-18-2021-22-Demographic-Snapshot/c7ru-d68s/about_data\n",
    "2. NYS schools locations:<br>\n",
    "https://data.gis.ny.gov/maps/b6c624c740e4476689aa60fdc4aacb8f/about\n",
    "2. New York City school districts boundaries:<br>https://data.cityofnewyork.us/Education/School-Districts/r8nu-ymqj\n",
    "3. Citywide or Boroughwide status:\n",
    "<br>https://www.nycschoolhelp.com/borowide-citywide-middle-schools"
   ]
  },
  {
   "cell_type": "markdown",
   "id": "c53d80ad",
   "metadata": {},
   "source": [
    "#### Definitions of Performance Levels for the 2023 Grades 3-8 English Language Arts and Mathematics Tests  \n",
    "\n",
    "**NYS Level 1**: Students performing at this level are below proficient in standards for their grade. They may demonstrate limited knowledge, skills, and practices embodied by the Learning Standards that are considered insufficient for the expectations at this grade. \n",
    "\n",
    "**NYS Level 2**: Students performing at this level are partially proficient in standards for their grade. They demonstrate knowledge, skills, and practices embodied by the Learning Standards that are considered partial but insufficient for the expectations at this grade. Students performing at Level 2 are considered on track to meet current New York high school graduation requirements but are not yet proficient in Learning Standards at this grade. \n",
    "\n",
    "**NYS Level 3**: Students performing at this level are proficient in standards for their grade. They demonstrate knowledge, skills, and practices embodied by the Learning Standards that are considered sufficient for the expectations at this grade.  \n",
    "\n",
    "**NYS Level 4**: Students performing at this level excel in standards for their grade. They demonstrate knowledge, skills, and practices embodied by the Learning Standards that are considered more than sufficient for the expectations at this grade.  \n",
    "\n",
    "*Source: NYSED, 2023, https://www.p12.nysed.gov/irs/ela-math/2023/ela-math-score-ranges-performance-levels-2023.pdf*"
   ]
  },
  {
   "cell_type": "raw",
   "id": "06c708fb",
   "metadata": {},
   "source": [
    "Scale Score Ranges Associated with Each Mathematics Performance Level \n",
    "\n",
    "Grade NYS Level 1 NYS Level 2 NYS Level 3 NYS Level 4 \n",
    "    3 377–423     424–449     450–486     487–501 \n",
    "    4 378–430     431–449     450–485     486–507 \n",
    "    5 381–431     432–449     450–482     483–506 \n",
    "    6 388–430     431–449     450–484     485–513 \n",
    "    7 379–429     430–449     450–476     477–509 \n",
    "    8 379–435     436–449     450–481     482–514 "
   ]
  },
  {
   "cell_type": "markdown",
   "id": "0cba1e05",
   "metadata": {},
   "source": [
    "<a id=\"questions\"></a> \n",
    "### Questions\n",
    "*1. How to compare the schools?*\n",
    "<br>In this analysis, we choose the sum of shares of students with level 4 test resulsts in state math and ELA test as comparison variable. The sum can be between 0 and 2. This indicator is selected to cover both subjects.\n",
    "ALternatively, the indicator can be sum of shares of students with levels 3+4 test results in math and ELA. The notebook would be needed to changed accordingly.\n",
    "<br><br>\n",
    "*2. How the test results changed?*\n",
    "<br>Compare last year test results in a school with the school 10-year average as percentage of average:\n",
    "<br> school_change = (school_current_year - school_10year_average)\n",
    "<br> citywide_change = (city_current_year - city_10year_average)\n",
    "<br> relative_school_change = school_change - citywide_change\n",
    "<br><br>\n",
    "*3. How good the school is?* \n",
    "<br>Last three testing period results (2019, 2022, 2023) are different for some schools: due to COVID disruptions, testing procedures changes, in Destrict 15 due to admission rules changed. Therefore average 10 years scores do not reflect well schools situation now. Results for these 3 last testing years are taken instead.\n",
    "<br><br>\n",
    "*3. Is the school citywide or borowide?*\n",
    "<br><br>\n",
    "*4. Diversity?*\n",
    "<br><br>\n",
    "*5. School size?*"
   ]
  },
  {
   "cell_type": "markdown",
   "id": "e8ed7522",
   "metadata": {},
   "source": [
    "#### About this notebook\n",
    "\n",
    "- The notebook '*1._NYC_data_processing_by_schools.ipynb*' contains the steps for the processing data on state testing of NYC public middle schools. \n",
    "- The notebook '*2._NYC_ELA_math_data processing_by_districts.ipynb*' contains steps to process district-wide data for NYC public middle schools.\n",
    "- This notebook '*3._Generating_NYC_map_by_public_schools.ipynb*' contains code to generate the maps from the processed data.\n",
    "- The map is available at: https://nycmsmap.netlify.app."
   ]
  },
  {
   "cell_type": "markdown",
   "id": "b7250733",
   "metadata": {},
   "source": [
    "<a id=\"modules\"></a> \n",
    "#### Imports: modules"
   ]
  },
  {
   "cell_type": "code",
   "execution_count": 1,
   "id": "69e42758",
   "metadata": {},
   "outputs": [],
   "source": [
    "import os\n",
    "import pandas as pd\n",
    "import geopandas as gpd\n",
    "import folium\n",
    "from folium.plugins import Search\n",
    "# from shapely.geometry import Point\n",
    "from tqdm import tqdm\n",
    "\n",
    "pd.set_option('display.float_format', '{:.3f}'.format)"
   ]
  },
  {
   "cell_type": "code",
   "execution_count": 3,
   "id": "be3dd827",
   "metadata": {},
   "outputs": [],
   "source": [
    "basePath = r\"G:\\My Drive\\Kids\\NYC_schools_mapped\"\n",
    "dataFolder = r\"raw_data\"\n",
    "outputFolder = r\"processed_data\""
   ]
  },
  {
   "cell_type": "markdown",
   "id": "63507d8e",
   "metadata": {},
   "source": [
    "Below mapping is done with the __[Folium library](https://python-visualization.github.io/folium/latest/)__"
   ]
  },
  {
   "cell_type": "markdown",
   "id": "054fe905",
   "metadata": {},
   "source": [
    "<a id=\"district\"></a>\n",
    "#### Preparing layer with districts"
   ]
  },
  {
   "cell_type": "code",
   "execution_count": 4,
   "id": "b1119d3f",
   "metadata": {
    "scrolled": true
   },
   "outputs": [
    {
     "name": "stdout",
     "output_type": "stream",
     "text": [
      "   Unnamed: 0  District  Year  Level 1 Math  Level 2 Math  Level 3 Math  \\\n",
      "0           0         1  2025         0.202         0.180         0.253   \n",
      "1           1         2  2025         0.137         0.143         0.305   \n",
      "2           2         3  2025         0.186         0.186         0.269   \n",
      "3           3         4  2025         0.288         0.270         0.276   \n",
      "4           4         5  2025         0.349         0.234         0.272   \n",
      "\n",
      "   Level 4 Math  Level 1 ELA  Level 2 ELA  Level 3 ELA  Level 4 ELA  \\\n",
      "0         0.365        0.173        0.202        0.271        0.353   \n",
      "1         0.416        0.104        0.147        0.295        0.454   \n",
      "2         0.359        0.148        0.192        0.280        0.380   \n",
      "3         0.165        0.246        0.274        0.261        0.219   \n",
      "4         0.145        0.255        0.264        0.279        0.201   \n",
      "\n",
      "   Level 4 Math+Ela  \n",
      "0             0.718  \n",
      "1             0.869  \n",
      "2             0.739  \n",
      "3             0.385  \n",
      "4             0.347  \n"
     ]
    }
   ],
   "source": [
    "# # Read file with district wide math test results to add to the map\n",
    "# DistrictMathFile = \"DistrictsMSmathNorm2025.xlsx\"\n",
    "# DistrictMathPath = os.path.join(basePath, outputFolder, DistrictMathFile)\n",
    "# DistrictMSMathData = pd.read_excel(DistrictMathPath)\n",
    "# print(DistrictMSMathData.head(5))\n",
    "\n",
    "# # Read file with district wide ELA test results to add to the map\n",
    "# DistrictELAFile = \"DistrictsMSELANorm2025.xlsx\"\n",
    "# DistrictELAPath = os.path.join(basePath, outputFolder, DistrictELAFile)\n",
    "# DistrictMSELAData = pd.read_excel(DistrictELAPath)\n",
    "# print(DistrictMSELAData.head(5))\n",
    "\n",
    "# Read file with district wide test results to add to the map if option 2 was used in the district notebook\n",
    "DistrictFile = \"DistrictsMSNorm2025.xlsx\"\n",
    "DistrictPath = os.path.join(basePath, outputFolder, DistrictFile)\n",
    "DistrictAllData = pd.read_excel(DistrictPath)\n",
    "print(DistrictAllData.head(5))\n",
    "\n",
    "## Read GeoJSON into dataframe\n",
    "DistrictsFile = 'School Districts 2024.geojson'\n",
    "NYCDistrictsPath = os.path.join(basePath, dataFolder, DistrictsFile)\n",
    "NYCDistrictsData = gpd.read_file(NYCDistrictsPath)"
   ]
  },
  {
   "cell_type": "code",
   "execution_count": null,
   "id": "38c4f4bb",
   "metadata": {},
   "outputs": [],
   "source": [
    "# # Renaming the colums to contains subject name\n",
    "\n",
    "# mathColumns = {'# Level 1':'# Level 1 Math','# Level 2':'# Level 2 Math', '# Level 3':'# Level 3 Math','# Level 4':'# Level 4 Math'}\n",
    "# DistrictMSMathData.rename(columns = mathColumns, inplace = True) \n",
    "# print(DistrictMSMathData.head())\n",
    "\n",
    "# ELAColumns = {'# Level 1':'# Level 1 ELA','# Level 2':'# Level 2 ELA', '# Level 3':'# Level 3 ELA','# Level 4':'# Level 4 ELA'}\n",
    "# DistrictMSELAData.rename(columns = ELAColumns, inplace = True)\n",
    "# DistrictMSELAData.head()"
   ]
  },
  {
   "cell_type": "code",
   "execution_count": null,
   "id": "38a83eba",
   "metadata": {},
   "outputs": [],
   "source": [
    "# # Merging district-wide resutls into single dataframe\n",
    "\n",
    "# DistrictAllData = pd.merge(DistrictMSMathData, DistrictMSELAData, on = ['Year', 'District'], how = 'inner')"
   ]
  },
  {
   "cell_type": "code",
   "execution_count": null,
   "id": "b84a0bfc",
   "metadata": {},
   "outputs": [],
   "source": [
    "# # Adding the column to make district chloropleth layer\n",
    "\n",
    "# DistrictAllData['# Level 4 Math+ELA'] = DistrictAllData['# Level 4 Math'] + DistrictAllData['# Level 4 ELA']"
   ]
  },
  {
   "cell_type": "code",
   "execution_count": null,
   "id": "6280d014",
   "metadata": {},
   "outputs": [],
   "source": [
    "# # Checking the dataframe\n",
    "\n",
    "# DistrictAllData.info()"
   ]
  },
  {
   "cell_type": "markdown",
   "id": "ebf01992",
   "metadata": {},
   "source": [
    "<a id=\"schools\"></a>\n",
    "#### Prepare schools' layer"
   ]
  },
  {
   "cell_type": "code",
   "execution_count": 5,
   "id": "de3422dd",
   "metadata": {},
   "outputs": [],
   "source": [
    "# Read saved GeoJSON with average tests results and plots\n",
    "AVGTestsPlotFile = 'schoolDataPlots2013-2025_new.geojson'\n",
    "AVGTestsPlotPath = os.path.join(basePath, outputFolder,AVGTestsPlotFile)\n",
    "NYCSchoolsAVGData = gpd.read_file(AVGTestsPlotPath)"
   ]
  },
  {
   "cell_type": "code",
   "execution_count": 6,
   "id": "8f5711f1",
   "metadata": {},
   "outputs": [
    {
     "name": "stdout",
     "output_type": "stream",
     "text": [
      "<class 'geopandas.geodataframe.GeoDataFrame'>\n",
      "RangeIndex: 487 entries, 0 to 486\n",
      "Data columns (total 52 columns):\n",
      " #   Column                         Non-Null Count  Dtype   \n",
      "---  ------                         --------------  -----   \n",
      " 0   ATS                            487 non-null    object  \n",
      " 1   Building_C                     487 non-null    object  \n",
      " 2   Location_C                     487 non-null    object  \n",
      " 3   Name                           487 non-null    object  \n",
      " 4   Geographic                     487 non-null    int32   \n",
      " 5   Latitude                       487 non-null    float64 \n",
      " 6   Longitude                      487 non-null    float64 \n",
      " 7   DBN                            487 non-null    object  \n",
      " 8   School Name                    487 non-null    object  \n",
      " 9   10yrs avg Lvl 1 Math           473 non-null    float64 \n",
      " 10  10yrs avg Lvl 2 Math           473 non-null    float64 \n",
      " 11  10yrs avg Lvl 3 Math           473 non-null    float64 \n",
      " 12  10yrs avg Lvl 4 Math           473 non-null    float64 \n",
      " 13  10yrs avg Lvl 1 ELA            473 non-null    float64 \n",
      " 14  10yrs avg Lvl 2 ELA            473 non-null    float64 \n",
      " 15  10yrs avg Lvl 3 ELA            473 non-null    float64 \n",
      " 16  10yrs avg Lvl 4 ELA            473 non-null    float64 \n",
      " 17  10yrs avg Lvl 4 Math+Ela       473 non-null    float64 \n",
      " 18  Year                           474 non-null    float64 \n",
      " 19  Level 1 Math                   473 non-null    float64 \n",
      " 20  Level 2 Math                   473 non-null    float64 \n",
      " 21  Level 3 Math                   473 non-null    float64 \n",
      " 22  Level 4 Math                   473 non-null    float64 \n",
      " 23  Level 1 ELA                    473 non-null    float64 \n",
      " 24  Level 2 ELA                    473 non-null    float64 \n",
      " 25  Level 3 ELA                    473 non-null    float64 \n",
      " 26  Level 4 ELA                    473 non-null    float64 \n",
      " 27  Level 4 Math+Ela               473 non-null    float64 \n",
      " 28  2025-10yAVG                    473 non-null    float64 \n",
      " 29  3yrs avg Lvl 1 Math            482 non-null    float64 \n",
      " 30  3yrs avg Lvl 2 Math            482 non-null    float64 \n",
      " 31  3yrs avg Lvl 3 Math            482 non-null    float64 \n",
      " 32  3yrs avg Lvl 4 Math            482 non-null    float64 \n",
      " 33  3yrs avg Lvl 1 ELA             482 non-null    float64 \n",
      " 34  3yrs avg Lvl 2 ELA             482 non-null    float64 \n",
      " 35  3yrs avg Lvl 3 ELA             482 non-null    float64 \n",
      " 36  3yrs avg Lvl 4 ELA             482 non-null    float64 \n",
      " 37  3yrs avg Lvl 4 Math+Ela        482 non-null    float64 \n",
      " 38  Total Enrollment               487 non-null    int32   \n",
      " 39  % Asian                        487 non-null    float64 \n",
      " 40  % Black                        487 non-null    float64 \n",
      " 41  % Hispanic                     487 non-null    float64 \n",
      " 42  % Multi-Racial                 487 non-null    float64 \n",
      " 43  % Native American              487 non-null    float64 \n",
      " 44  % White                        487 non-null    float64 \n",
      " 45  % Missing Race_Ethnicity Data  487 non-null    float64 \n",
      " 46  Open to                        60 non-null     object  \n",
      " 47  Comments                       24 non-null     object  \n",
      " 48  Dvst_chart                     487 non-null    object  \n",
      " 49  plot Math                      487 non-null    object  \n",
      " 50  plot ELA                       487 non-null    object  \n",
      " 51  geometry                       487 non-null    geometry\n",
      "dtypes: float64(38), geometry(1), int32(2), object(11)\n",
      "memory usage: 194.2+ KB\n"
     ]
    }
   ],
   "source": [
    "NYCSchoolsAVGData.info()"
   ]
  },
  {
   "cell_type": "markdown",
   "id": "4af00401",
   "metadata": {},
   "source": [
    "<a id=\"nyc_map\"></a>\n",
    "#### Generating NYC map"
   ]
  },
  {
   "cell_type": "code",
   "execution_count": 7,
   "id": "5418ef1a",
   "metadata": {},
   "outputs": [],
   "source": [
    "# Prepare legend\n",
    "\n",
    "legend_html = '''\n",
    "     <div style=\"position: fixed; \n",
    "                 bottom: 50px; left: 50px; width: 300px;  \n",
    "                 border:0px solid grey; z-index:9999; font-size:10px;\n",
    "                 background-color: rgba(255, 255, 255, 0.7);\n",
    "                 padding: 10px;\n",
    "                 display: flex;\n",
    "                 flex-direction: column;\n",
    "                 max-height: calc(100vh - 100px); /* Prevent overflow */\n",
    "                 overflow-y: auto; /* Add scrollbar if content exceeds max-height */\n",
    "                 \">\n",
    "                   <div style=\"display:inline-block; text-align: justify;\"><i class=\"fa fa-circle\" style=\"border:0.5px solid #54B96D; color:green; border-radius:50%; display:inline-block;\"></i><span style=\"margin-left: 5px;\"> NYC public schools</span><br>\n",
    "                   Circle size is proportional to the sum of the average shares of students scoring at the highest level (level 4) on state ELA and math tests over the years 2019 to 2025.</div>\n",
    "                   <br>\n",
    "                   <div><i class=\"fa fa-circle\" style=\"border:2px solid yellow; color:green; border-radius:50%; display:inline-block;\"></i><span style=\"margin-left: 5px;\">Citiwide priority </span></div>\n",
    "                   <div><i class=\"fa fa-circle\" style=\"border:2px solid #1ff2ef; color:green; border-radius:50%; display:inline-block;\"></i><span style=\"margin-left: 5px;\">Brooklyn residents priority</span></div>\n",
    "                   <br>\n",
    "                   <div style=\"display:inline-block; text-align: justify;\"><b>School Math+ELA % Level 4 2025 - 12 years average</b> - this line in the pop-up shows difference between the sum of the shares of the level 4 results in math and ELA for the school and their average sum for years 2013-2025 for this school. </div>\n",
    "                   <div style=\"display:inline-block; text-align: justify;\"><b>Citywide Math+ELA % Level 4 2025 - 12 years average</b>- this line in the pop-up shows citywide difference between the sum of the shares of the level 4 results in math and ELA for the middle schools and their citiwide average sum for years 2013-2025.</div>\n",
    "                   <div style=\"display:inline-block; text-align: justify;\">The two shows how the school performs comparing to the citywide trend.</div>\n",
    "                   \n",
    "      </div>\n",
    "     '''"
   ]
  },
  {
   "cell_type": "code",
   "execution_count": 8,
   "id": "aa43a9dc",
   "metadata": {},
   "outputs": [],
   "source": [
    "# Prepare map introduction\n",
    "\n",
    "intro_html = \"\"\"\n",
    "     <div style=\"position: fixed; \n",
    "                 top: 10px; left: 50px; width: 300px;  \n",
    "                 border:0px solid grey; z-index:9999; font-size:10px;\n",
    "                 background-color: rgba(255, 255, 255, 0.7);\n",
    "                 padding: 10px;\n",
    "                 display: flex;\n",
    "                 flex-direction: column;\n",
    "                 max-height: calc(100vh - 100px); /* Prevent overflow */\n",
    "                 overflow-y: auto; /* Add scrollbar if content exceeds max-height */                 \n",
    "                 \">\n",
    "                   <div style=\"margin-bottom: 10px;\">\n",
    "                       <span style = \"font-weight:bold; font-size: 1.5em;\">New York City Public Middle Schools\n",
    "                       </span>\n",
    "                   </div>  \n",
    "                   <div style=\"flex-grow: 1; text-align: justify;\">The map is part of the project to map academic results of middle schools in New York and New Jersey. See more:\n",
    "                   <br>\n",
    "                   <ul>\n",
    "                       <li><a href = \"https://github.com/Solirinai/NY_schools_maps\" target=\"_blank\">Github repository with code and data sources.<a></li>\n",
    "                       <li><a href = \"https://nysmsmap.netlify.app\" target=\"_blank\">Map of New York State public and charter middle schools.<a></li>\n",
    "                       <li><a href = \"https://njmsmap.netlify.app\" target=\"_blank\">Map of New Jersey public and charter middle schools.</a></li>\n",
    "                   </ul>\n",
    "                   </div>                 \n",
    "                 \n",
    "      </div>\n",
    "\"\"\""
   ]
  },
  {
   "cell_type": "code",
   "execution_count": 9,
   "id": "2546ad20",
   "metadata": {},
   "outputs": [],
   "source": [
    "# Prepare click instructions\n",
    "\n",
    "intro_click = '''<div style=\"position: fixed; \n",
    "                 top: 150px; left: 50px; width: 300px;  \n",
    "                 border:0px solid grey; z-index:9999; font-size:10px;\n",
    "                 background-color: rgba(255, 255, 255, 0.7);\n",
    "                 padding: 10px;\n",
    "                 display: flex;\n",
    "                 flex-direction: column;\n",
    "                 max-height: calc(100vh - 100px); /* Prevent overflow */\n",
    "                 overflow-y: auto; /* Add scrollbar if content exceeds max-height */                 \n",
    "                 \">\n",
    "                   <div style=\"flex-grow: 1;\">\n",
    "                    Click on a circle to see historical test results for middle school grades (grades 6-8) for the school.\n",
    "                   </div>                                     \n",
    "      </div>\n",
    "     '''"
   ]
  },
  {
   "cell_type": "code",
   "execution_count": 10,
   "id": "38a3b9d0",
   "metadata": {},
   "outputs": [],
   "source": [
    "# Prepare notes and explanations\n",
    "\n",
    "notes = '''<div style=\"position: fixed; \n",
    "                 bottom: 50px; right: 50px; width: 300px;  \n",
    "                 border:0px solid grey; z-index:9999; font-size:10px;\n",
    "                 background-color: rgba(255, 255, 255, 0.7);\n",
    "                 padding: 10px;\n",
    "                 display: flex;\n",
    "                 flex-direction: column;\n",
    "                 max-height: calc(100vh - 100px); /* Prevent overflow */\n",
    "                 overflow-y: auto; /* Add scrollbar if content exceeds max-height */                 \n",
    "                 \">\n",
    "                   <div style=\"margin-bottom: 10px;\">\n",
    "                   <span style = \"font-weight:bold; font-size: 1.0em;\">Limitations:</span>\n",
    "                   </div> \n",
    "                   <div style=\"flex-grow: 1; margin-bottom: 10px;\">\n",
    "                       <div>\n",
    "                       <ul>\n",
    "                           <li style=\"display:inline-block; text-align: justify;\"> Due to inconsistent spelling of school names in the source data, certain schools have multiple overlapping circles on the map, with pop-ups displaying data for different years.</li>\n",
    "                       </ul>\n",
    "                       </div> \n",
    "                       <div>\n",
    "                       <span style = \"font-weight:bold; font-size: 1.0em;\">Data</span>\n",
    "                       <ul>\n",
    "                       <li><a href = 'https://infohub.nyced.org/reports/academics/test-results'>NYS Test Results, 2013-25, New York City Department of Education</a>.</li>\n",
    "                       <li><a href = \"https://data.cityofnewyork.us/Education/2017-18-2021-22-Demographic-Snapshot/c7ru-d68s/about_data\">2017-18 - 2021-22 Demographic Snapshot, NYC Open Data</a>.</li>\n",
    "                       <li><a href = \"https://data.gis.ny.gov/maps/b6c624c740e4476689aa60fdc4aacb8f/about\">NYS Schools locations, NYS GIS Clearinghouse</a>.</li>\n",
    "                       <li><a href = \"https://data.cityofnewyork.us/Education/School-Districts/r8nu-ymqj\">New York City School Districts Boundaries, NYC Open Data</a>.</li>\n",
    "                       <li><a href = \"https://www.nycschoolhelp.com/borowide-citywide-middle-schools\">Citywide or Boroughwide status, NYC School Help</a>.</li>\n",
    "                       </ul> \n",
    "                       </div>\n",
    "                       <div>Map developed by <a href = \"https://github.com/Solirinai\" target=\"_blank\">Solirinai</a>.</div>\n",
    "                   </div>\n",
    "      </div>\n",
    "     '''"
   ]
  },
  {
   "cell_type": "code",
   "execution_count": 14,
   "id": "3f23ae70",
   "metadata": {},
   "outputs": [],
   "source": [
    "lazy_script = \"\"\"\n",
    "<script>\n",
    "(function() {\n",
    "  function activateLazyImgs(container) {\n",
    "    if (!container) return;\n",
    "    container.querySelectorAll('img[data-src]').forEach(function(img){\n",
    "      if (!img.getAttribute('src')) {\n",
    "        img.setAttribute('src', img.getAttribute('data-src'));\n",
    "      }\n",
    "    });\n",
    "  }\n",
    "  // For already-rendered popups in notebooks\n",
    "  document.addEventListener('DOMContentLoaded', function() {\n",
    "    document.querySelectorAll('.leaflet-popup-content').forEach(activateLazyImgs);\n",
    "  });\n",
    "  // For Leaflet runtime popups\n",
    "  var maps = document.querySelectorAll('.folium-map');\n",
    "  maps.forEach(function(mapDiv){\n",
    "    // Leaflet attaches map instance to mapDiv._leaflet_id, but we can listen globally:\n",
    "    document.addEventListener('popupopen', function(e){\n",
    "      var content = e && e.popup && e.popup.getContent && e.popup.getContent();\n",
    "      if (content && content instanceof HTMLElement) {\n",
    "        activateLazyImgs(content);\n",
    "      }\n",
    "    });\n",
    "  });\n",
    "})();\n",
    "</script>\n",
    "\"\"\"\n"
   ]
  },
  {
   "cell_type": "code",
   "execution_count": null,
   "id": "d8f30d52",
   "metadata": {},
   "outputs": [
    {
     "data": {
      "text/html": [
       "<style>.output_scroll { height: auto !important; max-height: 1500px; }</style>"
      ],
      "text/plain": [
       "<IPython.core.display.HTML object>"
      ]
     },
     "metadata": {},
     "output_type": "display_data"
    },
    {
     "name": "stdout",
     "output_type": "stream",
     "text": [
      "Generating map ...\n"
     ]
    },
    {
     "name": "stderr",
     "output_type": "stream",
     "text": [
      "100%|████████████████████████████████████████████████████████████████████████████████| 916/916 [00:43<00:00, 20.85it/s]\n"
     ]
    }
   ],
   "source": [
    "from IPython.core.display import display, HTML\n",
    "\n",
    "display(HTML(\"<style>.output_scroll { height: auto !important; max-height: 1500px; }</style>\"))\n",
    "\n",
    "print(\"Generating map ...\")\n",
    "\n",
    "# Create a map object, centered at NYC\n",
    "testMS_map = folium.Map(location=[40.6839, -73.9026], zoom_start=11, tiles=\"cartodb positron\")\n",
    "\n",
    "\n",
    "# Adding the districts layer to the map\n",
    "districts = folium.Choropleth(\n",
    "    geo_data = NYCDistrictsData,\n",
    "    data = DistrictAllData[DistrictAllData['Year'] == 2025],\n",
    "    columns = ['District','# Level 4 Math+ELA'],\n",
    "    key_on = \"feature.properties.school_dist\",\n",
    "    fill_color = \"BuPu\",\n",
    "    fill_opacity = 0.5,\n",
    "    line_opacity=0.3,\n",
    "    nan_fill_color=\"white\",\n",
    "    legend_name = 'Sum of percentages of middle school test takers with Level 4 result in Math and ELA, 2025',\n",
    "    name = \"School districts\",\n",
    ").add_to(testMS_map) \n",
    "\n",
    "#Adding popup to the layer with districts\n",
    "folium.GeoJsonPopup(fields=['school_dist'], \n",
    "                      aliases=[\"District:\"],\n",
    "                     ).add_to(districts.geojson)\n",
    "    \n",
    "# Define function to make markers size proportional to the '4yrs avg Lvl 4 Math+Ela' column\n",
    "\n",
    "def my_style(x):\n",
    "    level4 = x['properties']['5yrs avg Lvl 4 Math+Ela']\n",
    "    openTo = x['properties']['Open to']\n",
    "    color = 'yellow' if openTo == 'Citywide'  else '#1ff2ef' if openTo == 'Brooklyn' else '#54B96D'\n",
    "    weight = 2 if openTo == 'Citywide'  else 2 if openTo == 'Brooklyn' else 0.5\n",
    "    if level4 is None:\n",
    "        level4 = 0\n",
    "    #print(level4)\n",
    "    return {\n",
    "        \"radius\": (level4)*400,\n",
    "        \"color\": color,\n",
    "        \"weight\": weight\n",
    "    }  \n",
    "\n",
    "# Function to create iframe for a given row\n",
    "def create_iframe(row):    \n",
    "    html =  '<strong>{0}:</strong> {1}<br><strong>{2}:</strong> {3}<br><strong>{4}:</strong> {5}<br>\\\n",
    "    <strong>{6}:</strong> {7}<br><strong>{8}:</strong> {9}<br><strong>{10}:</strong> {11}<br>\\\n",
    "    <strong>{12}:</strong>{13} <br><img src=\"data:image/png;base64,{14}\"><br>\\\n",
    "    <img src=\"data:image/png;base64,{15}\"<br> <img src=\"data:image/png;base64,{16}\">'.format(\n",
    "        'School Name', row['LEGAL_NAME'],\n",
    "        'School Number', row['DBN'],\n",
    "        'Total Enrollment, students', row['Total Enrollment'],\n",
    "        'Level 4 share Avg 2019-2025 Math', round(row['4yrs avg Lvl 4 Math'], 2), \n",
    "        'Level 4 share Avg 2019-2025 ELA', round(row['4yrs avg Lvl 4 ELA'], 2),\n",
    "        'School Math+ELA % Level 4 2025 - 11 years average', round(row['2025-12yAVG'], 3),\n",
    "        'Citywide Math+ELA % Level 4 2025 - 11 years average', ' 0.136',\n",
    "        row['plot Math'], row['plot ELA'], row['Dvst_chart'])\n",
    "    return folium.IFrame(html, width=500, height=450)\n",
    "\n",
    "\n",
    "\n",
    "# Create a FeatureGroup to collect all GeoJSON layers that are individual schools\n",
    "feature_group = folium.FeatureGroup(name=\"NYC public middle schools\").add_to(testMS_map)\n",
    "\n",
    "searchSchool = Search(\n",
    "    layer=feature_group,\n",
    "    geom_type=\"Point\",\n",
    "    placeholder=\"Enter school name\",\n",
    "    collapsed=False,\n",
    "    search_label=\"LEGAL_NAME\",\n",
    "    search_zoom = '14',\n",
    "    position='topright',\n",
    ").add_to(testMS_map)\n",
    "\n",
    "\n",
    "# Iterate over the geodataframe and add a pop-up to each feature\n",
    "for _, row in tqdm(NYCSchoolsAVGData.iterrows(), total = len(NYCSchoolsAVGData)):\n",
    "    iframe = create_iframe(row)\n",
    "        \n",
    "    data = gpd.GeoDataFrame(row.to_frame().T, crs=NYCSchoolsAVGData.crs)\n",
    "    \n",
    "    folium.GeoJson(\n",
    "    data,\n",
    "    marker = folium.Circle(radius=10, fill_color='green', fill_opacity=1.0, color=\"green\", weight=0.5),\n",
    "    popup = folium.Popup(iframe),\n",
    "    style_function = my_style, \n",
    "    control = False    \n",
    "    ).add_to(feature_group)      \n",
    "    \n",
    "# Adding layer control\n",
    "folium.LayerControl().add_to(testMS_map)    \n",
    "\n",
    "# Add the HTML to the map using a feature group\n",
    "testMS_map.get_root().html.add_child(folium.Element(legend_html))\n",
    "testMS_map.get_root().html.add_child(folium.Element(intro_html))\n",
    "testMS_map.get_root().html.add_child(folium.Element(intro_click))\n",
    "testMS_map.get_root().html.add_child(folium.Element(notes))\n",
    "\n",
    "\n",
    "map_html = testMS_map._repr_html_() \n"
   ]
  },
  {
   "cell_type": "markdown",
   "id": "fc73c6bb",
   "metadata": {},
   "source": [
    "<a id=\"map_dist_15\"></a>\n",
    "#### Generating map zoomed on a district (District 15)\n",
    "\n",
    "The code is zoomed on a district. Since folium library does not allow dynemic markers sizing, the markers are smaller in this version to avoid overlapping of the markers and allowing for more detailed schools view."
   ]
  },
  {
   "cell_type": "code",
   "execution_count": 15,
   "id": "b50ec845",
   "metadata": {
    "scrolled": true
   },
   "outputs": [
    {
     "data": {
      "text/html": [
       "<style>.output_scroll { height: auto !important; max-height: 1500px; }</style>"
      ],
      "text/plain": [
       "<IPython.core.display.HTML object>"
      ]
     },
     "metadata": {},
     "output_type": "display_data"
    },
    {
     "name": "stdout",
     "output_type": "stream",
     "text": [
      "Generating map ...\n"
     ]
    },
    {
     "name": "stderr",
     "output_type": "stream",
     "text": [
      "100%|██████████| 487/487 [00:09<00:00, 50.70it/s]\n"
     ]
    },
    {
     "name": "stdout",
     "output_type": "stream",
     "text": [
      "Saving map to file G:\\My Drive\\Kids\\NYC_schools_mapped\\processed_data\\NYCMSmap_small_circles_2025.html ...\n",
      "Saved.\n"
     ]
    }
   ],
   "source": [
    "from IPython.display import display, HTML\n",
    "\n",
    "display(HTML(\"<style>.output_scroll { height: auto !important; max-height: 1500px; }</style>\"))\n",
    "\n",
    "print(\"Generating map ...\")\n",
    "\n",
    "# Create a map object, centered at NYC\n",
    "# testMS_map_d = folium.Map(location=[40.666591, -73.995518], zoom_start=13, tiles=\"cartodb positron\")\n",
    "testMS_map_d = folium.Map(location=[40.6839, -73.9026], zoom_start=12, tiles=\"cartodb positron\")\n",
    "   \n",
    "# Define function to make markers size proportional to the '3yrs avg Lvl 4 Math+Ela' column\n",
    "\n",
    "def my_style(x):\n",
    "    level4 = x['properties']['3yrs avg Lvl 4 Math+Ela']\n",
    "    openTo = x['properties']['Open to']\n",
    "    color = 'yellow' if openTo == 'Citywide'  else '#1ff2ef' if openTo == 'Brooklyn' else '#54B96D'\n",
    "    weight = 2 if openTo == 'Citywide'  else 2 if openTo == 'Brooklyn' else 0.5\n",
    "    if level4 is None:\n",
    "        level4 = 0\n",
    "    #print(level4)\n",
    "    return {\n",
    "        \"radius\": (level4)*150,\n",
    "        # \"radius\": (level4)*200,\n",
    "        \"color\": color,\n",
    "        \"weight\": weight\n",
    "    }  \n",
    "\n",
    "# Adding the district layer to the map\n",
    "districts = folium.Choropleth(\n",
    "    geo_data = NYCDistrictsData,\n",
    "    data = DistrictAllData[DistrictAllData['Year'] == 2025],\n",
    "    columns = ['District','Level 4 Math+Ela'],\n",
    "    key_on = \"feature.properties.SchoolDist\",\n",
    "    fill_color = \"BuPu\",\n",
    "    fill_opacity = 0.5,\n",
    "    line_opacity=0.3,\n",
    "    nan_fill_color=\"white\",\n",
    "    legend_name = 'Sum of percentages of middle school test takers with Level 4 result in Math and ELA, 2024',\n",
    "    name = \"School districts\"\n",
    ").add_to(testMS_map_d)\n",
    "\n",
    "#Adding popup to the layer with districts\n",
    "folium.GeoJsonPopup(fields=['SchoolDist'], \n",
    "                      aliases=[\"District:\"],\n",
    "                     ).add_to(districts.geojson)\n",
    "\n",
    "# Function to create iframe for a given row in a geodataframe\n",
    "def create_iframe(row):    \n",
    "    html =  '<strong>{0}:</strong> {1}<br><strong>{2}:</strong> {3}<br><strong>{4}:</strong> {5}<br>\\\n",
    "    <strong>{6}:</strong> {7}<br><strong>{8}:</strong> {9}<br><strong>{10}:</strong> {11}<br>\\\n",
    "    <strong>{12}:</strong>{13} <br><img data-src=\"data:image/png;base64,{14}\"><br>\\\n",
    "    <img data-src=\"data:image/png;base64,{15}\"><br> <img data-src=\"data:image/png;base64,{16}\">'.format(\n",
    "        'School Name', row['Name'],\n",
    "        'School Number', row['DBN'],\n",
    "        'Total Enrollment, students', row['Total Enrollment'],\n",
    "        'Level 4 share Avg 2023-2025 Math', round(row['3yrs avg Lvl 4 Math'], 2), \n",
    "        'Level 4 share Avg 2023-2025 ELA', round(row['3yrs avg Lvl 4 ELA'], 2),\n",
    "        'School Math+ELA % Level 4 2025 - 10 years average', round(row['2025-10yAVG'], 3),\n",
    "        'Citywide Math+ELA % Level 4 2025 - 10 years average', ' 0.136',\n",
    "        row['plot Math'], row['plot ELA'], row['Dvst_chart'])\n",
    "    return folium.IFrame(html, width=500, height=450)\n",
    "\n",
    "# Create a FeatureGroup to collect all GeoJSON layers that are individual schools\n",
    "feature_group = folium.FeatureGroup(name=\"NYC public middle schools\").add_to(testMS_map_d)\n",
    "\n",
    "searchSchool = Search(\n",
    "    layer=feature_group,\n",
    "    geom_type=\"Point\",\n",
    "    placeholder=\"Enter school name\",\n",
    "    collapsed=False,\n",
    "    search_label=\"Name\",\n",
    "    search_zoom = '14',\n",
    "    position='topright',\n",
    ").add_to(testMS_map_d)\n",
    "\n",
    "# Creating the schools \"layer\"\n",
    "# Iterate over the GeoDataFrame and add a popup to each feature\n",
    "for _, row in tqdm(NYCSchoolsAVGData.iterrows(), total = len(NYCSchoolsAVGData)):\n",
    "    iframe = create_iframe(row)\n",
    "        \n",
    "    data = gpd.GeoDataFrame(row.to_frame().T, crs=NYCSchoolsAVGData.crs)\n",
    "    \n",
    "    folium.GeoJson(\n",
    "    data,\n",
    "    marker = folium.Circle(radius=10, fill_color='green', fill_opacity=1.0, color=\"green\", weight=0.5),\n",
    "    popup = folium.Popup(iframe),\n",
    "    style_function = my_style, \n",
    "    control = False    \n",
    "    #zoom_on_click = True,    \n",
    ").add_to(feature_group)    \n",
    "        \n",
    "# Adding layer control      \n",
    "folium.LayerControl().add_to(testMS_map_d)    \n",
    "\n",
    "#Adding legend to the map\n",
    "\n",
    "# Add the HTML to the map using a feature group\n",
    "testMS_map_d.get_root().html.add_child(folium.Element(lazy_script))\n",
    "testMS_map_d.get_root().html.add_child(folium.Element(legend_html))\n",
    "testMS_map_d.get_root().html.add_child(folium.Element(intro_html))\n",
    "testMS_map_d.get_root().html.add_child(folium.Element(intro_click))\n",
    "testMS_map_d.get_root().html.add_child(folium.Element(notes))\n",
    "# testMS_map_d.get_root().html.add_child(folium.Element(notes))\n",
    "  \n",
    "# # Display the map in the notebook in desired\n",
    "# testMS_map_d\n",
    "\n",
    "# Save map to html\n",
    "mfile = 'NYCMSmap_small_circles_2025.html'\n",
    "mpath = os.path.join(basePath, outputFolder, mfile)\n",
    "print(f'Saving map to file {mpath} ...')\n",
    "map_html = testMS_map_d.save(mpath)\n",
    "# map_html = testMS_map_d._repr_html_()\n",
    "print(\"Saved.\")   "
   ]
  },
  {
   "cell_type": "code",
   "execution_count": 11,
   "id": "28e60c71",
   "metadata": {},
   "outputs": [
    {
     "name": "stdout",
     "output_type": "stream",
     "text": [
      "IPython version: 9.6.0\n"
     ]
    }
   ],
   "source": [
    "# Check IPython version\n",
    "import IPython\n",
    "print(f\"IPython version: {IPython.__version__}\")\n",
    "\n"
   ]
  },
  {
   "cell_type": "code",
   "execution_count": null,
   "id": "e1f418d9",
   "metadata": {},
   "outputs": [],
   "source": []
  }
 ],
 "metadata": {
  "kernelspec": {
   "display_name": "Python 3",
   "language": "python",
   "name": "python3"
  },
  "language_info": {
   "codemirror_mode": {
    "name": "ipython",
    "version": 3
   },
   "file_extension": ".py",
   "mimetype": "text/x-python",
   "name": "python",
   "nbconvert_exporter": "python",
   "pygments_lexer": "ipython3",
   "version": "3.11.13"
  }
 },
 "nbformat": 4,
 "nbformat_minor": 5
}
