{
 "cells": [
  {
   "cell_type": "markdown",
   "id": "888b8e0c",
   "metadata": {},
   "source": [
    "# Analysis of NJ public and charter schools results in ELA and math for grades 6-8."
   ]
  },
  {
   "cell_type": "markdown",
   "id": "3e1cc970-ea50-4b77-a0bc-3b7d63c9b1f0",
   "metadata": {},
   "source": [
    "<span style=\"color: red;\">**If kernel can't connect to server again run command:**\n",
    "*netsh winsock reset*<span>"
   ]
  },
  {
   "cell_type": "markdown",
   "id": "dc01637a",
   "metadata": {},
   "source": [
    "<a id=\"TOC\"></a> \n",
    "## Table of Contents\n",
    "1. [Data sources and definitions](#data)\n",
    "2. [Imports: modules](#modules)\n",
    "3. [Read and prepare data](#read)\n",
    "4. [Generating geoJSON for mapping](#maps) "
   ]
  },
  {
   "cell_type": "markdown",
   "id": "f8099061",
   "metadata": {},
   "source": [
    "<a id=\"data\"></a> \n",
    "## Data, definitions"
   ]
  },
  {
   "cell_type": "markdown",
   "id": "00c1d9de-c41d-4577-8a53-84356c5ebcc4",
   "metadata": {},
   "source": [
    "#### Data:\n",
    "1. Data New Jersey Student Learning Assessments (NJSLA) results 2015-2023 for grades 6-8 for public and charter schools:\n",
    "<br>State of New Jersey, Department of Education:\n",
    "Statewide Assessment Reports\n",
    "<br>https://www.nj.gov/education/assessment/results/reports/\n",
    "2. NJ schools locations: NJGIN Open Data <br>\n",
    "https://njogis-newjersey.opendata.arcgis.com/datasets/d8223610010a4c3887cfb88b904545ff/explore"
   ]
  },
  {
   "cell_type": "markdown",
   "id": "c53d80ad",
   "metadata": {},
   "source": [
    "####  Performance levels for New Jersey Student Learning Standards for English Language Arts and Math  \n",
    "\n",
    "**Level 1**: Did Not Yet Meet Expectations <br>\n",
    "**Level 2**: Partially Met Expectations <br>\n",
    "**Level 3**: Approached Expectations  <br>\n",
    "**Level 4**: Met Expectations  <br>\n",
    "**Level 5**: Exceeded Expectations  <br>\n",
    "\n",
    "*Source: New Jersey Assessments Resource Center, 2022, https://nj.mypearsonsupport.com/resources/reporting/NJSLA_Score_Interpretation_Guide_Spring2022.pdf*"
   ]
  },
  {
   "cell_type": "markdown",
   "id": "7a5aca68",
   "metadata": {},
   "source": [
    "## Questions\n",
    "*1. How the test results changed?*\n",
    "<br>Changes in test scores proportions are charted for MATH and ELA for years 2015-2023 for middle school grades (grades 6-8).\n",
    "<br><br>\n",
    "*2. How good the school is?* \n",
    "<br> The schools are compared by the sum of average level 5 scores for years 2015-2023 for all middle grades combined (or the years available in NJ DOE data for part of these years)\n"
   ]
  },
  {
   "cell_type": "markdown",
   "id": "141260ab",
   "metadata": {},
   "source": [
    "## Limitations\n",
    "1. Some elementary schools go up to grade 6. For these schools' share of level 5 results is usually higher than in schools with grades 6-8 or 7-8. Since they teach only the first of the middle grades, they were excluded to make a more grounded view of the middle schools quality.<br><br>\n",
    "2. Some school names in the original NJSLA data are inconsistently spelled or contain errors in the records across different years. As a result, these discrepancies created separate entries in the allResultsAVG2015_23DF dataframe. Consequently, this has led to certain schools having multiple overlapping points on the map, with pop-ups displaying data for different years.\n",
    "While this may affect the visual clarity and completeness of the map, the current representation still provides a comprehensive overview of the academic proficiency of middle schools in New Jersey. Further data cleaning to eliminate this issue required spending more time and effort, which was unnecessary for the purpose of the project."
   ]
  },
  {
   "cell_type": "markdown",
   "id": "29161614",
   "metadata": {},
   "source": [
    "#### About this notebook\n",
    "\n",
    "- This notebook '*1._Data_processing_by_NJ_middle_schools*' contains the steps for the processing data on state testing of public and charter schools in New Jersey. \n",
    "- The notebook '*2._Generating_map_by_NJ_middle_schools*' contains code to generate the map from the processed data.\n",
    "- The map is available at:"
   ]
  },
  {
   "cell_type": "markdown",
   "id": "b7250733",
   "metadata": {},
   "source": [
    "<a id=\"modules\"></a> \n",
    "#### Imports: modules"
   ]
  },
  {
   "cell_type": "raw",
   "id": "31f5f457",
   "metadata": {},
   "source": [
    "pip install pandas openpyxl"
   ]
  },
  {
   "cell_type": "code",
   "execution_count": 1,
   "id": "594296d3",
   "metadata": {},
   "outputs": [],
   "source": [
    "# Appending the path to utils\n",
    "\n",
    "import sys\n",
    "\n",
    "parent_dir = 'C:\\\\GITHUB\\\\NY_schools_maps\\\\notebooks'\n",
    "sys.path.append(parent_dir)"
   ]
  },
  {
   "cell_type": "code",
   "execution_count": 2,
   "id": "69e42758",
   "metadata": {},
   "outputs": [
    {
     "name": "stderr",
     "output_type": "stream",
     "text": [
      "C:\\Users\\Student\\anaconda3\\envs\\AC37\\lib\\site-packages\\fuzzywuzzy\\fuzz.py:11: UserWarning: Using slow pure-python SequenceMatcher. Install python-Levenshtein to remove this warning\n",
      "  warnings.warn('Using slow pure-python SequenceMatcher. Install python-Levenshtein to remove this warning')\n"
     ]
    }
   ],
   "source": [
    "import os\n",
    "import pandas as pd\n",
    "import geopandas as gpd\n",
    "# import folium\n",
    "import matplotlib.pyplot as plt\n",
    "import base64\n",
    "from io import BytesIO\n",
    "import math\n",
    "from tqdm import tqdm\n",
    "from utils import match_name, create_plot, process_schools, create_chart\n",
    "\n",
    "pd.set_option('display.float_format', '{:.3f}'.format)"
   ]
  },
  {
   "cell_type": "raw",
   "id": "c5dc1095",
   "metadata": {},
   "source": [
    "#To reload 'uitls' module if something changed in the module\n",
    "import utils\n",
    "from importlib import reload\n",
    "reload(utils)"
   ]
  },
  {
   "cell_type": "markdown",
   "id": "4ca0a9e3",
   "metadata": {},
   "source": [
    "<a id=\"read\"></a> \n",
    "#### Read data"
   ]
  },
  {
   "cell_type": "code",
   "execution_count": 3,
   "id": "7daca94a",
   "metadata": {},
   "outputs": [],
   "source": [
    "basePath = r\"G:\\My Drive\\Kids\\NJ_schools_mapped\"\n",
    "dataFolder = r\"raw_data\"\n",
    "outputFolder = r\"processed_data\""
   ]
  },
  {
   "cell_type": "markdown",
   "id": "abd48deb",
   "metadata": {},
   "source": [
    "The excel files downloaded from NJ DOE were cleaned from 'DFG' columns and case in columns headers was unified."
   ]
  },
  {
   "cell_type": "code",
   "execution_count": 4,
   "id": "ce078287",
   "metadata": {},
   "outputs": [
    {
     "name": "stderr",
     "output_type": "stream",
     "text": [
      "\r",
      "Processing files:   0%|                                                                         | 0/46 [00:00<?, ?it/s]"
     ]
    },
    {
     "name": "stdout",
     "output_type": "stream",
     "text": [
      "MAT06 NJSLA DATA 2022-2023.xlsx\n"
     ]
    },
    {
     "name": "stderr",
     "output_type": "stream",
     "text": [
      "C:\\Users\\Student\\anaconda3\\envs\\AC37\\lib\\site-packages\\ipykernel_launcher.py:24: SettingWithCopyWarning: \n",
      "A value is trying to be set on a copy of a slice from a DataFrame.\n",
      "Try using .loc[row_indexer,col_indexer] = value instead\n",
      "\n",
      "See the caveats in the documentation: https://pandas.pydata.org/pandas-docs/stable/user_guide/indexing.html#returning-a-view-versus-a-copy\n",
      "C:\\Users\\Student\\anaconda3\\envs\\AC37\\lib\\site-packages\\ipykernel_launcher.py:27: SettingWithCopyWarning: \n",
      "A value is trying to be set on a copy of a slice from a DataFrame.\n",
      "Try using .loc[row_indexer,col_indexer] = value instead\n",
      "\n",
      "See the caveats in the documentation: https://pandas.pydata.org/pandas-docs/stable/user_guide/indexing.html#returning-a-view-versus-a-copy\n",
      "C:\\Users\\Student\\anaconda3\\envs\\AC37\\lib\\site-packages\\ipykernel_launcher.py:32: SettingWithCopyWarning: \n",
      "A value is trying to be set on a copy of a slice from a DataFrame.\n",
      "Try using .loc[row_indexer,col_indexer] = value instead\n",
      "\n",
      "See the caveats in the documentation: https://pandas.pydata.org/pandas-docs/stable/user_guide/indexing.html#returning-a-view-versus-a-copy\n",
      "\r",
      "Processing files:  13%|████████▍                                                        | 6/46 [00:04<00:33,  1.21it/s]"
     ]
    },
    {
     "name": "stdout",
     "output_type": "stream",
     "text": [
      "MAT07 NJSLA DATA 2022-2023.xlsx\n"
     ]
    },
    {
     "name": "stderr",
     "output_type": "stream",
     "text": [
      "\r",
      "Processing files:  15%|█████████▉                                                       | 7/46 [00:09<00:57,  1.47s/it]"
     ]
    },
    {
     "name": "stdout",
     "output_type": "stream",
     "text": [
      "MAT08 NJSLA DATA 2022-2023.xlsx\n"
     ]
    },
    {
     "name": "stderr",
     "output_type": "stream",
     "text": [
      "\r",
      "Processing files:  17%|███████████▎                                                     | 8/46 [00:12<01:14,  1.96s/it]"
     ]
    },
    {
     "name": "stdout",
     "output_type": "stream",
     "text": [
      "MAT06 NJSLA DATA 2021-2022.xlsx\n"
     ]
    },
    {
     "name": "stderr",
     "output_type": "stream",
     "text": [
      "\r",
      "Processing files:  26%|████████████████▋                                               | 12/46 [00:17<00:51,  1.51s/it]"
     ]
    },
    {
     "name": "stdout",
     "output_type": "stream",
     "text": [
      "MAT07 NJSLA DATA 2021-2022.xlsx\n"
     ]
    },
    {
     "name": "stderr",
     "output_type": "stream",
     "text": [
      "\r",
      "Processing files:  28%|██████████████████                                              | 13/46 [00:21<01:04,  1.95s/it]"
     ]
    },
    {
     "name": "stdout",
     "output_type": "stream",
     "text": [
      "MAT08 NJSLA DATA 2021-2022.xlsx\n"
     ]
    },
    {
     "name": "stderr",
     "output_type": "stream",
     "text": [
      "\r",
      "Processing files:  30%|███████████████████▍                                            | 14/46 [00:25<01:14,  2.33s/it]"
     ]
    },
    {
     "name": "stdout",
     "output_type": "stream",
     "text": [
      "MAT06 NJSLA DATA 2018-2019.xlsx\n"
     ]
    },
    {
     "name": "stderr",
     "output_type": "stream",
     "text": [
      "\r",
      "Processing files:  39%|█████████████████████████                                       | 18/46 [00:30<00:47,  1.70s/it]"
     ]
    },
    {
     "name": "stdout",
     "output_type": "stream",
     "text": [
      "MAT07 NJSLA DATA 2018-2019.xlsx\n"
     ]
    },
    {
     "name": "stderr",
     "output_type": "stream",
     "text": [
      "\r",
      "Processing files:  41%|██████████████████████████▍                                     | 19/46 [00:34<00:56,  2.09s/it]"
     ]
    },
    {
     "name": "stdout",
     "output_type": "stream",
     "text": [
      "MAT08 NJSLA DATA 2018-2019.xlsx\n"
     ]
    },
    {
     "name": "stderr",
     "output_type": "stream",
     "text": [
      "\r",
      "Processing files:  43%|███████████████████████████▊                                    | 20/46 [00:37<01:01,  2.37s/it]"
     ]
    },
    {
     "name": "stdout",
     "output_type": "stream",
     "text": [
      "MAT06 NJSLA DATA 2017-2018.xlsx\n"
     ]
    },
    {
     "name": "stderr",
     "output_type": "stream",
     "text": [
      "\r",
      "Processing files:  54%|██████████████████████████████████▊                             | 25/46 [00:42<00:32,  1.53s/it]"
     ]
    },
    {
     "name": "stdout",
     "output_type": "stream",
     "text": [
      "MAT07 NJSLA DATA 2017-2018.xlsx\n"
     ]
    },
    {
     "name": "stderr",
     "output_type": "stream",
     "text": [
      "\r",
      "Processing files:  57%|████████████████████████████████████▏                           | 26/46 [00:46<00:36,  1.84s/it]"
     ]
    },
    {
     "name": "stdout",
     "output_type": "stream",
     "text": [
      "MAT08 NJSLA DATA 2017-2018.xlsx\n"
     ]
    },
    {
     "name": "stderr",
     "output_type": "stream",
     "text": [
      "\r",
      "Processing files:  59%|█████████████████████████████████████▌                          | 27/46 [00:49<00:40,  2.12s/it]"
     ]
    },
    {
     "name": "stdout",
     "output_type": "stream",
     "text": [
      "MAT06 NJSLA DATA 2016-2017.xlsx\n"
     ]
    },
    {
     "name": "stderr",
     "output_type": "stream",
     "text": [
      "\r",
      "Processing files:  67%|███████████████████████████████████████████▏                    | 31/46 [00:53<00:24,  1.61s/it]"
     ]
    },
    {
     "name": "stdout",
     "output_type": "stream",
     "text": [
      "MAT07 NJSLA DATA 2016-2017.xlsx\n"
     ]
    },
    {
     "name": "stderr",
     "output_type": "stream",
     "text": [
      "\r",
      "Processing files:  70%|████████████████████████████████████████████▌                   | 32/46 [00:57<00:27,  1.94s/it]"
     ]
    },
    {
     "name": "stdout",
     "output_type": "stream",
     "text": [
      "MAT08 NJSLA DATA 2016-2017.xlsx\n"
     ]
    },
    {
     "name": "stderr",
     "output_type": "stream",
     "text": [
      "\r",
      "Processing files:  72%|█████████████████████████████████████████████▉                  | 33/46 [01:01<00:29,  2.25s/it]"
     ]
    },
    {
     "name": "stdout",
     "output_type": "stream",
     "text": [
      "MAT06 NJSLA DATA 2015-2016.xlsx\n"
     ]
    },
    {
     "name": "stderr",
     "output_type": "stream",
     "text": [
      "\r",
      "Processing files:  80%|███████████████████████████████████████████████████▍            | 37/46 [01:05<00:14,  1.64s/it]"
     ]
    },
    {
     "name": "stdout",
     "output_type": "stream",
     "text": [
      "MAT07 NJSLA DATA 2015-2016.xlsx\n"
     ]
    },
    {
     "name": "stderr",
     "output_type": "stream",
     "text": [
      "\r",
      "Processing files:  83%|████████████████████████████████████████████████████▊           | 38/46 [01:09<00:15,  1.93s/it]"
     ]
    },
    {
     "name": "stdout",
     "output_type": "stream",
     "text": [
      "MAT08 NJSLA DATA 2015-2016.xlsx\n"
     ]
    },
    {
     "name": "stderr",
     "output_type": "stream",
     "text": [
      "\r",
      "Processing files:  85%|██████████████████████████████████████████████████████▎         | 39/46 [01:12<00:15,  2.17s/it]"
     ]
    },
    {
     "name": "stdout",
     "output_type": "stream",
     "text": [
      "MAT06 NJSLA DATA 2014-2015.xlsx\n"
     ]
    },
    {
     "name": "stderr",
     "output_type": "stream",
     "text": [
      "\r",
      "Processing files:  93%|███████████████████████████████████████████████████████████▊    | 43/46 [01:15<00:04,  1.51s/it]"
     ]
    },
    {
     "name": "stdout",
     "output_type": "stream",
     "text": [
      "MAT07 NJSLA DATA 2014-2015.xlsx\n"
     ]
    },
    {
     "name": "stderr",
     "output_type": "stream",
     "text": [
      "\r",
      "Processing files:  96%|█████████████████████████████████████████████████████████████▏  | 44/46 [01:18<00:03,  1.74s/it]"
     ]
    },
    {
     "name": "stdout",
     "output_type": "stream",
     "text": [
      "MAT08 NJSLA DATA 2014-2015.xlsx\n"
     ]
    },
    {
     "name": "stderr",
     "output_type": "stream",
     "text": [
      "Processing files: 100%|████████████████████████████████████████████████████████████████| 46/46 [01:21<00:00,  1.78s/it]"
     ]
    },
    {
     "name": "stdout",
     "output_type": "stream",
     "text": [
      "Concatinatinating dataframes\n",
      "mathResultsDF is ready.\n"
     ]
    },
    {
     "name": "stderr",
     "output_type": "stream",
     "text": [
      "\n"
     ]
    }
   ],
   "source": [
    "# Reading data from annual files with results by schools\n",
    "\n",
    "# Initialize an empty list to store dataframes\n",
    "math_DFs = []\n",
    "\n",
    "directory = os.path.join(basePath, dataFolder)\n",
    "\n",
    "# Loop through each file in the directory\n",
    "for filename in tqdm(os.listdir(directory), desc = 'Processing files'):\n",
    "    if filename.endswith('.xlsx') and filename.startswith('MAT') and 'NJSLA DATA'  in filename:\n",
    "        print(filename)\n",
    "        \n",
    "        # Construct the full file path\n",
    "        file_path = os.path.join(directory, filename)\n",
    "        \n",
    "        # Read the Excel file\n",
    "        df = pd.read_excel(file_path, skiprows=2)\n",
    "        \n",
    "        # Filter the dataframe \n",
    "        filtered_df = df[(df['Subgroup'].str.lower() == 'total') & (df['School Name'].str.lower() != 'district total') & pd.notna(df['School Name']) & (df['School Name'].str.strip() != '')]\n",
    "        \n",
    "        # Add a column with type of assessment and grade (ex: MAT06),\n",
    "        # it is in the first 5 characters of the filename\n",
    "        filtered_df['Assessment'] = filename[:5] \n",
    "        \n",
    "        # Add a column with year, it is in the last 4 characters before file extention in the filename\n",
    "        filtered_df['Year'] = filename[-9:-5] \n",
    "        \n",
    "        # Harmonizing cases in columns between different tables\n",
    "        column_to_upper = ['County Name', 'District Name', 'School Name', 'Subgroup', 'Subgroup_Type']\n",
    "        for col in column_to_upper:\n",
    "            filtered_df[col] = filtered_df[col].str.upper()\n",
    "        \n",
    "        # Append the filtered DataFrame to the list 'math_DFs'\n",
    "        math_DFs.append(filtered_df)\n",
    "\n",
    "print(\"Concatinatinating dataframes\")        \n",
    "# Concatenate all dataframes into one\n",
    "mathResultsDF = pd.concat(math_DFs, ignore_index=True)\n",
    "\n",
    "print(\"mathResultsDF is ready.\")"
   ]
  },
  {
   "cell_type": "code",
   "execution_count": 5,
   "id": "4cb61333",
   "metadata": {},
   "outputs": [
    {
     "name": "stderr",
     "output_type": "stream",
     "text": [
      "\r",
      "Processing files:   0%|                                                                         | 0/46 [00:00<?, ?it/s]"
     ]
    },
    {
     "name": "stdout",
     "output_type": "stream",
     "text": [
      "ELA06 NJSLA DATA 2022-2023.xlsx\n"
     ]
    },
    {
     "name": "stderr",
     "output_type": "stream",
     "text": [
      "C:\\Users\\Student\\anaconda3\\envs\\AC37\\lib\\site-packages\\ipykernel_launcher.py:24: SettingWithCopyWarning: \n",
      "A value is trying to be set on a copy of a slice from a DataFrame.\n",
      "Try using .loc[row_indexer,col_indexer] = value instead\n",
      "\n",
      "See the caveats in the documentation: https://pandas.pydata.org/pandas-docs/stable/user_guide/indexing.html#returning-a-view-versus-a-copy\n",
      "C:\\Users\\Student\\anaconda3\\envs\\AC37\\lib\\site-packages\\ipykernel_launcher.py:27: SettingWithCopyWarning: \n",
      "A value is trying to be set on a copy of a slice from a DataFrame.\n",
      "Try using .loc[row_indexer,col_indexer] = value instead\n",
      "\n",
      "See the caveats in the documentation: https://pandas.pydata.org/pandas-docs/stable/user_guide/indexing.html#returning-a-view-versus-a-copy\n",
      "C:\\Users\\Student\\anaconda3\\envs\\AC37\\lib\\site-packages\\ipykernel_launcher.py:32: SettingWithCopyWarning: \n",
      "A value is trying to be set on a copy of a slice from a DataFrame.\n",
      "Try using .loc[row_indexer,col_indexer] = value instead\n",
      "\n",
      "See the caveats in the documentation: https://pandas.pydata.org/pandas-docs/stable/user_guide/indexing.html#returning-a-view-versus-a-copy\n",
      "\r",
      "Processing files:   7%|████▏                                                            | 3/46 [00:04<01:06,  1.54s/it]"
     ]
    },
    {
     "name": "stdout",
     "output_type": "stream",
     "text": [
      "ELA07 NJSLA DATA 2022-2023.xlsx\n"
     ]
    },
    {
     "name": "stderr",
     "output_type": "stream",
     "text": [
      "\r",
      "Processing files:   9%|█████▋                                                           | 4/46 [00:08<01:41,  2.42s/it]"
     ]
    },
    {
     "name": "stdout",
     "output_type": "stream",
     "text": [
      "ELA08 NJSLA DATA 2022-2023.xlsx\n"
     ]
    },
    {
     "name": "stderr",
     "output_type": "stream",
     "text": [
      "\r",
      "Processing files:  11%|███████                                                          | 5/46 [00:13<02:02,  2.98s/it]"
     ]
    },
    {
     "name": "stdout",
     "output_type": "stream",
     "text": [
      "ELA06 NJSLA DATA 2021-2022.xlsx\n"
     ]
    },
    {
     "name": "stderr",
     "output_type": "stream",
     "text": [
      "\r",
      "Processing files:  20%|████████████▋                                                    | 9/46 [00:17<01:07,  1.82s/it]"
     ]
    },
    {
     "name": "stdout",
     "output_type": "stream",
     "text": [
      "ELA07 NJSLA DATA 2021-2022.xlsx\n"
     ]
    },
    {
     "name": "stderr",
     "output_type": "stream",
     "text": [
      "\r",
      "Processing files:  22%|█████████████▉                                                  | 10/46 [00:21<01:20,  2.25s/it]"
     ]
    },
    {
     "name": "stdout",
     "output_type": "stream",
     "text": [
      "ELA08 NJSLA DATA 2021-2022.xlsx\n"
     ]
    },
    {
     "name": "stderr",
     "output_type": "stream",
     "text": [
      "\r",
      "Processing files:  24%|███████████████▎                                                | 11/46 [00:26<01:38,  2.82s/it]"
     ]
    },
    {
     "name": "stdout",
     "output_type": "stream",
     "text": [
      "ELA06 NJSLA DATA 2018-2019.xlsx\n"
     ]
    },
    {
     "name": "stderr",
     "output_type": "stream",
     "text": [
      "\r",
      "Processing files:  33%|████████████████████▊                                           | 15/46 [00:31<00:58,  1.88s/it]"
     ]
    },
    {
     "name": "stdout",
     "output_type": "stream",
     "text": [
      "ELA07 NJSLA DATA 2018-2019.xlsx\n"
     ]
    },
    {
     "name": "stderr",
     "output_type": "stream",
     "text": [
      "\r",
      "Processing files:  35%|██████████████████████▎                                         | 16/46 [00:35<01:07,  2.23s/it]"
     ]
    },
    {
     "name": "stdout",
     "output_type": "stream",
     "text": [
      "ELA08 NJSLA DATA 2018-2019.xlsx\n"
     ]
    },
    {
     "name": "stderr",
     "output_type": "stream",
     "text": [
      "\r",
      "Processing files:  37%|███████████████████████▋                                        | 17/46 [00:39<01:13,  2.54s/it]"
     ]
    },
    {
     "name": "stdout",
     "output_type": "stream",
     "text": [
      "ELA06 NJSLA DATA 2017-2018.xlsx\n"
     ]
    },
    {
     "name": "stderr",
     "output_type": "stream",
     "text": [
      "\r",
      "Processing files:  48%|██████████████████████████████▌                                 | 22/46 [00:43<00:37,  1.58s/it]"
     ]
    },
    {
     "name": "stdout",
     "output_type": "stream",
     "text": [
      "ELA07 NJSLA DATA 2017-2018.xlsx\n"
     ]
    },
    {
     "name": "stderr",
     "output_type": "stream",
     "text": [
      "\r",
      "Processing files:  50%|████████████████████████████████                                | 23/46 [00:47<00:44,  1.92s/it]"
     ]
    },
    {
     "name": "stdout",
     "output_type": "stream",
     "text": [
      "ELA08 NJSLA DATA 2017-2018.xlsx\n"
     ]
    },
    {
     "name": "stderr",
     "output_type": "stream",
     "text": [
      "\r",
      "Processing files:  52%|█████████████████████████████████▍                              | 24/46 [00:51<00:48,  2.22s/it]"
     ]
    },
    {
     "name": "stdout",
     "output_type": "stream",
     "text": [
      "ELA06 NJSLA DATA 2016-2017.xlsx\n"
     ]
    },
    {
     "name": "stderr",
     "output_type": "stream",
     "text": [
      "\r",
      "Processing files:  61%|██████████████████████████████████████▉                         | 28/46 [00:55<00:30,  1.69s/it]"
     ]
    },
    {
     "name": "stdout",
     "output_type": "stream",
     "text": [
      "ELA07 NJSLA DATA 2016-2017.xlsx\n"
     ]
    },
    {
     "name": "stderr",
     "output_type": "stream",
     "text": [
      "\r",
      "Processing files:  63%|████████████████████████████████████████▎                       | 29/46 [00:59<00:34,  2.01s/it]"
     ]
    },
    {
     "name": "stdout",
     "output_type": "stream",
     "text": [
      "ELA08 NJSLA DATA 2016-2017.xlsx\n"
     ]
    },
    {
     "name": "stderr",
     "output_type": "stream",
     "text": [
      "\r",
      "Processing files:  65%|█████████████████████████████████████████▋                      | 30/46 [01:03<00:37,  2.31s/it]"
     ]
    },
    {
     "name": "stdout",
     "output_type": "stream",
     "text": [
      "ELA06 NJSLA DATA 2015-2016.xlsx\n"
     ]
    },
    {
     "name": "stderr",
     "output_type": "stream",
     "text": [
      "\r",
      "Processing files:  74%|███████████████████████████████████████████████▎                | 34/46 [01:07<00:20,  1.69s/it]"
     ]
    },
    {
     "name": "stdout",
     "output_type": "stream",
     "text": [
      "ELA07 NJSLA DATA 2015-2016.xlsx\n"
     ]
    },
    {
     "name": "stderr",
     "output_type": "stream",
     "text": [
      "\r",
      "Processing files:  76%|████████████████████████████████████████████████▋               | 35/46 [01:11<00:21,  1.99s/it]"
     ]
    },
    {
     "name": "stdout",
     "output_type": "stream",
     "text": [
      "ELA08 NJSLA DATA 2015-2016.xlsx\n"
     ]
    },
    {
     "name": "stderr",
     "output_type": "stream",
     "text": [
      "\r",
      "Processing files:  78%|██████████████████████████████████████████████████              | 36/46 [01:14<00:22,  2.28s/it]"
     ]
    },
    {
     "name": "stdout",
     "output_type": "stream",
     "text": [
      "ELA06 NJSLA DATA 2014-2015.xlsx\n"
     ]
    },
    {
     "name": "stderr",
     "output_type": "stream",
     "text": [
      "\r",
      "Processing files:  87%|███████████████████████████████████████████████████████▋        | 40/46 [01:18<00:09,  1.56s/it]"
     ]
    },
    {
     "name": "stdout",
     "output_type": "stream",
     "text": [
      "ELA07 NJSLA DATA 2014-2015.xlsx\n"
     ]
    },
    {
     "name": "stderr",
     "output_type": "stream",
     "text": [
      "\r",
      "Processing files:  89%|█████████████████████████████████████████████████████████       | 41/46 [01:21<00:08,  1.79s/it]"
     ]
    },
    {
     "name": "stdout",
     "output_type": "stream",
     "text": [
      "ELA08 NJSLA DATA 2014-2015.xlsx\n"
     ]
    },
    {
     "name": "stderr",
     "output_type": "stream",
     "text": [
      "Processing files: 100%|████████████████████████████████████████████████████████████████| 46/46 [01:24<00:00,  1.84s/it]"
     ]
    },
    {
     "name": "stdout",
     "output_type": "stream",
     "text": [
      "Concatinating dataframes\n",
      "ELAResultsDF is ready.\n"
     ]
    },
    {
     "name": "stderr",
     "output_type": "stream",
     "text": [
      "\n"
     ]
    }
   ],
   "source": [
    "# Reading data from annual files with results by schools\n",
    "\n",
    "# Initialize an empty list to store dataframes\n",
    "ELA_DFs = []\n",
    "\n",
    "directory = os.path.join(basePath, dataFolder)\n",
    "\n",
    "# Loop through each file in the directory\n",
    "for filename in tqdm(os.listdir(directory), desc = 'Processing files'):\n",
    "    if filename.endswith('.xlsx') and filename.startswith('ELA'):\n",
    "        print(filename)\n",
    "        \n",
    "        # Construct the full file path\n",
    "        file_path = os.path.join(directory, filename)\n",
    "        \n",
    "        # Read the Excel file\n",
    "        df = pd.read_excel(file_path, skiprows=2)\n",
    "        \n",
    "        # Filter the dataframe \n",
    "        filtered_df = df[(df['Subgroup'].str.lower() == 'total') & (df['School Name'].str.lower() != 'district total') & pd.notna(df['School Name']) & (df['School Name'].str.strip() != '')]\n",
    "        \n",
    "        # Add a column with type of assessment and grade (ex: MAT06),\n",
    "        # it is in the first 5 characters of the filename\n",
    "        filtered_df['Assessment'] = filename[:5] \n",
    "        \n",
    "        # Add a column with year, it is in the last 4 characters before file extention in the filename\n",
    "        filtered_df['Year'] = filename[-9:-5] \n",
    "        \n",
    "        # Harmonizing cases in columns between different tables\n",
    "        column_to_upper = ['County Name', 'District Name', 'School Name', 'Subgroup', 'Subgroup_Type']\n",
    "        for col in column_to_upper:\n",
    "            filtered_df[col] = filtered_df[col].str.upper()\n",
    "        \n",
    "        # Append the filtered dataframe to the list 'ELA_DFs'\n",
    "        ELA_DFs.append(filtered_df)\n",
    "\n",
    "print(\"Concatinating dataframes\")        \n",
    "# Concatenate all dataframes into one\n",
    "ELAResultsDF = pd.concat(ELA_DFs, ignore_index=True)\n",
    "\n",
    "print(\"ELAResultsDF is ready.\")"
   ]
  },
  {
   "cell_type": "code",
   "execution_count": 6,
   "id": "92ad005f",
   "metadata": {},
   "outputs": [],
   "source": [
    "# Setting the dictionnaries by subject and results dataframe for speeding up future processing\n",
    "subjects = ['Math', 'ELA']\n",
    "resultsDFs = {'Math': mathResultsDF, 'ELA': ELAResultsDF}"
   ]
  },
  {
   "cell_type": "code",
   "execution_count": 7,
   "id": "2153d80e",
   "metadata": {},
   "outputs": [
    {
     "name": "stdout",
     "output_type": "stream",
     "text": [
      "<class 'pandas.core.frame.DataFrame'>\n",
      "RangeIndex: 15943 entries, 0 to 15942\n",
      "Data columns (total 19 columns):\n",
      " #   Column                     Non-Null Count  Dtype  \n",
      "---  ------                     --------------  -----  \n",
      " 0   County Code                15943 non-null  object \n",
      " 1   County Name                15943 non-null  object \n",
      " 2   District Code              15943 non-null  object \n",
      " 3   District Name              15943 non-null  object \n",
      " 4   School Code                15943 non-null  float64\n",
      " 5   School Name                15943 non-null  object \n",
      " 6   Subgroup                   15943 non-null  object \n",
      " 7   Subgroup_Type              15943 non-null  object \n",
      " 8   Registered To Test         15943 non-null  object \n",
      " 9   Not Tested ** (See Below)  15943 non-null  object \n",
      " 10  Valid Scores               15943 non-null  object \n",
      " 11  Mean Scale Score           15943 non-null  object \n",
      " 12  L1 Percent                 15943 non-null  object \n",
      " 13  L2 Percent                 15943 non-null  object \n",
      " 14  L3 Percent                 15943 non-null  object \n",
      " 15  L4 Percent                 15943 non-null  object \n",
      " 16  L5 Percent                 15943 non-null  object \n",
      " 17  Assessment                 15943 non-null  object \n",
      " 18  Year                       15943 non-null  object \n",
      "dtypes: float64(1), object(18)\n",
      "memory usage: 2.3+ MB\n",
      "15943\n",
      "<class 'pandas.core.frame.DataFrame'>\n",
      "RangeIndex: 16234 entries, 0 to 16233\n",
      "Data columns (total 19 columns):\n",
      " #   Column                     Non-Null Count  Dtype  \n",
      "---  ------                     --------------  -----  \n",
      " 0   County Code                16234 non-null  object \n",
      " 1   County Name                16234 non-null  object \n",
      " 2   District Code              16234 non-null  object \n",
      " 3   District Name              16234 non-null  object \n",
      " 4   School Code                16234 non-null  float64\n",
      " 5   School Name                16234 non-null  object \n",
      " 6   Subgroup                   16234 non-null  object \n",
      " 7   Subgroup_Type              16234 non-null  object \n",
      " 8   Registered To Test         16234 non-null  object \n",
      " 9   Not Tested ** (See Below)  16234 non-null  object \n",
      " 10  Valid Scores               16234 non-null  object \n",
      " 11  Mean Scale Score           16234 non-null  object \n",
      " 12  L1 Percent                 16234 non-null  object \n",
      " 13  L2 Percent                 16234 non-null  object \n",
      " 14  L3 Percent                 16234 non-null  object \n",
      " 15  L4 Percent                 16234 non-null  object \n",
      " 16  L5 Percent                 16234 non-null  object \n",
      " 17  Assessment                 16234 non-null  object \n",
      " 18  Year                       16234 non-null  object \n",
      "dtypes: float64(1), object(18)\n",
      "memory usage: 2.4+ MB\n",
      "16234\n"
     ]
    }
   ],
   "source": [
    "for subject in subjects:\n",
    "    resultsDF = resultsDFs[subject]\n",
    "    resultsDF.info()\n",
    "    print(len(resultsDF))\n",
    "    \n",
    "del resultsDF    "
   ]
  },
  {
   "cell_type": "code",
   "execution_count": 8,
   "id": "b19d00e5",
   "metadata": {},
   "outputs": [
    {
     "name": "stdout",
     "output_type": "stream",
     "text": [
      "<class 'pandas.core.frame.DataFrame'>\n",
      "RangeIndex: 15943 entries, 0 to 15942\n",
      "Data columns (total 19 columns):\n",
      " #   Column                     Non-Null Count  Dtype  \n",
      "---  ------                     --------------  -----  \n",
      " 0   County Code                15943 non-null  object \n",
      " 1   County Name                15943 non-null  object \n",
      " 2   District Code              15943 non-null  object \n",
      " 3   District Name              15943 non-null  object \n",
      " 4   School Code                15943 non-null  float64\n",
      " 5   School Name                15943 non-null  object \n",
      " 6   Subgroup                   15943 non-null  object \n",
      " 7   Subgroup_Type              15943 non-null  object \n",
      " 8   Registered To Test         15943 non-null  object \n",
      " 9   Not Tested ** (See Below)  15943 non-null  object \n",
      " 10  Valid Scores               15481 non-null  float64\n",
      " 11  Mean Scale Score           15489 non-null  float64\n",
      " 12  L1 Percent                 15489 non-null  float64\n",
      " 13  L2 Percent                 15489 non-null  float64\n",
      " 14  L3 Percent                 15489 non-null  float64\n",
      " 15  L4 Percent                 15489 non-null  float64\n",
      " 16  L5 Percent                 15489 non-null  float64\n",
      " 17  Assessment                 15943 non-null  object \n",
      " 18  Year                       15943 non-null  object \n",
      "dtypes: float64(8), object(11)\n",
      "memory usage: 2.3+ MB\n",
      "15943\n",
      "<class 'pandas.core.frame.DataFrame'>\n",
      "RangeIndex: 16234 entries, 0 to 16233\n",
      "Data columns (total 19 columns):\n",
      " #   Column                     Non-Null Count  Dtype  \n",
      "---  ------                     --------------  -----  \n",
      " 0   County Code                16234 non-null  object \n",
      " 1   County Name                16234 non-null  object \n",
      " 2   District Code              16234 non-null  object \n",
      " 3   District Name              16234 non-null  object \n",
      " 4   School Code                16234 non-null  float64\n",
      " 5   School Name                16234 non-null  object \n",
      " 6   Subgroup                   16234 non-null  object \n",
      " 7   Subgroup_Type              16234 non-null  object \n",
      " 8   Registered To Test         16234 non-null  object \n",
      " 9   Not Tested ** (See Below)  16234 non-null  object \n",
      " 10  Valid Scores               16004 non-null  float64\n",
      " 11  Mean Scale Score           16015 non-null  float64\n",
      " 12  L1 Percent                 16015 non-null  float64\n",
      " 13  L2 Percent                 16015 non-null  float64\n",
      " 14  L3 Percent                 16015 non-null  float64\n",
      " 15  L4 Percent                 16015 non-null  float64\n",
      " 16  L5 Percent                 16015 non-null  float64\n",
      " 17  Assessment                 16234 non-null  object \n",
      " 18  Year                       16234 non-null  object \n",
      "dtypes: float64(8), object(11)\n",
      "memory usage: 2.4+ MB\n",
      "16234\n"
     ]
    }
   ],
   "source": [
    "# resultsDF.info() showed that most of the columns are objects instead of numbers and needed to be converted\n",
    "\n",
    "for subject in subjects:\n",
    "    resultsDF = resultsDFs[subject]\n",
    "    resultsDF_colToConvert = ['Valid Scores',\n",
    "     'Mean Scale Score',\n",
    "     'L1 Percent',                             \n",
    "     'L2 Percent',\n",
    "     'L3 Percent',\n",
    "     'L4 Percent',\n",
    "     'L5 Percent']\n",
    "    resultsDF[resultsDF_colToConvert] = resultsDF[resultsDF_colToConvert].apply(pd.to_numeric, errors = 'coerce')\n",
    "    resultsDF.info()\n",
    "    print(len(resultsDF))\n",
    "    \n",
    "del resultsDF"
   ]
  },
  {
   "cell_type": "code",
   "execution_count": 9,
   "id": "5b054094",
   "metadata": {},
   "outputs": [
    {
     "name": "stdout",
     "output_type": "stream",
     "text": [
      "  County Code County Name District Code                    District Name  \\\n",
      "0          01    ATLANTIC        10.000  ABSECON PUBLIC SCHOOLS DISTRICT   \n",
      "1          01    ATLANTIC       110.000    ATLANTIC CITY SCHOOL DISTRICT   \n",
      "2          01    ATLANTIC       110.000    ATLANTIC CITY SCHOOL DISTRICT   \n",
      "3          01    ATLANTIC       110.000    ATLANTIC CITY SCHOOL DISTRICT   \n",
      "4          01    ATLANTIC       110.000    ATLANTIC CITY SCHOOL DISTRICT   \n",
      "\n",
      "   School Code              School Name Subgroup Subgroup_Type  \\\n",
      "0       50.000           EMMA C ATTALES    TOTAL  ALL STUDENTS   \n",
      "1       30.000  SOVEREIGN AVENUE SCHOOL    TOTAL  ALL STUDENTS   \n",
      "2       50.000   CHELSEA HEIGHTS SCHOOL    TOTAL  ALL STUDENTS   \n",
      "3       60.000      TEXAS AVENUE SCHOOL    TOTAL  ALL STUDENTS   \n",
      "4       70.000   NEW YORK AVENUE SCHOOL    TOTAL  ALL STUDENTS   \n",
      "\n",
      "  Registered To Test Not Tested ** (See Below)  ...  L5 Percent  Assessment  \\\n",
      "0                  *                         *  ...       1.000       MAT06   \n",
      "1                  *                         *  ...       0.000       MAT06   \n",
      "2                  *                         *  ...      11.100       MAT06   \n",
      "3                  *                         *  ...       1.400       MAT06   \n",
      "4                  *                         *  ...       0.000       MAT06   \n",
      "\n",
      "   Year  Grade                         School_Key  L1 Number  L2 Number  \\\n",
      "0  2023      6           EMMA C ATTALES, ATLANTIC      7.000     26.000   \n",
      "1  2023      6  SOVEREIGN AVENUE SCHOOL, ATLANTIC     24.024     20.982   \n",
      "2  2023      6   CHELSEA HEIGHTS SCHOOL, ATLANTIC      0.999      6.993   \n",
      "3  2023      6      TEXAS AVENUE SCHOOL, ATLANTIC     14.976     22.968   \n",
      "4  2023      6   NEW YORK AVENUE SCHOOL, ATLANTIC     34.017     11.016   \n",
      "\n",
      "  L3 Number L4 Number  L5 Number  \n",
      "0    38.000    28.000      1.000  \n",
      "1    18.018    14.976      0.000  \n",
      "2     8.991     6.993      2.997  \n",
      "3    21.024    12.024      1.008  \n",
      "4     6.018     0.000      0.000  \n",
      "\n",
      "[5 rows x 26 columns]\n",
      "  County Code County Name District Code                    District Name  \\\n",
      "0          01    ATLANTIC        10.000  ABSECON PUBLIC SCHOOLS DISTRICT   \n",
      "1          01    ATLANTIC       110.000    ATLANTIC CITY SCHOOL DISTRICT   \n",
      "2          01    ATLANTIC       110.000    ATLANTIC CITY SCHOOL DISTRICT   \n",
      "3          01    ATLANTIC       110.000    ATLANTIC CITY SCHOOL DISTRICT   \n",
      "4          01    ATLANTIC       110.000    ATLANTIC CITY SCHOOL DISTRICT   \n",
      "\n",
      "   School Code              School Name Subgroup Subgroup_Type  \\\n",
      "0       50.000           EMMA C ATTALES    TOTAL  ALL STUDENTS   \n",
      "1       30.000  SOVEREIGN AVENUE SCHOOL    TOTAL  ALL STUDENTS   \n",
      "2       50.000   CHELSEA HEIGHTS SCHOOL    TOTAL  ALL STUDENTS   \n",
      "3       60.000      TEXAS AVENUE SCHOOL    TOTAL  ALL STUDENTS   \n",
      "4       70.000   NEW YORK AVENUE SCHOOL    TOTAL  ALL STUDENTS   \n",
      "\n",
      "  Registered To Test Not Tested ** (See Below)  ...  L5 Percent  Assessment  \\\n",
      "0                  *                         *  ...      14.900       ELA06   \n",
      "1                  *                         *  ...       9.500       ELA06   \n",
      "2                  *                         *  ...       3.800       ELA06   \n",
      "3                  *                         *  ...       4.300       ELA06   \n",
      "4                  *                         *  ...       0.000       ELA06   \n",
      "\n",
      "   Year  Grade                         School_Key  L1 Number  L2 Number  \\\n",
      "0  2023      6           EMMA C ATTALES, ATLANTIC      7.979     16.968   \n",
      "1  2023      6  SOVEREIGN AVENUE SCHOOL, ATLANTIC     11.026      9.990   \n",
      "2  2023      6   CHELSEA HEIGHTS SCHOOL, ATLANTIC      0.988      2.002   \n",
      "3  2023      6      TEXAS AVENUE SCHOOL, ATLANTIC     18.975     18.975   \n",
      "4  2023      6   NEW YORK AVENUE SCHOOL, ATLANTIC     31.977      9.996   \n",
      "\n",
      "  L3 Number L4 Number  L5 Number  \n",
      "0    26.967    34.037     15.049  \n",
      "1    23.976    21.978      7.030  \n",
      "2     6.006    15.990      0.988  \n",
      "3    14.973    12.972      2.967  \n",
      "4     8.976     0.000      0.000  \n",
      "\n",
      "[5 rows x 26 columns]\n"
     ]
    }
   ],
   "source": [
    "# Adding a separate 'Grade' column getting the gdare number from the column 'Assessment'\n",
    "# Adding estimates of numbers of results for each level \n",
    "# Adding a column with unique names for schools for further analysis\n",
    "\n",
    "for subject in subjects:\n",
    "    resultsDF = resultsDFs[subject]\n",
    "    \n",
    "    # Getting grades\n",
    "    assessment = resultsDF['Assessment']\n",
    "    resultsDF['Grade'] = assessment.str[-1]\n",
    "    resultsDF['Grade'] = pd.to_numeric(resultsDF['Grade'])\n",
    "    \n",
    "    # Some schools in different school districts are called the same, causing issues in analysis \n",
    "    # further. Names of schools districs are incosistantly recorded in the data and cannot be used\n",
    "    # to distinguish those schools, county names, however, are consistant, so we use them as proxy\n",
    "    # to make unique key for schools\n",
    "    resultsDF['School_Key'] = resultsDF['School Name'] + ', '+resultsDF['County Name']\n",
    "    \n",
    "    # We'll need number of tests results for each level, so we estimate these nubers backwords\n",
    "    # from precentage of the results for each level\n",
    "    levels = ['L1', 'L2', 'L3', 'L4', 'L5']\n",
    "    for l in levels:        \n",
    "        resultsDF[f'{l} Number'] = (resultsDF[f'{l} Percent']*0.01)*resultsDF['Valid Scores']\n",
    "    \n",
    "    print(resultsDF.head())\n",
    "\n",
    "del resultsDF"
   ]
  },
  {
   "cell_type": "code",
   "execution_count": 10,
   "id": "2ce20d96",
   "metadata": {},
   "outputs": [
    {
     "name": "stdout",
     "output_type": "stream",
     "text": [
      "Schools' list ready for Math.\n",
      "Dataframes by schools ready for Math.\n",
      "Checking schools for grades for Math...\n"
     ]
    },
    {
     "name": "stderr",
     "output_type": "stream",
     "text": [
      "100%|███████████████████████████████████████████████████████████████████████████| 1231/1231 [00:00<00:00, 10100.45it/s]\n"
     ]
    },
    {
     "name": "stdout",
     "output_type": "stream",
     "text": [
      "Deleting the K-6 schools from Math results...\n"
     ]
    },
    {
     "name": "stderr",
     "output_type": "stream",
     "text": [
      "100%|████████████████████████████████████████████████████████████████████████████| 257/257 [00:00<00:00, 128785.68it/s]"
     ]
    },
    {
     "name": "stdout",
     "output_type": "stream",
     "text": [
      "Finalizing the Math results dataframe...\n"
     ]
    },
    {
     "name": "stderr",
     "output_type": "stream",
     "text": [
      "\n"
     ]
    },
    {
     "name": "stdout",
     "output_type": "stream",
     "text": [
      "Dataframe for Math results ready.\n",
      "Schools' list ready for ELA.\n",
      "Dataframes by schools ready for ELA.\n",
      "Checking schools for grades for ELA...\n"
     ]
    },
    {
     "name": "stderr",
     "output_type": "stream",
     "text": [
      "100%|████████████████████████████████████████████████████████████████████████████| 1231/1231 [00:00<00:00, 7092.16it/s]\n"
     ]
    },
    {
     "name": "stdout",
     "output_type": "stream",
     "text": [
      "Deleting the K-6 schools from ELA results...\n"
     ]
    },
    {
     "name": "stderr",
     "output_type": "stream",
     "text": [
      "100%|████████████████████████████████████████████████████████████████████████████| 255/255 [00:00<00:00, 127600.52it/s]"
     ]
    },
    {
     "name": "stdout",
     "output_type": "stream",
     "text": [
      "Finalizing the ELA results dataframe...\n"
     ]
    },
    {
     "name": "stderr",
     "output_type": "stream",
     "text": [
      "\n"
     ]
    },
    {
     "name": "stdout",
     "output_type": "stream",
     "text": [
      "Dataframe for ELA results ready.\n"
     ]
    }
   ],
   "source": [
    "# Deleting rows for elementary K-6 schools\n",
    "\n",
    "for subject in subjects:\n",
    "    resultsDF = resultsDFs[subject]\n",
    "    \n",
    "    # list of schools names\n",
    "    schoolsNames = resultsDF['School_Key'].to_list()\n",
    "    print(f\"Schools' list ready for {subject}.\")\n",
    "    \n",
    "    # Create disctionnary to hold the dataframes by schools\n",
    "    schoolDFs = {}\n",
    "    \n",
    "    # List of schools to delete\n",
    "    schools_to_delete = []\n",
    "    \n",
    "    # Make dataframes by schools \n",
    "    for name in schoolsNames:\n",
    "        dfName = name\n",
    "        schoolDFs[dfName] = resultsDF[resultsDF['School_Key'] == name]\n",
    "    print(f'Dataframes by schools ready for {subject}.')\n",
    "\n",
    "    print(f\"Checking schools for grades for {subject}...\")\n",
    "\n",
    "    # Checking dataframes by school\n",
    "    for schoolDF, current_dataframe in tqdm(schoolDFs.items()):\n",
    "        # schoolDF contains the name of the dataframe\n",
    "        # current_dataframe contains the dataframe itself\n",
    "        # Do something with current_dataframe    \n",
    "        if not (7 in current_dataframe['Grade'].values or 8 in current_dataframe['Grade'].values):\n",
    "            schools_to_delete.append(schoolDF)\n",
    "\n",
    "    print(f\"Deleting the K-6 schools from {subject} results...\")        \n",
    "    # Deleting the K-6 schools from schoolDFs\n",
    "    for schoolDF in tqdm(schools_to_delete):\n",
    "        del schoolDFs[schoolDF]\n",
    "    \n",
    "    print(f'Finalizing the {subject} results dataframe...')\n",
    "    # Concatenate all schools dataframes along the columns before merging\n",
    "    resultsDFs[subject] = pd.concat(list(schoolDFs.values()), axis=0)\n",
    "                                    \n",
    "    print(f\"Dataframe for {subject} results ready.\")\n",
    "\n",
    "del resultsDF"
   ]
  },
  {
   "cell_type": "markdown",
   "id": "133be020",
   "metadata": {},
   "source": [
    "## Analysis"
   ]
  },
  {
   "cell_type": "markdown",
   "id": "3044275a",
   "metadata": {},
   "source": [
    "#### Prepare schools dataframe with only middle school tests results (grades 6-8)"
   ]
  },
  {
   "cell_type": "code",
   "execution_count": 12,
   "id": "236acec5",
   "metadata": {
    "scrolled": true
   },
   "outputs": [
    {
     "name": "stdout",
     "output_type": "stream",
     "text": [
      "                                           School_Key  \\\n",
      "0                       ABINGTON AVENEU SCHOOL, ESSEX   \n",
      "1                       ABINGTON AVENUE SCHOOL, ESSEX   \n",
      "2                       ABINGTON AVENUE SCHOOL, ESSEX   \n",
      "3                       ABINGTON AVENUE SCHOOL, ESSEX   \n",
      "4                       ABINGTON AVENUE SCHOOL, ESSEX   \n",
      "5                       ABINGTON AVENUE SCHOOL, ESSEX   \n",
      "6                       ABINGTON AVENUE SCHOOL, ESSEX   \n",
      "7        ABRAHAM LINCOLN MIDDLE SCHOOL NO. 4, PASSAIC   \n",
      "8                ABRAHAM LINCOLN SCHOOL NO. 14, UNION   \n",
      "9                ABRAHAM LINCOLN SCHOOL NO. 14, UNION   \n",
      "10               ABRAHAM LINCOLN SCHOOL NO. 14, UNION   \n",
      "11               ABRAHAM LINCOLN SCHOOL NO. 14, UNION   \n",
      "12               ABRAHAM LINCOLN SCHOOL NO. 14, UNION   \n",
      "13               ABRAHAM LINCOLN SCHOOL NO. 14, UNION   \n",
      "14               ABRAHAM LINCOLN SCHOOL NO. 14, UNION   \n",
      "15  ACADEMY FOR URBAN LEADERSHIP CHARTER SCHOOL, C...   \n",
      "16  ACADEMY FOR URBAN LEADERSHIP CHARTER SCHOOL, C...   \n",
      "17  ACADEMY FOR URBAN LEADERSHIP CHARTER SCHOOL, C...   \n",
      "18  ACADEMY FOR URBAN LEADERSHIP CHARTER SCHOOL, C...   \n",
      "19  ACADEMY FOR URBAN LEADERSHIP CHARTER SCHOOL, C...   \n",
      "\n",
      "                                    School Name  Year Level 1 Math  \\\n",
      "0                        ABINGTON AVENEU SCHOOL  2019        0.157   \n",
      "1                        ABINGTON AVENUE SCHOOL  2015        0.182   \n",
      "2                        ABINGTON AVENUE SCHOOL  2016        0.192   \n",
      "3                        ABINGTON AVENUE SCHOOL  2017        0.192   \n",
      "4                        ABINGTON AVENUE SCHOOL  2018        0.190   \n",
      "5                        ABINGTON AVENUE SCHOOL  2022        0.264   \n",
      "6                        ABINGTON AVENUE SCHOOL  2023        0.296   \n",
      "7           ABRAHAM LINCOLN MIDDLE SCHOOL NO. 4  2018        0.203   \n",
      "8                 ABRAHAM LINCOLN SCHOOL NO. 14  2015        0.051   \n",
      "9                 ABRAHAM LINCOLN SCHOOL NO. 14  2016        0.087   \n",
      "10                ABRAHAM LINCOLN SCHOOL NO. 14  2017        0.115   \n",
      "11                ABRAHAM LINCOLN SCHOOL NO. 14  2018        0.101   \n",
      "12                ABRAHAM LINCOLN SCHOOL NO. 14  2019        0.110   \n",
      "13                ABRAHAM LINCOLN SCHOOL NO. 14  2022        0.228   \n",
      "14                ABRAHAM LINCOLN SCHOOL NO. 14  2023        0.152   \n",
      "15  ACADEMY FOR URBAN LEADERSHIP CHARTER SCHOOL  2017        0.356   \n",
      "16  ACADEMY FOR URBAN LEADERSHIP CHARTER SCHOOL  2018        0.242   \n",
      "17  ACADEMY FOR URBAN LEADERSHIP CHARTER SCHOOL  2019        0.335   \n",
      "18  ACADEMY FOR URBAN LEADERSHIP CHARTER SCHOOL  2022        0.477   \n",
      "19  ACADEMY FOR URBAN LEADERSHIP CHARTER SCHOOL  2023        0.598   \n",
      "\n",
      "   Level 2 Math Level 3 Math Level 4 Math Level 5 Math  \n",
      "0         0.240        0.282        0.268        0.052  \n",
      "1         0.356        0.279        0.178        0.005  \n",
      "2         0.272        0.276        0.256        0.004  \n",
      "3         0.226        0.277        0.284        0.022  \n",
      "4         0.233        0.234        0.293        0.050  \n",
      "5         0.364        0.275        0.096        0.000  \n",
      "6         0.354        0.260        0.083        0.007  \n",
      "7         0.360        0.305        0.131        0.001  \n",
      "8         0.252        0.374        0.316        0.007  \n",
      "9         0.167        0.428        0.305        0.014  \n",
      "10        0.225        0.442        0.211        0.007  \n",
      "11        0.231        0.326        0.337        0.006  \n",
      "12        0.295        0.335        0.250        0.010  \n",
      "13        0.377        0.297        0.093        0.005  \n",
      "14        0.337        0.364        0.147        0.000  \n",
      "15        0.287        0.207        0.149        0.000  \n",
      "16        0.432        0.237        0.083        0.006  \n",
      "17        0.383        0.235        0.047        0.000  \n",
      "18        0.337        0.116        0.070        0.000  \n",
      "19        0.230        0.161        0.011        0.000  \n",
      "                                           School_Key  \\\n",
      "0                       ABINGTON AVENEU SCHOOL, ESSEX   \n",
      "1                       ABINGTON AVENUE SCHOOL, ESSEX   \n",
      "2                       ABINGTON AVENUE SCHOOL, ESSEX   \n",
      "3                       ABINGTON AVENUE SCHOOL, ESSEX   \n",
      "4                       ABINGTON AVENUE SCHOOL, ESSEX   \n",
      "5                       ABINGTON AVENUE SCHOOL, ESSEX   \n",
      "6                       ABINGTON AVENUE SCHOOL, ESSEX   \n",
      "7        ABRAHAM LINCOLN MIDDLE SCHOOL NO. 4, PASSAIC   \n",
      "8                ABRAHAM LINCOLN SCHOOL NO. 14, UNION   \n",
      "9                ABRAHAM LINCOLN SCHOOL NO. 14, UNION   \n",
      "10               ABRAHAM LINCOLN SCHOOL NO. 14, UNION   \n",
      "11               ABRAHAM LINCOLN SCHOOL NO. 14, UNION   \n",
      "12               ABRAHAM LINCOLN SCHOOL NO. 14, UNION   \n",
      "13               ABRAHAM LINCOLN SCHOOL NO. 14, UNION   \n",
      "14               ABRAHAM LINCOLN SCHOOL NO. 14, UNION   \n",
      "15  ACADEMY FOR URBAN LEADERSHIP CHARTER SCHOOL, C...   \n",
      "16  ACADEMY FOR URBAN LEADERSHIP CHARTER SCHOOL, C...   \n",
      "17  ACADEMY FOR URBAN LEADERSHIP CHARTER SCHOOL, C...   \n",
      "18  ACADEMY FOR URBAN LEADERSHIP CHARTER SCHOOL, C...   \n",
      "19  ACADEMY FOR URBAN LEADERSHIP CHARTER SCHOOL, C...   \n",
      "\n",
      "                                    School Name  Year Level 1 ELA Level 2 ELA  \\\n",
      "0                        ABINGTON AVENEU SCHOOL  2019       0.162       0.130   \n",
      "1                        ABINGTON AVENUE SCHOOL  2015       0.157       0.230   \n",
      "2                        ABINGTON AVENUE SCHOOL  2016       0.130       0.126   \n",
      "3                        ABINGTON AVENUE SCHOOL  2017       0.114       0.156   \n",
      "4                        ABINGTON AVENUE SCHOOL  2018       0.150       0.150   \n",
      "5                        ABINGTON AVENUE SCHOOL  2022       0.153       0.234   \n",
      "6                        ABINGTON AVENUE SCHOOL  2023       0.228       0.167   \n",
      "7           ABRAHAM LINCOLN MIDDLE SCHOOL NO. 4  2018       0.222       0.217   \n",
      "8                 ABRAHAM LINCOLN SCHOOL NO. 14  2015       0.081       0.140   \n",
      "9                 ABRAHAM LINCOLN SCHOOL NO. 14  2016       0.082       0.112   \n",
      "10                ABRAHAM LINCOLN SCHOOL NO. 14  2017       0.129       0.144   \n",
      "11                ABRAHAM LINCOLN SCHOOL NO. 14  2018       0.089       0.114   \n",
      "12                ABRAHAM LINCOLN SCHOOL NO. 14  2019       0.066       0.114   \n",
      "13                ABRAHAM LINCOLN SCHOOL NO. 14  2022       0.155       0.161   \n",
      "14                ABRAHAM LINCOLN SCHOOL NO. 14  2023       0.127       0.123   \n",
      "15  ACADEMY FOR URBAN LEADERSHIP CHARTER SCHOOL  2017       0.139       0.238   \n",
      "16  ACADEMY FOR URBAN LEADERSHIP CHARTER SCHOOL  2018       0.133       0.218   \n",
      "17  ACADEMY FOR URBAN LEADERSHIP CHARTER SCHOOL  2019       0.172       0.172   \n",
      "18  ACADEMY FOR URBAN LEADERSHIP CHARTER SCHOOL  2022       0.265       0.193   \n",
      "19  ACADEMY FOR URBAN LEADERSHIP CHARTER SCHOOL  2023       0.447       0.188   \n",
      "\n",
      "   Level 3 ELA Level 4 ELA Level 5 ELA  \n",
      "0        0.218       0.333       0.158  \n",
      "1        0.301       0.273       0.038  \n",
      "2        0.236       0.451       0.059  \n",
      "3        0.260       0.393       0.076  \n",
      "4        0.202       0.387       0.112  \n",
      "5        0.319       0.258       0.037  \n",
      "6        0.264       0.281       0.061  \n",
      "7        0.265       0.242       0.055  \n",
      "8        0.301       0.436       0.043  \n",
      "9        0.228       0.505       0.073  \n",
      "10       0.302       0.307       0.119  \n",
      "11       0.249       0.405       0.143  \n",
      "12       0.242       0.407       0.172  \n",
      "13       0.241       0.326       0.117  \n",
      "14       0.283       0.366       0.102  \n",
      "15       0.366       0.228       0.030  \n",
      "16       0.285       0.327       0.036  \n",
      "17       0.310       0.315       0.030  \n",
      "18       0.205       0.314       0.024  \n",
      "19       0.247       0.118       0.000  \n"
     ]
    }
   ],
   "source": [
    "# Select middle school grades results from the dataframes with Math and ELA tests results\n",
    "\n",
    "resultsMS_bySchl_Norm ={}\n",
    "\n",
    "for subject in subjects:\n",
    "        \n",
    "    resultsDF = resultsDFs[subject]\n",
    "       \n",
    "    # Dataframe with only grades 6-8 results (middle schools and K-8) by years\n",
    "    resultsMS = resultsDF[(resultsDF['Grade'] >= 6)&(resultsDF['Grade'] <= 8)]\n",
    "    \n",
    "    # Dataframe with results grouped by years\n",
    "    resultsMS_bySchl = resultsMS.groupby(['School_Key', 'School Name', 'Year'])[['L1 Number','L2 Number','L3 Number','L4 Number','L5 Number']].sum()\n",
    "    \n",
    "    # Change column names to include subject\n",
    "    resultsMS_bySchl.columns = [f'Level 1 {subject}',f'Level 2 {subject}',f'Level 3 {subject}',f'Level 4 {subject}', f'Level 5 {subject}']\n",
    "    \n",
    "    # Dataframe for middle schools by years with normalized values\n",
    "    resultsMS_bySchl_Norm[subject] = resultsMS_bySchl.div(resultsMS_bySchl.sum(axis=1), axis=0)\n",
    "    resultsMS_bySchl_Norm[subject].reset_index(inplace=True)\n",
    "    resultsMS_bySchl_Norm[subject] = resultsMS_bySchl_Norm[subject].T.drop_duplicates().T\n",
    "    \n",
    "    print(resultsMS_bySchl_Norm[subject].head(20))\n",
    "    \n",
    "del resultsDF, resultsMS_bySchl"
   ]
  },
  {
   "cell_type": "code",
   "execution_count": 14,
   "id": "e0f5b494",
   "metadata": {},
   "outputs": [
    {
     "data": {
      "text/html": [
       "<div>\n",
       "<style scoped>\n",
       "    .dataframe tbody tr th:only-of-type {\n",
       "        vertical-align: middle;\n",
       "    }\n",
       "\n",
       "    .dataframe tbody tr th {\n",
       "        vertical-align: top;\n",
       "    }\n",
       "\n",
       "    .dataframe thead th {\n",
       "        text-align: right;\n",
       "    }\n",
       "</style>\n",
       "<table border=\"1\" class=\"dataframe\">\n",
       "  <thead>\n",
       "    <tr style=\"text-align: right;\">\n",
       "      <th></th>\n",
       "      <th>School_Key</th>\n",
       "      <th>School Name</th>\n",
       "      <th>Year</th>\n",
       "      <th>Level 1 Math</th>\n",
       "      <th>Level 2 Math</th>\n",
       "      <th>Level 3 Math</th>\n",
       "      <th>Level 4 Math</th>\n",
       "      <th>Level 5 Math</th>\n",
       "      <th>Level 1 ELA</th>\n",
       "      <th>Level 2 ELA</th>\n",
       "      <th>Level 3 ELA</th>\n",
       "      <th>Level 4 ELA</th>\n",
       "      <th>Level 5 ELA</th>\n",
       "    </tr>\n",
       "  </thead>\n",
       "  <tbody>\n",
       "    <tr>\n",
       "      <th>0</th>\n",
       "      <td>ABINGTON AVENEU SCHOOL, ESSEX</td>\n",
       "      <td>ABINGTON AVENEU SCHOOL</td>\n",
       "      <td>2019</td>\n",
       "      <td>0.157</td>\n",
       "      <td>0.240</td>\n",
       "      <td>0.282</td>\n",
       "      <td>0.268</td>\n",
       "      <td>0.052</td>\n",
       "      <td>0.162</td>\n",
       "      <td>0.130</td>\n",
       "      <td>0.218</td>\n",
       "      <td>0.333</td>\n",
       "      <td>0.158</td>\n",
       "    </tr>\n",
       "    <tr>\n",
       "      <th>1</th>\n",
       "      <td>ABINGTON AVENUE SCHOOL, ESSEX</td>\n",
       "      <td>ABINGTON AVENUE SCHOOL</td>\n",
       "      <td>2015</td>\n",
       "      <td>0.182</td>\n",
       "      <td>0.356</td>\n",
       "      <td>0.279</td>\n",
       "      <td>0.178</td>\n",
       "      <td>0.005</td>\n",
       "      <td>0.157</td>\n",
       "      <td>0.230</td>\n",
       "      <td>0.301</td>\n",
       "      <td>0.273</td>\n",
       "      <td>0.038</td>\n",
       "    </tr>\n",
       "    <tr>\n",
       "      <th>2</th>\n",
       "      <td>ABINGTON AVENUE SCHOOL, ESSEX</td>\n",
       "      <td>ABINGTON AVENUE SCHOOL</td>\n",
       "      <td>2016</td>\n",
       "      <td>0.192</td>\n",
       "      <td>0.272</td>\n",
       "      <td>0.276</td>\n",
       "      <td>0.256</td>\n",
       "      <td>0.004</td>\n",
       "      <td>0.130</td>\n",
       "      <td>0.126</td>\n",
       "      <td>0.236</td>\n",
       "      <td>0.451</td>\n",
       "      <td>0.059</td>\n",
       "    </tr>\n",
       "    <tr>\n",
       "      <th>3</th>\n",
       "      <td>ABINGTON AVENUE SCHOOL, ESSEX</td>\n",
       "      <td>ABINGTON AVENUE SCHOOL</td>\n",
       "      <td>2017</td>\n",
       "      <td>0.192</td>\n",
       "      <td>0.226</td>\n",
       "      <td>0.277</td>\n",
       "      <td>0.284</td>\n",
       "      <td>0.022</td>\n",
       "      <td>0.114</td>\n",
       "      <td>0.156</td>\n",
       "      <td>0.260</td>\n",
       "      <td>0.393</td>\n",
       "      <td>0.076</td>\n",
       "    </tr>\n",
       "    <tr>\n",
       "      <th>4</th>\n",
       "      <td>ABINGTON AVENUE SCHOOL, ESSEX</td>\n",
       "      <td>ABINGTON AVENUE SCHOOL</td>\n",
       "      <td>2018</td>\n",
       "      <td>0.190</td>\n",
       "      <td>0.233</td>\n",
       "      <td>0.234</td>\n",
       "      <td>0.293</td>\n",
       "      <td>0.050</td>\n",
       "      <td>0.150</td>\n",
       "      <td>0.150</td>\n",
       "      <td>0.202</td>\n",
       "      <td>0.387</td>\n",
       "      <td>0.112</td>\n",
       "    </tr>\n",
       "  </tbody>\n",
       "</table>\n",
       "</div>"
      ],
      "text/plain": [
       "                      School_Key             School Name  Year Level 1 Math  \\\n",
       "0  ABINGTON AVENEU SCHOOL, ESSEX  ABINGTON AVENEU SCHOOL  2019        0.157   \n",
       "1  ABINGTON AVENUE SCHOOL, ESSEX  ABINGTON AVENUE SCHOOL  2015        0.182   \n",
       "2  ABINGTON AVENUE SCHOOL, ESSEX  ABINGTON AVENUE SCHOOL  2016        0.192   \n",
       "3  ABINGTON AVENUE SCHOOL, ESSEX  ABINGTON AVENUE SCHOOL  2017        0.192   \n",
       "4  ABINGTON AVENUE SCHOOL, ESSEX  ABINGTON AVENUE SCHOOL  2018        0.190   \n",
       "\n",
       "  Level 2 Math Level 3 Math Level 4 Math Level 5 Math Level 1 ELA Level 2 ELA  \\\n",
       "0        0.240        0.282        0.268        0.052       0.162       0.130   \n",
       "1        0.356        0.279        0.178        0.005       0.157       0.230   \n",
       "2        0.272        0.276        0.256        0.004       0.130       0.126   \n",
       "3        0.226        0.277        0.284        0.022       0.114       0.156   \n",
       "4        0.233        0.234        0.293        0.050       0.150       0.150   \n",
       "\n",
       "  Level 3 ELA Level 4 ELA Level 5 ELA  \n",
       "0       0.218       0.333       0.158  \n",
       "1       0.301       0.273       0.038  \n",
       "2       0.236       0.451       0.059  \n",
       "3       0.260       0.393       0.076  \n",
       "4       0.202       0.387       0.112  "
      ]
     },
     "execution_count": 14,
     "metadata": {},
     "output_type": "execute_result"
    }
   ],
   "source": [
    "# Make a merged dataframe with both Math and ELA results\n",
    "\n",
    "DFs = list(resultsMS_bySchl_Norm.values())\n",
    "allResultsDF = pd.merge(DFs[0], DFs[1], on = ['School_Key', 'School Name', 'Year'], how = 'inner')\n",
    "allResultsDF.head()"
   ]
  },
  {
   "cell_type": "code",
   "execution_count": 15,
   "id": "47b165f0",
   "metadata": {},
   "outputs": [
    {
     "data": {
      "text/html": [
       "<div>\n",
       "<style scoped>\n",
       "    .dataframe tbody tr th:only-of-type {\n",
       "        vertical-align: middle;\n",
       "    }\n",
       "\n",
       "    .dataframe tbody tr th {\n",
       "        vertical-align: top;\n",
       "    }\n",
       "\n",
       "    .dataframe thead th {\n",
       "        text-align: right;\n",
       "    }\n",
       "</style>\n",
       "<table border=\"1\" class=\"dataframe\">\n",
       "  <thead>\n",
       "    <tr style=\"text-align: right;\">\n",
       "      <th></th>\n",
       "      <th>School_Key</th>\n",
       "      <th>School Name</th>\n",
       "      <th>Year</th>\n",
       "      <th>Level 1 Math</th>\n",
       "      <th>Level 2 Math</th>\n",
       "      <th>Level 3 Math</th>\n",
       "      <th>Level 4 Math</th>\n",
       "      <th>Level 5 Math</th>\n",
       "      <th>Level 1 ELA</th>\n",
       "      <th>Level 2 ELA</th>\n",
       "      <th>Level 3 ELA</th>\n",
       "      <th>Level 4 ELA</th>\n",
       "      <th>Level 5 ELA</th>\n",
       "      <th>Level 5 Math+Ela</th>\n",
       "    </tr>\n",
       "  </thead>\n",
       "  <tbody>\n",
       "    <tr>\n",
       "      <th>0</th>\n",
       "      <td>ABINGTON AVENEU SCHOOL, ESSEX</td>\n",
       "      <td>ABINGTON AVENEU SCHOOL</td>\n",
       "      <td>2019</td>\n",
       "      <td>0.157</td>\n",
       "      <td>0.240</td>\n",
       "      <td>0.282</td>\n",
       "      <td>0.268</td>\n",
       "      <td>0.052</td>\n",
       "      <td>0.162</td>\n",
       "      <td>0.130</td>\n",
       "      <td>0.218</td>\n",
       "      <td>0.333</td>\n",
       "      <td>0.158</td>\n",
       "      <td>0.210</td>\n",
       "    </tr>\n",
       "    <tr>\n",
       "      <th>1</th>\n",
       "      <td>ABINGTON AVENUE SCHOOL, ESSEX</td>\n",
       "      <td>ABINGTON AVENUE SCHOOL</td>\n",
       "      <td>2015</td>\n",
       "      <td>0.182</td>\n",
       "      <td>0.356</td>\n",
       "      <td>0.279</td>\n",
       "      <td>0.178</td>\n",
       "      <td>0.005</td>\n",
       "      <td>0.157</td>\n",
       "      <td>0.230</td>\n",
       "      <td>0.301</td>\n",
       "      <td>0.273</td>\n",
       "      <td>0.038</td>\n",
       "      <td>0.043</td>\n",
       "    </tr>\n",
       "    <tr>\n",
       "      <th>2</th>\n",
       "      <td>ABINGTON AVENUE SCHOOL, ESSEX</td>\n",
       "      <td>ABINGTON AVENUE SCHOOL</td>\n",
       "      <td>2016</td>\n",
       "      <td>0.192</td>\n",
       "      <td>0.272</td>\n",
       "      <td>0.276</td>\n",
       "      <td>0.256</td>\n",
       "      <td>0.004</td>\n",
       "      <td>0.130</td>\n",
       "      <td>0.126</td>\n",
       "      <td>0.236</td>\n",
       "      <td>0.451</td>\n",
       "      <td>0.059</td>\n",
       "      <td>0.063</td>\n",
       "    </tr>\n",
       "    <tr>\n",
       "      <th>3</th>\n",
       "      <td>ABINGTON AVENUE SCHOOL, ESSEX</td>\n",
       "      <td>ABINGTON AVENUE SCHOOL</td>\n",
       "      <td>2017</td>\n",
       "      <td>0.192</td>\n",
       "      <td>0.226</td>\n",
       "      <td>0.277</td>\n",
       "      <td>0.284</td>\n",
       "      <td>0.022</td>\n",
       "      <td>0.114</td>\n",
       "      <td>0.156</td>\n",
       "      <td>0.260</td>\n",
       "      <td>0.393</td>\n",
       "      <td>0.076</td>\n",
       "      <td>0.098</td>\n",
       "    </tr>\n",
       "    <tr>\n",
       "      <th>4</th>\n",
       "      <td>ABINGTON AVENUE SCHOOL, ESSEX</td>\n",
       "      <td>ABINGTON AVENUE SCHOOL</td>\n",
       "      <td>2018</td>\n",
       "      <td>0.190</td>\n",
       "      <td>0.233</td>\n",
       "      <td>0.234</td>\n",
       "      <td>0.293</td>\n",
       "      <td>0.050</td>\n",
       "      <td>0.150</td>\n",
       "      <td>0.150</td>\n",
       "      <td>0.202</td>\n",
       "      <td>0.387</td>\n",
       "      <td>0.112</td>\n",
       "      <td>0.162</td>\n",
       "    </tr>\n",
       "    <tr>\n",
       "      <th>5</th>\n",
       "      <td>ABINGTON AVENUE SCHOOL, ESSEX</td>\n",
       "      <td>ABINGTON AVENUE SCHOOL</td>\n",
       "      <td>2022</td>\n",
       "      <td>0.264</td>\n",
       "      <td>0.364</td>\n",
       "      <td>0.275</td>\n",
       "      <td>0.096</td>\n",
       "      <td>0.000</td>\n",
       "      <td>0.153</td>\n",
       "      <td>0.234</td>\n",
       "      <td>0.319</td>\n",
       "      <td>0.258</td>\n",
       "      <td>0.037</td>\n",
       "      <td>0.037</td>\n",
       "    </tr>\n",
       "    <tr>\n",
       "      <th>6</th>\n",
       "      <td>ABINGTON AVENUE SCHOOL, ESSEX</td>\n",
       "      <td>ABINGTON AVENUE SCHOOL</td>\n",
       "      <td>2023</td>\n",
       "      <td>0.296</td>\n",
       "      <td>0.354</td>\n",
       "      <td>0.260</td>\n",
       "      <td>0.083</td>\n",
       "      <td>0.007</td>\n",
       "      <td>0.228</td>\n",
       "      <td>0.167</td>\n",
       "      <td>0.264</td>\n",
       "      <td>0.281</td>\n",
       "      <td>0.061</td>\n",
       "      <td>0.068</td>\n",
       "    </tr>\n",
       "    <tr>\n",
       "      <th>7</th>\n",
       "      <td>ABRAHAM LINCOLN MIDDLE SCHOOL NO. 4, PASSAIC</td>\n",
       "      <td>ABRAHAM LINCOLN MIDDLE SCHOOL NO. 4</td>\n",
       "      <td>2018</td>\n",
       "      <td>0.203</td>\n",
       "      <td>0.360</td>\n",
       "      <td>0.305</td>\n",
       "      <td>0.131</td>\n",
       "      <td>0.001</td>\n",
       "      <td>0.222</td>\n",
       "      <td>0.217</td>\n",
       "      <td>0.265</td>\n",
       "      <td>0.242</td>\n",
       "      <td>0.055</td>\n",
       "      <td>0.056</td>\n",
       "    </tr>\n",
       "    <tr>\n",
       "      <th>8</th>\n",
       "      <td>ABRAHAM LINCOLN SCHOOL NO. 14, UNION</td>\n",
       "      <td>ABRAHAM LINCOLN SCHOOL NO. 14</td>\n",
       "      <td>2015</td>\n",
       "      <td>0.051</td>\n",
       "      <td>0.252</td>\n",
       "      <td>0.374</td>\n",
       "      <td>0.316</td>\n",
       "      <td>0.007</td>\n",
       "      <td>0.081</td>\n",
       "      <td>0.140</td>\n",
       "      <td>0.301</td>\n",
       "      <td>0.436</td>\n",
       "      <td>0.043</td>\n",
       "      <td>0.050</td>\n",
       "    </tr>\n",
       "    <tr>\n",
       "      <th>9</th>\n",
       "      <td>ABRAHAM LINCOLN SCHOOL NO. 14, UNION</td>\n",
       "      <td>ABRAHAM LINCOLN SCHOOL NO. 14</td>\n",
       "      <td>2016</td>\n",
       "      <td>0.087</td>\n",
       "      <td>0.167</td>\n",
       "      <td>0.428</td>\n",
       "      <td>0.305</td>\n",
       "      <td>0.014</td>\n",
       "      <td>0.082</td>\n",
       "      <td>0.112</td>\n",
       "      <td>0.228</td>\n",
       "      <td>0.505</td>\n",
       "      <td>0.073</td>\n",
       "      <td>0.087</td>\n",
       "    </tr>\n",
       "  </tbody>\n",
       "</table>\n",
       "</div>"
      ],
      "text/plain": [
       "                                     School_Key  \\\n",
       "0                 ABINGTON AVENEU SCHOOL, ESSEX   \n",
       "1                 ABINGTON AVENUE SCHOOL, ESSEX   \n",
       "2                 ABINGTON AVENUE SCHOOL, ESSEX   \n",
       "3                 ABINGTON AVENUE SCHOOL, ESSEX   \n",
       "4                 ABINGTON AVENUE SCHOOL, ESSEX   \n",
       "5                 ABINGTON AVENUE SCHOOL, ESSEX   \n",
       "6                 ABINGTON AVENUE SCHOOL, ESSEX   \n",
       "7  ABRAHAM LINCOLN MIDDLE SCHOOL NO. 4, PASSAIC   \n",
       "8          ABRAHAM LINCOLN SCHOOL NO. 14, UNION   \n",
       "9          ABRAHAM LINCOLN SCHOOL NO. 14, UNION   \n",
       "\n",
       "                           School Name  Year Level 1 Math Level 2 Math  \\\n",
       "0               ABINGTON AVENEU SCHOOL  2019        0.157        0.240   \n",
       "1               ABINGTON AVENUE SCHOOL  2015        0.182        0.356   \n",
       "2               ABINGTON AVENUE SCHOOL  2016        0.192        0.272   \n",
       "3               ABINGTON AVENUE SCHOOL  2017        0.192        0.226   \n",
       "4               ABINGTON AVENUE SCHOOL  2018        0.190        0.233   \n",
       "5               ABINGTON AVENUE SCHOOL  2022        0.264        0.364   \n",
       "6               ABINGTON AVENUE SCHOOL  2023        0.296        0.354   \n",
       "7  ABRAHAM LINCOLN MIDDLE SCHOOL NO. 4  2018        0.203        0.360   \n",
       "8        ABRAHAM LINCOLN SCHOOL NO. 14  2015        0.051        0.252   \n",
       "9        ABRAHAM LINCOLN SCHOOL NO. 14  2016        0.087        0.167   \n",
       "\n",
       "  Level 3 Math Level 4 Math Level 5 Math Level 1 ELA Level 2 ELA Level 3 ELA  \\\n",
       "0        0.282        0.268        0.052       0.162       0.130       0.218   \n",
       "1        0.279        0.178        0.005       0.157       0.230       0.301   \n",
       "2        0.276        0.256        0.004       0.130       0.126       0.236   \n",
       "3        0.277        0.284        0.022       0.114       0.156       0.260   \n",
       "4        0.234        0.293        0.050       0.150       0.150       0.202   \n",
       "5        0.275        0.096        0.000       0.153       0.234       0.319   \n",
       "6        0.260        0.083        0.007       0.228       0.167       0.264   \n",
       "7        0.305        0.131        0.001       0.222       0.217       0.265   \n",
       "8        0.374        0.316        0.007       0.081       0.140       0.301   \n",
       "9        0.428        0.305        0.014       0.082       0.112       0.228   \n",
       "\n",
       "  Level 4 ELA Level 5 ELA Level 5 Math+Ela  \n",
       "0       0.333       0.158            0.210  \n",
       "1       0.273       0.038            0.043  \n",
       "2       0.451       0.059            0.063  \n",
       "3       0.393       0.076            0.098  \n",
       "4       0.387       0.112            0.162  \n",
       "5       0.258       0.037            0.037  \n",
       "6       0.281       0.061            0.068  \n",
       "7       0.242       0.055            0.056  \n",
       "8       0.436       0.043            0.050  \n",
       "9       0.505       0.073            0.087  "
      ]
     },
     "execution_count": 15,
     "metadata": {},
     "output_type": "execute_result"
    }
   ],
   "source": [
    "# Add colomn with sum of shares of level5 students by Math and level5 students ELA\n",
    "\n",
    "allResultsDF['Level 5 Math+Ela'] = allResultsDF[f'Level 5 {subjects[0]}']+allResultsDF[f'Level 5 {subjects[1]}']\n",
    "allResultsDF.head(10)"
   ]
  },
  {
   "cell_type": "code",
   "execution_count": 16,
   "id": "5c968e37",
   "metadata": {},
   "outputs": [
    {
     "name": "stdout",
     "output_type": "stream",
     "text": [
      "['2019' '2015' '2016' '2017' '2018' '2022' '2023']\n"
     ]
    }
   ],
   "source": [
    "unique_values = allResultsDF['Year'].unique()\n",
    "print(unique_values)"
   ]
  },
  {
   "cell_type": "markdown",
   "id": "c9e02b6b",
   "metadata": {},
   "source": [
    "#### Create dataframe with average 2015-2023 math and ela test results for all middle school grades"
   ]
  },
  {
   "cell_type": "code",
   "execution_count": 17,
   "id": "1aa767cf",
   "metadata": {},
   "outputs": [
    {
     "name": "stdout",
     "output_type": "stream",
     "text": [
      "Math\n",
      "974\n",
      "ELA\n",
      "976\n"
     ]
    }
   ],
   "source": [
    "# Make a merged dataframe with both Math and ELA average 2015-2023 results \n",
    "\n",
    "resultsMS_AVG2015_23 = {}\n",
    "\n",
    "for subject in subjects:\n",
    "    \n",
    "    resultsDF = resultsDFs[subject]\n",
    "   \n",
    "  \n",
    "    # Dataframe with only grades 6-8 results (middle schools and K-8) by schools\n",
    "    resultsMS_bySchl_sumed = resultsDF.groupby(['School_Key', 'School Name'])[['L1 Number','L2 Number','L3 Number','L4 Number','L5 Number']].sum()\n",
    "    \n",
    "    # Rename columns\n",
    "    resultsMS_bySchl_sumed.columns = [f'# Level 1 {subject}',f'# Level 2 {subject}',f'# Level 3 {subject}',f'# Level 4 {subject}', f'# Level 5 {subject}']\n",
    "\n",
    "    \n",
    "    # Dataframe for middle schools by years with normalized values\n",
    "    resultsMS_bySchl_sumed_Norm = resultsMS_bySchl_sumed.div(resultsMS_bySchl_sumed.sum(axis=1), axis=0)\n",
    "    resultsMS_bySchl_sumed_Norm.columns = [f'8yrs avg Lvl 1 {subject}',f'8yrs avg Lvl 2 {subject}',f'8yrs avg Lvl 3 {subject}', f'8yrs avg Lvl 4 {subject}', f'8yrs avg Lvl 5 {subject}']\n",
    "    resultsMS_bySchl_sumed_Norm.reset_index(inplace = True)\n",
    "    \n",
    "    # Add the dataframe to the respective dictionnary \n",
    "    resultsMS_AVG2015_23[subject] = resultsMS_bySchl_sumed_Norm\n",
    "    print(subject)\n",
    "    print(len(resultsMS_AVG2015_23[subject]))\n",
    "    \n",
    "\n",
    "# del resultsDF, resultsMS_bySchl_sumed_Norm, resultsMS_bySchl_sumed_sorted, fileName, filePath, resultsMS_bySchl_sumed\n",
    "del resultsDF, resultsMS_bySchl_sumed_Norm, resultsMS_bySchl_sumed"
   ]
  },
  {
   "cell_type": "code",
   "execution_count": 44,
   "id": "4cb48087",
   "metadata": {},
   "outputs": [],
   "source": [
    "# Make a merged dataframe with both Math and ELA average 2013-2023 results \n",
    "\n",
    "AVG2015_23_DFs = list(resultsMS_AVG2015_23.values())\n",
    "allResultsAVG2015_23DF = pd.merge(AVG2015_23_DFs[0], AVG2015_23_DFs[1], on = ['School_Key','School Name'], how = 'inner')\n",
    "allResultsAVG2015_23DF['8yrs avg Lvl 5 Math+Ela'] = allResultsAVG2015_23DF[f'8yrs avg Lvl 5 {subjects[0]}']+allResultsAVG2015_23DF[f'8yrs avg Lvl 5 {subjects[1]}']\n",
    "del AVG2015_23_DFs"
   ]
  },
  {
   "cell_type": "code",
   "execution_count": 45,
   "id": "f8af554b",
   "metadata": {},
   "outputs": [
    {
     "name": "stdout",
     "output_type": "stream",
     "text": [
      "Schools' list ready.\n",
      "Dataframes by schools ready.\n",
      "Making plots of test results ...\n"
     ]
    },
    {
     "name": "stderr",
     "output_type": "stream",
     "text": [
      "100%|████████████████████████████████████████████████████████████████████████████████| 973/973 [03:22<00:00,  4.80it/s]\n",
      "100%|████████████████████████████████████████████████████████████████████████████████| 973/973 [03:11<00:00,  5.09it/s]"
     ]
    },
    {
     "name": "stdout",
     "output_type": "stream",
     "text": [
      "Adding plots to the dataframe with test results.\n",
      "Done.\n"
     ]
    },
    {
     "name": "stderr",
     "output_type": "stream",
     "text": [
      "\n"
     ]
    }
   ],
   "source": [
    "# Make plots for popups in the map and add them as columns to the mappable dataframe\n",
    "\n",
    "# list of schools names\n",
    "\n",
    "schoolsNames = allResultsDF['School_Key'].to_list()\n",
    "testResults = allResultsDF\n",
    "\n",
    "print(\"Schools' list ready.\")\n",
    "# Create disctionnary to hold the dataframes by schools\n",
    "schoolDFs = {}\n",
    "\n",
    "# Make dataframes by schools \n",
    "for name in schoolsNames:\n",
    "    dfName = name\n",
    "    schoolDFs[dfName] = testResults[testResults['School_Key'] == name]\n",
    "print('Dataframes by schools ready.')\n",
    "\n",
    "\n",
    "plotsDFs = {}\n",
    "\n",
    "\n",
    "print(\"Making plots of test results ...\")\n",
    "\n",
    "for subject in subjects:\n",
    "    plots = []\n",
    "    columns_to_plot = [f'Level 1 {subject}',f'Level 2 {subject}',f'Level 3 {subject}',f'Level 4 {subject}', f'Level 5 {subject}']  \n",
    "\n",
    "    # Plot dataframes by school\n",
    "\n",
    "    for schoolDF, current_dataframe in tqdm(schoolDFs.items()):\n",
    "        # schoolDF contains the name of the dataframe\n",
    "        # current_dataframe contains the dataframe itself\n",
    "        # Do something with current_dataframe\n",
    "        # Create a plot\n",
    "        fig = create_plot(current_dataframe, schoolDF, columns_to_plot)\n",
    "\n",
    "        # Convert the plot to a PNG image and then encode it\n",
    "        io_buf = BytesIO()\n",
    "        fig.savefig(io_buf, format='png', bbox_inches='tight')\n",
    "        # Close the figure\n",
    "        plt.close()\n",
    "        #Reading file to get the base64 string\n",
    "        io_buf.seek(0)\n",
    "        base64_string = base64.b64encode(io_buf.read()).decode('utf8')\n",
    "\n",
    "        pair = (schoolDF, base64_string)\n",
    "\n",
    "        plots.append(pair) \n",
    "            \n",
    "    # add the plots to the dataframe of middle schools subject results \n",
    "    plotsDFs[subject] = pd.DataFrame(plots, columns=['School Name', f'plot {subject}'])\n",
    "\n",
    "           \n",
    "# Concatenate all plots DataFrames along the columns before merging\n",
    "combined_plots_df = pd.concat(plotsDFs.values(), axis=1)\n",
    "\n",
    "\n",
    "print('Adding plots to the dataframe with test results.')    \n",
    "allResultsAVG2015_23DF = pd.merge(allResultsAVG2015_23DF, combined_plots_df, left_on = 'School_Key', right_on=combined_plots_df.iloc[:, 0], suffixes=('', '_drop'))\n",
    "allResultsAVG2015_23DF = allResultsAVG2015_23DF.loc[:, ~allResultsAVG2015_23DF.columns.str.endswith('_drop')]\n",
    "print('Done.')  "
   ]
  },
  {
   "cell_type": "code",
   "execution_count": 47,
   "id": "c650ae04",
   "metadata": {
    "scrolled": true
   },
   "outputs": [
    {
     "name": "stdout",
     "output_type": "stream",
     "text": [
      "<class 'pandas.core.frame.DataFrame'>\n",
      "Int64Index: 973 entries, 0 to 972\n",
      "Data columns (total 15 columns):\n",
      " #   Column                   Non-Null Count  Dtype  \n",
      "---  ------                   --------------  -----  \n",
      " 0   School_Key               973 non-null    object \n",
      " 1   School Name              973 non-null    object \n",
      " 2   8yrs avg Lvl 1 Math      964 non-null    float64\n",
      " 3   8yrs avg Lvl 2 Math      964 non-null    float64\n",
      " 4   8yrs avg Lvl 3 Math      964 non-null    float64\n",
      " 5   8yrs avg Lvl 4 Math      964 non-null    float64\n",
      " 6   8yrs avg Lvl 5 Math      964 non-null    float64\n",
      " 7   8yrs avg Lvl 1 ELA       965 non-null    float64\n",
      " 8   8yrs avg Lvl 2 ELA       965 non-null    float64\n",
      " 9   8yrs avg Lvl 3 ELA       965 non-null    float64\n",
      " 10  8yrs avg Lvl 4 ELA       965 non-null    float64\n",
      " 11  8yrs avg Lvl 5 ELA       965 non-null    float64\n",
      " 12  8yrs avg Lvl 5 Math+Ela  964 non-null    float64\n",
      " 13  plot Math                973 non-null    object \n",
      " 14  plot ELA                 973 non-null    object \n",
      "dtypes: float64(11), object(4)\n",
      "memory usage: 121.6+ KB\n"
     ]
    }
   ],
   "source": [
    "allResultsAVG2015_23DF.info()"
   ]
  },
  {
   "cell_type": "code",
   "execution_count": 21,
   "id": "23e539c3",
   "metadata": {},
   "outputs": [
    {
     "data": {
      "text/html": [
       "<div>\n",
       "<style scoped>\n",
       "    .dataframe tbody tr th:only-of-type {\n",
       "        vertical-align: middle;\n",
       "    }\n",
       "\n",
       "    .dataframe tbody tr th {\n",
       "        vertical-align: top;\n",
       "    }\n",
       "\n",
       "    .dataframe thead th {\n",
       "        text-align: right;\n",
       "    }\n",
       "</style>\n",
       "<table border=\"1\" class=\"dataframe\">\n",
       "  <thead>\n",
       "    <tr style=\"text-align: right;\">\n",
       "      <th></th>\n",
       "      <th>School_Key</th>\n",
       "      <th>School Name</th>\n",
       "      <th>8yrs avg Lvl 1 Math</th>\n",
       "      <th>8yrs avg Lvl 2 Math</th>\n",
       "      <th>8yrs avg Lvl 3 Math</th>\n",
       "      <th>8yrs avg Lvl 4 Math</th>\n",
       "      <th>8yrs avg Lvl 5 Math</th>\n",
       "      <th>8yrs avg Lvl 1 ELA</th>\n",
       "      <th>8yrs avg Lvl 2 ELA</th>\n",
       "      <th>8yrs avg Lvl 3 ELA</th>\n",
       "      <th>8yrs avg Lvl 4 ELA</th>\n",
       "      <th>8yrs avg Lvl 5 ELA</th>\n",
       "      <th>8yrs avg Lvl 5 Math+Ela</th>\n",
       "      <th>plot Math</th>\n",
       "      <th>plot ELA</th>\n",
       "    </tr>\n",
       "  </thead>\n",
       "  <tbody>\n",
       "    <tr>\n",
       "      <th>0</th>\n",
       "      <td>ABINGTON AVENEU SCHOOL, ESSEX</td>\n",
       "      <td>ABINGTON AVENEU SCHOOL</td>\n",
       "      <td>0.157</td>\n",
       "      <td>0.240</td>\n",
       "      <td>0.282</td>\n",
       "      <td>0.268</td>\n",
       "      <td>0.052</td>\n",
       "      <td>0.162</td>\n",
       "      <td>0.130</td>\n",
       "      <td>0.218</td>\n",
       "      <td>0.333</td>\n",
       "      <td>0.158</td>\n",
       "      <td>0.210</td>\n",
       "      <td>iVBORw0KGgoAAAANSUhEUgAAAdQAAAGGCAYAAADCYXCQAA...</td>\n",
       "      <td>iVBORw0KGgoAAAANSUhEUgAAAdQAAAGGCAYAAADCYXCQAA...</td>\n",
       "    </tr>\n",
       "    <tr>\n",
       "      <th>1</th>\n",
       "      <td>ABINGTON AVENUE SCHOOL, ESSEX</td>\n",
       "      <td>ABINGTON AVENUE SCHOOL</td>\n",
       "      <td>0.221</td>\n",
       "      <td>0.298</td>\n",
       "      <td>0.266</td>\n",
       "      <td>0.200</td>\n",
       "      <td>0.015</td>\n",
       "      <td>0.156</td>\n",
       "      <td>0.176</td>\n",
       "      <td>0.263</td>\n",
       "      <td>0.340</td>\n",
       "      <td>0.065</td>\n",
       "      <td>0.080</td>\n",
       "      <td>iVBORw0KGgoAAAANSUhEUgAAAdQAAAGGCAYAAADCYXCQAA...</td>\n",
       "      <td>iVBORw0KGgoAAAANSUhEUgAAAdQAAAGGCAYAAADCYXCQAA...</td>\n",
       "    </tr>\n",
       "    <tr>\n",
       "      <th>2</th>\n",
       "      <td>ABRAHAM LINCOLN MIDDLE SCHOOL NO. 4, PASSAIC</td>\n",
       "      <td>ABRAHAM LINCOLN MIDDLE SCHOOL NO. 4</td>\n",
       "      <td>0.203</td>\n",
       "      <td>0.360</td>\n",
       "      <td>0.305</td>\n",
       "      <td>0.131</td>\n",
       "      <td>0.001</td>\n",
       "      <td>0.222</td>\n",
       "      <td>0.217</td>\n",
       "      <td>0.265</td>\n",
       "      <td>0.242</td>\n",
       "      <td>0.055</td>\n",
       "      <td>0.056</td>\n",
       "      <td>iVBORw0KGgoAAAANSUhEUgAAAl4AAAGGCAYAAACqpI9ZAA...</td>\n",
       "      <td>iVBORw0KGgoAAAANSUhEUgAAAl4AAAGGCAYAAACqpI9ZAA...</td>\n",
       "    </tr>\n",
       "    <tr>\n",
       "      <th>3</th>\n",
       "      <td>ABRAHAM LINCOLN SCHOOL NO. 14, UNION</td>\n",
       "      <td>ABRAHAM LINCOLN SCHOOL NO. 14</td>\n",
       "      <td>0.128</td>\n",
       "      <td>0.279</td>\n",
       "      <td>0.360</td>\n",
       "      <td>0.227</td>\n",
       "      <td>0.007</td>\n",
       "      <td>0.106</td>\n",
       "      <td>0.130</td>\n",
       "      <td>0.262</td>\n",
       "      <td>0.389</td>\n",
       "      <td>0.114</td>\n",
       "      <td>0.120</td>\n",
       "      <td>iVBORw0KGgoAAAANSUhEUgAAAhQAAAGGCAYAAAAjPBgwAA...</td>\n",
       "      <td>iVBORw0KGgoAAAANSUhEUgAAAhQAAAGGCAYAAAAjPBgwAA...</td>\n",
       "    </tr>\n",
       "    <tr>\n",
       "      <th>4</th>\n",
       "      <td>ACADEMY FOR URBAN LEADERSHIP CHARTER SCHOOL, C...</td>\n",
       "      <td>ACADEMY FOR URBAN LEADERSHIP CHARTER SCHOOL</td>\n",
       "      <td>0.372</td>\n",
       "      <td>0.353</td>\n",
       "      <td>0.202</td>\n",
       "      <td>0.071</td>\n",
       "      <td>0.002</td>\n",
       "      <td>0.208</td>\n",
       "      <td>0.201</td>\n",
       "      <td>0.289</td>\n",
       "      <td>0.276</td>\n",
       "      <td>0.027</td>\n",
       "      <td>0.028</td>\n",
       "      <td>iVBORw0KGgoAAAANSUhEUgAAAtEAAAGGCAYAAAC9qt3VAA...</td>\n",
       "      <td>iVBORw0KGgoAAAANSUhEUgAAAtEAAAGGCAYAAAC9qt3VAA...</td>\n",
       "    </tr>\n",
       "    <tr>\n",
       "      <th>5</th>\n",
       "      <td>ACADEMY I, HUDSON</td>\n",
       "      <td>ACADEMY I</td>\n",
       "      <td>0.042</td>\n",
       "      <td>0.056</td>\n",
       "      <td>0.106</td>\n",
       "      <td>0.552</td>\n",
       "      <td>0.244</td>\n",
       "      <td>0.024</td>\n",
       "      <td>0.031</td>\n",
       "      <td>0.057</td>\n",
       "      <td>0.409</td>\n",
       "      <td>0.479</td>\n",
       "      <td>0.723</td>\n",
       "      <td>iVBORw0KGgoAAAANSUhEUgAAAZEAAAGGCAYAAAC68rx0AA...</td>\n",
       "      <td>iVBORw0KGgoAAAANSUhEUgAAAZEAAAGGCAYAAAC68rx0AA...</td>\n",
       "    </tr>\n",
       "    <tr>\n",
       "      <th>6</th>\n",
       "      <td>ACHIEVE COMMUNITY CHARTER SCHOOL, CHARTERS</td>\n",
       "      <td>ACHIEVE COMMUNITY CHARTER SCHOOL</td>\n",
       "      <td>0.291</td>\n",
       "      <td>0.355</td>\n",
       "      <td>0.212</td>\n",
       "      <td>0.133</td>\n",
       "      <td>0.010</td>\n",
       "      <td>0.132</td>\n",
       "      <td>0.142</td>\n",
       "      <td>0.275</td>\n",
       "      <td>0.358</td>\n",
       "      <td>0.093</td>\n",
       "      <td>0.103</td>\n",
       "      <td>iVBORw0KGgoAAAANSUhEUgAAAl8AAAGGCAYAAABFZuRnAA...</td>\n",
       "      <td>iVBORw0KGgoAAAANSUhEUgAAAl8AAAGGCAYAAABFZuRnAA...</td>\n",
       "    </tr>\n",
       "    <tr>\n",
       "      <th>7</th>\n",
       "      <td>ACHIEVERS EARLY COLLEGE PREP CHARTER SCHOOL, C...</td>\n",
       "      <td>ACHIEVERS EARLY COLLEGE PREP CHARTER SCHOOL</td>\n",
       "      <td>0.326</td>\n",
       "      <td>0.414</td>\n",
       "      <td>0.192</td>\n",
       "      <td>0.068</td>\n",
       "      <td>0.000</td>\n",
       "      <td>0.197</td>\n",
       "      <td>0.223</td>\n",
       "      <td>0.284</td>\n",
       "      <td>0.254</td>\n",
       "      <td>0.042</td>\n",
       "      <td>0.042</td>\n",
       "      <td>iVBORw0KGgoAAAANSUhEUgAAAsIAAAGGCAYAAABxM+c+AA...</td>\n",
       "      <td>iVBORw0KGgoAAAANSUhEUgAAAsIAAAGGCAYAAABxM+c+AA...</td>\n",
       "    </tr>\n",
       "    <tr>\n",
       "      <th>8</th>\n",
       "      <td>ALBERT E GRICE MIDDLE SCHOOL, MERCER</td>\n",
       "      <td>ALBERT E GRICE MIDDLE SCHOOL</td>\n",
       "      <td>0.191</td>\n",
       "      <td>0.303</td>\n",
       "      <td>0.303</td>\n",
       "      <td>0.185</td>\n",
       "      <td>0.018</td>\n",
       "      <td>0.139</td>\n",
       "      <td>0.180</td>\n",
       "      <td>0.278</td>\n",
       "      <td>0.303</td>\n",
       "      <td>0.100</td>\n",
       "      <td>0.118</td>\n",
       "      <td>iVBORw0KGgoAAAANSUhEUgAAAhAAAAGGCAYAAAAq17hKAA...</td>\n",
       "      <td>iVBORw0KGgoAAAANSUhEUgAAAhAAAAGGCAYAAAAq17hKAA...</td>\n",
       "    </tr>\n",
       "    <tr>\n",
       "      <th>9</th>\n",
       "      <td>ALDER AVENUE MIDDLE SCHOOL, ATLANTIC</td>\n",
       "      <td>ALDER AVENUE MIDDLE SCHOOL</td>\n",
       "      <td>0.136</td>\n",
       "      <td>0.247</td>\n",
       "      <td>0.316</td>\n",
       "      <td>0.273</td>\n",
       "      <td>0.027</td>\n",
       "      <td>0.111</td>\n",
       "      <td>0.151</td>\n",
       "      <td>0.271</td>\n",
       "      <td>0.366</td>\n",
       "      <td>0.102</td>\n",
       "      <td>0.129</td>\n",
       "      <td>iVBORw0KGgoAAAANSUhEUgAAAhQAAAGGCAYAAAAjPBgwAA...</td>\n",
       "      <td>iVBORw0KGgoAAAANSUhEUgAAAhQAAAGGCAYAAAAjPBgwAA...</td>\n",
       "    </tr>\n",
       "  </tbody>\n",
       "</table>\n",
       "</div>"
      ],
      "text/plain": [
       "                                          School_Key  \\\n",
       "0                      ABINGTON AVENEU SCHOOL, ESSEX   \n",
       "1                      ABINGTON AVENUE SCHOOL, ESSEX   \n",
       "2       ABRAHAM LINCOLN MIDDLE SCHOOL NO. 4, PASSAIC   \n",
       "3               ABRAHAM LINCOLN SCHOOL NO. 14, UNION   \n",
       "4  ACADEMY FOR URBAN LEADERSHIP CHARTER SCHOOL, C...   \n",
       "5                                  ACADEMY I, HUDSON   \n",
       "6         ACHIEVE COMMUNITY CHARTER SCHOOL, CHARTERS   \n",
       "7  ACHIEVERS EARLY COLLEGE PREP CHARTER SCHOOL, C...   \n",
       "8               ALBERT E GRICE MIDDLE SCHOOL, MERCER   \n",
       "9               ALDER AVENUE MIDDLE SCHOOL, ATLANTIC   \n",
       "\n",
       "                                   School Name  8yrs avg Lvl 1 Math  \\\n",
       "0                       ABINGTON AVENEU SCHOOL                0.157   \n",
       "1                       ABINGTON AVENUE SCHOOL                0.221   \n",
       "2          ABRAHAM LINCOLN MIDDLE SCHOOL NO. 4                0.203   \n",
       "3                ABRAHAM LINCOLN SCHOOL NO. 14                0.128   \n",
       "4  ACADEMY FOR URBAN LEADERSHIP CHARTER SCHOOL                0.372   \n",
       "5                                    ACADEMY I                0.042   \n",
       "6             ACHIEVE COMMUNITY CHARTER SCHOOL                0.291   \n",
       "7  ACHIEVERS EARLY COLLEGE PREP CHARTER SCHOOL                0.326   \n",
       "8                 ALBERT E GRICE MIDDLE SCHOOL                0.191   \n",
       "9                   ALDER AVENUE MIDDLE SCHOOL                0.136   \n",
       "\n",
       "   8yrs avg Lvl 2 Math  8yrs avg Lvl 3 Math  8yrs avg Lvl 4 Math  \\\n",
       "0                0.240                0.282                0.268   \n",
       "1                0.298                0.266                0.200   \n",
       "2                0.360                0.305                0.131   \n",
       "3                0.279                0.360                0.227   \n",
       "4                0.353                0.202                0.071   \n",
       "5                0.056                0.106                0.552   \n",
       "6                0.355                0.212                0.133   \n",
       "7                0.414                0.192                0.068   \n",
       "8                0.303                0.303                0.185   \n",
       "9                0.247                0.316                0.273   \n",
       "\n",
       "   8yrs avg Lvl 5 Math  8yrs avg Lvl 1 ELA  8yrs avg Lvl 2 ELA  \\\n",
       "0                0.052               0.162               0.130   \n",
       "1                0.015               0.156               0.176   \n",
       "2                0.001               0.222               0.217   \n",
       "3                0.007               0.106               0.130   \n",
       "4                0.002               0.208               0.201   \n",
       "5                0.244               0.024               0.031   \n",
       "6                0.010               0.132               0.142   \n",
       "7                0.000               0.197               0.223   \n",
       "8                0.018               0.139               0.180   \n",
       "9                0.027               0.111               0.151   \n",
       "\n",
       "   8yrs avg Lvl 3 ELA  8yrs avg Lvl 4 ELA  8yrs avg Lvl 5 ELA  \\\n",
       "0               0.218               0.333               0.158   \n",
       "1               0.263               0.340               0.065   \n",
       "2               0.265               0.242               0.055   \n",
       "3               0.262               0.389               0.114   \n",
       "4               0.289               0.276               0.027   \n",
       "5               0.057               0.409               0.479   \n",
       "6               0.275               0.358               0.093   \n",
       "7               0.284               0.254               0.042   \n",
       "8               0.278               0.303               0.100   \n",
       "9               0.271               0.366               0.102   \n",
       "\n",
       "   8yrs avg Lvl 5 Math+Ela                                          plot Math  \\\n",
       "0                    0.210  iVBORw0KGgoAAAANSUhEUgAAAdQAAAGGCAYAAADCYXCQAA...   \n",
       "1                    0.080  iVBORw0KGgoAAAANSUhEUgAAAdQAAAGGCAYAAADCYXCQAA...   \n",
       "2                    0.056  iVBORw0KGgoAAAANSUhEUgAAAl4AAAGGCAYAAACqpI9ZAA...   \n",
       "3                    0.120  iVBORw0KGgoAAAANSUhEUgAAAhQAAAGGCAYAAAAjPBgwAA...   \n",
       "4                    0.028  iVBORw0KGgoAAAANSUhEUgAAAtEAAAGGCAYAAAC9qt3VAA...   \n",
       "5                    0.723  iVBORw0KGgoAAAANSUhEUgAAAZEAAAGGCAYAAAC68rx0AA...   \n",
       "6                    0.103  iVBORw0KGgoAAAANSUhEUgAAAl8AAAGGCAYAAABFZuRnAA...   \n",
       "7                    0.042  iVBORw0KGgoAAAANSUhEUgAAAsIAAAGGCAYAAABxM+c+AA...   \n",
       "8                    0.118  iVBORw0KGgoAAAANSUhEUgAAAhAAAAGGCAYAAAAq17hKAA...   \n",
       "9                    0.129  iVBORw0KGgoAAAANSUhEUgAAAhQAAAGGCAYAAAAjPBgwAA...   \n",
       "\n",
       "                                            plot ELA  \n",
       "0  iVBORw0KGgoAAAANSUhEUgAAAdQAAAGGCAYAAADCYXCQAA...  \n",
       "1  iVBORw0KGgoAAAANSUhEUgAAAdQAAAGGCAYAAADCYXCQAA...  \n",
       "2  iVBORw0KGgoAAAANSUhEUgAAAl4AAAGGCAYAAACqpI9ZAA...  \n",
       "3  iVBORw0KGgoAAAANSUhEUgAAAhQAAAGGCAYAAAAjPBgwAA...  \n",
       "4  iVBORw0KGgoAAAANSUhEUgAAAtEAAAGGCAYAAAC9qt3VAA...  \n",
       "5  iVBORw0KGgoAAAANSUhEUgAAAZEAAAGGCAYAAAC68rx0AA...  \n",
       "6  iVBORw0KGgoAAAANSUhEUgAAAl8AAAGGCAYAAABFZuRnAA...  \n",
       "7  iVBORw0KGgoAAAANSUhEUgAAAsIAAAGGCAYAAABxM+c+AA...  \n",
       "8  iVBORw0KGgoAAAANSUhEUgAAAhAAAAGGCAYAAAAq17hKAA...  \n",
       "9  iVBORw0KGgoAAAANSUhEUgAAAhQAAAGGCAYAAAAjPBgwAA...  "
      ]
     },
     "execution_count": 21,
     "metadata": {},
     "output_type": "execute_result"
    }
   ],
   "source": [
    "allResultsAVG2015_23DF.head(10)"
   ]
  },
  {
   "cell_type": "markdown",
   "id": "b8225223",
   "metadata": {},
   "source": [
    "<a id=\"maps\"></a> \n",
    "### Preparing geoJSON for mapping"
   ]
  },
  {
   "cell_type": "markdown",
   "id": "caca0ad5",
   "metadata": {},
   "source": [
    "#### Read schools geolocation file"
   ]
  },
  {
   "cell_type": "code",
   "execution_count": 22,
   "id": "d853ef71",
   "metadata": {},
   "outputs": [],
   "source": [
    "# Read GeoJSON into dataframe\n",
    "\n",
    "SchoolsFile = 'School_Point_Locations_of_NJ_(Public%2C_Private_and_Charter).geojson'\n",
    "NJSchoolsPath = os.path.join(basePath, dataFolder, SchoolsFile)\n",
    "NJSchoolsData = gpd.read_file(NJSchoolsPath)"
   ]
  },
  {
   "cell_type": "code",
   "execution_count": 23,
   "id": "7dfea90f",
   "metadata": {},
   "outputs": [],
   "source": [
    "# Add column with school-county key for each school\n",
    "\n",
    "NJSchoolsData['School_Key'] = NJSchoolsData['SCHOOL']  + ', '+ NJSchoolsData['COUNTY']"
   ]
  },
  {
   "cell_type": "code",
   "execution_count": 24,
   "id": "2fd2ea21",
   "metadata": {},
   "outputs": [
    {
     "name": "stdout",
     "output_type": "stream",
     "text": [
      "<class 'geopandas.geodataframe.GeoDataFrame'>\n",
      "RangeIndex: 3803 entries, 0 to 3802\n",
      "Data columns (total 28 columns):\n",
      " #   Column       Non-Null Count  Dtype   \n",
      "---  ------       --------------  -----   \n",
      " 0   OBJECTID     3803 non-null   int64   \n",
      " 1   SCH_GUID     3797 non-null   object  \n",
      " 2   COUNTYCODE   3803 non-null   object  \n",
      " 3   COUNTY       3803 non-null   object  \n",
      " 4   DIST_CODE    3803 non-null   object  \n",
      " 5   DIST_NAME    3802 non-null   object  \n",
      " 6   SCHOOLCODE   3803 non-null   object  \n",
      " 7   SCHOOLTYPE   3232 non-null   object  \n",
      " 8   SCHOOL       3803 non-null   object  \n",
      " 9   SCHOOLNAME   3801 non-null   object  \n",
      " 10  ADDRESS1     3803 non-null   object  \n",
      " 11  ADDRESS2     233 non-null    object  \n",
      " 12  CITY         3803 non-null   object  \n",
      " 13  STATE        3802 non-null   object  \n",
      " 14  ZIP          3803 non-null   object  \n",
      " 15  PHONE        3723 non-null   object  \n",
      " 16  X            3803 non-null   float64 \n",
      " 17  Y            3803 non-null   float64 \n",
      " 18  SOURCE       3513 non-null   object  \n",
      " 19  ZIP_TRUNC    3802 non-null   object  \n",
      " 20  PREF_ID_NUM  3803 non-null   object  \n",
      " 21  GNIS_ID      19 non-null     object  \n",
      " 22  LOC_QUAL     3802 non-null   object  \n",
      " 23  OGIS_ID      3803 non-null   object  \n",
      " 24  CATEGORY     3803 non-null   int64   \n",
      " 25  LAST_UPDATE  3803 non-null   object  \n",
      " 26  geometry     3803 non-null   geometry\n",
      " 27  School_Key   3803 non-null   object  \n",
      "dtypes: float64(2), geometry(1), int64(2), object(23)\n",
      "memory usage: 832.0+ KB\n"
     ]
    }
   ],
   "source": [
    "NJSchoolsData.info()"
   ]
  },
  {
   "cell_type": "markdown",
   "id": "ce0cc13f",
   "metadata": {},
   "source": [
    "#### Merge the GeoJSON and the results dataframe"
   ]
  },
  {
   "cell_type": "code",
   "execution_count": 25,
   "id": "728f41be",
   "metadata": {},
   "outputs": [
    {
     "data": {
      "text/html": [
       "<div>\n",
       "<style scoped>\n",
       "    .dataframe tbody tr th:only-of-type {\n",
       "        vertical-align: middle;\n",
       "    }\n",
       "\n",
       "    .dataframe tbody tr th {\n",
       "        vertical-align: top;\n",
       "    }\n",
       "\n",
       "    .dataframe thead th {\n",
       "        text-align: right;\n",
       "    }\n",
       "</style>\n",
       "<table border=\"1\" class=\"dataframe\">\n",
       "  <thead>\n",
       "    <tr style=\"text-align: right;\">\n",
       "      <th></th>\n",
       "      <th>OBJECTID</th>\n",
       "      <th>DIST_NAME</th>\n",
       "      <th>SCHOOLTYPE</th>\n",
       "      <th>SCHOOL</th>\n",
       "      <th>SCHOOLNAME</th>\n",
       "      <th>CITY</th>\n",
       "      <th>School_Key</th>\n",
       "      <th>geometry</th>\n",
       "    </tr>\n",
       "  </thead>\n",
       "  <tbody>\n",
       "    <tr>\n",
       "      <th>0</th>\n",
       "      <td>1</td>\n",
       "      <td>Glen Rock</td>\n",
       "      <td>DAY CARE, TRANSITIONAL K</td>\n",
       "      <td>Glen Rock Cooperative Nursery School</td>\n",
       "      <td>Glen Rock Cooperative Nusery School</td>\n",
       "      <td>Glen Rock</td>\n",
       "      <td>Glen Rock Cooperative Nursery School, BERGEN</td>\n",
       "      <td>POINT (-74.12435 40.96150)</td>\n",
       "    </tr>\n",
       "    <tr>\n",
       "      <th>1</th>\n",
       "      <td>2</td>\n",
       "      <td>North Brunswick Twp</td>\n",
       "      <td>CHILD CARE/PRE-SCHOOL</td>\n",
       "      <td>Creative Nursery School Childcare &amp; Learning C...</td>\n",
       "      <td>Creative Nursery School</td>\n",
       "      <td>North Brunswick</td>\n",
       "      <td>Creative Nursery School Childcare &amp; Learning C...</td>\n",
       "      <td>POINT (-74.47660 40.44052)</td>\n",
       "    </tr>\n",
       "    <tr>\n",
       "      <th>2</th>\n",
       "      <td>3</td>\n",
       "      <td>Old Bridge Twp.</td>\n",
       "      <td>PRE-SCHOOL/PRE-K</td>\n",
       "      <td>Good Shepherd Children's Center</td>\n",
       "      <td>Good Shepherd Children's Center</td>\n",
       "      <td>Old Bridge</td>\n",
       "      <td>Good Shepherd Children's Center, MIDDLESEX</td>\n",
       "      <td>POINT (-74.30568 40.40041)</td>\n",
       "    </tr>\n",
       "    <tr>\n",
       "      <th>3</th>\n",
       "      <td>4</td>\n",
       "      <td>Lakewood Twp</td>\n",
       "      <td>SPECIAL EDUCATION</td>\n",
       "      <td>TREE OF KNOWLEDGE LEARNING ACADEMY</td>\n",
       "      <td>Tree Of Knowledge</td>\n",
       "      <td>Lakewood</td>\n",
       "      <td>TREE OF KNOWLEDGE LEARNING ACADEMY, OCEAN</td>\n",
       "      <td>POINT (-74.21612 40.09282)</td>\n",
       "    </tr>\n",
       "    <tr>\n",
       "      <th>4</th>\n",
       "      <td>5</td>\n",
       "      <td>Hackensack City</td>\n",
       "      <td>DAY CARE</td>\n",
       "      <td>Sarkis &amp; Siran Gabrellian Child Care Center</td>\n",
       "      <td>Sarkis &amp; Siran Gabrellian Child Care and Learn...</td>\n",
       "      <td>Hackensack</td>\n",
       "      <td>Sarkis &amp; Siran Gabrellian Child Care Center, B...</td>\n",
       "      <td>POINT (-74.05591 40.88239)</td>\n",
       "    </tr>\n",
       "  </tbody>\n",
       "</table>\n",
       "</div>"
      ],
      "text/plain": [
       "   OBJECTID            DIST_NAME                SCHOOLTYPE  \\\n",
       "0         1            Glen Rock  DAY CARE, TRANSITIONAL K   \n",
       "1         2  North Brunswick Twp     CHILD CARE/PRE-SCHOOL   \n",
       "2         3      Old Bridge Twp.          PRE-SCHOOL/PRE-K   \n",
       "3         4         Lakewood Twp         SPECIAL EDUCATION   \n",
       "4         5      Hackensack City                  DAY CARE   \n",
       "\n",
       "                                              SCHOOL  \\\n",
       "0               Glen Rock Cooperative Nursery School   \n",
       "1  Creative Nursery School Childcare & Learning C...   \n",
       "2                    Good Shepherd Children's Center   \n",
       "3                 TREE OF KNOWLEDGE LEARNING ACADEMY   \n",
       "4        Sarkis & Siran Gabrellian Child Care Center   \n",
       "\n",
       "                                          SCHOOLNAME             CITY  \\\n",
       "0                Glen Rock Cooperative Nusery School        Glen Rock   \n",
       "1                            Creative Nursery School  North Brunswick   \n",
       "2                    Good Shepherd Children's Center       Old Bridge   \n",
       "3                                  Tree Of Knowledge         Lakewood   \n",
       "4  Sarkis & Siran Gabrellian Child Care and Learn...       Hackensack   \n",
       "\n",
       "                                          School_Key  \\\n",
       "0       Glen Rock Cooperative Nursery School, BERGEN   \n",
       "1  Creative Nursery School Childcare & Learning C...   \n",
       "2         Good Shepherd Children's Center, MIDDLESEX   \n",
       "3          TREE OF KNOWLEDGE LEARNING ACADEMY, OCEAN   \n",
       "4  Sarkis & Siran Gabrellian Child Care Center, B...   \n",
       "\n",
       "                     geometry  \n",
       "0  POINT (-74.12435 40.96150)  \n",
       "1  POINT (-74.47660 40.44052)  \n",
       "2  POINT (-74.30568 40.40041)  \n",
       "3  POINT (-74.21612 40.09282)  \n",
       "4  POINT (-74.05591 40.88239)  "
      ]
     },
     "execution_count": 25,
     "metadata": {},
     "output_type": "execute_result"
    }
   ],
   "source": [
    "#NYCSchoolsData.info() #Too many columns --> make a smaller copy\n",
    "\n",
    "NJSchoolsDataShort = NJSchoolsData[['OBJECTID', 'DIST_NAME', 'SCHOOLTYPE', 'SCHOOL', 'SCHOOLNAME', 'CITY', 'School_Key','geometry']]\n",
    "NJSchoolsDataShort.head()"
   ]
  },
  {
   "cell_type": "code",
   "execution_count": 26,
   "id": "7f03ed0e",
   "metadata": {},
   "outputs": [
    {
     "name": "stderr",
     "output_type": "stream",
     "text": [
      "Matching Names: 100%|████████████████████████████████████████████████████████████████| 973/973 [09:29<00:00,  1.71it/s]"
     ]
    },
    {
     "name": "stdout",
     "output_type": "stream",
     "text": [
      "Done.\n"
     ]
    },
    {
     "name": "stderr",
     "output_type": "stream",
     "text": [
      "\n"
     ]
    }
   ],
   "source": [
    "# Matching the school all data file with spatial data (geojson of schools' locations) \n",
    "# by the 'School_Key' columns from 'allResultsAVG2015_23DF' to 'NYCSchoolsDataShort' dataframes\n",
    "# Matched scores later are used to find out mismatched rows  \n",
    "\n",
    "tqdm.pandas(desc=\"Matching Names\")\n",
    "\n",
    "matched_tuples = allResultsAVG2015_23DF['School_Key'].progress_apply(\n",
    "    lambda x: match_name(x, NJSchoolsDataShort['School_Key'], min_score=70))\n",
    "\n",
    "print('Done.')"
   ]
  },
  {
   "cell_type": "code",
   "execution_count": 48,
   "id": "0979f1b0",
   "metadata": {},
   "outputs": [
    {
     "name": "stdout",
     "output_type": "stream",
     "text": [
      "Appending mathes to the dataframe.\n",
      "Done.\n"
     ]
    }
   ],
   "source": [
    "# Appending matches to the dataframe 'allResultsAVG2015_23DF'\n",
    "\n",
    "print('Appending mathes to the dataframe.')\n",
    "allResultsAVG2015_23DF['matched_name'] = list(zip(*matched_tuples))[0]\n",
    "allResultsAVG2015_23DF['matched_score'] = list(zip(*matched_tuples))[1]\n",
    "print('Done.')"
   ]
  },
  {
   "cell_type": "code",
   "execution_count": 49,
   "id": "123aaa7e",
   "metadata": {},
   "outputs": [
    {
     "name": "stdout",
     "output_type": "stream",
     "text": [
      "<class 'pandas.core.frame.DataFrame'>\n",
      "Int64Index: 973 entries, 0 to 972\n",
      "Data columns (total 17 columns):\n",
      " #   Column                   Non-Null Count  Dtype  \n",
      "---  ------                   --------------  -----  \n",
      " 0   School_Key               973 non-null    object \n",
      " 1   School Name              973 non-null    object \n",
      " 2   8yrs avg Lvl 1 Math      964 non-null    float64\n",
      " 3   8yrs avg Lvl 2 Math      964 non-null    float64\n",
      " 4   8yrs avg Lvl 3 Math      964 non-null    float64\n",
      " 5   8yrs avg Lvl 4 Math      964 non-null    float64\n",
      " 6   8yrs avg Lvl 5 Math      964 non-null    float64\n",
      " 7   8yrs avg Lvl 1 ELA       965 non-null    float64\n",
      " 8   8yrs avg Lvl 2 ELA       965 non-null    float64\n",
      " 9   8yrs avg Lvl 3 ELA       965 non-null    float64\n",
      " 10  8yrs avg Lvl 4 ELA       965 non-null    float64\n",
      " 11  8yrs avg Lvl 5 ELA       965 non-null    float64\n",
      " 12  8yrs avg Lvl 5 Math+Ela  964 non-null    float64\n",
      " 13  plot Math                973 non-null    object \n",
      " 14  plot ELA                 973 non-null    object \n",
      " 15  matched_name             973 non-null    object \n",
      " 16  matched_score            973 non-null    int64  \n",
      "dtypes: float64(11), int64(1), object(5)\n",
      "memory usage: 136.8+ KB\n"
     ]
    }
   ],
   "source": [
    "allResultsAVG2015_23DF.info()"
   ]
  },
  {
   "cell_type": "code",
   "execution_count": 50,
   "id": "eba860b7",
   "metadata": {},
   "outputs": [
    {
     "data": {
      "text/plain": [
       "19"
      ]
     },
     "execution_count": 50,
     "metadata": {},
     "output_type": "execute_result"
    }
   ],
   "source": [
    "# Checking how many rows remained unmatched to see if minimum score is optimal\n",
    "\n",
    "(allResultsAVG2015_23DF['matched_score'] == -1).sum()\n",
    "\n",
    "# 19 if minimal score = 70, which is good for this case"
   ]
  },
  {
   "cell_type": "code",
   "execution_count": 35,
   "id": "502ca719",
   "metadata": {},
   "outputs": [
    {
     "name": "stdout",
     "output_type": "stream",
     "text": [
      "Saving to G:\\My Drive\\Kids\\NJ_schools_mapped\\processed_data\\NJTestResults2023_tempMatched9.csv ...\n",
      "Saved.\n"
     ]
    }
   ],
   "source": [
    "# Saving 'allResultsAVG2015_23DF' dataframe to csv file to manually check mismatches\n",
    "\n",
    "name = 'NJTestResults2023_tempMatched.csv'\n",
    "path = os.path.join(basePath, outputFolder, name)\n",
    "print(f'Saving to {path} ...')\n",
    "allResultsAVG2015_23DF.to_csv(path)\n",
    "print('Saved.')\n",
    "\n",
    "del name, path"
   ]
  },
  {
   "cell_type": "code",
   "execution_count": 55,
   "id": "84fc86df",
   "metadata": {},
   "outputs": [],
   "source": [
    "# Unmatched or matched incorrectly names identified by \n",
    "# visual observations on the map or by analysing the geoJSON in prefered software\n",
    "# allResultsAVG2015_23DF['School_Key']:NJSchoolsDataShort['School_Key']\n",
    "# in case the school turned up to be closed or the row not being a school the match changed to\n",
    "# empty '' to make sure, the row would not be merged to a school point\n",
    "\n",
    "unmatched = {\n",
    "    'HORACE MANN #6, HUDSON':'Horace Mann Community School, Hudson',\n",
    "    'JOHN M. BAILEY #12, HUDSON':'John M. Bailey Community School, HUDSON',\n",
    "    'RONALD REAGAN ACADEMY SCHOOL NO. 30, UNION':'Chessie Dentley Roberts Academy School No. 30, UNION',\n",
    "    'MERIT PREPARATORY CHARTER SCHOOL OF NEWARK, CHARTERS':'',\n",
    "    'LADY LIBERTY ACADEMY CHARTER SCHOOL, CHARTERS':'',\n",
    "    'CLASSICAL ACADEMY CHARTER SCHOOL , CHARTERS':'Classical Academy Charter School of Clifton, PASSAIC',\n",
    "    'MILLER STREET SCHOOL AT SPENCER, ESSEX':'',\n",
    "    'WINFIELD TOWNSHIP, UNION':'',\n",
    "    'CHARLES J. HUDSON SCHOOL NO. 25, UNION':'Sonia Sotomayor School No 25, UNION',\n",
    "    'JOHN WITHERSPOON MIDDLE SCHOOL, MERCER':'Princeton Middle School, MERCER',\n",
    "    'WOODROW WILSON #10, HUDSON':'Woodrow Wilson Community School, HUDSON',\n",
    "    'CALIFON ELEMENTARY, HUNTERDON':'Califon Public School, HUNTERDON',\n",
    "    'RAFAEL CORDERO MOLINA ELEMENTARY SCHOOL, CAMDEN':'Mastery Schools of Camden, Inc., HUDSON',\n",
    "    'DON BOSCO ACADEMY, PASSAIC':'',\n",
    "    'VETERANS MEMORIAL FAMILY SCHOOL, CAMDEN':'Veteran\\'S Memorial Middle School, OCEAN',\n",
    "    'CAMDENS PROMISE CHARTER SCHOOL, CHARTERS':'Camden\\'s Promise Charter School, CAMDEN',\n",
    "    'DR. MARTIN LUTHER KING MIDDLE SCHOOL, MERCER':'Dr. Martin Luther King, Jr., MERCER',\n",
    "    'GALLOWAY COMMUNITY CHARTER SCHOOL, CHARTERS':'',\n",
    "    'LINCOLN AVENUE MIDDLE SCHOOL, CUMBERLAND':'Sgt. Dominick Pilla Middle School, CUMBERLAND',\n",
    "    'QUITMAN COMMUNITY SCHOOL, ESSEX':'Quitman Street School, ESSEX',\n",
    "    'GRETTA R. OSTROVSKY MIDDLE SCHOOL, BERGEN':'',\n",
    "    'ALTERNATIVE MIDDLE & HIGH SCHOOL, SALEM':'',\n",
    "    'EAST CAMDEN MIDDLE SCHOOL, CAMDEN':'Mastery Schools Of Camden, Inc., CAMDIEN',\n",
    "    'HENRY L. BONSALL FAMILY SCHOOL, CAMDEN':'',\n",
    "    'PYNE POYNT MIDDLE SCHOOL, CAMDEN':'',\n",
    "    'STRIVE ALTERNATIVE MIDDLE SCHOOL, PASSAIC':'',\n",
    "    'PORT NORRIS MIDDLE SCHOOL, CUMBERLAND':'',\n",
    "    'EAST NEWARK PUBLIC SCHOOL, HUDSON':'East Newark Middle School, HUDSON',\n",
    "    'MONONGAHELA MIDDLE SCHOOL, GLOUCESTER':'Deptford Township Middle School, GLOUCESTER',\n",
    "    'MT HEBRON MIDDLE SCHOOL, ESSEX':'',\n",
    "    'MT. HEBRON MIDDLE SCHOOL, ESSEX':'',\n",
    "    'OXFORD STREET ELEMENTARY SCHOOL, WARREN':'Belvidere Elementary School, WARREN',\n",
    "    'CLEVELAND AVENUE SCHOOL, ESSEX':'',\n",
    "    'HAMMARSKJOLD MIDDLE SCHOOL, MIDDLESEX':'Hammarskjold Upper Elementary School, MIDDLESEX',\n",
    "    'ORANGE PREPARATORY ACADEMY, ESSEX':'Orange Preparatory Academy School of Inquiry and Innovation, ESSEX',\n",
    "    'CHARLES SUMNER ELEMENTARY SCHOOL, CAMDEN':'',\n",
    "    'DEERFIELD TOWNSHIP SCHOOL DISTRICT, CUMBERLAND':'',\n",
    "    'MIDTOWN COMMUNITY SCHOOL #8, HUDSON':'William Shemin Midtown Community School #8, HUDSON',\n",
    "    'WESTWOOD JUNIONR/SENIOR HIGH SCHOOL, BERGEN':'Westwood Regional High School, BERGEN',\n",
    "    'FRANKLIN ELEMENTARY SCHOOL, SUSSEX':'Franklin Borough School, SUSSEX',\n",
    "    'WESTWOOD JUNIOR/SENIOR HIGH SCHOOL, BERGEN':'Westwood Regional High School, BERGEN',\n",
    "    'WOODROW WILSON ELEMENTARY SCHOOL, HUDSON':'Woodrow Wilson Community School, HUDSON',\n",
    "    'FRANKLIN MIDDLE SCHOOL, SOMERSET':'Franklin Middle School at Hamilton Street Campus, SOMERSET',\n",
    "    'LANDIS MIDDLE SCHOOL, CUMBERLAND':'',\n",
    "    'SCHOOL 11 (NEWCOMERS), PASSAIC':'',\n",
    "    'FOREST STREET ELEMENTARY SCHOOL, ESSEX':'Forest Street Community Elementary School, ESSEX',\n",
    "    'DEERFIELD TOWNSHIP SCHOOL, CUMBERLAND':'Deerfield Township Elementary School, CUMBERLAND',\n",
    "    'OAKWOOD AVENUE ELEMENTARY SCHOOL, ESSEX':'Oakwood Avenue Community School, ESSEX',\n",
    "    'SCHOOL NO. 5, PASSAIC':'School #5, PASSAIC',\n",
    "    'SCHOOL #6, BERGEN':'School #6/Middle School, BERGEN',\n",
    "    'SCHOOL 6, PASSAIC':'Martin Luther King, Jr. School No. 6, PASSAIC',\n",
    "    'BEVERLY CITY SCHOOL DISTRICT, BURLINGTON':'',\n",
    "    'CAMDENS PROMISE CHARTER SCHOOL, CHARTERS':'',\n",
    "    'DEERFIELD TOWNSHIP SCHOOL DISTRICT, CUMBERLAND':'',\n",
    "    'DEERFIELD TOWNSHIP SCHOOL, CUMBERLAND':'',\n",
    "    'EASTAMPTON TOWNSHIP SCHOOL DISTRICT, BURLINGTON':'',    \n",
    "    'EISENHOWER MIDDLE SCHOOL DISTRICT, MORRIS':'',\n",
    "    'HAMPTON BOROUGH SCHOOL DISTRICT, HUNTERDON':'',\n",
    "    'HARMONY TOWNSHIP SCHOOL DISTRICT, WARREN':'',\n",
    "    'HARRINGTON PARK SCHOOL DISTRICT, BERGEN':'',\n",
    "    'KITTATINNY HIGH SCHOOL DISTRICT, SUSSEX':'',\n",
    "    'LAWNSIDE SCHOOL DISTRICT, CAMDEN':'',\n",
    "    'MAURICE RIVER TOWNSHIP SCHOOL DISTRICT, CUMBERLAND':'',\n",
    "    'MONMOUTH BEACH ELEMENTARY SCHOOL DISTRICT, MONMOUTH':'',\n",
    "    'PORT REPUBLIC SCHOOL DISTRICT, ATLANTIC':'', \n",
    "    'QUINTON TOWNSHIP SCHOOL DISTRICT, SALEM':'', \n",
    "    'RIVERTON SCHOOL DISTRICT, BURLINGTON':'', \n",
    "    'SHREWSBURY BOROUGH SCHOOL DISTRICT, MONMOUTH':'', \n",
    "    'SOMERDALE SCHOOL DISTRICT, CAMDEN':'',\n",
    "}"
   ]
  },
  {
   "cell_type": "code",
   "execution_count": 56,
   "id": "42496e6a",
   "metadata": {},
   "outputs": [],
   "source": [
    "# Replacing the erroneus matches in the 'allResultsDF_2023' dataframe\n",
    "\n",
    "def replace_values(row):\n",
    "    if row['School_Key'] in unmatched:\n",
    "        row['matched_name'] = unmatched[row['School_Key']]\n",
    "    return row\n",
    "\n",
    "allResultsAVG2015_23DF = allResultsAVG2015_23DF.apply(replace_values, axis = 1)"
   ]
  },
  {
   "cell_type": "code",
   "execution_count": 33,
   "id": "56097175",
   "metadata": {},
   "outputs": [
    {
     "name": "stdout",
     "output_type": "stream",
     "text": [
      "<class 'pandas.core.frame.DataFrame'>\n",
      "Int64Index: 973 entries, 0 to 972\n",
      "Data columns (total 17 columns):\n",
      " #   Column                   Non-Null Count  Dtype  \n",
      "---  ------                   --------------  -----  \n",
      " 0   School_Key               973 non-null    object \n",
      " 1   School Name              973 non-null    object \n",
      " 2   8yrs avg Lvl 1 Math      964 non-null    float64\n",
      " 3   8yrs avg Lvl 2 Math      964 non-null    float64\n",
      " 4   8yrs avg Lvl 3 Math      964 non-null    float64\n",
      " 5   8yrs avg Lvl 4 Math      964 non-null    float64\n",
      " 6   8yrs avg Lvl 5 Math      964 non-null    float64\n",
      " 7   8yrs avg Lvl 1 ELA       965 non-null    float64\n",
      " 8   8yrs avg Lvl 2 ELA       965 non-null    float64\n",
      " 9   8yrs avg Lvl 3 ELA       965 non-null    float64\n",
      " 10  8yrs avg Lvl 4 ELA       965 non-null    float64\n",
      " 11  8yrs avg Lvl 5 ELA       965 non-null    float64\n",
      " 12  8yrs avg Lvl 5 Math+Ela  964 non-null    float64\n",
      " 13  plot Math                973 non-null    object \n",
      " 14  plot ELA                 973 non-null    object \n",
      " 15  matched_name             973 non-null    object \n",
      " 16  matched_score            973 non-null    int64  \n",
      "dtypes: float64(11), int64(1), object(5)\n",
      "memory usage: 136.8+ KB\n"
     ]
    }
   ],
   "source": [
    "allResultsAVG2015_23DF.info()"
   ]
  },
  {
   "cell_type": "code",
   "execution_count": 53,
   "id": "327548be",
   "metadata": {},
   "outputs": [
    {
     "data": {
      "text/html": [
       "<div>\n",
       "<style scoped>\n",
       "    .dataframe tbody tr th:only-of-type {\n",
       "        vertical-align: middle;\n",
       "    }\n",
       "\n",
       "    .dataframe tbody tr th {\n",
       "        vertical-align: top;\n",
       "    }\n",
       "\n",
       "    .dataframe thead th {\n",
       "        text-align: right;\n",
       "    }\n",
       "</style>\n",
       "<table border=\"1\" class=\"dataframe\">\n",
       "  <thead>\n",
       "    <tr style=\"text-align: right;\">\n",
       "      <th></th>\n",
       "      <th>School_Key</th>\n",
       "      <th>School Name</th>\n",
       "      <th>8yrs avg Lvl 1 Math</th>\n",
       "      <th>8yrs avg Lvl 2 Math</th>\n",
       "      <th>8yrs avg Lvl 3 Math</th>\n",
       "      <th>8yrs avg Lvl 4 Math</th>\n",
       "      <th>8yrs avg Lvl 5 Math</th>\n",
       "      <th>8yrs avg Lvl 1 ELA</th>\n",
       "      <th>8yrs avg Lvl 2 ELA</th>\n",
       "      <th>8yrs avg Lvl 3 ELA</th>\n",
       "      <th>8yrs avg Lvl 4 ELA</th>\n",
       "      <th>8yrs avg Lvl 5 ELA</th>\n",
       "      <th>8yrs avg Lvl 5 Math+Ela</th>\n",
       "      <th>plot Math</th>\n",
       "      <th>plot ELA</th>\n",
       "      <th>matched_name</th>\n",
       "      <th>matched_score</th>\n",
       "    </tr>\n",
       "  </thead>\n",
       "  <tbody>\n",
       "    <tr>\n",
       "      <th>0</th>\n",
       "      <td>ABINGTON AVENEU SCHOOL, ESSEX</td>\n",
       "      <td>ABINGTON AVENEU SCHOOL</td>\n",
       "      <td>0.157</td>\n",
       "      <td>0.240</td>\n",
       "      <td>0.282</td>\n",
       "      <td>0.268</td>\n",
       "      <td>0.052</td>\n",
       "      <td>0.162</td>\n",
       "      <td>0.130</td>\n",
       "      <td>0.218</td>\n",
       "      <td>0.333</td>\n",
       "      <td>0.158</td>\n",
       "      <td>0.210</td>\n",
       "      <td>iVBORw0KGgoAAAANSUhEUgAAAdQAAAGGCAYAAADCYXCQAA...</td>\n",
       "      <td>iVBORw0KGgoAAAANSUhEUgAAAdQAAAGGCAYAAADCYXCQAA...</td>\n",
       "      <td>Abington Avenue School, ESSEX</td>\n",
       "      <td>96</td>\n",
       "    </tr>\n",
       "    <tr>\n",
       "      <th>1</th>\n",
       "      <td>ABINGTON AVENUE SCHOOL, ESSEX</td>\n",
       "      <td>ABINGTON AVENUE SCHOOL</td>\n",
       "      <td>0.221</td>\n",
       "      <td>0.298</td>\n",
       "      <td>0.266</td>\n",
       "      <td>0.200</td>\n",
       "      <td>0.015</td>\n",
       "      <td>0.156</td>\n",
       "      <td>0.176</td>\n",
       "      <td>0.263</td>\n",
       "      <td>0.340</td>\n",
       "      <td>0.065</td>\n",
       "      <td>0.080</td>\n",
       "      <td>iVBORw0KGgoAAAANSUhEUgAAAdQAAAGGCAYAAADCYXCQAA...</td>\n",
       "      <td>iVBORw0KGgoAAAANSUhEUgAAAdQAAAGGCAYAAADCYXCQAA...</td>\n",
       "      <td>Abington Avenue School, ESSEX</td>\n",
       "      <td>100</td>\n",
       "    </tr>\n",
       "    <tr>\n",
       "      <th>14</th>\n",
       "      <td>ALFRED S. FAUST MIDDLE SCHOOL, BERGEN</td>\n",
       "      <td>ALFRED S. FAUST MIDDLE SCHOOL</td>\n",
       "      <td>0.152</td>\n",
       "      <td>0.265</td>\n",
       "      <td>0.256</td>\n",
       "      <td>0.261</td>\n",
       "      <td>0.066</td>\n",
       "      <td>0.032</td>\n",
       "      <td>0.042</td>\n",
       "      <td>0.167</td>\n",
       "      <td>0.414</td>\n",
       "      <td>0.344</td>\n",
       "      <td>0.411</td>\n",
       "      <td>iVBORw0KGgoAAAANSUhEUgAAAhkAAAGGCAYAAADWwpOAAA...</td>\n",
       "      <td>iVBORw0KGgoAAAANSUhEUgAAAhkAAAGGCAYAAADWwpOAAA...</td>\n",
       "      <td>Alfred S. Faust Middle School, BERGEN</td>\n",
       "      <td>100</td>\n",
       "    </tr>\n",
       "    <tr>\n",
       "      <th>15</th>\n",
       "      <td>ALFRED S. FAUST, BERGEN</td>\n",
       "      <td>ALFRED S. FAUST</td>\n",
       "      <td>0.116</td>\n",
       "      <td>0.211</td>\n",
       "      <td>0.311</td>\n",
       "      <td>0.309</td>\n",
       "      <td>0.053</td>\n",
       "      <td>0.066</td>\n",
       "      <td>0.104</td>\n",
       "      <td>0.220</td>\n",
       "      <td>0.385</td>\n",
       "      <td>0.225</td>\n",
       "      <td>0.278</td>\n",
       "      <td>iVBORw0KGgoAAAANSUhEUgAAAakAAAGGCAYAAADB1n64AA...</td>\n",
       "      <td>iVBORw0KGgoAAAANSUhEUgAAAakAAAGGCAYAAADB1n64AA...</td>\n",
       "      <td>Alfred S. Faust Middle School, BERGEN</td>\n",
       "      <td>75</td>\n",
       "    </tr>\n",
       "    <tr>\n",
       "      <th>22</th>\n",
       "      <td>ALTERNATIVE MIDDLE &amp; HIGH SCHOOL, SALEM</td>\n",
       "      <td>ALTERNATIVE MIDDLE &amp; HIGH SCHOOL</td>\n",
       "      <td>NaN</td>\n",
       "      <td>NaN</td>\n",
       "      <td>NaN</td>\n",
       "      <td>NaN</td>\n",
       "      <td>NaN</td>\n",
       "      <td>NaN</td>\n",
       "      <td>NaN</td>\n",
       "      <td>NaN</td>\n",
       "      <td>NaN</td>\n",
       "      <td>NaN</td>\n",
       "      <td>NaN</td>\n",
       "      <td>iVBORw0KGgoAAAANSUhEUgAAAiwAAAGGCAYAAABYGNr8AA...</td>\n",
       "      <td>iVBORw0KGgoAAAANSUhEUgAAAiwAAAGGCAYAAABYGNr8AA...</td>\n",
       "      <td></td>\n",
       "      <td>79</td>\n",
       "    </tr>\n",
       "    <tr>\n",
       "      <th>...</th>\n",
       "      <td>...</td>\n",
       "      <td>...</td>\n",
       "      <td>...</td>\n",
       "      <td>...</td>\n",
       "      <td>...</td>\n",
       "      <td>...</td>\n",
       "      <td>...</td>\n",
       "      <td>...</td>\n",
       "      <td>...</td>\n",
       "      <td>...</td>\n",
       "      <td>...</td>\n",
       "      <td>...</td>\n",
       "      <td>...</td>\n",
       "      <td>...</td>\n",
       "      <td>...</td>\n",
       "      <td>...</td>\n",
       "      <td>...</td>\n",
       "    </tr>\n",
       "    <tr>\n",
       "      <th>960</th>\n",
       "      <td>WOODROW WILSON COMMUNITY SCHOOL, HUDSON</td>\n",
       "      <td>WOODROW WILSON COMMUNITY SCHOOL</td>\n",
       "      <td>0.139</td>\n",
       "      <td>0.237</td>\n",
       "      <td>0.364</td>\n",
       "      <td>0.237</td>\n",
       "      <td>0.023</td>\n",
       "      <td>0.066</td>\n",
       "      <td>0.098</td>\n",
       "      <td>0.215</td>\n",
       "      <td>0.445</td>\n",
       "      <td>0.176</td>\n",
       "      <td>0.199</td>\n",
       "      <td>iVBORw0KGgoAAAANSUhEUgAAAlwAAAGGCAYAAACuUV9kAA...</td>\n",
       "      <td>iVBORw0KGgoAAAANSUhEUgAAAlwAAAGGCAYAAACuUV9kAA...</td>\n",
       "      <td>Woodrow Wilson Community School, HUDSON</td>\n",
       "      <td>100</td>\n",
       "    </tr>\n",
       "    <tr>\n",
       "      <th>961</th>\n",
       "      <td>WOODROW WILSON ELEMENTARY SCHOOL, HUDSON</td>\n",
       "      <td>WOODROW WILSON ELEMENTARY SCHOOL</td>\n",
       "      <td>0.002</td>\n",
       "      <td>0.043</td>\n",
       "      <td>0.268</td>\n",
       "      <td>0.581</td>\n",
       "      <td>0.106</td>\n",
       "      <td>0.004</td>\n",
       "      <td>0.000</td>\n",
       "      <td>0.050</td>\n",
       "      <td>0.360</td>\n",
       "      <td>0.586</td>\n",
       "      <td>0.691</td>\n",
       "      <td>iVBORw0KGgoAAAANSUhEUgAAAmIAAAGGCAYAAADYa+3vAA...</td>\n",
       "      <td>iVBORw0KGgoAAAANSUhEUgAAAmIAAAGGCAYAAADYa+3vAA...</td>\n",
       "      <td>Woodrow Wilson Community School, HUDSON</td>\n",
       "      <td>86</td>\n",
       "    </tr>\n",
       "    <tr>\n",
       "      <th>970</th>\n",
       "      <td>YOUNG MEN'S ACADEMY, PASSAIC</td>\n",
       "      <td>YOUNG MEN'S ACADEMY</td>\n",
       "      <td>0.375</td>\n",
       "      <td>0.375</td>\n",
       "      <td>0.125</td>\n",
       "      <td>0.125</td>\n",
       "      <td>0.000</td>\n",
       "      <td>0.208</td>\n",
       "      <td>0.292</td>\n",
       "      <td>0.208</td>\n",
       "      <td>0.271</td>\n",
       "      <td>0.021</td>\n",
       "      <td>0.021</td>\n",
       "      <td>iVBORw0KGgoAAAANSUhEUgAAAcgAAAGGCAYAAAD/8xH2AA...</td>\n",
       "      <td>iVBORw0KGgoAAAANSUhEUgAAAcgAAAGGCAYAAAD/8xH2AA...</td>\n",
       "      <td>Young Men's Academy, PASSAIC</td>\n",
       "      <td>100</td>\n",
       "    </tr>\n",
       "    <tr>\n",
       "      <th>971</th>\n",
       "      <td>YOUNG MENS ACADEMY, PASSAIC</td>\n",
       "      <td>YOUNG MENS ACADEMY</td>\n",
       "      <td>0.500</td>\n",
       "      <td>0.294</td>\n",
       "      <td>0.147</td>\n",
       "      <td>0.059</td>\n",
       "      <td>0.000</td>\n",
       "      <td>0.522</td>\n",
       "      <td>0.391</td>\n",
       "      <td>0.043</td>\n",
       "      <td>0.043</td>\n",
       "      <td>0.000</td>\n",
       "      <td>0.000</td>\n",
       "      <td>iVBORw0KGgoAAAANSUhEUgAAAcUAAAGGCAYAAAAKDZpGAA...</td>\n",
       "      <td>iVBORw0KGgoAAAANSUhEUgAAAcUAAAGGCAYAAAAKDZpGAA...</td>\n",
       "      <td>Young Men's Academy, PASSAIC</td>\n",
       "      <td>94</td>\n",
       "    </tr>\n",
       "    <tr>\n",
       "      <th>972</th>\n",
       "      <td>YOUTH ENGAGED IN SUCCESS, PASSAIC</td>\n",
       "      <td>YOUTH ENGAGED IN SUCCESS</td>\n",
       "      <td>NaN</td>\n",
       "      <td>NaN</td>\n",
       "      <td>NaN</td>\n",
       "      <td>NaN</td>\n",
       "      <td>NaN</td>\n",
       "      <td>NaN</td>\n",
       "      <td>NaN</td>\n",
       "      <td>NaN</td>\n",
       "      <td>NaN</td>\n",
       "      <td>NaN</td>\n",
       "      <td>NaN</td>\n",
       "      <td>iVBORw0KGgoAAAANSUhEUgAAAfQAAAGGCAYAAACNPHNAAA...</td>\n",
       "      <td>iVBORw0KGgoAAAANSUhEUgAAAfQAAAGGCAYAAACNPHNAAA...</td>\n",
       "      <td></td>\n",
       "      <td>-1</td>\n",
       "    </tr>\n",
       "  </tbody>\n",
       "</table>\n",
       "<p>299 rows × 17 columns</p>\n",
       "</div>"
      ],
      "text/plain": [
       "                                   School_Key  \\\n",
       "0               ABINGTON AVENEU SCHOOL, ESSEX   \n",
       "1               ABINGTON AVENUE SCHOOL, ESSEX   \n",
       "14      ALFRED S. FAUST MIDDLE SCHOOL, BERGEN   \n",
       "15                    ALFRED S. FAUST, BERGEN   \n",
       "22    ALTERNATIVE MIDDLE & HIGH SCHOOL, SALEM   \n",
       "..                                        ...   \n",
       "960   WOODROW WILSON COMMUNITY SCHOOL, HUDSON   \n",
       "961  WOODROW WILSON ELEMENTARY SCHOOL, HUDSON   \n",
       "970              YOUNG MEN'S ACADEMY, PASSAIC   \n",
       "971               YOUNG MENS ACADEMY, PASSAIC   \n",
       "972         YOUTH ENGAGED IN SUCCESS, PASSAIC   \n",
       "\n",
       "                          School Name  8yrs avg Lvl 1 Math  \\\n",
       "0              ABINGTON AVENEU SCHOOL                0.157   \n",
       "1              ABINGTON AVENUE SCHOOL                0.221   \n",
       "14      ALFRED S. FAUST MIDDLE SCHOOL                0.152   \n",
       "15                    ALFRED S. FAUST                0.116   \n",
       "22   ALTERNATIVE MIDDLE & HIGH SCHOOL                  NaN   \n",
       "..                                ...                  ...   \n",
       "960   WOODROW WILSON COMMUNITY SCHOOL                0.139   \n",
       "961  WOODROW WILSON ELEMENTARY SCHOOL                0.002   \n",
       "970               YOUNG MEN'S ACADEMY                0.375   \n",
       "971                YOUNG MENS ACADEMY                0.500   \n",
       "972          YOUTH ENGAGED IN SUCCESS                  NaN   \n",
       "\n",
       "     8yrs avg Lvl 2 Math  8yrs avg Lvl 3 Math  8yrs avg Lvl 4 Math  \\\n",
       "0                  0.240                0.282                0.268   \n",
       "1                  0.298                0.266                0.200   \n",
       "14                 0.265                0.256                0.261   \n",
       "15                 0.211                0.311                0.309   \n",
       "22                   NaN                  NaN                  NaN   \n",
       "..                   ...                  ...                  ...   \n",
       "960                0.237                0.364                0.237   \n",
       "961                0.043                0.268                0.581   \n",
       "970                0.375                0.125                0.125   \n",
       "971                0.294                0.147                0.059   \n",
       "972                  NaN                  NaN                  NaN   \n",
       "\n",
       "     8yrs avg Lvl 5 Math  8yrs avg Lvl 1 ELA  8yrs avg Lvl 2 ELA  \\\n",
       "0                  0.052               0.162               0.130   \n",
       "1                  0.015               0.156               0.176   \n",
       "14                 0.066               0.032               0.042   \n",
       "15                 0.053               0.066               0.104   \n",
       "22                   NaN                 NaN                 NaN   \n",
       "..                   ...                 ...                 ...   \n",
       "960                0.023               0.066               0.098   \n",
       "961                0.106               0.004               0.000   \n",
       "970                0.000               0.208               0.292   \n",
       "971                0.000               0.522               0.391   \n",
       "972                  NaN                 NaN                 NaN   \n",
       "\n",
       "     8yrs avg Lvl 3 ELA  8yrs avg Lvl 4 ELA  8yrs avg Lvl 5 ELA  \\\n",
       "0                 0.218               0.333               0.158   \n",
       "1                 0.263               0.340               0.065   \n",
       "14                0.167               0.414               0.344   \n",
       "15                0.220               0.385               0.225   \n",
       "22                  NaN                 NaN                 NaN   \n",
       "..                  ...                 ...                 ...   \n",
       "960               0.215               0.445               0.176   \n",
       "961               0.050               0.360               0.586   \n",
       "970               0.208               0.271               0.021   \n",
       "971               0.043               0.043               0.000   \n",
       "972                 NaN                 NaN                 NaN   \n",
       "\n",
       "     8yrs avg Lvl 5 Math+Ela  \\\n",
       "0                      0.210   \n",
       "1                      0.080   \n",
       "14                     0.411   \n",
       "15                     0.278   \n",
       "22                       NaN   \n",
       "..                       ...   \n",
       "960                    0.199   \n",
       "961                    0.691   \n",
       "970                    0.021   \n",
       "971                    0.000   \n",
       "972                      NaN   \n",
       "\n",
       "                                             plot Math  \\\n",
       "0    iVBORw0KGgoAAAANSUhEUgAAAdQAAAGGCAYAAADCYXCQAA...   \n",
       "1    iVBORw0KGgoAAAANSUhEUgAAAdQAAAGGCAYAAADCYXCQAA...   \n",
       "14   iVBORw0KGgoAAAANSUhEUgAAAhkAAAGGCAYAAADWwpOAAA...   \n",
       "15   iVBORw0KGgoAAAANSUhEUgAAAakAAAGGCAYAAADB1n64AA...   \n",
       "22   iVBORw0KGgoAAAANSUhEUgAAAiwAAAGGCAYAAABYGNr8AA...   \n",
       "..                                                 ...   \n",
       "960  iVBORw0KGgoAAAANSUhEUgAAAlwAAAGGCAYAAACuUV9kAA...   \n",
       "961  iVBORw0KGgoAAAANSUhEUgAAAmIAAAGGCAYAAADYa+3vAA...   \n",
       "970  iVBORw0KGgoAAAANSUhEUgAAAcgAAAGGCAYAAAD/8xH2AA...   \n",
       "971  iVBORw0KGgoAAAANSUhEUgAAAcUAAAGGCAYAAAAKDZpGAA...   \n",
       "972  iVBORw0KGgoAAAANSUhEUgAAAfQAAAGGCAYAAACNPHNAAA...   \n",
       "\n",
       "                                              plot ELA  \\\n",
       "0    iVBORw0KGgoAAAANSUhEUgAAAdQAAAGGCAYAAADCYXCQAA...   \n",
       "1    iVBORw0KGgoAAAANSUhEUgAAAdQAAAGGCAYAAADCYXCQAA...   \n",
       "14   iVBORw0KGgoAAAANSUhEUgAAAhkAAAGGCAYAAADWwpOAAA...   \n",
       "15   iVBORw0KGgoAAAANSUhEUgAAAakAAAGGCAYAAADB1n64AA...   \n",
       "22   iVBORw0KGgoAAAANSUhEUgAAAiwAAAGGCAYAAABYGNr8AA...   \n",
       "..                                                 ...   \n",
       "960  iVBORw0KGgoAAAANSUhEUgAAAlwAAAGGCAYAAACuUV9kAA...   \n",
       "961  iVBORw0KGgoAAAANSUhEUgAAAmIAAAGGCAYAAADYa+3vAA...   \n",
       "970  iVBORw0KGgoAAAANSUhEUgAAAcgAAAGGCAYAAAD/8xH2AA...   \n",
       "971  iVBORw0KGgoAAAANSUhEUgAAAcUAAAGGCAYAAAAKDZpGAA...   \n",
       "972  iVBORw0KGgoAAAANSUhEUgAAAfQAAAGGCAYAAACNPHNAAA...   \n",
       "\n",
       "                                matched_name  matched_score  \n",
       "0              Abington Avenue School, ESSEX             96  \n",
       "1              Abington Avenue School, ESSEX            100  \n",
       "14     Alfred S. Faust Middle School, BERGEN            100  \n",
       "15     Alfred S. Faust Middle School, BERGEN             75  \n",
       "22                                                       79  \n",
       "..                                       ...            ...  \n",
       "960  Woodrow Wilson Community School, HUDSON            100  \n",
       "961  Woodrow Wilson Community School, HUDSON             86  \n",
       "970             Young Men's Academy, PASSAIC            100  \n",
       "971             Young Men's Academy, PASSAIC             94  \n",
       "972                                                      -1  \n",
       "\n",
       "[299 rows x 17 columns]"
      ]
     },
     "execution_count": 53,
     "metadata": {},
     "output_type": "execute_result"
    }
   ],
   "source": [
    "# Checking if there are rows matched to the same school and what are those rows\n",
    "\n",
    "df_duplicates = allResultsAVG2015_23DF.groupby('matched_name').filter(lambda x: len(x) > 1)"
   ]
  },
  {
   "cell_type": "code",
   "execution_count": 59,
   "id": "6aecbbb8",
   "metadata": {},
   "outputs": [
    {
     "name": "stdout",
     "output_type": "stream",
     "text": [
      "Saving to G:\\My Drive\\Kids\\NJ_schools_mapped\\processed_data\\NJduplicates check.csv ...\n",
      "Saved.\n"
     ]
    }
   ],
   "source": [
    "# Saving the duplicates for visual checking\n",
    "\n",
    "name = 'NJduplicates check.csv'\n",
    "path = os.path.join(basePath, outputFolder, name)\n",
    "print(f'Saving to {path} ...')\n",
    "df_duplicates.to_csv(path)\n",
    "print('Saved.')\n",
    "del name, path\n",
    "\n",
    "# A visual inspection revealed that some school names are inconsistently spelled or \n",
    "# contain errors in the records across different years. As a result, these discrepancies created\n",
    "# separate entries in the allResultsAVG2015_23DF dataframe. Consequently, this has led to certain\n",
    "# schools having multiple overlapping points on the map, with pop-ups displaying data for \n",
    "# different years.\n",
    "# While this may affect the visual clarity and completeness of the map, the current \n",
    "# representation still provides a comprehensive overview of the academic proficiency of middle \n",
    "# schools in New Jersey. Further data cleaning to eliminate this issue required spending more \n",
    "# time and effort which was unesessery for the purpose of the project."
   ]
  },
  {
   "cell_type": "code",
   "execution_count": 57,
   "id": "ec4b6d11",
   "metadata": {
    "scrolled": true
   },
   "outputs": [
    {
     "name": "stdout",
     "output_type": "stream",
     "text": [
      "Merging dataframes.\n",
      "Saving data to GeoJSON file G:\\My Drive\\Kids\\NJ_schools_mapped\\processed_data\\NJpublicSchoolsData.geojson...\n",
      "Saved.\n"
     ]
    }
   ],
   "source": [
    "# Merging dataframes based on the matched name - county key\n",
    "\n",
    "print('Merging dataframes.')\n",
    "schoolsData_mappable = pd.merge(NJSchoolsDataShort,allResultsAVG2015_23DF, left_on= ['School_Key'], right_on=['matched_name'], suffixes=('', '_drop'))\n",
    "schoolsData_mappable = schoolsData_mappable.loc[:, ~schoolsData_mappable.columns.str.endswith('_drop')]\n",
    "data_Name = 'NJpublicSchoolsData.geojson'\n",
    "data_Path = os.path.join(basePath,outputFolder, data_Name)\n",
    "\n",
    "print(f\"Saving data to GeoJSON file {data_Path}...\")\n",
    "schoolsData_mappable.to_file(data_Path, driver=\"GeoJSON\")\n",
    "\n",
    "print('Saved.')\n",
    "del data_Name, data_Path"
   ]
  },
  {
   "cell_type": "code",
   "execution_count": 58,
   "id": "019d7d9d",
   "metadata": {},
   "outputs": [
    {
     "name": "stdout",
     "output_type": "stream",
     "text": [
      "<class 'geopandas.geodataframe.GeoDataFrame'>\n",
      "Int64Index: 1025 entries, 0 to 1024\n",
      "Data columns (total 24 columns):\n",
      " #   Column                   Non-Null Count  Dtype   \n",
      "---  ------                   --------------  -----   \n",
      " 0   OBJECTID                 1025 non-null   int64   \n",
      " 1   DIST_NAME                1025 non-null   object  \n",
      " 2   SCHOOLTYPE               1008 non-null   object  \n",
      " 3   SCHOOL                   1025 non-null   object  \n",
      " 4   SCHOOLNAME               1025 non-null   object  \n",
      " 5   CITY                     1025 non-null   object  \n",
      " 6   School_Key               1025 non-null   object  \n",
      " 7   geometry                 1025 non-null   geometry\n",
      " 8   School Name              1025 non-null   object  \n",
      " 9   8yrs avg Lvl 1 Math      1021 non-null   float64 \n",
      " 10  8yrs avg Lvl 2 Math      1021 non-null   float64 \n",
      " 11  8yrs avg Lvl 3 Math      1021 non-null   float64 \n",
      " 12  8yrs avg Lvl 4 Math      1021 non-null   float64 \n",
      " 13  8yrs avg Lvl 5 Math      1021 non-null   float64 \n",
      " 14  8yrs avg Lvl 1 ELA       1022 non-null   float64 \n",
      " 15  8yrs avg Lvl 2 ELA       1022 non-null   float64 \n",
      " 16  8yrs avg Lvl 3 ELA       1022 non-null   float64 \n",
      " 17  8yrs avg Lvl 4 ELA       1022 non-null   float64 \n",
      " 18  8yrs avg Lvl 5 ELA       1022 non-null   float64 \n",
      " 19  8yrs avg Lvl 5 Math+Ela  1021 non-null   float64 \n",
      " 20  plot Math                1025 non-null   object  \n",
      " 21  plot ELA                 1025 non-null   object  \n",
      " 22  matched_name             1025 non-null   object  \n",
      " 23  matched_score            1025 non-null   int64   \n",
      "dtypes: float64(11), geometry(1), int64(2), object(10)\n",
      "memory usage: 200.2+ KB\n"
     ]
    }
   ],
   "source": [
    "schoolsData_mappable.info()"
   ]
  },
  {
   "cell_type": "code",
   "execution_count": null,
   "id": "3b73f91b",
   "metadata": {},
   "outputs": [],
   "source": []
  }
 ],
 "metadata": {
  "kernelspec": {
   "display_name": "Python 3 (ipykernel)",
   "language": "python",
   "name": "python3"
  },
  "language_info": {
   "codemirror_mode": {
    "name": "ipython",
    "version": 3
   },
   "file_extension": ".py",
   "mimetype": "text/x-python",
   "name": "python",
   "nbconvert_exporter": "python",
   "pygments_lexer": "ipython3",
   "version": "3.7.12"
  }
 },
 "nbformat": 4,
 "nbformat_minor": 5
}
