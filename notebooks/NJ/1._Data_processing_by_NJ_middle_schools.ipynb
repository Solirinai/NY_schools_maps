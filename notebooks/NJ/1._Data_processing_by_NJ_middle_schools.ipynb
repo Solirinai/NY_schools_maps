{
 "cells": [
  {
   "cell_type": "markdown",
   "id": "888b8e0c",
   "metadata": {},
   "source": [
    "# Analysis of NJ public schools results in ELA and math grades 6-8."
   ]
  },
  {
   "cell_type": "markdown",
   "id": "3e1cc970-ea50-4b77-a0bc-3b7d63c9b1f0",
   "metadata": {},
   "source": [
    "<span style=\"color: red;\">**If kernel can't connect to server again run command:**\n",
    "*netsh winsock reset*<span>"
   ]
  },
  {
   "cell_type": "markdown",
   "id": "dc01637a",
   "metadata": {},
   "source": [
    "<a id=\"TOC\"></a> \n",
    "## Table of Contents\n",
    "1. [Data sources and definitions](#data)\n",
    "2. [Imports: modules](#modules)\n",
    "3. [Read and prepare data](#read)\n",
    "4. [Best middle schools by math](#best)\n",
    "5. [Maps of middle schools by math results](#maps) \n"
   ]
  },
  {
   "cell_type": "markdown",
   "id": "00c1d9de-c41d-4577-8a53-84356c5ebcc4",
   "metadata": {},
   "source": [
    "<a id=\"data\"></a> \n",
    "#### Data:\n",
    "1. Data New Jersey Student Learning Assessments (NJSLA) results 2015-2023 for grades 6-8:\n",
    "<br>State of New Jersey, Department of Education:\n",
    "Statewide Assessment Reports\n",
    "<br>https://www.nj.gov/education/assessment/results/reports/\n",
    "2. NJ schools locations: NJGIN Open Data <br>\n",
    "https://njogis-newjersey.opendata.arcgis.com/datasets/d8223610010a4c3887cfb88b904545ff/explore\n",
    "3. School districts: NJGIN Open Data \n",
    "<br>https://njogis-newjersey.opendata.arcgis.com/datasets/ca144194df66491d83b8f8bf338e0172/explore"
   ]
  },
  {
   "cell_type": "markdown",
   "id": "c53d80ad",
   "metadata": {},
   "source": [
    "####  Performance levels for New Jersey Student Learning Standards for English Language Arts and Math  \n",
    "\n",
    "**Level 1**: Did Not Yet Meet Expectations \n",
    "\n",
    "**Level 2**: Partially Met Expectations \n",
    "\n",
    "**Level 3**: Approached Expectations  \n",
    "\n",
    "**Level 4**: Met Expectations  \n",
    "\n",
    "**Level 5**: Exceeded Expectations  \n",
    "\n",
    "*Source: New Jersey Assessments Resource Center, 2022, https://nj.mypearsonsupport.com/resources/reporting/NJSLA_Score_Interpretation_Guide_Spring2022.pdf*"
   ]
  },
  {
   "cell_type": "markdown",
   "id": "7a5aca68",
   "metadata": {},
   "source": [
    "## Questions\n",
    "*1. How the test results changed?*\n",
    "<br>Compare last year test results in a school with the school 10-year average as percentage of average:\n",
    "<br> school_change = (school_current_year - school_10year_average)/school_10year_average\n",
    "<br> citywide_change = (city_current_year - city_10year_average)/city_10year_average\n",
    "<br> relative_school_change = school_change - citywide_change\n",
    "<br><br>\n",
    "*2. How good the school is?* \n",
    "<br>Last three testing period results (2019, 2022, 2023) are different for some schools: due to COVID disruptions, testing procedures changes, in Destrict 15 due to admission rules changed. Therefore average 10 years scores do not reflect well schools situation now. Results for these 3 last testing years are teken instead.\n",
    "<br><br>\n",
    "*3. Is the school citywide or borowide?*\n",
    "<br><br>\n",
    "*4. Diversity?*\n",
    "<br><br>\n",
    "*5. Size?*"
   ]
  },
  {
   "cell_type": "markdown",
   "id": "b7250733",
   "metadata": {},
   "source": [
    "<a id=\"modules\"></a> \n",
    "#### Imports: modules"
   ]
  },
  {
   "cell_type": "raw",
   "id": "31f5f457",
   "metadata": {},
   "source": [
    "pip install pandas openpyxl"
   ]
  },
  {
   "cell_type": "code",
   "execution_count": 1,
   "id": "69e42758",
   "metadata": {},
   "outputs": [
    {
     "name": "stderr",
     "output_type": "stream",
     "text": [
      "C:\\Users\\Student\\anaconda3\\envs\\AC37\\lib\\site-packages\\fuzzywuzzy\\fuzz.py:11: UserWarning: Using slow pure-python SequenceMatcher. Install python-Levenshtein to remove this warning\n",
      "  warnings.warn('Using slow pure-python SequenceMatcher. Install python-Levenshtein to remove this warning')\n"
     ]
    }
   ],
   "source": [
    "import os\n",
    "import pandas as pd\n",
    "import geopandas as gpd\n",
    "# import folium\n",
    "import matplotlib.pyplot as plt\n",
    "import base64\n",
    "from io import BytesIO\n",
    "import math\n",
    "from tqdm import tqdm\n",
    "from utils import match_name, create_plot, process_schools, create_chart\n",
    "\n",
    "pd.set_option('display.float_format', '{:.3f}'.format)"
   ]
  },
  {
   "cell_type": "raw",
   "id": "c5dc1095",
   "metadata": {},
   "source": [
    "#To reload uitls if something changed\n",
    "import utils\n",
    "from importlib import reload\n",
    "reload(utils)"
   ]
  },
  {
   "cell_type": "markdown",
   "id": "4ca0a9e3",
   "metadata": {},
   "source": [
    "<a id=\"read\"></a> \n",
    "#### Read data"
   ]
  },
  {
   "cell_type": "code",
   "execution_count": 2,
   "id": "7daca94a",
   "metadata": {},
   "outputs": [],
   "source": [
    "basePath = r\"G:\\My Drive\\Kids\\NJ_schools_mapped\"\n",
    "dataFolder = r\"raw_data\"\n",
    "outputFolder = r\"processed_data\""
   ]
  },
  {
   "cell_type": "markdown",
   "id": "abd48deb",
   "metadata": {},
   "source": [
    "The excel files downloaded from NJ DOE were cleaned from 'DFG' columns and case in columns headers was unified."
   ]
  },
  {
   "cell_type": "code",
   "execution_count": 128,
   "id": "ce078287",
   "metadata": {},
   "outputs": [
    {
     "name": "stderr",
     "output_type": "stream",
     "text": [
      "\r",
      "Processing files:   0%|                                                                         | 0/46 [00:00<?, ?it/s]"
     ]
    },
    {
     "name": "stdout",
     "output_type": "stream",
     "text": [
      "MAT06 NJSLA DATA 2022-2023.xlsx\n"
     ]
    },
    {
     "name": "stderr",
     "output_type": "stream",
     "text": [
      "C:\\Users\\Student\\anaconda3\\envs\\AC37\\lib\\site-packages\\ipykernel_launcher.py:24: SettingWithCopyWarning: \n",
      "A value is trying to be set on a copy of a slice from a DataFrame.\n",
      "Try using .loc[row_indexer,col_indexer] = value instead\n",
      "\n",
      "See the caveats in the documentation: https://pandas.pydata.org/pandas-docs/stable/user_guide/indexing.html#returning-a-view-versus-a-copy\n",
      "C:\\Users\\Student\\anaconda3\\envs\\AC37\\lib\\site-packages\\ipykernel_launcher.py:27: SettingWithCopyWarning: \n",
      "A value is trying to be set on a copy of a slice from a DataFrame.\n",
      "Try using .loc[row_indexer,col_indexer] = value instead\n",
      "\n",
      "See the caveats in the documentation: https://pandas.pydata.org/pandas-docs/stable/user_guide/indexing.html#returning-a-view-versus-a-copy\n",
      "C:\\Users\\Student\\anaconda3\\envs\\AC37\\lib\\site-packages\\ipykernel_launcher.py:32: SettingWithCopyWarning: \n",
      "A value is trying to be set on a copy of a slice from a DataFrame.\n",
      "Try using .loc[row_indexer,col_indexer] = value instead\n",
      "\n",
      "See the caveats in the documentation: https://pandas.pydata.org/pandas-docs/stable/user_guide/indexing.html#returning-a-view-versus-a-copy\n",
      "\r",
      "Processing files:  13%|████████▍                                                        | 6/46 [00:13<01:30,  2.26s/it]"
     ]
    },
    {
     "name": "stdout",
     "output_type": "stream",
     "text": [
      "MAT07 NJSLA DATA 2022-2023.xlsx\n"
     ]
    },
    {
     "name": "stderr",
     "output_type": "stream",
     "text": [
      "\r",
      "Processing files:  15%|█████████▉                                                       | 7/46 [00:20<02:03,  3.17s/it]"
     ]
    },
    {
     "name": "stdout",
     "output_type": "stream",
     "text": [
      "MAT08 NJSLA DATA 2022-2023.xlsx\n"
     ]
    },
    {
     "name": "stderr",
     "output_type": "stream",
     "text": [
      "\r",
      "Processing files:  17%|███████████▎                                                     | 8/46 [00:25<02:13,  3.53s/it]"
     ]
    },
    {
     "name": "stdout",
     "output_type": "stream",
     "text": [
      "MAT06 NJSLA DATA 2021-2022.xlsx\n"
     ]
    },
    {
     "name": "stderr",
     "output_type": "stream",
     "text": [
      "\r",
      "Processing files:  26%|████████████████▋                                               | 12/46 [00:32<01:28,  2.61s/it]"
     ]
    },
    {
     "name": "stdout",
     "output_type": "stream",
     "text": [
      "MAT07 NJSLA DATA 2021-2022.xlsx\n"
     ]
    },
    {
     "name": "stderr",
     "output_type": "stream",
     "text": [
      "\r",
      "Processing files:  28%|██████████████████                                              | 13/46 [00:40<01:51,  3.38s/it]"
     ]
    },
    {
     "name": "stdout",
     "output_type": "stream",
     "text": [
      "MAT08 NJSLA DATA 2021-2022.xlsx\n"
     ]
    },
    {
     "name": "stderr",
     "output_type": "stream",
     "text": [
      "\r",
      "Processing files:  30%|███████████████████▍                                            | 14/46 [00:56<03:07,  5.87s/it]"
     ]
    },
    {
     "name": "stdout",
     "output_type": "stream",
     "text": [
      "MAT06 NJSLA DATA 2018-2019.xlsx\n"
     ]
    },
    {
     "name": "stderr",
     "output_type": "stream",
     "text": [
      "\r",
      "Processing files:  39%|█████████████████████████                                       | 18/46 [01:04<01:48,  3.88s/it]"
     ]
    },
    {
     "name": "stdout",
     "output_type": "stream",
     "text": [
      "MAT07 NJSLA DATA 2018-2019.xlsx\n"
     ]
    },
    {
     "name": "stderr",
     "output_type": "stream",
     "text": [
      "\r",
      "Processing files:  41%|██████████████████████████▍                                     | 19/46 [01:09<01:47,  4.00s/it]"
     ]
    },
    {
     "name": "stdout",
     "output_type": "stream",
     "text": [
      "MAT08 NJSLA DATA 2018-2019.xlsx\n"
     ]
    },
    {
     "name": "stderr",
     "output_type": "stream",
     "text": [
      "\r",
      "Processing files:  43%|███████████████████████████▊                                    | 20/46 [01:13<01:42,  3.94s/it]"
     ]
    },
    {
     "name": "stdout",
     "output_type": "stream",
     "text": [
      "MAT06 NJSLA DATA 2017-2018.xlsx\n"
     ]
    },
    {
     "name": "stderr",
     "output_type": "stream",
     "text": [
      "\r",
      "Processing files:  54%|██████████████████████████████████▊                             | 25/46 [01:17<00:46,  2.23s/it]"
     ]
    },
    {
     "name": "stdout",
     "output_type": "stream",
     "text": [
      "MAT07 NJSLA DATA 2017-2018.xlsx\n"
     ]
    },
    {
     "name": "stderr",
     "output_type": "stream",
     "text": [
      "\r",
      "Processing files:  57%|████████████████████████████████████▏                           | 26/46 [01:21<00:49,  2.47s/it]"
     ]
    },
    {
     "name": "stdout",
     "output_type": "stream",
     "text": [
      "MAT08 NJSLA DATA 2017-2018.xlsx\n"
     ]
    },
    {
     "name": "stderr",
     "output_type": "stream",
     "text": [
      "\r",
      "Processing files:  59%|█████████████████████████████████████▌                          | 27/46 [01:25<00:51,  2.70s/it]"
     ]
    },
    {
     "name": "stdout",
     "output_type": "stream",
     "text": [
      "MAT06 NJSLA DATA 2016-2017.xlsx\n"
     ]
    },
    {
     "name": "stderr",
     "output_type": "stream",
     "text": [
      "\r",
      "Processing files:  67%|███████████████████████████████████████████▏                    | 31/46 [01:30<00:30,  2.04s/it]"
     ]
    },
    {
     "name": "stdout",
     "output_type": "stream",
     "text": [
      "MAT07 NJSLA DATA 2016-2017.xlsx\n"
     ]
    },
    {
     "name": "stderr",
     "output_type": "stream",
     "text": [
      "\r",
      "Processing files:  70%|████████████████████████████████████████████▌                   | 32/46 [01:35<00:34,  2.46s/it]"
     ]
    },
    {
     "name": "stdout",
     "output_type": "stream",
     "text": [
      "MAT08 NJSLA DATA 2016-2017.xlsx\n"
     ]
    },
    {
     "name": "stderr",
     "output_type": "stream",
     "text": [
      "\r",
      "Processing files:  72%|█████████████████████████████████████████████▉                  | 33/46 [01:39<00:35,  2.72s/it]"
     ]
    },
    {
     "name": "stdout",
     "output_type": "stream",
     "text": [
      "MAT06 NJSLA DATA 2015-2016.xlsx\n"
     ]
    },
    {
     "name": "stderr",
     "output_type": "stream",
     "text": [
      "\r",
      "Processing files:  80%|███████████████████████████████████████████████████▍            | 37/46 [01:44<00:17,  1.92s/it]"
     ]
    },
    {
     "name": "stdout",
     "output_type": "stream",
     "text": [
      "MAT07 NJSLA DATA 2015-2016.xlsx\n"
     ]
    },
    {
     "name": "stderr",
     "output_type": "stream",
     "text": [
      "\r",
      "Processing files:  83%|████████████████████████████████████████████████████▊           | 38/46 [01:47<00:17,  2.19s/it]"
     ]
    },
    {
     "name": "stdout",
     "output_type": "stream",
     "text": [
      "MAT08 NJSLA DATA 2015-2016.xlsx\n"
     ]
    },
    {
     "name": "stderr",
     "output_type": "stream",
     "text": [
      "\r",
      "Processing files:  85%|██████████████████████████████████████████████████████▎         | 39/46 [01:51<00:17,  2.47s/it]"
     ]
    },
    {
     "name": "stdout",
     "output_type": "stream",
     "text": [
      "MAT06 NJSLA DATA 2014-2015.xlsx\n"
     ]
    },
    {
     "name": "stderr",
     "output_type": "stream",
     "text": [
      "\r",
      "Processing files:  93%|███████████████████████████████████████████████████████████▊    | 43/46 [01:55<00:05,  1.69s/it]"
     ]
    },
    {
     "name": "stdout",
     "output_type": "stream",
     "text": [
      "MAT07 NJSLA DATA 2014-2015.xlsx\n"
     ]
    },
    {
     "name": "stderr",
     "output_type": "stream",
     "text": [
      "\r",
      "Processing files:  96%|█████████████████████████████████████████████████████████████▏  | 44/46 [01:58<00:03,  1.91s/it]"
     ]
    },
    {
     "name": "stdout",
     "output_type": "stream",
     "text": [
      "MAT08 NJSLA DATA 2014-2015.xlsx\n"
     ]
    },
    {
     "name": "stderr",
     "output_type": "stream",
     "text": [
      "Processing files: 100%|████████████████████████████████████████████████████████████████| 46/46 [02:01<00:00,  2.64s/it]"
     ]
    },
    {
     "name": "stdout",
     "output_type": "stream",
     "text": [
      "Concatinatinating dataframes\n",
      "mathResultsDF is ready.\n"
     ]
    },
    {
     "name": "stderr",
     "output_type": "stream",
     "text": [
      "\n"
     ]
    }
   ],
   "source": [
    "## Read data from annual files with results by schools\n",
    "\n",
    "# Initialize an empty list to store your DataFrames\n",
    "math_DFs = []\n",
    "\n",
    "directory = os.path.join(basePath, dataFolder)\n",
    "\n",
    "# Loop through each file in the directory\n",
    "for filename in tqdm(os.listdir(directory), desc = 'Processing files'):\n",
    "    if filename.endswith('.xlsx') and filename.startswith('MAT') and 'NJSLA DATA'  in filename:\n",
    "        print(filename)\n",
    "        \n",
    "        # Construct the full file path\n",
    "        file_path = os.path.join(directory, filename)\n",
    "        \n",
    "        # Read the Excel file\n",
    "        df = pd.read_excel(file_path, skiprows=2)\n",
    "        \n",
    "        # Filter the DataFrame \n",
    "        filtered_df = df[(df['Subgroup'].str.lower() == 'total') & (df['School Name'].str.lower() != 'district total') & pd.notna(df['School Name']) & (df['School Name'].str.strip() != '')]\n",
    "        \n",
    "        # Add a column with type of assessment and grade (ex: MAT06),\n",
    "        # it is in the first 5 characters of the filename\n",
    "        filtered_df['Assessment'] = filename[:5] \n",
    "        \n",
    "        # Add a column with year, it is in the last 4 characters before file extention in the filename\n",
    "        filtered_df['Year'] = filename[-9:-5] \n",
    "        \n",
    "        # Harmonizing cases in columns between different tables\n",
    "        column_to_upper = ['County Name', 'District Name', 'School Name', 'Subgroup', 'Subgroup_Type']\n",
    "        for col in column_to_upper:\n",
    "            filtered_df[col] = filtered_df[col].str.upper()\n",
    "        \n",
    "        # Append the filtered DataFrame to your list\n",
    "        math_DFs.append(filtered_df)\n",
    "\n",
    "print(\"Concatinatinating dataframes\")        \n",
    "# Concatenate all DataFrames into one\n",
    "mathResultsDF = pd.concat(math_DFs, ignore_index=True)\n",
    "\n",
    "print(\"mathResultsDF is ready.\")\n"
   ]
  },
  {
   "cell_type": "raw",
   "id": "17f640ed",
   "metadata": {},
   "source": [
    "del mathResultsDF"
   ]
  },
  {
   "cell_type": "code",
   "execution_count": 4,
   "id": "8b43fdf4",
   "metadata": {},
   "outputs": [
    {
     "name": "stdout",
     "output_type": "stream",
     "text": [
      "['2023' '2022' '2019' '2018' '2017' '2016' '2015']\n"
     ]
    }
   ],
   "source": [
    "unique_values2 = mathResultsDF['Year'].unique()\n",
    "print(unique_values2)"
   ]
  },
  {
   "cell_type": "code",
   "execution_count": 129,
   "id": "4cb61333",
   "metadata": {},
   "outputs": [
    {
     "name": "stderr",
     "output_type": "stream",
     "text": [
      "\r",
      "Processing files:   0%|                                                                         | 0/46 [00:00<?, ?it/s]"
     ]
    },
    {
     "name": "stdout",
     "output_type": "stream",
     "text": [
      "ELA06 NJSLA DATA 2022-2023.xlsx\n"
     ]
    },
    {
     "name": "stderr",
     "output_type": "stream",
     "text": [
      "C:\\Users\\Student\\anaconda3\\envs\\AC37\\lib\\site-packages\\ipykernel_launcher.py:24: SettingWithCopyWarning: \n",
      "A value is trying to be set on a copy of a slice from a DataFrame.\n",
      "Try using .loc[row_indexer,col_indexer] = value instead\n",
      "\n",
      "See the caveats in the documentation: https://pandas.pydata.org/pandas-docs/stable/user_guide/indexing.html#returning-a-view-versus-a-copy\n",
      "C:\\Users\\Student\\anaconda3\\envs\\AC37\\lib\\site-packages\\ipykernel_launcher.py:27: SettingWithCopyWarning: \n",
      "A value is trying to be set on a copy of a slice from a DataFrame.\n",
      "Try using .loc[row_indexer,col_indexer] = value instead\n",
      "\n",
      "See the caveats in the documentation: https://pandas.pydata.org/pandas-docs/stable/user_guide/indexing.html#returning-a-view-versus-a-copy\n",
      "C:\\Users\\Student\\anaconda3\\envs\\AC37\\lib\\site-packages\\ipykernel_launcher.py:32: SettingWithCopyWarning: \n",
      "A value is trying to be set on a copy of a slice from a DataFrame.\n",
      "Try using .loc[row_indexer,col_indexer] = value instead\n",
      "\n",
      "See the caveats in the documentation: https://pandas.pydata.org/pandas-docs/stable/user_guide/indexing.html#returning-a-view-versus-a-copy\n",
      "\r",
      "Processing files:   7%|████▏                                                            | 3/46 [00:04<01:09,  1.62s/it]"
     ]
    },
    {
     "name": "stdout",
     "output_type": "stream",
     "text": [
      "ELA07 NJSLA DATA 2022-2023.xlsx\n"
     ]
    },
    {
     "name": "stderr",
     "output_type": "stream",
     "text": [
      "\r",
      "Processing files:   9%|█████▋                                                           | 4/46 [00:09<01:47,  2.56s/it]"
     ]
    },
    {
     "name": "stdout",
     "output_type": "stream",
     "text": [
      "ELA08 NJSLA DATA 2022-2023.xlsx\n"
     ]
    },
    {
     "name": "stderr",
     "output_type": "stream",
     "text": [
      "\r",
      "Processing files:  11%|███████                                                          | 5/46 [00:13<02:09,  3.16s/it]"
     ]
    },
    {
     "name": "stdout",
     "output_type": "stream",
     "text": [
      "ELA06 NJSLA DATA 2021-2022.xlsx\n"
     ]
    },
    {
     "name": "stderr",
     "output_type": "stream",
     "text": [
      "\r",
      "Processing files:  20%|████████████▋                                                    | 9/46 [00:18<01:10,  1.91s/it]"
     ]
    },
    {
     "name": "stdout",
     "output_type": "stream",
     "text": [
      "ELA07 NJSLA DATA 2021-2022.xlsx\n"
     ]
    },
    {
     "name": "stderr",
     "output_type": "stream",
     "text": [
      "\r",
      "Processing files:  22%|█████████████▉                                                  | 10/46 [00:22<01:24,  2.34s/it]"
     ]
    },
    {
     "name": "stdout",
     "output_type": "stream",
     "text": [
      "ELA08 NJSLA DATA 2021-2022.xlsx\n"
     ]
    },
    {
     "name": "stderr",
     "output_type": "stream",
     "text": [
      "\r",
      "Processing files:  24%|███████████████▎                                                | 11/46 [00:27<01:37,  2.77s/it]"
     ]
    },
    {
     "name": "stdout",
     "output_type": "stream",
     "text": [
      "ELA06 NJSLA DATA 2018-2019.xlsx\n"
     ]
    },
    {
     "name": "stderr",
     "output_type": "stream",
     "text": [
      "\r",
      "Processing files:  33%|████████████████████▊                                           | 15/46 [00:31<00:58,  1.88s/it]"
     ]
    },
    {
     "name": "stdout",
     "output_type": "stream",
     "text": [
      "ELA07 NJSLA DATA 2018-2019.xlsx\n"
     ]
    },
    {
     "name": "stderr",
     "output_type": "stream",
     "text": [
      "\r",
      "Processing files:  35%|██████████████████████▎                                         | 16/46 [00:35<01:06,  2.23s/it]"
     ]
    },
    {
     "name": "stdout",
     "output_type": "stream",
     "text": [
      "ELA08 NJSLA DATA 2018-2019.xlsx\n"
     ]
    },
    {
     "name": "stderr",
     "output_type": "stream",
     "text": [
      "\r",
      "Processing files:  37%|███████████████████████▋                                        | 17/46 [00:39<01:14,  2.56s/it]"
     ]
    },
    {
     "name": "stdout",
     "output_type": "stream",
     "text": [
      "ELA06 NJSLA DATA 2017-2018.xlsx\n"
     ]
    },
    {
     "name": "stderr",
     "output_type": "stream",
     "text": [
      "\r",
      "Processing files:  48%|██████████████████████████████▌                                 | 22/46 [00:44<00:39,  1.63s/it]"
     ]
    },
    {
     "name": "stdout",
     "output_type": "stream",
     "text": [
      "ELA07 NJSLA DATA 2017-2018.xlsx\n"
     ]
    },
    {
     "name": "stderr",
     "output_type": "stream",
     "text": [
      "\r",
      "Processing files:  50%|████████████████████████████████                                | 23/46 [00:48<00:46,  2.02s/it]"
     ]
    },
    {
     "name": "stdout",
     "output_type": "stream",
     "text": [
      "ELA08 NJSLA DATA 2017-2018.xlsx\n"
     ]
    },
    {
     "name": "stderr",
     "output_type": "stream",
     "text": [
      "\r",
      "Processing files:  52%|█████████████████████████████████▍                              | 24/46 [00:52<00:51,  2.33s/it]"
     ]
    },
    {
     "name": "stdout",
     "output_type": "stream",
     "text": [
      "ELA06 NJSLA DATA 2016-2017.xlsx\n"
     ]
    },
    {
     "name": "stderr",
     "output_type": "stream",
     "text": [
      "\r",
      "Processing files:  61%|██████████████████████████████████████▉                         | 28/46 [00:57<00:31,  1.73s/it]"
     ]
    },
    {
     "name": "stdout",
     "output_type": "stream",
     "text": [
      "ELA07 NJSLA DATA 2016-2017.xlsx\n"
     ]
    },
    {
     "name": "stderr",
     "output_type": "stream",
     "text": [
      "\r",
      "Processing files:  63%|████████████████████████████████████████▎                       | 29/46 [01:01<00:34,  2.04s/it]"
     ]
    },
    {
     "name": "stdout",
     "output_type": "stream",
     "text": [
      "ELA08 NJSLA DATA 2016-2017.xlsx\n"
     ]
    },
    {
     "name": "stderr",
     "output_type": "stream",
     "text": [
      "\r",
      "Processing files:  65%|█████████████████████████████████████████▋                      | 30/46 [01:04<00:37,  2.36s/it]"
     ]
    },
    {
     "name": "stdout",
     "output_type": "stream",
     "text": [
      "ELA06 NJSLA DATA 2015-2016.xlsx\n"
     ]
    },
    {
     "name": "stderr",
     "output_type": "stream",
     "text": [
      "\r",
      "Processing files:  74%|███████████████████████████████████████████████▎                | 34/46 [01:09<00:20,  1.74s/it]"
     ]
    },
    {
     "name": "stdout",
     "output_type": "stream",
     "text": [
      "ELA07 NJSLA DATA 2015-2016.xlsx\n"
     ]
    },
    {
     "name": "stderr",
     "output_type": "stream",
     "text": [
      "\r",
      "Processing files:  76%|████████████████████████████████████████████████▋               | 35/46 [01:13<00:22,  2.05s/it]"
     ]
    },
    {
     "name": "stdout",
     "output_type": "stream",
     "text": [
      "ELA08 NJSLA DATA 2015-2016.xlsx\n"
     ]
    },
    {
     "name": "stderr",
     "output_type": "stream",
     "text": [
      "\r",
      "Processing files:  78%|██████████████████████████████████████████████████              | 36/46 [01:16<00:23,  2.35s/it]"
     ]
    },
    {
     "name": "stdout",
     "output_type": "stream",
     "text": [
      "ELA06 NJSLA DATA 2014-2015.xlsx\n"
     ]
    },
    {
     "name": "stderr",
     "output_type": "stream",
     "text": [
      "\r",
      "Processing files:  87%|███████████████████████████████████████████████████████▋        | 40/46 [01:20<00:09,  1.60s/it]"
     ]
    },
    {
     "name": "stdout",
     "output_type": "stream",
     "text": [
      "ELA07 NJSLA DATA 2014-2015.xlsx\n"
     ]
    },
    {
     "name": "stderr",
     "output_type": "stream",
     "text": [
      "\r",
      "Processing files:  89%|█████████████████████████████████████████████████████████       | 41/46 [01:23<00:09,  1.84s/it]"
     ]
    },
    {
     "name": "stdout",
     "output_type": "stream",
     "text": [
      "ELA08 NJSLA DATA 2014-2015.xlsx\n"
     ]
    },
    {
     "name": "stderr",
     "output_type": "stream",
     "text": [
      "Processing files: 100%|████████████████████████████████████████████████████████████████| 46/46 [01:26<00:00,  1.89s/it]"
     ]
    },
    {
     "name": "stdout",
     "output_type": "stream",
     "text": [
      "Concatinating dataframes\n",
      "ELAResultsDF is ready.\n"
     ]
    },
    {
     "name": "stderr",
     "output_type": "stream",
     "text": [
      "\n"
     ]
    }
   ],
   "source": [
    "## Read data from annual files with results by schools\n",
    "\n",
    "# Initialize an empty list to store your DataFrames\n",
    "ELA_DFs = []\n",
    "\n",
    "directory = os.path.join(basePath, dataFolder)\n",
    "\n",
    "# Loop through each file in the directory\n",
    "for filename in tqdm(os.listdir(directory), desc = 'Processing files'):\n",
    "    if filename.endswith('.xlsx') and filename.startswith('ELA'):\n",
    "        print(filename)\n",
    "        \n",
    "        # Construct the full file path\n",
    "        file_path = os.path.join(directory, filename)\n",
    "        \n",
    "        # Read the Excel file\n",
    "        df = pd.read_excel(file_path, skiprows=2)\n",
    "        \n",
    "        # Filter the DataFrame \n",
    "        filtered_df = df[(df['Subgroup'].str.lower() == 'total') & (df['School Name'].str.lower() != 'district total') & pd.notna(df['School Name']) & (df['School Name'].str.strip() != '')]\n",
    "        \n",
    "        # Add a column with type of assessment and grade (ex: MAT06),\n",
    "        # it is in the first 5 characters of the filename\n",
    "        filtered_df['Assessment'] = filename[:5] \n",
    "        \n",
    "        # Add a column with year, it is in the last 4 characters before file extention in the filename\n",
    "        filtered_df['Year'] = filename[-9:-5] \n",
    "        \n",
    "        # Harmonizing cases in columns between different tables\n",
    "        column_to_upper = ['County Name', 'District Name', 'School Name', 'Subgroup', 'Subgroup_Type']\n",
    "        for col in column_to_upper:\n",
    "            filtered_df[col] = filtered_df[col].str.upper()\n",
    "        \n",
    "        # Append the filtered DataFrame to your list\n",
    "        ELA_DFs.append(filtered_df)\n",
    "\n",
    "print(\"Concatinating dataframes\")        \n",
    "# Concatenate all DataFrames into one\n",
    "ELAResultsDF = pd.concat(ELA_DFs, ignore_index=True)\n",
    "\n",
    "print(\"ELAResultsDF is ready.\")"
   ]
  },
  {
   "cell_type": "code",
   "execution_count": 6,
   "id": "24efb2de",
   "metadata": {},
   "outputs": [
    {
     "data": {
      "text/plain": [
       "21"
      ]
     },
     "execution_count": 6,
     "metadata": {},
     "output_type": "execute_result"
    }
   ],
   "source": [
    "len(ELA_DFs)"
   ]
  },
  {
   "cell_type": "raw",
   "id": "40a7d048",
   "metadata": {},
   "source": [
    "del ELAResultsDF"
   ]
  },
  {
   "cell_type": "code",
   "execution_count": null,
   "id": "166eaade",
   "metadata": {},
   "outputs": [],
   "source": []
  },
  {
   "cell_type": "code",
   "execution_count": 8,
   "id": "341ef7bf",
   "metadata": {},
   "outputs": [
    {
     "data": {
      "text/html": [
       "<div>\n",
       "<style scoped>\n",
       "    .dataframe tbody tr th:only-of-type {\n",
       "        vertical-align: middle;\n",
       "    }\n",
       "\n",
       "    .dataframe tbody tr th {\n",
       "        vertical-align: top;\n",
       "    }\n",
       "\n",
       "    .dataframe thead th {\n",
       "        text-align: right;\n",
       "    }\n",
       "</style>\n",
       "<table border=\"1\" class=\"dataframe\">\n",
       "  <thead>\n",
       "    <tr style=\"text-align: right;\">\n",
       "      <th></th>\n",
       "      <th>County Code</th>\n",
       "      <th>County Name</th>\n",
       "      <th>District Code</th>\n",
       "      <th>District Name</th>\n",
       "      <th>School Code</th>\n",
       "      <th>School Name</th>\n",
       "      <th>Subgroup</th>\n",
       "      <th>Subgroup_Type</th>\n",
       "      <th>Registered To Test</th>\n",
       "      <th>Not Tested ** (See Below)</th>\n",
       "      <th>Valid Scores</th>\n",
       "      <th>Mean Scale Score</th>\n",
       "      <th>L1 Percent</th>\n",
       "      <th>L2 Percent</th>\n",
       "      <th>L3 Percent</th>\n",
       "      <th>L4 Percent</th>\n",
       "      <th>L5 Percent</th>\n",
       "      <th>Assessment</th>\n",
       "      <th>Year</th>\n",
       "    </tr>\n",
       "  </thead>\n",
       "  <tbody>\n",
       "    <tr>\n",
       "      <th>16229</th>\n",
       "      <td>80</td>\n",
       "      <td>CHARTERS</td>\n",
       "      <td>7890</td>\n",
       "      <td>TEANECK COMMUNITY CS</td>\n",
       "      <td>920.000</td>\n",
       "      <td>TEANECK COMMUNITY CHARTER SCHOOL</td>\n",
       "      <td>TOTAL</td>\n",
       "      <td>ALL STUDENTS</td>\n",
       "      <td>*</td>\n",
       "      <td>*</td>\n",
       "      <td>25</td>\n",
       "      <td>741</td>\n",
       "      <td>4</td>\n",
       "      <td>24</td>\n",
       "      <td>32</td>\n",
       "      <td>40</td>\n",
       "      <td>0</td>\n",
       "      <td>ELA08</td>\n",
       "      <td>2015</td>\n",
       "    </tr>\n",
       "    <tr>\n",
       "      <th>16230</th>\n",
       "      <td>80</td>\n",
       "      <td>CHARTERS</td>\n",
       "      <td>8010</td>\n",
       "      <td>UNION COUNTY TEAMS CS</td>\n",
       "      <td>980.000</td>\n",
       "      <td>UNION COUNTY TEAMS CHARTER SCHOOL</td>\n",
       "      <td>TOTAL</td>\n",
       "      <td>ALL STUDENTS</td>\n",
       "      <td>*</td>\n",
       "      <td>*</td>\n",
       "      <td>32</td>\n",
       "      <td>738</td>\n",
       "      <td>6.3</td>\n",
       "      <td>28.1</td>\n",
       "      <td>31.3</td>\n",
       "      <td>31.3</td>\n",
       "      <td>3.1</td>\n",
       "      <td>ELA08</td>\n",
       "      <td>2015</td>\n",
       "    </tr>\n",
       "    <tr>\n",
       "      <th>16231</th>\n",
       "      <td>80</td>\n",
       "      <td>CHARTERS</td>\n",
       "      <td>8050</td>\n",
       "      <td>UNITY CS</td>\n",
       "      <td>990.000</td>\n",
       "      <td>UNITY CHARTER SCHOOL</td>\n",
       "      <td>TOTAL</td>\n",
       "      <td>ALL STUDENTS</td>\n",
       "      <td>*</td>\n",
       "      <td>*</td>\n",
       "      <td>*</td>\n",
       "      <td>*</td>\n",
       "      <td>*</td>\n",
       "      <td>*</td>\n",
       "      <td>*</td>\n",
       "      <td>*</td>\n",
       "      <td>*</td>\n",
       "      <td>ELA08</td>\n",
       "      <td>2015</td>\n",
       "    </tr>\n",
       "    <tr>\n",
       "      <th>16232</th>\n",
       "      <td>80</td>\n",
       "      <td>CHARTERS</td>\n",
       "      <td>8065</td>\n",
       "      <td>UNIVERSITY HEIGHTS CS</td>\n",
       "      <td>980.000</td>\n",
       "      <td>UNIVERSITY HEIGHTS CHARTER SCHOOL</td>\n",
       "      <td>TOTAL</td>\n",
       "      <td>ALL STUDENTS</td>\n",
       "      <td>*</td>\n",
       "      <td>*</td>\n",
       "      <td>47</td>\n",
       "      <td>747</td>\n",
       "      <td>6.4</td>\n",
       "      <td>17</td>\n",
       "      <td>31.9</td>\n",
       "      <td>40.4</td>\n",
       "      <td>4.3</td>\n",
       "      <td>ELA08</td>\n",
       "      <td>2015</td>\n",
       "    </tr>\n",
       "    <tr>\n",
       "      <th>16233</th>\n",
       "      <td>80</td>\n",
       "      <td>CHARTERS</td>\n",
       "      <td>8140</td>\n",
       "      <td>VILLAGE CS</td>\n",
       "      <td>990.000</td>\n",
       "      <td>THE VILLAGE CHARTER SCHOOL</td>\n",
       "      <td>TOTAL</td>\n",
       "      <td>ALL STUDENTS</td>\n",
       "      <td>*</td>\n",
       "      <td>*</td>\n",
       "      <td>37</td>\n",
       "      <td>732</td>\n",
       "      <td>13.5</td>\n",
       "      <td>18.9</td>\n",
       "      <td>40.5</td>\n",
       "      <td>27</td>\n",
       "      <td>0</td>\n",
       "      <td>ELA08</td>\n",
       "      <td>2015</td>\n",
       "    </tr>\n",
       "  </tbody>\n",
       "</table>\n",
       "</div>"
      ],
      "text/plain": [
       "      County Code County Name District Code          District Name  \\\n",
       "16229          80    CHARTERS          7890   TEANECK COMMUNITY CS   \n",
       "16230          80    CHARTERS          8010  UNION COUNTY TEAMS CS   \n",
       "16231          80    CHARTERS          8050               UNITY CS   \n",
       "16232          80    CHARTERS          8065  UNIVERSITY HEIGHTS CS   \n",
       "16233          80    CHARTERS          8140             VILLAGE CS   \n",
       "\n",
       "       School Code                        School Name Subgroup Subgroup_Type  \\\n",
       "16229      920.000   TEANECK COMMUNITY CHARTER SCHOOL    TOTAL  ALL STUDENTS   \n",
       "16230      980.000  UNION COUNTY TEAMS CHARTER SCHOOL    TOTAL  ALL STUDENTS   \n",
       "16231      990.000               UNITY CHARTER SCHOOL    TOTAL  ALL STUDENTS   \n",
       "16232      980.000  UNIVERSITY HEIGHTS CHARTER SCHOOL    TOTAL  ALL STUDENTS   \n",
       "16233      990.000         THE VILLAGE CHARTER SCHOOL    TOTAL  ALL STUDENTS   \n",
       "\n",
       "      Registered To Test Not Tested ** (See Below) Valid Scores  \\\n",
       "16229                  *                         *           25   \n",
       "16230                  *                         *           32   \n",
       "16231                  *                         *            *   \n",
       "16232                  *                         *           47   \n",
       "16233                  *                         *           37   \n",
       "\n",
       "      Mean Scale Score L1 Percent L2 Percent L3 Percent L4 Percent L5 Percent  \\\n",
       "16229              741          4         24         32         40          0   \n",
       "16230              738        6.3       28.1       31.3       31.3        3.1   \n",
       "16231                *          *          *          *          *          *   \n",
       "16232              747        6.4         17       31.9       40.4        4.3   \n",
       "16233              732       13.5       18.9       40.5         27          0   \n",
       "\n",
       "      Assessment  Year  \n",
       "16229      ELA08  2015  \n",
       "16230      ELA08  2015  \n",
       "16231      ELA08  2015  \n",
       "16232      ELA08  2015  \n",
       "16233      ELA08  2015  "
      ]
     },
     "execution_count": 8,
     "metadata": {},
     "output_type": "execute_result"
    }
   ],
   "source": [
    "ELAResultsDF.tail()"
   ]
  },
  {
   "cell_type": "code",
   "execution_count": 7,
   "id": "0fda1fb5",
   "metadata": {},
   "outputs": [
    {
     "name": "stdout",
     "output_type": "stream",
     "text": [
      "['2023' '2022' '2019' '2018' '2017' '2016' '2015']\n"
     ]
    }
   ],
   "source": [
    "unique_values = ELAResultsDF['Year'].unique()\n",
    "print(unique_values)"
   ]
  },
  {
   "cell_type": "code",
   "execution_count": null,
   "id": "3be51e6a",
   "metadata": {},
   "outputs": [],
   "source": [
    "mathResultsDF.tail()"
   ]
  },
  {
   "cell_type": "code",
   "execution_count": null,
   "id": "f700c825",
   "metadata": {},
   "outputs": [],
   "source": []
  },
  {
   "cell_type": "code",
   "execution_count": 130,
   "id": "92ad005f",
   "metadata": {},
   "outputs": [],
   "source": [
    "subjects = ['Math', 'ELA']\n",
    "resultsDFs = {'Math': mathResultsDF, 'ELA': ELAResultsDF}"
   ]
  },
  {
   "cell_type": "code",
   "execution_count": 131,
   "id": "2153d80e",
   "metadata": {},
   "outputs": [
    {
     "name": "stdout",
     "output_type": "stream",
     "text": [
      "<class 'pandas.core.frame.DataFrame'>\n",
      "RangeIndex: 15943 entries, 0 to 15942\n",
      "Data columns (total 19 columns):\n",
      " #   Column                     Non-Null Count  Dtype  \n",
      "---  ------                     --------------  -----  \n",
      " 0   County Code                15943 non-null  object \n",
      " 1   County Name                15943 non-null  object \n",
      " 2   District Code              15943 non-null  object \n",
      " 3   District Name              15943 non-null  object \n",
      " 4   School Code                15943 non-null  float64\n",
      " 5   School Name                15943 non-null  object \n",
      " 6   Subgroup                   15943 non-null  object \n",
      " 7   Subgroup_Type              15943 non-null  object \n",
      " 8   Registered To Test         15943 non-null  object \n",
      " 9   Not Tested ** (See Below)  15943 non-null  object \n",
      " 10  Valid Scores               15943 non-null  object \n",
      " 11  Mean Scale Score           15943 non-null  object \n",
      " 12  L1 Percent                 15943 non-null  object \n",
      " 13  L2 Percent                 15943 non-null  object \n",
      " 14  L3 Percent                 15943 non-null  object \n",
      " 15  L4 Percent                 15943 non-null  object \n",
      " 16  L5 Percent                 15943 non-null  object \n",
      " 17  Assessment                 15943 non-null  object \n",
      " 18  Year                       15943 non-null  object \n",
      "dtypes: float64(1), object(18)\n",
      "memory usage: 2.3+ MB\n",
      "15943\n",
      "<class 'pandas.core.frame.DataFrame'>\n",
      "RangeIndex: 16234 entries, 0 to 16233\n",
      "Data columns (total 19 columns):\n",
      " #   Column                     Non-Null Count  Dtype  \n",
      "---  ------                     --------------  -----  \n",
      " 0   County Code                16234 non-null  object \n",
      " 1   County Name                16234 non-null  object \n",
      " 2   District Code              16234 non-null  object \n",
      " 3   District Name              16234 non-null  object \n",
      " 4   School Code                16234 non-null  float64\n",
      " 5   School Name                16234 non-null  object \n",
      " 6   Subgroup                   16234 non-null  object \n",
      " 7   Subgroup_Type              16234 non-null  object \n",
      " 8   Registered To Test         16234 non-null  object \n",
      " 9   Not Tested ** (See Below)  16234 non-null  object \n",
      " 10  Valid Scores               16234 non-null  object \n",
      " 11  Mean Scale Score           16234 non-null  object \n",
      " 12  L1 Percent                 16234 non-null  object \n",
      " 13  L2 Percent                 16234 non-null  object \n",
      " 14  L3 Percent                 16234 non-null  object \n",
      " 15  L4 Percent                 16234 non-null  object \n",
      " 16  L5 Percent                 16234 non-null  object \n",
      " 17  Assessment                 16234 non-null  object \n",
      " 18  Year                       16234 non-null  object \n",
      "dtypes: float64(1), object(18)\n",
      "memory usage: 2.4+ MB\n",
      "16234\n"
     ]
    }
   ],
   "source": [
    "for subject in subjects:\n",
    "    resultsDF = resultsDFs[subject]\n",
    "    resultsDF.info()\n",
    "    print(len(resultsDF))\n",
    "    \n",
    "del resultsDF    "
   ]
  },
  {
   "cell_type": "code",
   "execution_count": 132,
   "id": "b19d00e5",
   "metadata": {},
   "outputs": [
    {
     "name": "stdout",
     "output_type": "stream",
     "text": [
      "<class 'pandas.core.frame.DataFrame'>\n",
      "RangeIndex: 15943 entries, 0 to 15942\n",
      "Data columns (total 19 columns):\n",
      " #   Column                     Non-Null Count  Dtype  \n",
      "---  ------                     --------------  -----  \n",
      " 0   County Code                15943 non-null  object \n",
      " 1   County Name                15943 non-null  object \n",
      " 2   District Code              15943 non-null  object \n",
      " 3   District Name              15943 non-null  object \n",
      " 4   School Code                15943 non-null  object \n",
      " 5   School Name                15943 non-null  object \n",
      " 6   Subgroup                   15943 non-null  object \n",
      " 7   Subgroup_Type              15943 non-null  object \n",
      " 8   Registered To Test         15943 non-null  object \n",
      " 9   Not Tested ** (See Below)  15943 non-null  object \n",
      " 10  Valid Scores               15481 non-null  float64\n",
      " 11  Mean Scale Score           15489 non-null  float64\n",
      " 12  L1 Percent                 15489 non-null  float64\n",
      " 13  L2 Percent                 15489 non-null  float64\n",
      " 14  L3 Percent                 15489 non-null  float64\n",
      " 15  L4 Percent                 15489 non-null  float64\n",
      " 16  L5 Percent                 15489 non-null  float64\n",
      " 17  Assessment                 15943 non-null  object \n",
      " 18  Year                       15943 non-null  object \n",
      "dtypes: float64(7), object(12)\n",
      "memory usage: 2.3+ MB\n",
      "15943\n",
      "<class 'pandas.core.frame.DataFrame'>\n",
      "RangeIndex: 16234 entries, 0 to 16233\n",
      "Data columns (total 19 columns):\n",
      " #   Column                     Non-Null Count  Dtype  \n",
      "---  ------                     --------------  -----  \n",
      " 0   County Code                16234 non-null  object \n",
      " 1   County Name                16234 non-null  object \n",
      " 2   District Code              16234 non-null  object \n",
      " 3   District Name              16234 non-null  object \n",
      " 4   School Code                16234 non-null  object \n",
      " 5   School Name                16234 non-null  object \n",
      " 6   Subgroup                   16234 non-null  object \n",
      " 7   Subgroup_Type              16234 non-null  object \n",
      " 8   Registered To Test         16234 non-null  object \n",
      " 9   Not Tested ** (See Below)  16234 non-null  object \n",
      " 10  Valid Scores               16004 non-null  float64\n",
      " 11  Mean Scale Score           16015 non-null  float64\n",
      " 12  L1 Percent                 16015 non-null  float64\n",
      " 13  L2 Percent                 16015 non-null  float64\n",
      " 14  L3 Percent                 16015 non-null  float64\n",
      " 15  L4 Percent                 16015 non-null  float64\n",
      " 16  L5 Percent                 16015 non-null  float64\n",
      " 17  Assessment                 16234 non-null  object \n",
      " 18  Year                       16234 non-null  object \n",
      "dtypes: float64(7), object(12)\n",
      "memory usage: 2.4+ MB\n",
      "16234\n"
     ]
    }
   ],
   "source": [
    "# resultsDF.info() showed that most of the columns are objects instead of numbers and needed to be converted\n",
    "for subject in subjects:\n",
    "    resultsDF = resultsDFs[subject]\n",
    "    resultsDF_colToConvert = ['Valid Scores',\n",
    "     'Mean Scale Score',\n",
    "     'L1 Percent',                             \n",
    "     'L2 Percent',\n",
    "     'L3 Percent',\n",
    "     'L4 Percent',\n",
    "     'L5 Percent']\n",
    "    resultsDF[resultsDF_colToConvert] = resultsDF[resultsDF_colToConvert].apply(pd.to_numeric, errors = 'coerce')\n",
    "    resultsDF['School Code'] = resultsDF['School Code'].astype(str)\n",
    "    resultsDF.info()\n",
    "    print(len(resultsDF))\n",
    "    \n",
    "del resultsDF"
   ]
  },
  {
   "cell_type": "code",
   "execution_count": 133,
   "id": "5b054094",
   "metadata": {},
   "outputs": [
    {
     "name": "stdout",
     "output_type": "stream",
     "text": [
      "  County Code County Name District Code                    District Name  \\\n",
      "0          01    ATLANTIC        10.000  ABSECON PUBLIC SCHOOLS DISTRICT   \n",
      "1          01    ATLANTIC       110.000    ATLANTIC CITY SCHOOL DISTRICT   \n",
      "2          01    ATLANTIC       110.000    ATLANTIC CITY SCHOOL DISTRICT   \n",
      "3          01    ATLANTIC       110.000    ATLANTIC CITY SCHOOL DISTRICT   \n",
      "4          01    ATLANTIC       110.000    ATLANTIC CITY SCHOOL DISTRICT   \n",
      "\n",
      "  School Code              School Name Subgroup Subgroup_Type  \\\n",
      "0        50.0           EMMA C ATTALES    TOTAL  ALL STUDENTS   \n",
      "1        30.0  SOVEREIGN AVENUE SCHOOL    TOTAL  ALL STUDENTS   \n",
      "2        50.0   CHELSEA HEIGHTS SCHOOL    TOTAL  ALL STUDENTS   \n",
      "3        60.0      TEXAS AVENUE SCHOOL    TOTAL  ALL STUDENTS   \n",
      "4        70.0   NEW YORK AVENUE SCHOOL    TOTAL  ALL STUDENTS   \n",
      "\n",
      "  Registered To Test Not Tested ** (See Below)  ...  L4 Percent  L5 Percent  \\\n",
      "0                  *                         *  ...      28.000       1.000   \n",
      "1                  *                         *  ...      19.200       0.000   \n",
      "2                  *                         *  ...      25.900      11.100   \n",
      "3                  *                         *  ...      16.700       1.400   \n",
      "4                  *                         *  ...       0.000       0.000   \n",
      "\n",
      "   Assessment  Year  Grade  L1 Number  L2 Number L3 Number L4 Number  \\\n",
      "0       MAT06  2023      6      7.000     26.000    38.000    28.000   \n",
      "1       MAT06  2023      6     24.024     20.982    18.018    14.976   \n",
      "2       MAT06  2023      6      0.999      6.993     8.991     6.993   \n",
      "3       MAT06  2023      6     14.976     22.968    21.024    12.024   \n",
      "4       MAT06  2023      6     34.017     11.016     6.018     0.000   \n",
      "\n",
      "   L5 Number  \n",
      "0      1.000  \n",
      "1      0.000  \n",
      "2      2.997  \n",
      "3      1.008  \n",
      "4      0.000  \n",
      "\n",
      "[5 rows x 25 columns]\n",
      "  County Code County Name District Code                    District Name  \\\n",
      "0          01    ATLANTIC        10.000  ABSECON PUBLIC SCHOOLS DISTRICT   \n",
      "1          01    ATLANTIC       110.000    ATLANTIC CITY SCHOOL DISTRICT   \n",
      "2          01    ATLANTIC       110.000    ATLANTIC CITY SCHOOL DISTRICT   \n",
      "3          01    ATLANTIC       110.000    ATLANTIC CITY SCHOOL DISTRICT   \n",
      "4          01    ATLANTIC       110.000    ATLANTIC CITY SCHOOL DISTRICT   \n",
      "\n",
      "  School Code              School Name Subgroup Subgroup_Type  \\\n",
      "0        50.0           EMMA C ATTALES    TOTAL  ALL STUDENTS   \n",
      "1        30.0  SOVEREIGN AVENUE SCHOOL    TOTAL  ALL STUDENTS   \n",
      "2        50.0   CHELSEA HEIGHTS SCHOOL    TOTAL  ALL STUDENTS   \n",
      "3        60.0      TEXAS AVENUE SCHOOL    TOTAL  ALL STUDENTS   \n",
      "4        70.0   NEW YORK AVENUE SCHOOL    TOTAL  ALL STUDENTS   \n",
      "\n",
      "  Registered To Test Not Tested ** (See Below)  ...  L4 Percent  L5 Percent  \\\n",
      "0                  *                         *  ...      33.700      14.900   \n",
      "1                  *                         *  ...      29.700       9.500   \n",
      "2                  *                         *  ...      61.500       3.800   \n",
      "3                  *                         *  ...      18.800       4.300   \n",
      "4                  *                         *  ...       0.000       0.000   \n",
      "\n",
      "   Assessment  Year  Grade  L1 Number  L2 Number L3 Number L4 Number  \\\n",
      "0       ELA06  2023      6      7.979     16.968    26.967    34.037   \n",
      "1       ELA06  2023      6     11.026      9.990    23.976    21.978   \n",
      "2       ELA06  2023      6      0.988      2.002     6.006    15.990   \n",
      "3       ELA06  2023      6     18.975     18.975    14.973    12.972   \n",
      "4       ELA06  2023      6     31.977      9.996     8.976     0.000   \n",
      "\n",
      "   L5 Number  \n",
      "0     15.049  \n",
      "1      7.030  \n",
      "2      0.988  \n",
      "3      2.967  \n",
      "4      0.000  \n",
      "\n",
      "[5 rows x 25 columns]\n"
     ]
    }
   ],
   "source": [
    "for subject in subjects:\n",
    "    resultsDF = resultsDFs[subject]\n",
    "    assessment = resultsDF['Assessment']\n",
    "    resultsDF['Grade'] = assessment.str[-1]\n",
    "    resultsDF['Grade'] = pd.to_numeric(resultsDF['Grade'])\n",
    "    levels = ['L1', 'L2', 'L3', 'L4', 'L5']\n",
    "    for l in levels:        \n",
    "        resultsDF[f'{l} Number'] = (resultsDF[f'{l} Percent']*0.01)*resultsDF['Valid Scores']\n",
    "    \n",
    "    print(resultsDF.head())\n",
    "   \n",
    "del resultsDF"
   ]
  },
  {
   "cell_type": "markdown",
   "id": "133be020",
   "metadata": {},
   "source": [
    "## Analysis"
   ]
  },
  {
   "cell_type": "markdown",
   "id": "3044275a",
   "metadata": {},
   "source": [
    "#### Prepare schools dataframe with only middle school tests results (grades 6-8)"
   ]
  },
  {
   "cell_type": "code",
   "execution_count": 134,
   "id": "236acec5",
   "metadata": {
    "scrolled": true
   },
   "outputs": [
    {
     "name": "stdout",
     "output_type": "stream",
     "text": [
      "  School Code                       School Name  Year  Level 1 Math  \\\n",
      "0        10.0  ALICE COSTELLO ELEMENTARY SCHOOL  2015         0.127   \n",
      "1        10.0  ALICE COSTELLO ELEMENTARY SCHOOL  2016         0.196   \n",
      "2        10.0  ALICE COSTELLO ELEMENTARY SCHOOL  2017         0.185   \n",
      "3        10.0  ALICE COSTELLO ELEMENTARY SCHOOL  2018         0.143   \n",
      "4        10.0  ALICE COSTELLO ELEMENTARY SCHOOL  2019         0.165   \n",
      "\n",
      "   Level 2 Math  Level 3 Math  Level 4 Math  Level 5 Math  \n",
      "0         0.365         0.349         0.159         0.000  \n",
      "1         0.196         0.411         0.178         0.018  \n",
      "2         0.231         0.462         0.123         0.000  \n",
      "3         0.414         0.328         0.114         0.000  \n",
      "4         0.341         0.365         0.129         0.000  \n",
      "  School Code                       School Name  Year  Level 1 ELA  \\\n",
      "0        10.0  ALICE COSTELLO ELEMENTARY SCHOOL  2015        0.111   \n",
      "1        10.0  ALICE COSTELLO ELEMENTARY SCHOOL  2016        0.140   \n",
      "2        10.0  ALICE COSTELLO ELEMENTARY SCHOOL  2017        0.092   \n",
      "3        10.0  ALICE COSTELLO ELEMENTARY SCHOOL  2018        0.123   \n",
      "4        10.0  ALICE COSTELLO ELEMENTARY SCHOOL  2019        0.090   \n",
      "\n",
      "   Level 2 ELA  Level 3 ELA  Level 4 ELA  Level 5 ELA  \n",
      "0        0.238        0.302        0.318        0.032  \n",
      "1        0.105        0.369        0.316        0.070  \n",
      "2        0.132        0.408        0.289        0.079  \n",
      "3        0.235        0.346        0.284        0.012  \n",
      "4        0.190        0.280        0.380        0.060  \n"
     ]
    }
   ],
   "source": [
    "# Select middle school grades results from the dataframes with Math and ELA tests results\n",
    "\n",
    "resultsMS_bySchl_Norm ={}\n",
    "\n",
    "for subject in subjects:\n",
    "        \n",
    "    resultsDF = resultsDFs[subject]\n",
    "    \n",
    "    # Dataframe with only grades 6-8 results (middle schools and K-8) by years\n",
    "    resultsMS_bySchl = resultsDF.groupby(['School Code', 'School Name', 'Year'])[['L1 Number','L2 Number','L3 Number','L4 Number','L5 Number']].sum()\n",
    "    \n",
    "    # Change column names to include subject\n",
    "    resultsMS_bySchl.columns = [f'Level 1 {subject}',f'Level 2 {subject}',f'Level 3 {subject}',f'Level 4 {subject}', f'Level 5 {subject}']\n",
    "    \n",
    "    # Dataframe for middle schools by years with normalized values\n",
    "    resultsMS_bySchl_Norm[subject] = resultsMS_bySchl.div(resultsMS_bySchl.sum(axis=1), axis=0)\n",
    "    resultsMS_bySchl_Norm[subject].reset_index(inplace=True)\n",
    "    \n",
    "    print(resultsMS_bySchl_Norm[subject].head())\n",
    "    \n",
    "del resultsDF, resultsMS_bySchl"
   ]
  },
  {
   "cell_type": "code",
   "execution_count": 135,
   "id": "e0f5b494",
   "metadata": {},
   "outputs": [
    {
     "data": {
      "text/html": [
       "<div>\n",
       "<style scoped>\n",
       "    .dataframe tbody tr th:only-of-type {\n",
       "        vertical-align: middle;\n",
       "    }\n",
       "\n",
       "    .dataframe tbody tr th {\n",
       "        vertical-align: top;\n",
       "    }\n",
       "\n",
       "    .dataframe thead th {\n",
       "        text-align: right;\n",
       "    }\n",
       "</style>\n",
       "<table border=\"1\" class=\"dataframe\">\n",
       "  <thead>\n",
       "    <tr style=\"text-align: right;\">\n",
       "      <th></th>\n",
       "      <th>School Code_x</th>\n",
       "      <th>School Name</th>\n",
       "      <th>Year</th>\n",
       "      <th>Level 1 Math</th>\n",
       "      <th>Level 2 Math</th>\n",
       "      <th>Level 3 Math</th>\n",
       "      <th>Level 4 Math</th>\n",
       "      <th>Level 5 Math</th>\n",
       "      <th>School Code_y</th>\n",
       "      <th>Level 1 ELA</th>\n",
       "      <th>Level 2 ELA</th>\n",
       "      <th>Level 3 ELA</th>\n",
       "      <th>Level 4 ELA</th>\n",
       "      <th>Level 5 ELA</th>\n",
       "    </tr>\n",
       "  </thead>\n",
       "  <tbody>\n",
       "    <tr>\n",
       "      <th>0</th>\n",
       "      <td>10.0</td>\n",
       "      <td>ALICE COSTELLO ELEMENTARY SCHOOL</td>\n",
       "      <td>2015</td>\n",
       "      <td>0.127</td>\n",
       "      <td>0.365</td>\n",
       "      <td>0.349</td>\n",
       "      <td>0.159</td>\n",
       "      <td>0.000</td>\n",
       "      <td>10.0</td>\n",
       "      <td>0.111</td>\n",
       "      <td>0.238</td>\n",
       "      <td>0.302</td>\n",
       "      <td>0.318</td>\n",
       "      <td>0.032</td>\n",
       "    </tr>\n",
       "    <tr>\n",
       "      <th>1</th>\n",
       "      <td>10.0</td>\n",
       "      <td>ALICE COSTELLO ELEMENTARY SCHOOL</td>\n",
       "      <td>2016</td>\n",
       "      <td>0.196</td>\n",
       "      <td>0.196</td>\n",
       "      <td>0.411</td>\n",
       "      <td>0.178</td>\n",
       "      <td>0.018</td>\n",
       "      <td>10.0</td>\n",
       "      <td>0.140</td>\n",
       "      <td>0.105</td>\n",
       "      <td>0.369</td>\n",
       "      <td>0.316</td>\n",
       "      <td>0.070</td>\n",
       "    </tr>\n",
       "    <tr>\n",
       "      <th>2</th>\n",
       "      <td>10.0</td>\n",
       "      <td>ALICE COSTELLO ELEMENTARY SCHOOL</td>\n",
       "      <td>2017</td>\n",
       "      <td>0.185</td>\n",
       "      <td>0.231</td>\n",
       "      <td>0.462</td>\n",
       "      <td>0.123</td>\n",
       "      <td>0.000</td>\n",
       "      <td>10.0</td>\n",
       "      <td>0.092</td>\n",
       "      <td>0.132</td>\n",
       "      <td>0.408</td>\n",
       "      <td>0.289</td>\n",
       "      <td>0.079</td>\n",
       "    </tr>\n",
       "    <tr>\n",
       "      <th>3</th>\n",
       "      <td>10.0</td>\n",
       "      <td>ALICE COSTELLO ELEMENTARY SCHOOL</td>\n",
       "      <td>2018</td>\n",
       "      <td>0.143</td>\n",
       "      <td>0.414</td>\n",
       "      <td>0.328</td>\n",
       "      <td>0.114</td>\n",
       "      <td>0.000</td>\n",
       "      <td>10.0</td>\n",
       "      <td>0.123</td>\n",
       "      <td>0.235</td>\n",
       "      <td>0.346</td>\n",
       "      <td>0.284</td>\n",
       "      <td>0.012</td>\n",
       "    </tr>\n",
       "    <tr>\n",
       "      <th>4</th>\n",
       "      <td>10.0</td>\n",
       "      <td>ALICE COSTELLO ELEMENTARY SCHOOL</td>\n",
       "      <td>2019</td>\n",
       "      <td>0.165</td>\n",
       "      <td>0.341</td>\n",
       "      <td>0.365</td>\n",
       "      <td>0.129</td>\n",
       "      <td>0.000</td>\n",
       "      <td>10.0</td>\n",
       "      <td>0.090</td>\n",
       "      <td>0.190</td>\n",
       "      <td>0.280</td>\n",
       "      <td>0.380</td>\n",
       "      <td>0.060</td>\n",
       "    </tr>\n",
       "  </tbody>\n",
       "</table>\n",
       "</div>"
      ],
      "text/plain": [
       "  School Code_x                       School Name  Year  Level 1 Math  \\\n",
       "0          10.0  ALICE COSTELLO ELEMENTARY SCHOOL  2015         0.127   \n",
       "1          10.0  ALICE COSTELLO ELEMENTARY SCHOOL  2016         0.196   \n",
       "2          10.0  ALICE COSTELLO ELEMENTARY SCHOOL  2017         0.185   \n",
       "3          10.0  ALICE COSTELLO ELEMENTARY SCHOOL  2018         0.143   \n",
       "4          10.0  ALICE COSTELLO ELEMENTARY SCHOOL  2019         0.165   \n",
       "\n",
       "   Level 2 Math  Level 3 Math  Level 4 Math  Level 5 Math School Code_y  \\\n",
       "0         0.365         0.349         0.159         0.000          10.0   \n",
       "1         0.196         0.411         0.178         0.018          10.0   \n",
       "2         0.231         0.462         0.123         0.000          10.0   \n",
       "3         0.414         0.328         0.114         0.000          10.0   \n",
       "4         0.341         0.365         0.129         0.000          10.0   \n",
       "\n",
       "   Level 1 ELA  Level 2 ELA  Level 3 ELA  Level 4 ELA  Level 5 ELA  \n",
       "0        0.111        0.238        0.302        0.318        0.032  \n",
       "1        0.140        0.105        0.369        0.316        0.070  \n",
       "2        0.092        0.132        0.408        0.289        0.079  \n",
       "3        0.123        0.235        0.346        0.284        0.012  \n",
       "4        0.090        0.190        0.280        0.380        0.060  "
      ]
     },
     "execution_count": 135,
     "metadata": {},
     "output_type": "execute_result"
    }
   ],
   "source": [
    "# Make a merged dataframe with both Math and ELA results\n",
    "DFs = list(resultsMS_bySchl_Norm.values())\n",
    "allResultsDF = pd.merge(DFs[0], DFs[1], on = ['School Name', 'Year'], how = 'inner')\n",
    "allResultsDF.head(5)"
   ]
  },
  {
   "cell_type": "code",
   "execution_count": 136,
   "id": "47b165f0",
   "metadata": {},
   "outputs": [
    {
     "data": {
      "text/html": [
       "<div>\n",
       "<style scoped>\n",
       "    .dataframe tbody tr th:only-of-type {\n",
       "        vertical-align: middle;\n",
       "    }\n",
       "\n",
       "    .dataframe tbody tr th {\n",
       "        vertical-align: top;\n",
       "    }\n",
       "\n",
       "    .dataframe thead th {\n",
       "        text-align: right;\n",
       "    }\n",
       "</style>\n",
       "<table border=\"1\" class=\"dataframe\">\n",
       "  <thead>\n",
       "    <tr style=\"text-align: right;\">\n",
       "      <th></th>\n",
       "      <th>School Code_x</th>\n",
       "      <th>School Name</th>\n",
       "      <th>Year</th>\n",
       "      <th>Level 1 Math</th>\n",
       "      <th>Level 2 Math</th>\n",
       "      <th>Level 3 Math</th>\n",
       "      <th>Level 4 Math</th>\n",
       "      <th>Level 5 Math</th>\n",
       "      <th>School Code_y</th>\n",
       "      <th>Level 1 ELA</th>\n",
       "      <th>Level 2 ELA</th>\n",
       "      <th>Level 3 ELA</th>\n",
       "      <th>Level 4 ELA</th>\n",
       "      <th>Level 5 ELA</th>\n",
       "      <th>Level 5 Math+Ela</th>\n",
       "    </tr>\n",
       "  </thead>\n",
       "  <tbody>\n",
       "    <tr>\n",
       "      <th>0</th>\n",
       "      <td>10.0</td>\n",
       "      <td>ALICE COSTELLO ELEMENTARY SCHOOL</td>\n",
       "      <td>2015</td>\n",
       "      <td>0.127</td>\n",
       "      <td>0.365</td>\n",
       "      <td>0.349</td>\n",
       "      <td>0.159</td>\n",
       "      <td>0.000</td>\n",
       "      <td>10.0</td>\n",
       "      <td>0.111</td>\n",
       "      <td>0.238</td>\n",
       "      <td>0.302</td>\n",
       "      <td>0.318</td>\n",
       "      <td>0.032</td>\n",
       "      <td>0.032</td>\n",
       "    </tr>\n",
       "    <tr>\n",
       "      <th>1</th>\n",
       "      <td>10.0</td>\n",
       "      <td>ALICE COSTELLO ELEMENTARY SCHOOL</td>\n",
       "      <td>2016</td>\n",
       "      <td>0.196</td>\n",
       "      <td>0.196</td>\n",
       "      <td>0.411</td>\n",
       "      <td>0.178</td>\n",
       "      <td>0.018</td>\n",
       "      <td>10.0</td>\n",
       "      <td>0.140</td>\n",
       "      <td>0.105</td>\n",
       "      <td>0.369</td>\n",
       "      <td>0.316</td>\n",
       "      <td>0.070</td>\n",
       "      <td>0.088</td>\n",
       "    </tr>\n",
       "    <tr>\n",
       "      <th>2</th>\n",
       "      <td>10.0</td>\n",
       "      <td>ALICE COSTELLO ELEMENTARY SCHOOL</td>\n",
       "      <td>2017</td>\n",
       "      <td>0.185</td>\n",
       "      <td>0.231</td>\n",
       "      <td>0.462</td>\n",
       "      <td>0.123</td>\n",
       "      <td>0.000</td>\n",
       "      <td>10.0</td>\n",
       "      <td>0.092</td>\n",
       "      <td>0.132</td>\n",
       "      <td>0.408</td>\n",
       "      <td>0.289</td>\n",
       "      <td>0.079</td>\n",
       "      <td>0.079</td>\n",
       "    </tr>\n",
       "    <tr>\n",
       "      <th>3</th>\n",
       "      <td>10.0</td>\n",
       "      <td>ALICE COSTELLO ELEMENTARY SCHOOL</td>\n",
       "      <td>2018</td>\n",
       "      <td>0.143</td>\n",
       "      <td>0.414</td>\n",
       "      <td>0.328</td>\n",
       "      <td>0.114</td>\n",
       "      <td>0.000</td>\n",
       "      <td>10.0</td>\n",
       "      <td>0.123</td>\n",
       "      <td>0.235</td>\n",
       "      <td>0.346</td>\n",
       "      <td>0.284</td>\n",
       "      <td>0.012</td>\n",
       "      <td>0.012</td>\n",
       "    </tr>\n",
       "    <tr>\n",
       "      <th>4</th>\n",
       "      <td>10.0</td>\n",
       "      <td>ALICE COSTELLO ELEMENTARY SCHOOL</td>\n",
       "      <td>2019</td>\n",
       "      <td>0.165</td>\n",
       "      <td>0.341</td>\n",
       "      <td>0.365</td>\n",
       "      <td>0.129</td>\n",
       "      <td>0.000</td>\n",
       "      <td>10.0</td>\n",
       "      <td>0.090</td>\n",
       "      <td>0.190</td>\n",
       "      <td>0.280</td>\n",
       "      <td>0.380</td>\n",
       "      <td>0.060</td>\n",
       "      <td>0.060</td>\n",
       "    </tr>\n",
       "    <tr>\n",
       "      <th>5</th>\n",
       "      <td>10.0</td>\n",
       "      <td>ALICE COSTELLO ELEMENTARY SCHOOL</td>\n",
       "      <td>2022</td>\n",
       "      <td>0.149</td>\n",
       "      <td>0.264</td>\n",
       "      <td>0.356</td>\n",
       "      <td>0.218</td>\n",
       "      <td>0.012</td>\n",
       "      <td>10.0</td>\n",
       "      <td>0.144</td>\n",
       "      <td>0.196</td>\n",
       "      <td>0.402</td>\n",
       "      <td>0.216</td>\n",
       "      <td>0.041</td>\n",
       "      <td>0.053</td>\n",
       "    </tr>\n",
       "    <tr>\n",
       "      <th>6</th>\n",
       "      <td>10.0</td>\n",
       "      <td>ALICE COSTELLO ELEMENTARY SCHOOL</td>\n",
       "      <td>2023</td>\n",
       "      <td>0.186</td>\n",
       "      <td>0.291</td>\n",
       "      <td>0.279</td>\n",
       "      <td>0.221</td>\n",
       "      <td>0.023</td>\n",
       "      <td>10.0</td>\n",
       "      <td>0.212</td>\n",
       "      <td>0.131</td>\n",
       "      <td>0.283</td>\n",
       "      <td>0.283</td>\n",
       "      <td>0.091</td>\n",
       "      <td>0.114</td>\n",
       "    </tr>\n",
       "    <tr>\n",
       "      <th>7</th>\n",
       "      <td>10.0</td>\n",
       "      <td>ALLAMUCHY TOWNSHIP SCHOOL</td>\n",
       "      <td>2015</td>\n",
       "      <td>0.084</td>\n",
       "      <td>0.221</td>\n",
       "      <td>0.295</td>\n",
       "      <td>0.347</td>\n",
       "      <td>0.053</td>\n",
       "      <td>10.0</td>\n",
       "      <td>0.046</td>\n",
       "      <td>0.101</td>\n",
       "      <td>0.202</td>\n",
       "      <td>0.422</td>\n",
       "      <td>0.229</td>\n",
       "      <td>0.282</td>\n",
       "    </tr>\n",
       "    <tr>\n",
       "      <th>8</th>\n",
       "      <td>10.0</td>\n",
       "      <td>ALLAMUCHY TOWNSHIP SCHOOL</td>\n",
       "      <td>2016</td>\n",
       "      <td>0.047</td>\n",
       "      <td>0.196</td>\n",
       "      <td>0.383</td>\n",
       "      <td>0.337</td>\n",
       "      <td>0.037</td>\n",
       "      <td>10.0</td>\n",
       "      <td>0.058</td>\n",
       "      <td>0.123</td>\n",
       "      <td>0.295</td>\n",
       "      <td>0.401</td>\n",
       "      <td>0.123</td>\n",
       "      <td>0.160</td>\n",
       "    </tr>\n",
       "    <tr>\n",
       "      <th>9</th>\n",
       "      <td>10.0</td>\n",
       "      <td>ALLAMUCHY TOWNSHIP SCHOOL</td>\n",
       "      <td>2017</td>\n",
       "      <td>0.048</td>\n",
       "      <td>0.173</td>\n",
       "      <td>0.385</td>\n",
       "      <td>0.365</td>\n",
       "      <td>0.029</td>\n",
       "      <td>10.0</td>\n",
       "      <td>0.049</td>\n",
       "      <td>0.122</td>\n",
       "      <td>0.195</td>\n",
       "      <td>0.520</td>\n",
       "      <td>0.114</td>\n",
       "      <td>0.143</td>\n",
       "    </tr>\n",
       "  </tbody>\n",
       "</table>\n",
       "</div>"
      ],
      "text/plain": [
       "  School Code_x                       School Name  Year  Level 1 Math  \\\n",
       "0          10.0  ALICE COSTELLO ELEMENTARY SCHOOL  2015         0.127   \n",
       "1          10.0  ALICE COSTELLO ELEMENTARY SCHOOL  2016         0.196   \n",
       "2          10.0  ALICE COSTELLO ELEMENTARY SCHOOL  2017         0.185   \n",
       "3          10.0  ALICE COSTELLO ELEMENTARY SCHOOL  2018         0.143   \n",
       "4          10.0  ALICE COSTELLO ELEMENTARY SCHOOL  2019         0.165   \n",
       "5          10.0  ALICE COSTELLO ELEMENTARY SCHOOL  2022         0.149   \n",
       "6          10.0  ALICE COSTELLO ELEMENTARY SCHOOL  2023         0.186   \n",
       "7          10.0         ALLAMUCHY TOWNSHIP SCHOOL  2015         0.084   \n",
       "8          10.0         ALLAMUCHY TOWNSHIP SCHOOL  2016         0.047   \n",
       "9          10.0         ALLAMUCHY TOWNSHIP SCHOOL  2017         0.048   \n",
       "\n",
       "   Level 2 Math  Level 3 Math  Level 4 Math  Level 5 Math School Code_y  \\\n",
       "0         0.365         0.349         0.159         0.000          10.0   \n",
       "1         0.196         0.411         0.178         0.018          10.0   \n",
       "2         0.231         0.462         0.123         0.000          10.0   \n",
       "3         0.414         0.328         0.114         0.000          10.0   \n",
       "4         0.341         0.365         0.129         0.000          10.0   \n",
       "5         0.264         0.356         0.218         0.012          10.0   \n",
       "6         0.291         0.279         0.221         0.023          10.0   \n",
       "7         0.221         0.295         0.347         0.053          10.0   \n",
       "8         0.196         0.383         0.337         0.037          10.0   \n",
       "9         0.173         0.385         0.365         0.029          10.0   \n",
       "\n",
       "   Level 1 ELA  Level 2 ELA  Level 3 ELA  Level 4 ELA  Level 5 ELA  \\\n",
       "0        0.111        0.238        0.302        0.318        0.032   \n",
       "1        0.140        0.105        0.369        0.316        0.070   \n",
       "2        0.092        0.132        0.408        0.289        0.079   \n",
       "3        0.123        0.235        0.346        0.284        0.012   \n",
       "4        0.090        0.190        0.280        0.380        0.060   \n",
       "5        0.144        0.196        0.402        0.216        0.041   \n",
       "6        0.212        0.131        0.283        0.283        0.091   \n",
       "7        0.046        0.101        0.202        0.422        0.229   \n",
       "8        0.058        0.123        0.295        0.401        0.123   \n",
       "9        0.049        0.122        0.195        0.520        0.114   \n",
       "\n",
       "   Level 5 Math+Ela  \n",
       "0             0.032  \n",
       "1             0.088  \n",
       "2             0.079  \n",
       "3             0.012  \n",
       "4             0.060  \n",
       "5             0.053  \n",
       "6             0.114  \n",
       "7             0.282  \n",
       "8             0.160  \n",
       "9             0.143  "
      ]
     },
     "execution_count": 136,
     "metadata": {},
     "output_type": "execute_result"
    }
   ],
   "source": [
    "# Add colomn with sum of shares of level4 students by Math and level4 students ELa\n",
    "allResultsDF['Level 5 Math+Ela'] = allResultsDF[f'Level 5 {subjects[0]}']+allResultsDF[f'Level 5 {subjects[1]}']\n",
    "allResultsDF.head(10)"
   ]
  },
  {
   "cell_type": "code",
   "execution_count": 137,
   "id": "5c968e37",
   "metadata": {},
   "outputs": [
    {
     "name": "stdout",
     "output_type": "stream",
     "text": [
      "['2015' '2016' '2017' '2018' '2019' '2022' '2023']\n"
     ]
    }
   ],
   "source": [
    "unique_values = allResultsDF['Year'].unique()\n",
    "print(unique_values)"
   ]
  },
  {
   "cell_type": "markdown",
   "id": "df375bba",
   "metadata": {},
   "source": [
    "#### Select schools with the best results for all middle school grades in 2023"
   ]
  },
  {
   "cell_type": "raw",
   "id": "3178af18",
   "metadata": {},
   "source": [
    "# Select best schools by subjects\n",
    "for subject in subjects:\n",
    "    \n",
    "    resultsMS_bySchl_sorted = resultsMS_bySchl_Norm[subject].sort_values(by = ['Year', f'Level 4 {subject}'], ascending=[False, False])\n",
    "    print(resultsMS_bySchl_sorted.head(50))\n",
    "\n",
    "    resultsMS_bySchl_sorted.head(50).to_csv(f'50_schools_with_highest_level4_share_{subject}2023.csv', index = True)\n",
    "    \n",
    "del resultsMS_bySchl_sorted"
   ]
  },
  {
   "cell_type": "raw",
   "id": "4f86d7fe",
   "metadata": {},
   "source": [
    "# Select top 50 schools by sum of level 4 resuts by math and ELA\n",
    "allResultsDF_sorted_2023 = allResultsDF.sort_values(by = ['Year', 'Level 4 Math+Ela'], ascending=[False, False])\n",
    "allRS2023Name = '50_schools_with_highest_level4_MathEla23.csv'\n",
    "allRS2023Path = os.path.join(basePath, outputFolder, allRS2023Name)\n",
    "allResultsDF_sorted_2023.head(50).to_csv(allRS2023Path, index = True)"
   ]
  },
  {
   "cell_type": "markdown",
   "id": "c9e02b6b",
   "metadata": {},
   "source": [
    "#### Create dataframe with average 2015-2023 math and ela test results for all middle school grades"
   ]
  },
  {
   "cell_type": "code",
   "execution_count": 138,
   "id": "1aa767cf",
   "metadata": {},
   "outputs": [
    {
     "name": "stdout",
     "output_type": "stream",
     "text": [
      "Math\n",
      "1235\n",
      "ELA\n",
      "1235\n"
     ]
    }
   ],
   "source": [
    "# Make a merged dataframe with both Math and ELA average 2015-2023 results \n",
    "\n",
    "resultsMS_AVG2015_23 = {}\n",
    "\n",
    "for subject in subjects:\n",
    "    \n",
    "    resultsDF = resultsDFs[subject]\n",
    "    \n",
    "    # Dataframe with only grades 6-8 results (middle schools and K-8) by schools\n",
    "    resultsMS_bySchl_sumed = resultsDF.groupby(['School Code', 'School Name'])[['L1 Number','L2 Number','L3 Number','L4 Number','L5 Number']].sum()\n",
    "    \n",
    "    # Rename columns\n",
    "    resultsMS_bySchl_sumed.columns = [f'# Level 1 {subject}',f'# Level 2 {subject}',f'# Level 3 {subject}',f'# Level 4 {subject}', f'# Level 5 {subject}']\n",
    "\n",
    "    \n",
    "    # Dataframe for middle schools by years with normalized values\n",
    "    resultsMS_bySchl_sumed_Norm = resultsMS_bySchl_sumed.div(resultsMS_bySchl_sumed.sum(axis=1), axis=0)\n",
    "    resultsMS_bySchl_sumed_Norm.columns = [f'8yrs avg Lvl 1 {subject}',f'8yrs avg Lvl 2 {subject}',f'8yrs avg Lvl 3 {subject}', f'8yrs avg Lvl 4 {subject}', f'8yrs avg Lvl 5 {subject}']\n",
    "    resultsMS_bySchl_sumed_Norm.reset_index(inplace = True)\n",
    "    \n",
    "    # Add the dataframe to the respective dictionnary \n",
    "    resultsMS_AVG2015_23[subject] = resultsMS_bySchl_sumed_Norm\n",
    "    print(subject)\n",
    "    print(len(resultsMS_AVG2015_23[subject]))\n",
    "    \n",
    "\n",
    "# del resultsDF, resultsMS_bySchl_sumed_Norm, resultsMS_bySchl_sumed_sorted, fileName, filePath, resultsMS_bySchl_sumed\n",
    "del resultsDF, resultsMS_bySchl_sumed_Norm, resultsMS_bySchl_sumed"
   ]
  },
  {
   "cell_type": "code",
   "execution_count": 139,
   "id": "2d5d432a",
   "metadata": {},
   "outputs": [],
   "source": [
    "# Make a merged dataframe with both Math and ELA average 2013-2023 results \n",
    "\n",
    "AVG2015_23_DFs = list(resultsMS_AVG2015_23.values())\n",
    "allResultsAVG2015_23DF = pd.merge(AVG2015_23_DFs[0], AVG2015_23_DFs[1], on = ['School Code','School Name'], how = 'inner')\n",
    "allResultsAVG2015_23DF['8yrs avg Lvl 5 Math+Ela'] = allResultsAVG2015_23DF[f'8yrs avg Lvl 5 {subjects[0]}']+allResultsAVG2015_23DF[f'8yrs avg Lvl 5 {subjects[1]}']\n",
    "\n",
    "del AVG2015_23_DFs"
   ]
  },
  {
   "cell_type": "code",
   "execution_count": 140,
   "id": "22be6cd2",
   "metadata": {},
   "outputs": [
    {
     "name": "stdout",
     "output_type": "stream",
     "text": [
      "<class 'pandas.core.frame.DataFrame'>\n",
      "Int64Index: 1234 entries, 0 to 1233\n",
      "Data columns (total 13 columns):\n",
      " #   Column                   Non-Null Count  Dtype  \n",
      "---  ------                   --------------  -----  \n",
      " 0   School Code              1234 non-null   object \n",
      " 1   School Name              1234 non-null   object \n",
      " 2   8yrs avg Lvl 1 Math      1224 non-null   float64\n",
      " 3   8yrs avg Lvl 2 Math      1224 non-null   float64\n",
      " 4   8yrs avg Lvl 3 Math      1224 non-null   float64\n",
      " 5   8yrs avg Lvl 4 Math      1224 non-null   float64\n",
      " 6   8yrs avg Lvl 5 Math      1224 non-null   float64\n",
      " 7   8yrs avg Lvl 1 ELA       1225 non-null   float64\n",
      " 8   8yrs avg Lvl 2 ELA       1225 non-null   float64\n",
      " 9   8yrs avg Lvl 3 ELA       1225 non-null   float64\n",
      " 10  8yrs avg Lvl 4 ELA       1225 non-null   float64\n",
      " 11  8yrs avg Lvl 5 ELA       1225 non-null   float64\n",
      " 12  8yrs avg Lvl 5 Math+Ela  1224 non-null   float64\n",
      "dtypes: float64(11), object(2)\n",
      "memory usage: 135.0+ KB\n"
     ]
    }
   ],
   "source": [
    "allResultsAVG2015_23DF.info()"
   ]
  },
  {
   "cell_type": "code",
   "execution_count": 127,
   "id": "8bd60f2d",
   "metadata": {},
   "outputs": [
    {
     "data": {
      "text/html": [
       "<div>\n",
       "<style scoped>\n",
       "    .dataframe tbody tr th:only-of-type {\n",
       "        vertical-align: middle;\n",
       "    }\n",
       "\n",
       "    .dataframe tbody tr th {\n",
       "        vertical-align: top;\n",
       "    }\n",
       "\n",
       "    .dataframe thead th {\n",
       "        text-align: right;\n",
       "    }\n",
       "</style>\n",
       "<table border=\"1\" class=\"dataframe\">\n",
       "  <thead>\n",
       "    <tr style=\"text-align: right;\">\n",
       "      <th></th>\n",
       "      <th>School Name</th>\n",
       "      <th>School Name_x</th>\n",
       "      <th>School Name_x</th>\n",
       "      <th>School Code</th>\n",
       "      <th>8yrs avg Lvl 1 Math</th>\n",
       "      <th>8yrs avg Lvl 2 Math</th>\n",
       "      <th>8yrs avg Lvl 3 Math</th>\n",
       "      <th>8yrs avg Lvl 4 Math</th>\n",
       "      <th>8yrs avg Lvl 5 Math</th>\n",
       "      <th>8yrs avg Lvl 1 ELA</th>\n",
       "      <th>...</th>\n",
       "      <th>plot Math_x</th>\n",
       "      <th>plot ELA_x</th>\n",
       "      <th>School Name_y</th>\n",
       "      <th>plot Math_y</th>\n",
       "      <th>School Name_y</th>\n",
       "      <th>plot ELA_y</th>\n",
       "      <th>School Name_y</th>\n",
       "      <th>plot Math</th>\n",
       "      <th>School Name_y</th>\n",
       "      <th>plot ELA</th>\n",
       "    </tr>\n",
       "  </thead>\n",
       "  <tbody>\n",
       "    <tr>\n",
       "      <th>0</th>\n",
       "      <td>ALICE COSTELLO ELEMENTARY SCHOOL</td>\n",
       "      <td>ALICE COSTELLO ELEMENTARY SCHOOL</td>\n",
       "      <td>ALICE COSTELLO ELEMENTARY SCHOOL</td>\n",
       "      <td>10.0</td>\n",
       "      <td>0.164</td>\n",
       "      <td>0.303</td>\n",
       "      <td>0.359</td>\n",
       "      <td>0.166</td>\n",
       "      <td>0.008</td>\n",
       "      <td>0.133</td>\n",
       "      <td>...</td>\n",
       "      <td>iVBORw0KGgoAAAANSUhEUgAAAfEAAAEhCAYAAABvDJlSAA...</td>\n",
       "      <td>iVBORw0KGgoAAAANSUhEUgAAAfEAAAEhCAYAAABvDJlSAA...</td>\n",
       "      <td>ALICE COSTELLO ELEMENTARY SCHOOL</td>\n",
       "      <td>iVBORw0KGgoAAAANSUhEUgAAAfEAAAEhCAYAAABvDJlSAA...</td>\n",
       "      <td>ALICE COSTELLO ELEMENTARY SCHOOL</td>\n",
       "      <td>iVBORw0KGgoAAAANSUhEUgAAAfEAAAEhCAYAAABvDJlSAA...</td>\n",
       "      <td>ALICE COSTELLO ELEMENTARY SCHOOL</td>\n",
       "      <td>iVBORw0KGgoAAAANSUhEUgAAAfEAAAEhCAYAAABvDJlSAA...</td>\n",
       "      <td>ALICE COSTELLO ELEMENTARY SCHOOL</td>\n",
       "      <td>iVBORw0KGgoAAAANSUhEUgAAAfEAAAEhCAYAAABvDJlSAA...</td>\n",
       "    </tr>\n",
       "  </tbody>\n",
       "</table>\n",
       "<p>1 rows × 27 columns</p>\n",
       "</div>"
      ],
      "text/plain": [
       "                        School Name                     School Name_x  \\\n",
       "0  ALICE COSTELLO ELEMENTARY SCHOOL  ALICE COSTELLO ELEMENTARY SCHOOL   \n",
       "\n",
       "                      School Name_x School Code  8yrs avg Lvl 1 Math  \\\n",
       "0  ALICE COSTELLO ELEMENTARY SCHOOL        10.0                0.164   \n",
       "\n",
       "   8yrs avg Lvl 2 Math  8yrs avg Lvl 3 Math  8yrs avg Lvl 4 Math  \\\n",
       "0                0.303                0.359                0.166   \n",
       "\n",
       "   8yrs avg Lvl 5 Math  8yrs avg Lvl 1 ELA  ...  \\\n",
       "0                0.008               0.133  ...   \n",
       "\n",
       "                                         plot Math_x  \\\n",
       "0  iVBORw0KGgoAAAANSUhEUgAAAfEAAAEhCAYAAABvDJlSAA...   \n",
       "\n",
       "                                          plot ELA_x  \\\n",
       "0  iVBORw0KGgoAAAANSUhEUgAAAfEAAAEhCAYAAABvDJlSAA...   \n",
       "\n",
       "                      School Name_y  \\\n",
       "0  ALICE COSTELLO ELEMENTARY SCHOOL   \n",
       "\n",
       "                                         plot Math_y  \\\n",
       "0  iVBORw0KGgoAAAANSUhEUgAAAfEAAAEhCAYAAABvDJlSAA...   \n",
       "\n",
       "                      School Name_y  \\\n",
       "0  ALICE COSTELLO ELEMENTARY SCHOOL   \n",
       "\n",
       "                                          plot ELA_y  \\\n",
       "0  iVBORw0KGgoAAAANSUhEUgAAAfEAAAEhCAYAAABvDJlSAA...   \n",
       "\n",
       "                      School Name_y  \\\n",
       "0  ALICE COSTELLO ELEMENTARY SCHOOL   \n",
       "\n",
       "                                           plot Math  \\\n",
       "0  iVBORw0KGgoAAAANSUhEUgAAAfEAAAEhCAYAAABvDJlSAA...   \n",
       "\n",
       "                      School Name_y  \\\n",
       "0  ALICE COSTELLO ELEMENTARY SCHOOL   \n",
       "\n",
       "                                            plot ELA  \n",
       "0  iVBORw0KGgoAAAANSUhEUgAAAfEAAAEhCAYAAABvDJlSAA...  \n",
       "\n",
       "[1 rows x 27 columns]"
      ]
     },
     "execution_count": 127,
     "metadata": {},
     "output_type": "execute_result"
    }
   ],
   "source": [
    "allResultsAVG2015_23DF.head()"
   ]
  },
  {
   "cell_type": "code",
   "execution_count": 110,
   "id": "080714a3",
   "metadata": {},
   "outputs": [
    {
     "name": "stdout",
     "output_type": "stream",
     "text": [
      "Schools' list ready.\n",
      "Dataframes by schools ready.\n",
      "Making plots of test results ...\n"
     ]
    },
    {
     "name": "stderr",
     "output_type": "stream",
     "text": [
      "100%|██████████████████████████████████████████████████████████████████████████████| 1202/1202 [03:56<00:00,  5.08it/s]\n"
     ]
    },
    {
     "name": "stdout",
     "output_type": "stream",
     "text": [
      "plotsDFs[subject]:                                             School Name  \\\n",
      "0                      ALICE COSTELLO ELEMENTARY SCHOOL   \n",
      "1                             ALLAMUCHY TOWNSHIP SCHOOL   \n",
      "2                                  ALPHA BOROUGH SCHOOL   \n",
      "3                              ALPINE ELEMENTARY SCHOOL   \n",
      "4                                      ARTS HIGH SCHOOL   \n",
      "...                                                 ...   \n",
      "1197  INTERNATIONAL ACADEMY OF ATLANTIC CITY CHARTER...   \n",
      "1198                   PRINCIPLE ACADEMY CHARTER SCHOOL   \n",
      "1199             HUDSON ARTS AND SCIENCE CHARTER SCHOOL   \n",
      "1200        PHILIP'S ACADEMY CHARTER SCHOOL OF PATERSON   \n",
      "1201                     CAMDENS PROMISE CHARTER SCHOOL   \n",
      "\n",
      "                                              plot Math  \n",
      "0     iVBORw0KGgoAAAANSUhEUgAAAfEAAAEhCAYAAABvDJlSAA...  \n",
      "1     iVBORw0KGgoAAAANSUhEUgAAAbkAAAEhCAYAAADiYd4GAA...  \n",
      "2     iVBORw0KGgoAAAANSUhEUgAAAYUAAAEhCAYAAACQrrywAA...  \n",
      "3     iVBORw0KGgoAAAANSUhEUgAAAZ8AAAEhCAYAAACgIq2RAA...  \n",
      "4     iVBORw0KGgoAAAANSUhEUgAAAVoAAAEhCAYAAAA+tGh0AA...  \n",
      "...                                                 ...  \n",
      "1197  iVBORw0KGgoAAAANSUhEUgAAAr8AAAEhCAYAAAB2nchAAA...  \n",
      "1198  iVBORw0KGgoAAAANSUhEUgAAAfMAAAEhCAYAAABr+UlvAA...  \n",
      "1199  iVBORw0KGgoAAAANSUhEUgAAAjgAAAEhCAYAAAByRNo4AA...  \n",
      "1200  iVBORw0KGgoAAAANSUhEUgAAAlkAAAEhCAYAAABMYbV2AA...  \n",
      "1201  iVBORw0KGgoAAAANSUhEUgAAAesAAAEhCAYAAABfgIhzAA...  \n",
      "\n",
      "[1202 rows x 2 columns]\n"
     ]
    },
    {
     "name": "stderr",
     "output_type": "stream",
     "text": [
      "100%|██████████████████████████████████████████████████████████████████████████████| 1202/1202 [03:54<00:00,  5.12it/s]"
     ]
    },
    {
     "name": "stdout",
     "output_type": "stream",
     "text": [
      "plotsDFs[subject]:                                             School Name  \\\n",
      "0                      ALICE COSTELLO ELEMENTARY SCHOOL   \n",
      "1                             ALLAMUCHY TOWNSHIP SCHOOL   \n",
      "2                                  ALPHA BOROUGH SCHOOL   \n",
      "3                              ALPINE ELEMENTARY SCHOOL   \n",
      "4                                      ARTS HIGH SCHOOL   \n",
      "...                                                 ...   \n",
      "1197  INTERNATIONAL ACADEMY OF ATLANTIC CITY CHARTER...   \n",
      "1198                   PRINCIPLE ACADEMY CHARTER SCHOOL   \n",
      "1199             HUDSON ARTS AND SCIENCE CHARTER SCHOOL   \n",
      "1200        PHILIP'S ACADEMY CHARTER SCHOOL OF PATERSON   \n",
      "1201                     CAMDENS PROMISE CHARTER SCHOOL   \n",
      "\n",
      "                                               plot ELA  \n",
      "0     iVBORw0KGgoAAAANSUhEUgAAAfEAAAEhCAYAAABvDJlSAA...  \n",
      "1     iVBORw0KGgoAAAANSUhEUgAAAbkAAAEhCAYAAADiYd4GAA...  \n",
      "2     iVBORw0KGgoAAAANSUhEUgAAAYUAAAEhCAYAAACQrrywAA...  \n",
      "3     iVBORw0KGgoAAAANSUhEUgAAAZ8AAAEhCAYAAACgIq2RAA...  \n",
      "4     iVBORw0KGgoAAAANSUhEUgAAAVoAAAEhCAYAAAA+tGh0AA...  \n",
      "...                                                 ...  \n",
      "1197  iVBORw0KGgoAAAANSUhEUgAAAr8AAAEhCAYAAAB2nchAAA...  \n",
      "1198  iVBORw0KGgoAAAANSUhEUgAAAfMAAAEhCAYAAABr+UlvAA...  \n",
      "1199  iVBORw0KGgoAAAANSUhEUgAAAjgAAAEhCAYAAAByRNo4AA...  \n",
      "1200  iVBORw0KGgoAAAANSUhEUgAAAlkAAAEhCAYAAABMYbV2AA...  \n",
      "1201  iVBORw0KGgoAAAANSUhEUgAAAesAAAEhCAYAAABfgIhzAA...  \n",
      "\n",
      "[1202 rows x 2 columns]\n",
      "combined_plots_df.head():                         School Name  \\\n",
      "0  ALICE COSTELLO ELEMENTARY SCHOOL   \n",
      "1         ALLAMUCHY TOWNSHIP SCHOOL   \n",
      "2              ALPHA BOROUGH SCHOOL   \n",
      "3          ALPINE ELEMENTARY SCHOOL   \n",
      "4                  ARTS HIGH SCHOOL   \n",
      "\n",
      "                                           plot Math  \\\n",
      "0  iVBORw0KGgoAAAANSUhEUgAAAfEAAAEhCAYAAABvDJlSAA...   \n",
      "1  iVBORw0KGgoAAAANSUhEUgAAAbkAAAEhCAYAAADiYd4GAA...   \n",
      "2  iVBORw0KGgoAAAANSUhEUgAAAYUAAAEhCAYAAACQrrywAA...   \n",
      "3  iVBORw0KGgoAAAANSUhEUgAAAZ8AAAEhCAYAAACgIq2RAA...   \n",
      "4  iVBORw0KGgoAAAANSUhEUgAAAVoAAAEhCAYAAAA+tGh0AA...   \n",
      "\n",
      "                        School Name  \\\n",
      "0  ALICE COSTELLO ELEMENTARY SCHOOL   \n",
      "1         ALLAMUCHY TOWNSHIP SCHOOL   \n",
      "2              ALPHA BOROUGH SCHOOL   \n",
      "3          ALPINE ELEMENTARY SCHOOL   \n",
      "4                  ARTS HIGH SCHOOL   \n",
      "\n",
      "                                            plot ELA  \n",
      "0  iVBORw0KGgoAAAANSUhEUgAAAfEAAAEhCAYAAABvDJlSAA...  \n",
      "1  iVBORw0KGgoAAAANSUhEUgAAAbkAAAEhCAYAAADiYd4GAA...  \n",
      "2  iVBORw0KGgoAAAANSUhEUgAAAYUAAAEhCAYAAACQrrywAA...  \n",
      "3  iVBORw0KGgoAAAANSUhEUgAAAZ8AAAEhCAYAAACgIq2RAA...  \n",
      "4  iVBORw0KGgoAAAANSUhEUgAAAVoAAAEhCAYAAAA+tGh0AA...  \n",
      "Adding plots to the data frame with test results.\n",
      "Done.\n"
     ]
    },
    {
     "name": "stderr",
     "output_type": "stream",
     "text": [
      "\n"
     ]
    }
   ],
   "source": [
    "# Make plots for popups in the map and add them as columns to the mappable dataframe\n",
    "\n",
    "# list of schools names\n",
    "\n",
    "schoolsNames = allResultsDF['School Name'].to_list()\n",
    "testResults = allResultsDF\n",
    "\n",
    "print(\"Schools' list ready.\")\n",
    "# Create disctionnary to hold the dataframes by schools\n",
    "schoolDFs = {}\n",
    "\n",
    "# Make dataframes by schools \n",
    "for name in schoolsNames:\n",
    "    dfName = name\n",
    "    schoolDFs[dfName] = testResults[testResults['School Name'] == name]\n",
    "print('Dataframes by schools ready.')\n",
    "\n",
    "\n",
    "plotsDFs = {}\n",
    "\n",
    "\n",
    "print(\"Making plots of test results ...\")\n",
    "\n",
    "for subject in subjects:\n",
    "    plots = []\n",
    "    columns_to_plot = [f'Level 1 {subject}',f'Level 2 {subject}',f'Level 3 {subject}',f'Level 4 {subject}', f'Level 5 {subject}']  \n",
    "\n",
    "    # Plot dataframes by school\n",
    "\n",
    "    for schoolDF, current_dataframe in tqdm(schoolDFs.items()):\n",
    "        # schoolDF contains the name of the dataframe\n",
    "        # current_dataframe contains the dataframe itself\n",
    "        # Do something with current_dataframe\n",
    "        # Create a plot\n",
    "        fig = create_plot(current_dataframe, schoolDF, columns_to_plot)\n",
    "\n",
    "        # Convert the plot to a PNG image and then encode it\n",
    "        io_buf = BytesIO()\n",
    "        fig.savefig(io_buf, format='png', bbox_inches='tight')\n",
    "        # Close the figure\n",
    "        plt.close()\n",
    "        #Reading file to get the base64 string\n",
    "        io_buf.seek(0)\n",
    "        base64_string = base64.b64encode(io_buf.read()).decode('utf8')\n",
    "\n",
    "        pair = (schoolDF, base64_string)\n",
    "\n",
    "        plots.append(pair) \n",
    "            \n",
    "    # add the plots to the dataframe of middle schools subject results \n",
    "    plotsDFs[subject] = pd.DataFrame(plots, columns=['School Name', f'plot {subject}'])\n",
    "\n",
    "           \n",
    "# Concatenate all plots DataFrames along the columns before merging\n",
    "combined_plots_df = pd.concat(plotsDFs.values(), axis=1)\n",
    "\n",
    "\n",
    "print('Adding plots to the data frame with test results.')    \n",
    "allResultsAVG2015_23DF = pd.merge(allResultsAVG2015_23DF, combined_plots_df, left_on = 'School Name', right_on=combined_plots_df.iloc[:, 0])\n",
    "print('Done.')   "
   ]
  },
  {
   "cell_type": "code",
   "execution_count": 124,
   "id": "e82b2575",
   "metadata": {},
   "outputs": [
    {
     "data": {
      "text/plain": [
       "1202"
      ]
     },
     "execution_count": 124,
     "metadata": {},
     "output_type": "execute_result"
    }
   ],
   "source": [
    "len(combined_plots_df)"
   ]
  },
  {
   "cell_type": "code",
   "execution_count": 141,
   "id": "4c3c6b76",
   "metadata": {},
   "outputs": [
    {
     "name": "stdout",
     "output_type": "stream",
     "text": [
      "Adding plots to the data frame with test results.\n",
      "Done.\n"
     ]
    }
   ],
   "source": [
    "print('Adding plots to the data frame with test results.')    \n",
    "allResultsAVG2015_23DF = pd.merge(allResultsAVG2015_23DF, combined_plots_df, left_on = 'School Name', right_on=combined_plots_df.iloc[:, 0])\n",
    "print('Done.')   "
   ]
  },
  {
   "cell_type": "code",
   "execution_count": 142,
   "id": "c650ae04",
   "metadata": {
    "scrolled": true
   },
   "outputs": [
    {
     "name": "stdout",
     "output_type": "stream",
     "text": [
      "<class 'pandas.core.frame.DataFrame'>\n",
      "Int64Index: 1234 entries, 0 to 1233\n",
      "Data columns (total 18 columns):\n",
      " #   Column                   Non-Null Count  Dtype  \n",
      "---  ------                   --------------  -----  \n",
      " 0   School Name              1234 non-null   object \n",
      " 1   School Code              1234 non-null   object \n",
      " 2   School Name_x            1234 non-null   object \n",
      " 3   8yrs avg Lvl 1 Math      1224 non-null   float64\n",
      " 4   8yrs avg Lvl 2 Math      1224 non-null   float64\n",
      " 5   8yrs avg Lvl 3 Math      1224 non-null   float64\n",
      " 6   8yrs avg Lvl 4 Math      1224 non-null   float64\n",
      " 7   8yrs avg Lvl 5 Math      1224 non-null   float64\n",
      " 8   8yrs avg Lvl 1 ELA       1225 non-null   float64\n",
      " 9   8yrs avg Lvl 2 ELA       1225 non-null   float64\n",
      " 10  8yrs avg Lvl 3 ELA       1225 non-null   float64\n",
      " 11  8yrs avg Lvl 4 ELA       1225 non-null   float64\n",
      " 12  8yrs avg Lvl 5 ELA       1225 non-null   float64\n",
      " 13  8yrs avg Lvl 5 Math+Ela  1224 non-null   float64\n",
      " 14  School Name_y            1234 non-null   object \n",
      " 15  plot Math                1234 non-null   object \n",
      " 16  School Name_y            1234 non-null   object \n",
      " 17  plot ELA                 1234 non-null   object \n",
      "dtypes: float64(11), object(7)\n",
      "memory usage: 183.2+ KB\n"
     ]
    }
   ],
   "source": [
    "allResultsAVG2015_23DF.info()"
   ]
  },
  {
   "cell_type": "code",
   "execution_count": 100,
   "id": "bc83c5d0",
   "metadata": {},
   "outputs": [],
   "source": [
    "allResultsAVG2015_23DF=allResultsAVG2015_23DF.drop(['plot Math_y', 'plot ELA_y', 'plot Math_x', 'plot ELA_x','School Name_x', 'School Name_y'], axis = 1)"
   ]
  },
  {
   "cell_type": "code",
   "execution_count": 104,
   "id": "9babd68a",
   "metadata": {},
   "outputs": [],
   "source": [
    "allResultsAVG2015_23DF=allResultsAVG2015_23DF.drop(['plot Math', 'plot ELA'], axis = 1)"
   ]
  },
  {
   "cell_type": "code",
   "execution_count": 143,
   "id": "d7db4939",
   "metadata": {},
   "outputs": [],
   "source": [
    "allResultsAVG2015_23DF=allResultsAVG2015_23DF.drop(['School Name_x', 'School Name_y'], axis = 1)"
   ]
  },
  {
   "cell_type": "code",
   "execution_count": 83,
   "id": "feea1329",
   "metadata": {},
   "outputs": [
    {
     "data": {
      "text/html": [
       "<div>\n",
       "<style scoped>\n",
       "    .dataframe tbody tr th:only-of-type {\n",
       "        vertical-align: middle;\n",
       "    }\n",
       "\n",
       "    .dataframe tbody tr th {\n",
       "        vertical-align: top;\n",
       "    }\n",
       "\n",
       "    .dataframe thead th {\n",
       "        text-align: right;\n",
       "    }\n",
       "</style>\n",
       "<table border=\"1\" class=\"dataframe\">\n",
       "  <thead>\n",
       "    <tr style=\"text-align: right;\">\n",
       "      <th></th>\n",
       "      <th>plot Math</th>\n",
       "      <th>plot ELA</th>\n",
       "    </tr>\n",
       "  </thead>\n",
       "  <tbody>\n",
       "    <tr>\n",
       "      <th>0</th>\n",
       "      <td>iVBORw0KGgoAAAANSUhEUgAAAfEAAAEhCAYAAABvDJlSAA...</td>\n",
       "      <td>iVBORw0KGgoAAAANSUhEUgAAAfEAAAEhCAYAAABvDJlSAA...</td>\n",
       "    </tr>\n",
       "  </tbody>\n",
       "</table>\n",
       "</div>"
      ],
      "text/plain": [
       "                                           plot Math  \\\n",
       "0  iVBORw0KGgoAAAANSUhEUgAAAfEAAAEhCAYAAABvDJlSAA...   \n",
       "\n",
       "                                            plot ELA  \n",
       "0  iVBORw0KGgoAAAANSUhEUgAAAfEAAAEhCAYAAABvDJlSAA...  "
      ]
     },
     "execution_count": 83,
     "metadata": {},
     "output_type": "execute_result"
    }
   ],
   "source": [
    "allResultsAVG2015_23DF[['plot Math', 'plot ELA']]"
   ]
  },
  {
   "cell_type": "code",
   "execution_count": 93,
   "id": "80823dda",
   "metadata": {},
   "outputs": [
    {
     "data": {
      "text/plain": [
       "2"
      ]
     },
     "execution_count": 93,
     "metadata": {},
     "output_type": "execute_result"
    }
   ],
   "source": [
    "allResultsAVG2015_23DF[['plot Math', 'plot ELA']]"
   ]
  },
  {
   "cell_type": "code",
   "execution_count": 103,
   "id": "d520ebc6",
   "metadata": {},
   "outputs": [
    {
     "data": {
      "text/plain": [
       "False"
      ]
     },
     "execution_count": 103,
     "metadata": {},
     "output_type": "execute_result"
    }
   ],
   "source": [
    "allResultsAVG2015_23DF.loc[0, 'plot Math'] == allResultsAVG2015_23DF.loc[0, 'plot ELA']"
   ]
  },
  {
   "cell_type": "markdown",
   "id": "b8225223",
   "metadata": {},
   "source": [
    "<a id=\"maps\"></a> \n",
    "### Preparing geoJSONs for mapping"
   ]
  },
  {
   "cell_type": "markdown",
   "id": "caca0ad5",
   "metadata": {},
   "source": [
    "#### Read schools geolocation file"
   ]
  },
  {
   "cell_type": "code",
   "execution_count": 114,
   "id": "d853ef71",
   "metadata": {},
   "outputs": [],
   "source": [
    "## Read GeoJSON into data frame\n",
    "SchoolsFile = 'School_Point_Locations_of_NJ_(Public%2C_Private_and_Charter).geojson'\n",
    "NJSchoolsPath = os.path.join(basePath, dataFolder, SchoolsFile)\n",
    "NJSchoolsData = gpd.read_file(NJSchoolsPath)\n",
    "\n",
    "DistrictsFile = 'School_Districts_-_Unified_for_New_Jersey.geojson'\n",
    "NJDistrictsPath = os.path.join(basePath, dataFolder, DistrictsFile)\n",
    "NJDistrictsData = gpd.read_file(NJDistrictsPath)"
   ]
  },
  {
   "cell_type": "code",
   "execution_count": null,
   "id": "7b90c5e5",
   "metadata": {},
   "outputs": [],
   "source": [
    "NJSchoolsData.info()"
   ]
  },
  {
   "cell_type": "markdown",
   "id": "ce0cc13f",
   "metadata": {},
   "source": [
    "#### Merge the GeoJSON and the results dataframe"
   ]
  },
  {
   "cell_type": "code",
   "execution_count": 115,
   "id": "728f41be",
   "metadata": {},
   "outputs": [
    {
     "data": {
      "text/html": [
       "<div>\n",
       "<style scoped>\n",
       "    .dataframe tbody tr th:only-of-type {\n",
       "        vertical-align: middle;\n",
       "    }\n",
       "\n",
       "    .dataframe tbody tr th {\n",
       "        vertical-align: top;\n",
       "    }\n",
       "\n",
       "    .dataframe thead th {\n",
       "        text-align: right;\n",
       "    }\n",
       "</style>\n",
       "<table border=\"1\" class=\"dataframe\">\n",
       "  <thead>\n",
       "    <tr style=\"text-align: right;\">\n",
       "      <th></th>\n",
       "      <th>OBJECTID</th>\n",
       "      <th>DIST_CODE</th>\n",
       "      <th>DIST_NAME</th>\n",
       "      <th>SCHOOLCODE</th>\n",
       "      <th>SCHOOLTYPE</th>\n",
       "      <th>SCHOOL</th>\n",
       "      <th>SCHOOLNAME</th>\n",
       "      <th>CITY</th>\n",
       "      <th>geometry</th>\n",
       "    </tr>\n",
       "  </thead>\n",
       "  <tbody>\n",
       "    <tr>\n",
       "      <th>0</th>\n",
       "      <td>1</td>\n",
       "      <td>1658</td>\n",
       "      <td>Glen Rock</td>\n",
       "      <td>24R</td>\n",
       "      <td>DAY CARE, TRANSITIONAL K</td>\n",
       "      <td>Glen Rock Cooperative Nursery School</td>\n",
       "      <td>Glen Rock Cooperative Nusery School</td>\n",
       "      <td>Glen Rock</td>\n",
       "      <td>POINT (-74.12435 40.96150)</td>\n",
       "    </tr>\n",
       "    <tr>\n",
       "      <th>1</th>\n",
       "      <td>2</td>\n",
       "      <td>0632</td>\n",
       "      <td>North Brunswick Twp</td>\n",
       "      <td>82F</td>\n",
       "      <td>CHILD CARE/PRE-SCHOOL</td>\n",
       "      <td>Creative Nursery School Childcare &amp; Learning C...</td>\n",
       "      <td>Creative Nursery School</td>\n",
       "      <td>North Brunswick</td>\n",
       "      <td>POINT (-74.47660 40.44052)</td>\n",
       "    </tr>\n",
       "    <tr>\n",
       "      <th>2</th>\n",
       "      <td>3</td>\n",
       "      <td>1681</td>\n",
       "      <td>Old Bridge Twp.</td>\n",
       "      <td>18G</td>\n",
       "      <td>PRE-SCHOOL/PRE-K</td>\n",
       "      <td>Good Shepherd Children's Center</td>\n",
       "      <td>Good Shepherd Children's Center</td>\n",
       "      <td>Old Bridge</td>\n",
       "      <td>POINT (-74.30568 40.40041)</td>\n",
       "    </tr>\n",
       "    <tr>\n",
       "      <th>3</th>\n",
       "      <td>4</td>\n",
       "      <td>1784</td>\n",
       "      <td>Lakewood Twp</td>\n",
       "      <td>05D</td>\n",
       "      <td>SPECIAL EDUCATION</td>\n",
       "      <td>TREE OF KNOWLEDGE LEARNING ACADEMY</td>\n",
       "      <td>Tree Of Knowledge</td>\n",
       "      <td>Lakewood</td>\n",
       "      <td>POINT (-74.21612 40.09282)</td>\n",
       "    </tr>\n",
       "    <tr>\n",
       "      <th>4</th>\n",
       "      <td>5</td>\n",
       "      <td>0063</td>\n",
       "      <td>Hackensack City</td>\n",
       "      <td>58A</td>\n",
       "      <td>DAY CARE</td>\n",
       "      <td>Sarkis &amp; Siran Gabrellian Child Care Center</td>\n",
       "      <td>Sarkis &amp; Siran Gabrellian Child Care and Learn...</td>\n",
       "      <td>Hackensack</td>\n",
       "      <td>POINT (-74.05591 40.88239)</td>\n",
       "    </tr>\n",
       "  </tbody>\n",
       "</table>\n",
       "</div>"
      ],
      "text/plain": [
       "   OBJECTID DIST_CODE            DIST_NAME SCHOOLCODE  \\\n",
       "0         1      1658            Glen Rock        24R   \n",
       "1         2      0632  North Brunswick Twp        82F   \n",
       "2         3      1681      Old Bridge Twp.        18G   \n",
       "3         4      1784         Lakewood Twp        05D   \n",
       "4         5      0063      Hackensack City        58A   \n",
       "\n",
       "                 SCHOOLTYPE  \\\n",
       "0  DAY CARE, TRANSITIONAL K   \n",
       "1     CHILD CARE/PRE-SCHOOL   \n",
       "2          PRE-SCHOOL/PRE-K   \n",
       "3         SPECIAL EDUCATION   \n",
       "4                  DAY CARE   \n",
       "\n",
       "                                              SCHOOL  \\\n",
       "0               Glen Rock Cooperative Nursery School   \n",
       "1  Creative Nursery School Childcare & Learning C...   \n",
       "2                    Good Shepherd Children's Center   \n",
       "3                 TREE OF KNOWLEDGE LEARNING ACADEMY   \n",
       "4        Sarkis & Siran Gabrellian Child Care Center   \n",
       "\n",
       "                                          SCHOOLNAME             CITY  \\\n",
       "0                Glen Rock Cooperative Nusery School        Glen Rock   \n",
       "1                            Creative Nursery School  North Brunswick   \n",
       "2                    Good Shepherd Children's Center       Old Bridge   \n",
       "3                                  Tree Of Knowledge         Lakewood   \n",
       "4  Sarkis & Siran Gabrellian Child Care and Learn...       Hackensack   \n",
       "\n",
       "                     geometry  \n",
       "0  POINT (-74.12435 40.96150)  \n",
       "1  POINT (-74.47660 40.44052)  \n",
       "2  POINT (-74.30568 40.40041)  \n",
       "3  POINT (-74.21612 40.09282)  \n",
       "4  POINT (-74.05591 40.88239)  "
      ]
     },
     "execution_count": 115,
     "metadata": {},
     "output_type": "execute_result"
    }
   ],
   "source": [
    "#NYCSchoolsData.info() #Too many columns --> make a smaller copy\n",
    "NJSchoolsDataShort = NJSchoolsData[['OBJECTID', 'DIST_CODE', 'DIST_NAME', 'SCHOOLCODE', 'SCHOOLTYPE', 'SCHOOL', 'SCHOOLNAME', 'CITY', 'geometry']]\n",
    "NJSchoolsDataShort.head()"
   ]
  },
  {
   "cell_type": "code",
   "execution_count": 24,
   "id": "7f03ed0e",
   "metadata": {},
   "outputs": [
    {
     "name": "stderr",
     "output_type": "stream",
     "text": [
      "Matching Names: 100%|██████████████████████████████████████████████████████████████| 1234/1234 [09:04<00:00,  2.27it/s]"
     ]
    },
    {
     "name": "stdout",
     "output_type": "stream",
     "text": [
      "Done.\n"
     ]
    },
    {
     "name": "stderr",
     "output_type": "stream",
     "text": [
      "\n"
     ]
    }
   ],
   "source": [
    "# Matching the school all data file with spatial data (geojson of schools locations)\n",
    "# Matching names from allResultsAVG2015_23DF to NYCSchoolsDataShort\n",
    "\n",
    "tqdm.pandas(desc=\"Matching Names\")\n",
    "\n",
    "matched_tuples = allResultsAVG2015_23DF['School Name'].progress_apply(\n",
    "    lambda x: match_name(x, NJSchoolsDataShort['SCHOOL'], min_score=80))\n",
    "\n",
    "print('Done.')"
   ]
  },
  {
   "cell_type": "code",
   "execution_count": 144,
   "id": "0979f1b0",
   "metadata": {},
   "outputs": [
    {
     "name": "stdout",
     "output_type": "stream",
     "text": [
      "Appending mathes to the dataframe.\n",
      "Done.\n"
     ]
    }
   ],
   "source": [
    "print('Appending mathes to the dataframe.')\n",
    "allResultsAVG2015_23DF['matched_name'] = list(zip(*matched_tuples_2))[0]\n",
    "allResultsAVG2015_23DF['matched_score'] = list(zip(*matched_tuples_2))[1]\n",
    "print('Done.')"
   ]
  },
  {
   "cell_type": "code",
   "execution_count": 145,
   "id": "123aaa7e",
   "metadata": {},
   "outputs": [
    {
     "name": "stdout",
     "output_type": "stream",
     "text": [
      "<class 'pandas.core.frame.DataFrame'>\n",
      "Int64Index: 1234 entries, 0 to 1233\n",
      "Data columns (total 17 columns):\n",
      " #   Column                   Non-Null Count  Dtype  \n",
      "---  ------                   --------------  -----  \n",
      " 0   School Name              1234 non-null   object \n",
      " 1   School Code              1234 non-null   object \n",
      " 2   8yrs avg Lvl 1 Math      1224 non-null   float64\n",
      " 3   8yrs avg Lvl 2 Math      1224 non-null   float64\n",
      " 4   8yrs avg Lvl 3 Math      1224 non-null   float64\n",
      " 5   8yrs avg Lvl 4 Math      1224 non-null   float64\n",
      " 6   8yrs avg Lvl 5 Math      1224 non-null   float64\n",
      " 7   8yrs avg Lvl 1 ELA       1225 non-null   float64\n",
      " 8   8yrs avg Lvl 2 ELA       1225 non-null   float64\n",
      " 9   8yrs avg Lvl 3 ELA       1225 non-null   float64\n",
      " 10  8yrs avg Lvl 4 ELA       1225 non-null   float64\n",
      " 11  8yrs avg Lvl 5 ELA       1225 non-null   float64\n",
      " 12  8yrs avg Lvl 5 Math+Ela  1224 non-null   float64\n",
      " 13  plot Math                1234 non-null   object \n",
      " 14  plot ELA                 1234 non-null   object \n",
      " 15  matched_name             1234 non-null   object \n",
      " 16  matched_score            1234 non-null   int64  \n",
      "dtypes: float64(11), int64(1), object(5)\n",
      "memory usage: 173.5+ KB\n"
     ]
    }
   ],
   "source": [
    "allResultsAVG2015_23DF.info()"
   ]
  },
  {
   "cell_type": "code",
   "execution_count": 146,
   "id": "eba860b7",
   "metadata": {},
   "outputs": [
    {
     "data": {
      "text/plain": [
       "86"
      ]
     },
     "execution_count": 146,
     "metadata": {},
     "output_type": "execute_result"
    }
   ],
   "source": [
    "(allResultsAVG2015_23DF['matched_score'] == -1).sum()"
   ]
  },
  {
   "cell_type": "code",
   "execution_count": null,
   "id": "78f70ce2",
   "metadata": {},
   "outputs": [],
   "source": []
  },
  {
   "cell_type": "raw",
   "id": "59f4500d",
   "metadata": {},
   "source": [
    "allResultsAVG2015_23DF=allResultsAVG2015_23DF.drop(['School Name_x'], axis = 1)"
   ]
  },
  {
   "cell_type": "code",
   "execution_count": 147,
   "id": "502ca719",
   "metadata": {},
   "outputs": [
    {
     "name": "stdout",
     "output_type": "stream",
     "text": [
      "Saving to G:\\My Drive\\Kids\\NJ_schools_mapped\\processed_data\\NJTestResults2023_tempMatched4.csv ...\n",
      "Saved.\n"
     ]
    }
   ],
   "source": [
    "name = 'NJTestResults2023_tempMatched4.csv'\n",
    "path = os.path.join(basePath, outputFolder, name)\n",
    "print(f'Saving to {path} ...')\n",
    "allResultsAVG2015_23DF.to_csv(path)\n",
    "print('Saved.')\n",
    "del name, path"
   ]
  },
  {
   "cell_type": "code",
   "execution_count": 148,
   "id": "84fc86df",
   "metadata": {},
   "outputs": [],
   "source": [
    "# Unmatched or matched incorrectly names identified by \n",
    "# visual observations on the map or by analysing the geoJSON in prefered software\n",
    "# allResultsAVG2015_23DF['School Name']:NJSchoolsDataShort['SCHOOL']\n",
    "\n",
    "unmatched = {\n",
    "'Brookside':'Brookside School',\n",
    "'Markham Place':'Markham Place School',\n",
    "'Roosevelt Science Technology Engineering And Mathematics (St':'Roosevelt STEM School',\n",
    "'John Witherspoon Middle School':'Princeton Middle School',\n",
    "'Park Middle School':'Park Elementary School',\n",
    "'Mountain View':'Mountain View School',\n",
    "'Hammarskjold Middle School':'Hammarskjold Upper Elementary School',\n",
    "}"
   ]
  },
  {
   "cell_type": "code",
   "execution_count": 149,
   "id": "42496e6a",
   "metadata": {},
   "outputs": [],
   "source": [
    "# Replacing the erroneus matches in the allResultsDF_2023 data frame\n",
    "\n",
    "def replace_values(row):\n",
    "    if row['School Name'] in unmatched:\n",
    "        row['matched_name'] = unmatched[row['School Name']]\n",
    "    return row\n",
    "\n",
    "allResultsAVG2015_23DF = allResultsAVG2015_23DF.apply(replace_values, axis = 1)"
   ]
  },
  {
   "cell_type": "code",
   "execution_count": 150,
   "id": "56097175",
   "metadata": {},
   "outputs": [
    {
     "name": "stdout",
     "output_type": "stream",
     "text": [
      "<class 'pandas.core.frame.DataFrame'>\n",
      "Int64Index: 1234 entries, 0 to 1233\n",
      "Data columns (total 17 columns):\n",
      " #   Column                   Non-Null Count  Dtype  \n",
      "---  ------                   --------------  -----  \n",
      " 0   School Name              1234 non-null   object \n",
      " 1   School Code              1234 non-null   object \n",
      " 2   8yrs avg Lvl 1 Math      1224 non-null   float64\n",
      " 3   8yrs avg Lvl 2 Math      1224 non-null   float64\n",
      " 4   8yrs avg Lvl 3 Math      1224 non-null   float64\n",
      " 5   8yrs avg Lvl 4 Math      1224 non-null   float64\n",
      " 6   8yrs avg Lvl 5 Math      1224 non-null   float64\n",
      " 7   8yrs avg Lvl 1 ELA       1225 non-null   float64\n",
      " 8   8yrs avg Lvl 2 ELA       1225 non-null   float64\n",
      " 9   8yrs avg Lvl 3 ELA       1225 non-null   float64\n",
      " 10  8yrs avg Lvl 4 ELA       1225 non-null   float64\n",
      " 11  8yrs avg Lvl 5 ELA       1225 non-null   float64\n",
      " 12  8yrs avg Lvl 5 Math+Ela  1224 non-null   float64\n",
      " 13  plot Math                1234 non-null   object \n",
      " 14  plot ELA                 1234 non-null   object \n",
      " 15  matched_name             1234 non-null   object \n",
      " 16  matched_score            1234 non-null   int64  \n",
      "dtypes: float64(11), int64(1), object(5)\n",
      "memory usage: 173.5+ KB\n"
     ]
    }
   ],
   "source": [
    "allResultsAVG2015_23DF.info()"
   ]
  },
  {
   "cell_type": "code",
   "execution_count": 40,
   "id": "f55cb4f0",
   "metadata": {},
   "outputs": [],
   "source": [
    "allResultsAVG2015_23DF=allResultsAVG2015_23DF.drop(['School Name_x', 'School Name_y',], axis = 1)"
   ]
  },
  {
   "cell_type": "code",
   "execution_count": 152,
   "id": "ec4b6d11",
   "metadata": {
    "scrolled": true
   },
   "outputs": [
    {
     "name": "stdout",
     "output_type": "stream",
     "text": [
      "Merging dataframes.\n",
      "Saving data to GeoJSON file G:\\My Drive\\Kids\\NJ_schools_mapped\\processed_data\\NJpublicSchoolsData.geojson...\n",
      "Saved.\n"
     ]
    }
   ],
   "source": [
    "# Merging DataFrames based on the matched name\n",
    "print('Merging dataframes.')\n",
    "schoolsData_mappable = pd.merge(NJSchoolsDataShort,allResultsAVG2015_23DF, left_on='SCHOOL', right_on='matched_name')\n",
    "\n",
    "data_Name = 'NJpublicSchoolsData.geojson'\n",
    "data_Path = os.path.join(basePath,outputFolder, data_Name)\n",
    "\n",
    "print(f\"Saving data to GeoJSON file {data_Path}...\")\n",
    "schoolsData_mappable.to_file(data_Path, driver=\"GeoJSON\")\n",
    "\n",
    "print('Saved.')\n",
    "del data_Name, data_Path"
   ]
  },
  {
   "cell_type": "code",
   "execution_count": 153,
   "id": "79d80f2b",
   "metadata": {},
   "outputs": [
    {
     "name": "stdout",
     "output_type": "stream",
     "text": [
      "<class 'geopandas.geodataframe.GeoDataFrame'>\n",
      "Int64Index: 1499 entries, 0 to 1498\n",
      "Data columns (total 26 columns):\n",
      " #   Column                   Non-Null Count  Dtype   \n",
      "---  ------                   --------------  -----   \n",
      " 0   OBJECTID                 1499 non-null   int64   \n",
      " 1   DIST_CODE                1499 non-null   object  \n",
      " 2   DIST_NAME                1499 non-null   object  \n",
      " 3   SCHOOLCODE               1499 non-null   object  \n",
      " 4   SCHOOLTYPE               1479 non-null   object  \n",
      " 5   SCHOOL                   1499 non-null   object  \n",
      " 6   SCHOOLNAME               1499 non-null   object  \n",
      " 7   CITY                     1499 non-null   object  \n",
      " 8   geometry                 1499 non-null   geometry\n",
      " 9   School Name              1499 non-null   object  \n",
      " 10  School Code              1499 non-null   object  \n",
      " 11  8yrs avg Lvl 1 Math      1492 non-null   float64 \n",
      " 12  8yrs avg Lvl 2 Math      1492 non-null   float64 \n",
      " 13  8yrs avg Lvl 3 Math      1492 non-null   float64 \n",
      " 14  8yrs avg Lvl 4 Math      1492 non-null   float64 \n",
      " 15  8yrs avg Lvl 5 Math      1492 non-null   float64 \n",
      " 16  8yrs avg Lvl 1 ELA       1493 non-null   float64 \n",
      " 17  8yrs avg Lvl 2 ELA       1493 non-null   float64 \n",
      " 18  8yrs avg Lvl 3 ELA       1493 non-null   float64 \n",
      " 19  8yrs avg Lvl 4 ELA       1493 non-null   float64 \n",
      " 20  8yrs avg Lvl 5 ELA       1493 non-null   float64 \n",
      " 21  8yrs avg Lvl 5 Math+Ela  1492 non-null   float64 \n",
      " 22  plot Math                1499 non-null   object  \n",
      " 23  plot ELA                 1499 non-null   object  \n",
      " 24  matched_name             1499 non-null   object  \n",
      " 25  matched_score            1499 non-null   int64   \n",
      "dtypes: float64(11), geometry(1), int64(2), object(12)\n",
      "memory usage: 316.2+ KB\n"
     ]
    }
   ],
   "source": [
    "# allResultsAVG2013_23DF_norm.reset_index()\n",
    "schoolsData_mappable.info()"
   ]
  },
  {
   "cell_type": "code",
   "execution_count": null,
   "id": "9af8ec92",
   "metadata": {
    "scrolled": true
   },
   "outputs": [],
   "source": [
    "print(schoolsAllData_mappable['matched_name'].isnull().sum())"
   ]
  },
  {
   "cell_type": "code",
   "execution_count": null,
   "id": "d0d0fdc4-6e59-4aa6-a99e-2dcd9222326d",
   "metadata": {},
   "outputs": [],
   "source": [
    "allDataNJ.head().to_txt()"
   ]
  },
  {
   "cell_type": "code",
   "execution_count": null,
   "id": "65133560",
   "metadata": {},
   "outputs": [],
   "source": []
  }
 ],
 "metadata": {
  "kernelspec": {
   "display_name": "Python 3 (ipykernel)",
   "language": "python",
   "name": "python3"
  },
  "language_info": {
   "codemirror_mode": {
    "name": "ipython",
    "version": 3
   },
   "file_extension": ".py",
   "mimetype": "text/x-python",
   "name": "python",
   "nbconvert_exporter": "python",
   "pygments_lexer": "ipython3",
   "version": "3.7.12"
  }
 },
 "nbformat": 4,
 "nbformat_minor": 5
}
