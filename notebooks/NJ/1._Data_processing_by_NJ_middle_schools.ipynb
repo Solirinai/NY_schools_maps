{
 "cells": [
  {
   "cell_type": "markdown",
   "id": "888b8e0c",
   "metadata": {},
   "source": [
    "# Analysis of NJ public and charter schools results in ELA and math for grades 6-8."
   ]
  },
  {
   "cell_type": "markdown",
   "id": "3e1cc970-ea50-4b77-a0bc-3b7d63c9b1f0",
   "metadata": {},
   "source": [
    "<span style=\"color: red;\">**If kernel can't connect to server again run command:**\n",
    "*netsh winsock reset*<span>"
   ]
  },
  {
   "cell_type": "markdown",
   "id": "dc01637a",
   "metadata": {},
   "source": [
    "<a id=\"TOC\"></a> \n",
    "## Table of Contents\n",
    "1. [Data sources and definitions](#data)\n",
    "2. [Imports: modules](#modules)\n",
    "3. [Read and prepare data](#read)\n",
    "4. [Generating geoJSON for mapping](#maps) "
   ]
  },
  {
   "cell_type": "markdown",
   "id": "f8099061",
   "metadata": {},
   "source": [
    "<a id=\"data\"></a> \n",
    "## Data, definitions"
   ]
  },
  {
   "cell_type": "markdown",
   "id": "00c1d9de-c41d-4577-8a53-84356c5ebcc4",
   "metadata": {},
   "source": [
    "#### Data:\n",
    "1. Data New Jersey Student Learning Assessments (NJSLA) results 2015-2023 for grades 6-8 for public and charter schools:\n",
    "<br>State of New Jersey, Department of Education:\n",
    "Statewide Assessment Reports\n",
    "<br>https://www.nj.gov/education/assessment/results/reports/\n",
    "2. NJ schools locations: NJGIN Open Data <br>\n",
    "https://njogis-newjersey.opendata.arcgis.com/datasets/d8223610010a4c3887cfb88b904545ff/explore"
   ]
  },
  {
   "cell_type": "markdown",
   "id": "c53d80ad",
   "metadata": {},
   "source": [
    "####  Performance levels for New Jersey Student Learning Standards for English Language Arts and Math  \n",
    "\n",
    "**Level 1**: Did Not Yet Meet Expectations <br>\n",
    "**Level 2**: Partially Met Expectations <br>\n",
    "**Level 3**: Approached Expectations  <br>\n",
    "**Level 4**: Met Expectations  <br>\n",
    "**Level 5**: Exceeded Expectations  <br>\n",
    "\n",
    "*Source: New Jersey Assessments Resource Center, 2022, https://nj.mypearsonsupport.com/resources/reporting/NJSLA_Score_Interpretation_Guide_Spring2022.pdf*"
   ]
  },
  {
   "cell_type": "markdown",
   "id": "7a5aca68",
   "metadata": {},
   "source": [
    "## Questions\n",
    "*1. How the test results changed?*\n",
    "<br>Changes in test scores proportions are charted for MATH and ELA for years 2015-2023 for middle school grades (grades 6-8).\n",
    "<br><br>\n",
    "*2. What are academic results of the school?*  \n",
    "The schools are compared by the sum of average level 5 scores for years 2015-2023 for all middle grades combined (or the years available in NJ DOE data for part of these years).\n"
   ]
  },
  {
   "cell_type": "markdown",
   "id": "141260ab",
   "metadata": {},
   "source": [
    "## Limitations\n",
    "1. Some elementary schools go up to grade 6. For these schools' share of level 5 results is usually higher than in schools with grades 6-8 or 7-8. Since they teach only the first of the middle grades, they were excluded to make a more grounded view of the middle schools quality.<br><br>\n",
    "2. Some school names in the original NJSLA data are inconsistently spelled or contain errors in the records across different years. As a result, these discrepancies created separate entries in the allResultsAVG2015_23DF dataframe. Consequently, this has led to certain schools having multiple overlapping points on the map, with pop-ups displaying data for different years.\n",
    "While this may affect the visual clarity and completeness of the map, the current representation still provides a comprehensive overview of the academic proficiency of middle schools in New Jersey. Further data cleaning to eliminate this issue required spending more time and effort, which was unnecessary for the purpose of the project."
   ]
  },
  {
   "cell_type": "markdown",
   "id": "29161614",
   "metadata": {},
   "source": [
    "#### About this notebook\n",
    "\n",
    "- This notebook '*1._Data_processing_by_NJ_middle_schools*' contains the steps for the processing data on state testing of public and charter schools in New Jersey. \n",
    "- The notebook '*2._Generating_map_by_NJ_middle_schools*' contains code to generate the map from the processed data.\n",
    "- The map is available at: https://njmsmap.netlify.app/"
   ]
  },
  {
   "cell_type": "markdown",
   "id": "b7250733",
   "metadata": {},
   "source": [
    "<a id=\"modules\"></a> \n",
    "#### Imports: modules"
   ]
  },
  {
   "cell_type": "raw",
   "id": "31f5f457",
   "metadata": {},
   "source": [
    "pip install pandas openpyxl"
   ]
  },
  {
   "cell_type": "code",
   "execution_count": null,
   "id": "594296d3",
   "metadata": {},
   "outputs": [],
   "source": [
    "# Appending the path to utils\n",
    "\n",
    "import sys\n",
    "\n",
    "parent_dir = 'C:\\\\GITHUB\\\\NY_schools_maps\\\\notebooks'\n",
    "sys.path.append(parent_dir)"
   ]
  },
  {
   "cell_type": "code",
   "execution_count": null,
   "id": "69e42758",
   "metadata": {},
   "outputs": [],
   "source": [
    "import os\n",
    "import pandas as pd\n",
    "import geopandas as gpd\n",
    "# import folium\n",
    "import matplotlib.pyplot as plt\n",
    "import base64\n",
    "from io import BytesIO\n",
    "import math\n",
    "from tqdm import tqdm\n",
    "from utils import match_name, create_plot, process_schools, create_chart\n",
    "\n",
    "pd.set_option('display.float_format', '{:.3f}'.format)"
   ]
  },
  {
   "cell_type": "raw",
   "id": "c5dc1095",
   "metadata": {},
   "source": [
    "#To reload 'uitls' module if something changed in the module\n",
    "import utils\n",
    "from importlib import reload\n",
    "reload(utils)"
   ]
  },
  {
   "cell_type": "markdown",
   "id": "4ca0a9e3",
   "metadata": {},
   "source": [
    "<a id=\"read\"></a> \n",
    "#### Read data"
   ]
  },
  {
   "cell_type": "code",
   "execution_count": null,
   "id": "7daca94a",
   "metadata": {},
   "outputs": [],
   "source": [
    "basePath = r\"G:\\My Drive\\Kids\\NJ_schools_mapped\"\n",
    "dataFolder = r\"raw_data\"\n",
    "outputFolder = r\"processed_data\""
   ]
  },
  {
   "cell_type": "markdown",
   "id": "abd48deb",
   "metadata": {},
   "source": [
    "The excel files downloaded from NJ DOE were cleaned from 'DFG' columns and case in columns headers was unified."
   ]
  },
  {
   "cell_type": "code",
   "execution_count": null,
   "id": "ce078287",
   "metadata": {},
   "outputs": [],
   "source": [
    "# Reading data from annual files with results by schools\n",
    "\n",
    "# Initialize an empty list to store dataframes\n",
    "math_DFs = []\n",
    "\n",
    "directory = os.path.join(basePath, dataFolder)\n",
    "\n",
    "# Loop through each file in the directory\n",
    "for filename in tqdm(os.listdir(directory), desc = 'Processing files'):\n",
    "    if filename.endswith('.xlsx') and filename.startswith('MAT') and 'NJSLA DATA'  in filename:\n",
    "        print(filename)\n",
    "        \n",
    "        # Construct the full file path\n",
    "        file_path = os.path.join(directory, filename)\n",
    "        \n",
    "        # Read the Excel file\n",
    "        df = pd.read_excel(file_path, skiprows=2)\n",
    "        \n",
    "        # Filter the dataframe \n",
    "        filtered_df = df[(df['Subgroup'].str.lower() == 'total') & (df['School Name'].str.lower() != 'district total') & pd.notna(df['School Name']) & (df['School Name'].str.strip() != '')]\n",
    "        \n",
    "        # Add a column with type of assessment and grade (ex: MAT06),\n",
    "        # it is in the first 5 characters of the filename\n",
    "        filtered_df['Assessment'] = filename[:5] \n",
    "        \n",
    "        # Add a column with year, it is in the last 4 characters before file extention in the filename\n",
    "        filtered_df['Year'] = filename[-9:-5] \n",
    "        \n",
    "        # Harmonizing cases in columns between different tables\n",
    "        column_to_upper = ['County Name', 'District Name', 'School Name', 'Subgroup', 'Subgroup_Type']\n",
    "        for col in column_to_upper:\n",
    "            filtered_df[col] = filtered_df[col].str.upper()\n",
    "        \n",
    "        # Append the filtered DataFrame to the list 'math_DFs'\n",
    "        math_DFs.append(filtered_df)\n",
    "\n",
    "print(\"Concatinatinating dataframes\")        \n",
    "# Concatenate all dataframes into one\n",
    "mathResultsDF = pd.concat(math_DFs, ignore_index=True)\n",
    "\n",
    "print(\"mathResultsDF is ready.\")"
   ]
  },
  {
   "cell_type": "code",
   "execution_count": null,
   "id": "4cb61333",
   "metadata": {},
   "outputs": [],
   "source": [
    "# Reading data from annual files with results by schools\n",
    "\n",
    "# Initialize an empty list to store dataframes\n",
    "ELA_DFs = []\n",
    "\n",
    "directory = os.path.join(basePath, dataFolder)\n",
    "\n",
    "# Loop through each file in the directory\n",
    "for filename in tqdm(os.listdir(directory), desc = 'Processing files'):\n",
    "    if filename.endswith('.xlsx') and filename.startswith('ELA'):\n",
    "        print(filename)\n",
    "        \n",
    "        # Construct the full file path\n",
    "        file_path = os.path.join(directory, filename)\n",
    "        \n",
    "        # Read the Excel file\n",
    "        df = pd.read_excel(file_path, skiprows=2)\n",
    "        \n",
    "        # Filter the dataframe \n",
    "        filtered_df = df[(df['Subgroup'].str.lower() == 'total') & (df['School Name'].str.lower() != 'district total') & pd.notna(df['School Name']) & (df['School Name'].str.strip() != '')]\n",
    "        \n",
    "        # Add a column with type of assessment and grade (ex: MAT06),\n",
    "        # it is in the first 5 characters of the filename\n",
    "        filtered_df['Assessment'] = filename[:5] \n",
    "        \n",
    "        # Add a column with year, it is in the last 4 characters before file extention in the filename\n",
    "        filtered_df['Year'] = filename[-9:-5] \n",
    "        \n",
    "        # Harmonizing cases in columns between different tables\n",
    "        column_to_upper = ['County Name', 'District Name', 'School Name', 'Subgroup', 'Subgroup_Type']\n",
    "        for col in column_to_upper:\n",
    "            filtered_df[col] = filtered_df[col].str.upper()\n",
    "        \n",
    "        # Append the filtered dataframe to the list 'ELA_DFs'\n",
    "        ELA_DFs.append(filtered_df)\n",
    "\n",
    "print(\"Concatinating dataframes\")        \n",
    "# Concatenate all dataframes into one\n",
    "ELAResultsDF = pd.concat(ELA_DFs, ignore_index=True)\n",
    "\n",
    "print(\"ELAResultsDF is ready.\")"
   ]
  },
  {
   "cell_type": "code",
   "execution_count": null,
   "id": "92ad005f",
   "metadata": {},
   "outputs": [],
   "source": [
    "# Setting the dictionnaries by subject and results dataframe for speeding up future processing\n",
    "subjects = ['Math', 'ELA']\n",
    "resultsDFs = {'Math': mathResultsDF, 'ELA': ELAResultsDF}"
   ]
  },
  {
   "cell_type": "code",
   "execution_count": null,
   "id": "2153d80e",
   "metadata": {},
   "outputs": [],
   "source": [
    "for subject in subjects:\n",
    "    resultsDF = resultsDFs[subject]\n",
    "    resultsDF.info()\n",
    "    print(len(resultsDF))\n",
    "    \n",
    "del resultsDF    "
   ]
  },
  {
   "cell_type": "code",
   "execution_count": null,
   "id": "b19d00e5",
   "metadata": {},
   "outputs": [],
   "source": [
    "# resultsDF.info() showed that most of the columns are objects instead of numbers and needed to be converted\n",
    "\n",
    "for subject in subjects:\n",
    "    resultsDF = resultsDFs[subject]\n",
    "    resultsDF_colToConvert = ['Valid Scores',\n",
    "     'Mean Scale Score',\n",
    "     'L1 Percent',                             \n",
    "     'L2 Percent',\n",
    "     'L3 Percent',\n",
    "     'L4 Percent',\n",
    "     'L5 Percent']\n",
    "    resultsDF[resultsDF_colToConvert] = resultsDF[resultsDF_colToConvert].apply(pd.to_numeric, errors = 'coerce')\n",
    "    resultsDF.info()\n",
    "    print(len(resultsDF))\n",
    "    \n",
    "del resultsDF"
   ]
  },
  {
   "cell_type": "code",
   "execution_count": null,
   "id": "5b054094",
   "metadata": {},
   "outputs": [],
   "source": [
    "# Adding a separate 'Grade' column getting the gdare number from the column 'Assessment'\n",
    "# Adding estimates of numbers of results for each level \n",
    "# Adding a column with unique names for schools for further analysis\n",
    "\n",
    "for subject in subjects:\n",
    "    resultsDF = resultsDFs[subject]\n",
    "    \n",
    "    # Getting grades\n",
    "    assessment = resultsDF['Assessment']\n",
    "    resultsDF['Grade'] = assessment.str[-1]\n",
    "    resultsDF['Grade'] = pd.to_numeric(resultsDF['Grade'])\n",
    "    \n",
    "    # Some schools in different school districts are called the same, causing issues in analysis \n",
    "    # further. Names of schools districs are incosistantly recorded in the data and cannot be used\n",
    "    # to distinguish those schools, county names, however, are consistant, so we use them as proxy\n",
    "    # to make unique key for schools\n",
    "    resultsDF['School_Key'] = resultsDF['School Name'] + ', '+resultsDF['County Name']\n",
    "    \n",
    "    # We'll need number of tests results for each level, so we estimate these nubers backwords\n",
    "    # from precentage of the results for each level\n",
    "    levels = ['L1', 'L2', 'L3', 'L4', 'L5']\n",
    "    for l in levels:        \n",
    "        resultsDF[f'{l} Number'] = (resultsDF[f'{l} Percent']*0.01)*resultsDF['Valid Scores']\n",
    "    \n",
    "    print(resultsDF.head())\n",
    "\n",
    "del resultsDF"
   ]
  },
  {
   "cell_type": "code",
   "execution_count": null,
   "id": "2ce20d96",
   "metadata": {},
   "outputs": [],
   "source": [
    "# Deleting rows for elementary K-6 schools\n",
    "\n",
    "for subject in subjects:\n",
    "    resultsDF = resultsDFs[subject]\n",
    "    \n",
    "    # list of schools names\n",
    "    schoolsNames = resultsDF['School_Key'].to_list()\n",
    "    print(f\"Schools' list ready for {subject}.\")\n",
    "    \n",
    "    # Create disctionnary to hold the dataframes by schools\n",
    "    schoolDFs = {}\n",
    "    \n",
    "    # List of schools to delete\n",
    "    schools_to_delete = []\n",
    "    \n",
    "    # Make dataframes by schools \n",
    "    for name in schoolsNames:\n",
    "        dfName = name\n",
    "        schoolDFs[dfName] = resultsDF[resultsDF['School_Key'] == name]\n",
    "    print(f'Dataframes by schools ready for {subject}.')\n",
    "\n",
    "    print(f\"Checking schools for grades for {subject}...\")\n",
    "\n",
    "    # Checking dataframes by school\n",
    "    for schoolDF, current_dataframe in tqdm(schoolDFs.items()):\n",
    "        # schoolDF contains the name of the dataframe\n",
    "        # current_dataframe contains the dataframe itself\n",
    "        # Do something with current_dataframe    \n",
    "        if not (7 in current_dataframe['Grade'].values or 8 in current_dataframe['Grade'].values):\n",
    "            schools_to_delete.append(schoolDF)\n",
    "\n",
    "    print(f\"Deleting the K-6 schools from {subject} results...\")        \n",
    "    # Deleting the K-6 schools from schoolDFs\n",
    "    for schoolDF in tqdm(schools_to_delete):\n",
    "        del schoolDFs[schoolDF]\n",
    "    \n",
    "    print(f'Finalizing the {subject} results dataframe...')\n",
    "    # Concatenate all schools dataframes along the columns before merging\n",
    "    resultsDFs[subject] = pd.concat(list(schoolDFs.values()), axis=0)\n",
    "                                    \n",
    "    print(f\"Dataframe for {subject} results ready.\")\n",
    "\n",
    "del resultsDF"
   ]
  },
  {
   "cell_type": "markdown",
   "id": "133be020",
   "metadata": {},
   "source": [
    "## Analysis"
   ]
  },
  {
   "cell_type": "markdown",
   "id": "3044275a",
   "metadata": {},
   "source": [
    "#### Prepare schools dataframe with only middle school tests results (grades 6-8)"
   ]
  },
  {
   "cell_type": "code",
   "execution_count": null,
   "id": "236acec5",
   "metadata": {
    "scrolled": true
   },
   "outputs": [],
   "source": [
    "# Select middle school grades results from the dataframes with Math and ELA tests results\n",
    "\n",
    "resultsMS_bySchl_Norm ={}\n",
    "\n",
    "for subject in subjects:\n",
    "        \n",
    "    resultsDF = resultsDFs[subject]\n",
    "       \n",
    "    # Dataframe with only grades 6-8 results (middle schools and K-8) by years\n",
    "    resultsMS = resultsDF[(resultsDF['Grade'] >= 6)&(resultsDF['Grade'] <= 8)]\n",
    "    \n",
    "    # Dataframe with results grouped by years\n",
    "    resultsMS_bySchl = resultsMS.groupby(['School_Key', 'School Name', 'Year'])[['L1 Number','L2 Number','L3 Number','L4 Number','L5 Number']].sum()\n",
    "    \n",
    "    # Change column names to include subject\n",
    "    resultsMS_bySchl.columns = [f'Level 1 {subject}',f'Level 2 {subject}',f'Level 3 {subject}',f'Level 4 {subject}', f'Level 5 {subject}']\n",
    "    \n",
    "    # Dataframe for middle schools by years with normalized values\n",
    "    resultsMS_bySchl_Norm[subject] = resultsMS_bySchl.div(resultsMS_bySchl.sum(axis=1), axis=0)\n",
    "    resultsMS_bySchl_Norm[subject].reset_index(inplace=True)\n",
    "    resultsMS_bySchl_Norm[subject] = resultsMS_bySchl_Norm[subject].T.drop_duplicates().T\n",
    "    \n",
    "    print(resultsMS_bySchl_Norm[subject].head(20))\n",
    "    \n",
    "del resultsDF, resultsMS_bySchl"
   ]
  },
  {
   "cell_type": "code",
   "execution_count": null,
   "id": "e0f5b494",
   "metadata": {},
   "outputs": [],
   "source": [
    "# Make a merged dataframe with both Math and ELA results\n",
    "\n",
    "DFs = list(resultsMS_bySchl_Norm.values())\n",
    "allResultsDF = pd.merge(DFs[0], DFs[1], on = ['School_Key', 'School Name', 'Year'], how = 'inner')\n",
    "allResultsDF.head()"
   ]
  },
  {
   "cell_type": "code",
   "execution_count": null,
   "id": "47b165f0",
   "metadata": {},
   "outputs": [],
   "source": [
    "# Add colomn with sum of shares of level5 students by Math and level5 students ELA\n",
    "\n",
    "allResultsDF['Level 5 Math+Ela'] = allResultsDF[f'Level 5 {subjects[0]}']+allResultsDF[f'Level 5 {subjects[1]}']\n",
    "allResultsDF.head(10)"
   ]
  },
  {
   "cell_type": "code",
   "execution_count": null,
   "id": "5c968e37",
   "metadata": {},
   "outputs": [],
   "source": [
    "unique_values = allResultsDF['Year'].unique()\n",
    "print(unique_values)"
   ]
  },
  {
   "cell_type": "markdown",
   "id": "c9e02b6b",
   "metadata": {},
   "source": [
    "#### Create dataframe with average 2015-2023 math and ela test results for all middle school grades"
   ]
  },
  {
   "cell_type": "code",
   "execution_count": null,
   "id": "1aa767cf",
   "metadata": {},
   "outputs": [],
   "source": [
    "# Make a merged dataframe with both Math and ELA average 2015-2023 results \n",
    "\n",
    "resultsMS_AVG2015_23 = {}\n",
    "\n",
    "for subject in subjects:\n",
    "    \n",
    "    resultsDF = resultsDFs[subject]\n",
    "   \n",
    "  \n",
    "    # Dataframe with only grades 6-8 results (middle schools and K-8) by schools\n",
    "    resultsMS_bySchl_sumed = resultsDF.groupby(['School_Key', 'School Name'])[['L1 Number','L2 Number','L3 Number','L4 Number','L5 Number']].sum()\n",
    "    \n",
    "    # Rename columns\n",
    "    resultsMS_bySchl_sumed.columns = [f'# Level 1 {subject}',f'# Level 2 {subject}',f'# Level 3 {subject}',f'# Level 4 {subject}', f'# Level 5 {subject}']\n",
    "\n",
    "    \n",
    "    # Dataframe for middle schools by years with normalized values\n",
    "    resultsMS_bySchl_sumed_Norm = resultsMS_bySchl_sumed.div(resultsMS_bySchl_sumed.sum(axis=1), axis=0)\n",
    "    resultsMS_bySchl_sumed_Norm.columns = [f'8yrs avg Lvl 1 {subject}',f'8yrs avg Lvl 2 {subject}',f'8yrs avg Lvl 3 {subject}', f'8yrs avg Lvl 4 {subject}', f'8yrs avg Lvl 5 {subject}']\n",
    "    resultsMS_bySchl_sumed_Norm.reset_index(inplace = True)\n",
    "    \n",
    "    # Add the dataframe to the respective dictionnary \n",
    "    resultsMS_AVG2015_23[subject] = resultsMS_bySchl_sumed_Norm\n",
    "    print(subject)\n",
    "    print(len(resultsMS_AVG2015_23[subject]))\n",
    "    \n",
    "\n",
    "# del resultsDF, resultsMS_bySchl_sumed_Norm, resultsMS_bySchl_sumed_sorted, fileName, filePath, resultsMS_bySchl_sumed\n",
    "del resultsDF, resultsMS_bySchl_sumed_Norm, resultsMS_bySchl_sumed"
   ]
  },
  {
   "cell_type": "code",
   "execution_count": null,
   "id": "4cb48087",
   "metadata": {},
   "outputs": [],
   "source": [
    "# Make a merged dataframe with both Math and ELA average 2013-2023 results \n",
    "\n",
    "AVG2015_23_DFs = list(resultsMS_AVG2015_23.values())\n",
    "allResultsAVG2015_23DF = pd.merge(AVG2015_23_DFs[0], AVG2015_23_DFs[1], on = ['School_Key','School Name'], how = 'inner')\n",
    "allResultsAVG2015_23DF['8yrs avg Lvl 5 Math+Ela'] = allResultsAVG2015_23DF[f'8yrs avg Lvl 5 {subjects[0]}']+allResultsAVG2015_23DF[f'8yrs avg Lvl 5 {subjects[1]}']\n",
    "del AVG2015_23_DFs"
   ]
  },
  {
   "cell_type": "code",
   "execution_count": null,
   "id": "f8af554b",
   "metadata": {},
   "outputs": [],
   "source": [
    "# Make plots for popups in the map and add them as columns to the mappable dataframe\n",
    "\n",
    "# list of schools names\n",
    "\n",
    "schoolsNames = allResultsDF['School_Key'].to_list()\n",
    "testResults = allResultsDF\n",
    "\n",
    "print(\"Schools' list ready.\")\n",
    "# Create disctionnary to hold the dataframes by schools\n",
    "schoolDFs = {}\n",
    "\n",
    "# Make dataframes by schools \n",
    "for name in schoolsNames:\n",
    "    dfName = name\n",
    "    schoolDFs[dfName] = testResults[testResults['School_Key'] == name]\n",
    "print('Dataframes by schools ready.')\n",
    "\n",
    "\n",
    "plotsDFs = {}\n",
    "\n",
    "\n",
    "print(\"Making plots of test results ...\")\n",
    "\n",
    "for subject in subjects:\n",
    "    plots = []\n",
    "    columns_to_plot = [f'Level 1 {subject}',f'Level 2 {subject}',f'Level 3 {subject}',f'Level 4 {subject}', f'Level 5 {subject}']  \n",
    "\n",
    "    # Plot dataframes by school\n",
    "\n",
    "    for schoolDF, current_dataframe in tqdm(schoolDFs.items()):\n",
    "        # schoolDF contains the name of the dataframe\n",
    "        # current_dataframe contains the dataframe itself\n",
    "        # Do something with current_dataframe\n",
    "        # Create a plot\n",
    "        fig = create_plot(current_dataframe, schoolDF, columns_to_plot)\n",
    "\n",
    "        # Convert the plot to a PNG image and then encode it\n",
    "        io_buf = BytesIO()\n",
    "        fig.savefig(io_buf, format='png', bbox_inches='tight')\n",
    "        # Close the figure\n",
    "        plt.close()\n",
    "        #Reading file to get the base64 string\n",
    "        io_buf.seek(0)\n",
    "        base64_string = base64.b64encode(io_buf.read()).decode('utf8')\n",
    "\n",
    "        pair = (schoolDF, base64_string)\n",
    "\n",
    "        plots.append(pair) \n",
    "            \n",
    "    # add the plots to the dataframe of middle schools subject results \n",
    "    plotsDFs[subject] = pd.DataFrame(plots, columns=['School Name', f'plot {subject}'])\n",
    "\n",
    "           \n",
    "# Concatenate all plots DataFrames along the columns before merging\n",
    "combined_plots_df = pd.concat(plotsDFs.values(), axis=1)\n",
    "\n",
    "\n",
    "print('Adding plots to the dataframe with test results.')    \n",
    "allResultsAVG2015_23DF = pd.merge(allResultsAVG2015_23DF, combined_plots_df, left_on = 'School_Key', right_on=combined_plots_df.iloc[:, 0], suffixes=('', '_drop'))\n",
    "allResultsAVG2015_23DF = allResultsAVG2015_23DF.loc[:, ~allResultsAVG2015_23DF.columns.str.endswith('_drop')]\n",
    "print('Done.')  "
   ]
  },
  {
   "cell_type": "code",
   "execution_count": null,
   "id": "c650ae04",
   "metadata": {
    "scrolled": true
   },
   "outputs": [],
   "source": [
    "allResultsAVG2015_23DF.info()"
   ]
  },
  {
   "cell_type": "code",
   "execution_count": null,
   "id": "23e539c3",
   "metadata": {},
   "outputs": [],
   "source": [
    "allResultsAVG2015_23DF.head(10)"
   ]
  },
  {
   "cell_type": "markdown",
   "id": "b8225223",
   "metadata": {},
   "source": [
    "<a id=\"maps\"></a> \n",
    "### Preparing geoJSON for mapping"
   ]
  },
  {
   "cell_type": "markdown",
   "id": "caca0ad5",
   "metadata": {},
   "source": [
    "#### Read schools geolocation file"
   ]
  },
  {
   "cell_type": "code",
   "execution_count": null,
   "id": "d853ef71",
   "metadata": {},
   "outputs": [],
   "source": [
    "# Read GeoJSON into dataframe\n",
    "\n",
    "SchoolsFile = 'School_Point_Locations_of_NJ_(Public%2C_Private_and_Charter).geojson'\n",
    "NJSchoolsPath = os.path.join(basePath, dataFolder, SchoolsFile)\n",
    "NJSchoolsData = gpd.read_file(NJSchoolsPath)"
   ]
  },
  {
   "cell_type": "code",
   "execution_count": null,
   "id": "7dfea90f",
   "metadata": {},
   "outputs": [],
   "source": [
    "# Add column with school-county key for each school\n",
    "\n",
    "NJSchoolsData['School_Key'] = NJSchoolsData['SCHOOL']  + ', '+ NJSchoolsData['COUNTY']"
   ]
  },
  {
   "cell_type": "code",
   "execution_count": null,
   "id": "2fd2ea21",
   "metadata": {},
   "outputs": [],
   "source": [
    "NJSchoolsData.info()"
   ]
  },
  {
   "cell_type": "markdown",
   "id": "ce0cc13f",
   "metadata": {},
   "source": [
    "#### Merge the GeoJSON and the results dataframe"
   ]
  },
  {
   "cell_type": "code",
   "execution_count": null,
   "id": "728f41be",
   "metadata": {},
   "outputs": [],
   "source": [
    "#NYCSchoolsData.info() #Too many columns --> make a smaller copy\n",
    "\n",
    "NJSchoolsDataShort = NJSchoolsData[['OBJECTID', 'DIST_NAME', 'SCHOOLTYPE', 'SCHOOL', 'SCHOOLNAME', 'CITY', 'School_Key','geometry']]\n",
    "NJSchoolsDataShort.head()"
   ]
  },
  {
   "cell_type": "code",
   "execution_count": null,
   "id": "7f03ed0e",
   "metadata": {},
   "outputs": [],
   "source": [
    "# Matching the school all data file with spatial data (geojson of schools' locations) \n",
    "# by the 'School_Key' columns from 'allResultsAVG2015_23DF' to 'NYCSchoolsDataShort' dataframes\n",
    "# Matched scores later are used to find out mismatched rows  \n",
    "\n",
    "tqdm.pandas(desc=\"Matching Names\")\n",
    "\n",
    "matched_tuples = allResultsAVG2015_23DF['School_Key'].progress_apply(\n",
    "    lambda x: match_name(x, NJSchoolsDataShort['School_Key'], min_score=70))\n",
    "\n",
    "print('Done.')"
   ]
  },
  {
   "cell_type": "code",
   "execution_count": null,
   "id": "0979f1b0",
   "metadata": {},
   "outputs": [],
   "source": [
    "# Appending matches to the dataframe 'allResultsAVG2015_23DF'\n",
    "\n",
    "print('Appending matches to the dataframe.')\n",
    "allResultsAVG2015_23DF['matched_name'] = list(zip(*matched_tuples))[0]\n",
    "allResultsAVG2015_23DF['matched_score'] = list(zip(*matched_tuples))[1]\n",
    "print('Done.')"
   ]
  },
  {
   "cell_type": "code",
   "execution_count": null,
   "id": "123aaa7e",
   "metadata": {},
   "outputs": [],
   "source": [
    "allResultsAVG2015_23DF.info()"
   ]
  },
  {
   "cell_type": "code",
   "execution_count": null,
   "id": "eba860b7",
   "metadata": {},
   "outputs": [],
   "source": [
    "# Checking how many rows remained unmatched to see if minimum score is optimal\n",
    "\n",
    "(allResultsAVG2015_23DF['matched_score'] == -1).sum()\n",
    "\n",
    "# 19 if minimal score = 70, which is good for this case"
   ]
  },
  {
   "cell_type": "code",
   "execution_count": null,
   "id": "502ca719",
   "metadata": {},
   "outputs": [],
   "source": [
    "# Saving 'allResultsAVG2015_23DF' dataframe to csv file to manually check mismatches\n",
    "\n",
    "name = 'NJTestResults2023_tempMatched.csv'\n",
    "path = os.path.join(basePath, outputFolder, name)\n",
    "print(f'Saving to {path} ...')\n",
    "allResultsAVG2015_23DF.to_csv(path)\n",
    "print('Saved.')\n",
    "\n",
    "del name, path"
   ]
  },
  {
   "cell_type": "code",
   "execution_count": null,
   "id": "84fc86df",
   "metadata": {},
   "outputs": [],
   "source": [
    "# Unmatched or matched incorrectly names identified by \n",
    "# visual observations on the map or by analysing the geoJSON in prefered software\n",
    "# allResultsAVG2015_23DF['School_Key']:NJSchoolsDataShort['School_Key']\n",
    "# in case the school turned up to be closed or the row not being a school the match changed to\n",
    "# empty '' to make sure, the row would not be merged to a school point\n",
    "\n",
    "unmatched = {\n",
    "    'HORACE MANN #6, HUDSON':'Horace Mann Community School, Hudson',\n",
    "    'JOHN M. BAILEY #12, HUDSON':'John M. Bailey Community School, HUDSON',\n",
    "    'RONALD REAGAN ACADEMY SCHOOL NO. 30, UNION':'Chessie Dentley Roberts Academy School No. 30, UNION',\n",
    "    'MERIT PREPARATORY CHARTER SCHOOL OF NEWARK, CHARTERS':'',\n",
    "    'LADY LIBERTY ACADEMY CHARTER SCHOOL, CHARTERS':'',\n",
    "    'CLASSICAL ACADEMY CHARTER SCHOOL , CHARTERS':'Classical Academy Charter School of Clifton, PASSAIC',\n",
    "    'MILLER STREET SCHOOL AT SPENCER, ESSEX':'',\n",
    "    'WINFIELD TOWNSHIP, UNION':'',\n",
    "    'CHARLES J. HUDSON SCHOOL NO. 25, UNION':'Sonia Sotomayor School No 25, UNION',\n",
    "    'JOHN WITHERSPOON MIDDLE SCHOOL, MERCER':'Princeton Middle School, MERCER',\n",
    "    'WOODROW WILSON #10, HUDSON':'Woodrow Wilson Community School, HUDSON',\n",
    "    'CALIFON ELEMENTARY, HUNTERDON':'Califon Public School, HUNTERDON',\n",
    "    'RAFAEL CORDERO MOLINA ELEMENTARY SCHOOL, CAMDEN':'Mastery Schools of Camden, Inc., HUDSON',\n",
    "    'DON BOSCO ACADEMY, PASSAIC':'',\n",
    "    'VETERANS MEMORIAL FAMILY SCHOOL, CAMDEN':'Veteran\\'S Memorial Middle School, OCEAN',\n",
    "    'CAMDENS PROMISE CHARTER SCHOOL, CHARTERS':'Camden\\'s Promise Charter School, CAMDEN',\n",
    "    'DR. MARTIN LUTHER KING MIDDLE SCHOOL, MERCER':'Dr. Martin Luther King, Jr., MERCER',\n",
    "    'GALLOWAY COMMUNITY CHARTER SCHOOL, CHARTERS':'',\n",
    "    'LINCOLN AVENUE MIDDLE SCHOOL, CUMBERLAND':'Sgt. Dominick Pilla Middle School, CUMBERLAND',\n",
    "    'QUITMAN COMMUNITY SCHOOL, ESSEX':'Quitman Street School, ESSEX',\n",
    "    'GRETTA R. OSTROVSKY MIDDLE SCHOOL, BERGEN':'',\n",
    "    'ALTERNATIVE MIDDLE & HIGH SCHOOL, SALEM':'',\n",
    "    'EAST CAMDEN MIDDLE SCHOOL, CAMDEN':'Mastery Schools Of Camden, Inc., CAMDIEN',\n",
    "    'HENRY L. BONSALL FAMILY SCHOOL, CAMDEN':'',\n",
    "    'PYNE POYNT MIDDLE SCHOOL, CAMDEN':'',\n",
    "    'STRIVE ALTERNATIVE MIDDLE SCHOOL, PASSAIC':'',\n",
    "    'PORT NORRIS MIDDLE SCHOOL, CUMBERLAND':'',\n",
    "    'EAST NEWARK PUBLIC SCHOOL, HUDSON':'East Newark Middle School, HUDSON',\n",
    "    'MONONGAHELA MIDDLE SCHOOL, GLOUCESTER':'Deptford Township Middle School, GLOUCESTER',\n",
    "    'MT HEBRON MIDDLE SCHOOL, ESSEX':'',\n",
    "    'MT. HEBRON MIDDLE SCHOOL, ESSEX':'',\n",
    "    'OXFORD STREET ELEMENTARY SCHOOL, WARREN':'Belvidere Elementary School, WARREN',\n",
    "    'CLEVELAND AVENUE SCHOOL, ESSEX':'',\n",
    "    'HAMMARSKJOLD MIDDLE SCHOOL, MIDDLESEX':'Hammarskjold Upper Elementary School, MIDDLESEX',\n",
    "    'ORANGE PREPARATORY ACADEMY, ESSEX':'Orange Preparatory Academy School of Inquiry and Innovation, ESSEX',\n",
    "    'CHARLES SUMNER ELEMENTARY SCHOOL, CAMDEN':'',\n",
    "    'DEERFIELD TOWNSHIP SCHOOL DISTRICT, CUMBERLAND':'',\n",
    "    'MIDTOWN COMMUNITY SCHOOL #8, HUDSON':'William Shemin Midtown Community School #8, HUDSON',\n",
    "    'WESTWOOD JUNIONR/SENIOR HIGH SCHOOL, BERGEN':'Westwood Regional High School, BERGEN',\n",
    "    'FRANKLIN ELEMENTARY SCHOOL, SUSSEX':'Franklin Borough School, SUSSEX',\n",
    "    'WESTWOOD JUNIOR/SENIOR HIGH SCHOOL, BERGEN':'Westwood Regional High School, BERGEN',\n",
    "    'WOODROW WILSON ELEMENTARY SCHOOL, HUDSON':'Woodrow Wilson Community School, HUDSON',\n",
    "    'FRANKLIN MIDDLE SCHOOL, SOMERSET':'Franklin Middle School at Hamilton Street Campus, SOMERSET',\n",
    "    'LANDIS MIDDLE SCHOOL, CUMBERLAND':'',\n",
    "    'SCHOOL 11 (NEWCOMERS), PASSAIC':'',\n",
    "    'FOREST STREET ELEMENTARY SCHOOL, ESSEX':'Forest Street Community Elementary School, ESSEX',\n",
    "    'DEERFIELD TOWNSHIP SCHOOL, CUMBERLAND':'Deerfield Township Elementary School, CUMBERLAND',\n",
    "    'OAKWOOD AVENUE ELEMENTARY SCHOOL, ESSEX':'Oakwood Avenue Community School, ESSEX',\n",
    "    'SCHOOL NO. 5, PASSAIC':'School #5, PASSAIC',\n",
    "    'SCHOOL #6, BERGEN':'School #6/Middle School, BERGEN',\n",
    "    'SCHOOL 6, PASSAIC':'Martin Luther King, Jr. School No. 6, PASSAIC',\n",
    "    'BEVERLY CITY SCHOOL DISTRICT, BURLINGTON':'',\n",
    "    'CAMDENS PROMISE CHARTER SCHOOL, CHARTERS':'',\n",
    "    'DEERFIELD TOWNSHIP SCHOOL DISTRICT, CUMBERLAND':'',\n",
    "    'DEERFIELD TOWNSHIP SCHOOL, CUMBERLAND':'',\n",
    "    'EASTAMPTON TOWNSHIP SCHOOL DISTRICT, BURLINGTON':'',    \n",
    "    'EISENHOWER MIDDLE SCHOOL DISTRICT, MORRIS':'',\n",
    "    'HAMPTON BOROUGH SCHOOL DISTRICT, HUNTERDON':'',\n",
    "    'HARMONY TOWNSHIP SCHOOL DISTRICT, WARREN':'',\n",
    "    'HARRINGTON PARK SCHOOL DISTRICT, BERGEN':'',\n",
    "    'KITTATINNY HIGH SCHOOL DISTRICT, SUSSEX':'',\n",
    "    'LAWNSIDE SCHOOL DISTRICT, CAMDEN':'',\n",
    "    'MAURICE RIVER TOWNSHIP SCHOOL DISTRICT, CUMBERLAND':'',\n",
    "    'MONMOUTH BEACH ELEMENTARY SCHOOL DISTRICT, MONMOUTH':'',\n",
    "    'PORT REPUBLIC SCHOOL DISTRICT, ATLANTIC':'', \n",
    "    'QUINTON TOWNSHIP SCHOOL DISTRICT, SALEM':'', \n",
    "    'RIVERTON SCHOOL DISTRICT, BURLINGTON':'', \n",
    "    'SHREWSBURY BOROUGH SCHOOL DISTRICT, MONMOUTH':'', \n",
    "    'SOMERDALE SCHOOL DISTRICT, CAMDEN':'',\n",
    "}"
   ]
  },
  {
   "cell_type": "code",
   "execution_count": null,
   "id": "42496e6a",
   "metadata": {},
   "outputs": [],
   "source": [
    "# Replacing the erroneus matches in the 'allResultsDF_2023' dataframe\n",
    "\n",
    "def replace_values(row):\n",
    "    if row['School_Key'] in unmatched:\n",
    "        row['matched_name'] = unmatched[row['School_Key']]\n",
    "    return row\n",
    "\n",
    "allResultsAVG2015_23DF = allResultsAVG2015_23DF.apply(replace_values, axis = 1)"
   ]
  },
  {
   "cell_type": "code",
   "execution_count": null,
   "id": "56097175",
   "metadata": {},
   "outputs": [],
   "source": [
    "allResultsAVG2015_23DF.info()"
   ]
  },
  {
   "cell_type": "code",
   "execution_count": null,
   "id": "327548be",
   "metadata": {},
   "outputs": [],
   "source": [
    "# Checking if there are rows matched to the same school and what are those rows\n",
    "\n",
    "df_duplicates = allResultsAVG2015_23DF.groupby('matched_name').filter(lambda x: len(x) > 1)\n",
    "df_duplicates"
   ]
  },
  {
   "cell_type": "code",
   "execution_count": null,
   "id": "6aecbbb8",
   "metadata": {},
   "outputs": [],
   "source": [
    "# Saving the duplicates for visual checking\n",
    "\n",
    "name = 'NJduplicates check.csv'\n",
    "path = os.path.join(basePath, outputFolder, name)\n",
    "print(f'Saving to {path} ...')\n",
    "df_duplicates.to_csv(path)\n",
    "print('Saved.')\n",
    "del name, path\n",
    "\n",
    "# A visual inspection revealed that some school names are inconsistently spelled or \n",
    "# contain errors in the records across different years. As a result, these discrepancies created\n",
    "# separate entries in the allResultsAVG2015_23DF dataframe. Consequently, this has led to certain\n",
    "# schools having multiple overlapping points on the map, with pop-ups displaying data for \n",
    "# different years.\n",
    "# While this may affect the visual clarity and completeness of the map, the current \n",
    "# representation still provides a comprehensive overview of the academic proficiency of middle \n",
    "# schools in New Jersey. Further data cleaning to eliminate this issue required spending more \n",
    "# time and effort which was unesessery for the purpose of the project."
   ]
  },
  {
   "cell_type": "code",
   "execution_count": null,
   "id": "ec4b6d11",
   "metadata": {
    "scrolled": true
   },
   "outputs": [],
   "source": [
    "# Merging dataframes based on the matched name - county key\n",
    "\n",
    "print('Merging dataframes.')\n",
    "schoolsData_mappable = pd.merge(NJSchoolsDataShort,allResultsAVG2015_23DF, left_on= ['School_Key'], right_on=['matched_name'], suffixes=('', '_drop'))\n",
    "schoolsData_mappable = schoolsData_mappable.loc[:, ~schoolsData_mappable.columns.str.endswith('_drop')]\n",
    "data_Name = 'NJpublicSchoolsData.geojson'\n",
    "data_Path = os.path.join(basePath,outputFolder, data_Name)\n",
    "\n",
    "print(f\"Saving data to GeoJSON file {data_Path}...\")\n",
    "schoolsData_mappable.to_file(data_Path, driver=\"GeoJSON\")\n",
    "\n",
    "print('Saved.')\n",
    "del data_Name, data_Path"
   ]
  },
  {
   "cell_type": "code",
   "execution_count": null,
   "id": "019d7d9d",
   "metadata": {},
   "outputs": [],
   "source": [
    "schoolsData_mappable.info()"
   ]
  },
  {
   "cell_type": "code",
   "execution_count": null,
   "id": "3b73f91b",
   "metadata": {},
   "outputs": [],
   "source": []
  }
 ],
 "metadata": {
  "kernelspec": {
   "display_name": "Python 3 (ipykernel)",
   "language": "python",
   "name": "python3"
  },
  "language_info": {
   "codemirror_mode": {
    "name": "ipython",
    "version": 3
   },
   "file_extension": ".py",
   "mimetype": "text/x-python",
   "name": "python",
   "nbconvert_exporter": "python",
   "pygments_lexer": "ipython3",
   "version": "3.7.12"
  }
 },
 "nbformat": 4,
 "nbformat_minor": 5
}
