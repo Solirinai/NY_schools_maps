{
 "cells": [
  {
   "cell_type": "markdown",
   "id": "888b8e0c",
   "metadata": {},
   "source": [
    "# Analysis of NJ public schools results in ELA and math grades 6-8."
   ]
  },
  {
   "cell_type": "markdown",
   "id": "3e1cc970-ea50-4b77-a0bc-3b7d63c9b1f0",
   "metadata": {},
   "source": [
    "<span style=\"color: red;\">**If kernel can't connect to server again run command:**\n",
    "*netsh winsock reset*<span>"
   ]
  },
  {
   "cell_type": "markdown",
   "id": "dc01637a",
   "metadata": {},
   "source": [
    "<a id=\"TOC\"></a> \n",
    "## Table of Contents\n",
    "1. [Data sources and definitions](#data)\n",
    "2. [Imports: modules](#modules)\n",
    "3. [Read and prepare data](#read)\n",
    "4. [Best middle schools by math](#best)\n",
    "5. [Maps of middle schools by math results](#maps) \n"
   ]
  },
  {
   "cell_type": "markdown",
   "id": "00c1d9de-c41d-4577-8a53-84356c5ebcc4",
   "metadata": {},
   "source": [
    "<a id=\"data\"></a> \n",
    "#### Data:\n",
    "1. Data New Jersey Student Learning Assessments (NJSLA) results 2015-2023 for grades 6-8:\n",
    "<br>State of New Jersey, Department of Education:\n",
    "Statewide Assessment Reports\n",
    "<br>https://www.nj.gov/education/assessment/results/reports/\n",
    "2. NJ schools locations: NJGIN Open Data <br>\n",
    "https://njogis-newjersey.opendata.arcgis.com/datasets/d8223610010a4c3887cfb88b904545ff/explore\n",
    "3. School districts: NJGIN Open Data \n",
    "<br>https://njogis-newjersey.opendata.arcgis.com/datasets/ca144194df66491d83b8f8bf338e0172/explore"
   ]
  },
  {
   "cell_type": "markdown",
   "id": "c53d80ad",
   "metadata": {},
   "source": [
    "####  Performance levels for New Jersey Student Learning Standards for English Language Arts and Math  \n",
    "\n",
    "**Level 1**: Did Not Yet Meet Expectations \n",
    "\n",
    "**Level 2**: Partially Met Expectations \n",
    "\n",
    "**Level 3**: Approached Expectations  \n",
    "\n",
    "**Level 4**: Met Expectations  \n",
    "\n",
    "**Level 5**: Exceeded Expectations  \n",
    "\n",
    "*Source: New Jersey Assessments Resource Center, 2022, https://nj.mypearsonsupport.com/resources/reporting/NJSLA_Score_Interpretation_Guide_Spring2022.pdf*"
   ]
  },
  {
   "cell_type": "markdown",
   "id": "ac719a6d",
   "metadata": {},
   "source": [
    "## Questions\n",
    "*1. How the test results changed?*\n",
    "<br>Compare last year test results in a school with the school 10-year average as percentage of average:\n",
    "<br> school_change = (school_current_year - school_10year_average)/school_10year_average\n",
    "<br> citywide_change = (city_current_year - city_10year_average)/city_10year_average\n",
    "<br> relative_school_change = school_change - citywide_change\n",
    "<br><br>\n",
    "*2. How good the school is?* \n",
    "<br>Last three testing period results (2019, 2022, 2023) are different for some schools: due to COVID disruptions, testing procedures changes, in Destrict 15 due to admission rules changed. Therefore average 10 years scores do not reflect well schools situation now. Results for these 3 last testing years are teken instead.\n",
    "<br><br>\n",
    "*3. Is the school citywide or borowide?*\n",
    "<br><br>\n",
    "*4. Diversity?*\n",
    "<br><br>\n",
    "*5. Size?*"
   ]
  },
  {
   "cell_type": "markdown",
   "id": "b7250733",
   "metadata": {},
   "source": [
    "<a id=\"modules\"></a> \n",
    "#### Imports: modules"
   ]
  },
  {
   "cell_type": "code",
   "execution_count": 1,
   "id": "69e42758",
   "metadata": {},
   "outputs": [],
   "source": [
    "import os\n",
    "import pandas as pd\n",
    "import geopandas as gpd\n",
    "import folium\n",
    "from shapely.geometry import Point\n",
    "from tqdm import tqdm\n",
    "\n",
    "pd.set_option('display.float_format', '{:.3f}'.format)"
   ]
  },
  {
   "cell_type": "code",
   "execution_count": 2,
   "id": "be3dd827",
   "metadata": {},
   "outputs": [],
   "source": [
    "basePath = r\"G:\\My Drive\\Kids\\NJ_schools_mapped\"\n",
    "dataFolder = r\"raw_data\"\n",
    "outputFolder = r\"processed_data\""
   ]
  },
  {
   "cell_type": "markdown",
   "id": "873610ae",
   "metadata": {},
   "source": [
    "<a id=\"maps\"></a> \n",
    "### Maps of the NYC middle schools by assessment results "
   ]
  },
  {
   "cell_type": "markdown",
   "id": "63507d8e",
   "metadata": {},
   "source": [
    "Below mapping is done with the __[Folium library](https://python-visualization.github.io/folium/latest/)__"
   ]
  },
  {
   "cell_type": "markdown",
   "id": "caca0ad5",
   "metadata": {},
   "source": [
    "#### Read schools geolocation file"
   ]
  },
  {
   "cell_type": "raw",
   "id": "d58be6b7",
   "metadata": {},
   "source": [
    "## Read GeoJSON into data frame\n",
    "SchoolsFile = 'NYC_K-12_schools_public.geojson'\n",
    "NYCSchoolsPath = os.path.join(basePath, dataFolder, SchoolsFile)\n",
    "NYCSchoolsData = gpd.read_file(NYCSchoolsPath)\n",
    "\n",
    "DistrictsFile = 'School Districts.geojson'\n",
    "NYCDistrictsPath = os.path.join(basePath, dataFolder, DistrictsFile)\n",
    "NYCDistrictsData = gpd.read_file(NYCDistrictsPath)"
   ]
  },
  {
   "cell_type": "markdown",
   "id": "054fe905",
   "metadata": {},
   "source": [
    "### Preparing layer with districts"
   ]
  },
  {
   "cell_type": "raw",
   "id": "35dc858f",
   "metadata": {
    "scrolled": true
   },
   "source": [
    "# Read file with district wide Math test results to add to the map\n",
    "DistrictMathFile = \"DistrictsMSMAthNorm.xlsx\"\n",
    "DistrictMathPath = os.path.join(basePath, outputFolder, DistrictMathFile)\n",
    "DistrictMSMathData = pd.read_excel(DistrictMathPath)\n",
    "print(DistrictMSMathData.head(5))\n",
    "\n",
    "# Read file with district wide ELA test results to add to the map\n",
    "DistrictELAFile = \"DistrictsMSELANorm.xlsx\"\n",
    "DistrictELAPath = os.path.join(basePath, outputFolder, DistrictELAFile)\n",
    "DistrictMSELAData = pd.read_excel(DistrictELAPath)\n",
    "print(DistrictMSELAData.head(5))"
   ]
  },
  {
   "cell_type": "raw",
   "id": "cdde461f",
   "metadata": {},
   "source": [
    "mathColumns = {'# Level 1':'# Level 1 Math','# Level 2':'# Level 2 Math', '# Level 3':'# Level 3 Math','# Level 4':'# Level 4 Math'}\n",
    "DistrictMSMathData.rename(columns = mathColumns, inplace = True) \n",
    "print(DistrictMSMathData.head())\n",
    "\n",
    "ELAColumns = {'# Level 1':'# Level 1 ELA','# Level 2':'# Level 2 ELA', '# Level 3':'# Level 3 ELA','# Level 4':'# Level 4 ELA'}\n",
    "DistrictMSELAData.rename(columns = ELAColumns, inplace = True)\n",
    "DistrictMSELAData.head()"
   ]
  },
  {
   "cell_type": "raw",
   "id": "f826dae2",
   "metadata": {},
   "source": [
    "DistrictMSMathData.info()"
   ]
  },
  {
   "cell_type": "raw",
   "id": "d25a920b",
   "metadata": {},
   "source": [
    "DistrictAllData = pd.merge(DistrictMSMathData, DistrictMSELAData, on = ['Year', 'District'], how = 'inner')"
   ]
  },
  {
   "cell_type": "raw",
   "id": "decd6f4a",
   "metadata": {},
   "source": [
    "DistrictAllData['# Level 4 Math+ELA'] = DistrictAllData['# Level 4 Math'] + DistrictAllData['# Level 4 ELA']"
   ]
  },
  {
   "cell_type": "raw",
   "id": "e4481c73",
   "metadata": {},
   "source": [
    "DistrictAllData.info()"
   ]
  },
  {
   "cell_type": "markdown",
   "id": "ebf01992",
   "metadata": {},
   "source": [
    "### Prepare schools layer"
   ]
  },
  {
   "cell_type": "code",
   "execution_count": 3,
   "id": "de3422dd",
   "metadata": {},
   "outputs": [],
   "source": [
    "# Read saved GeoJSON with average tests results and plots\n",
    "schoolsFile = 'NJpublicSchoolsData.geojson'\n",
    "schoolsPath = os.path.join(basePath, outputFolder,schoolsFile)\n",
    "schoolsData = gpd.read_file(schoolsPath)"
   ]
  },
  {
   "cell_type": "code",
   "execution_count": 4,
   "id": "8f5711f1",
   "metadata": {},
   "outputs": [
    {
     "name": "stdout",
     "output_type": "stream",
     "text": [
      "<class 'geopandas.geodataframe.GeoDataFrame'>\n",
      "RangeIndex: 1499 entries, 0 to 1498\n",
      "Data columns (total 26 columns):\n",
      " #   Column                   Non-Null Count  Dtype   \n",
      "---  ------                   --------------  -----   \n",
      " 0   OBJECTID                 1499 non-null   int64   \n",
      " 1   DIST_CODE                1499 non-null   object  \n",
      " 2   DIST_NAME                1499 non-null   object  \n",
      " 3   SCHOOLCODE               1499 non-null   object  \n",
      " 4   SCHOOLTYPE               1479 non-null   object  \n",
      " 5   SCHOOL                   1499 non-null   object  \n",
      " 6   SCHOOLNAME               1499 non-null   object  \n",
      " 7   CITY                     1499 non-null   object  \n",
      " 8   School Name              1499 non-null   object  \n",
      " 9   School Code              1499 non-null   object  \n",
      " 10  8yrs avg Lvl 1 Math      1492 non-null   float64 \n",
      " 11  8yrs avg Lvl 2 Math      1492 non-null   float64 \n",
      " 12  8yrs avg Lvl 3 Math      1492 non-null   float64 \n",
      " 13  8yrs avg Lvl 4 Math      1492 non-null   float64 \n",
      " 14  8yrs avg Lvl 5 Math      1492 non-null   float64 \n",
      " 15  8yrs avg Lvl 1 ELA       1493 non-null   float64 \n",
      " 16  8yrs avg Lvl 2 ELA       1493 non-null   float64 \n",
      " 17  8yrs avg Lvl 3 ELA       1493 non-null   float64 \n",
      " 18  8yrs avg Lvl 4 ELA       1493 non-null   float64 \n",
      " 19  8yrs avg Lvl 5 ELA       1493 non-null   float64 \n",
      " 20  8yrs avg Lvl 5 Math+Ela  1492 non-null   float64 \n",
      " 21  plot Math                1499 non-null   object  \n",
      " 22  plot ELA                 1499 non-null   object  \n",
      " 23  matched_name             1499 non-null   object  \n",
      " 24  matched_score            1499 non-null   int64   \n",
      " 25  geometry                 1499 non-null   geometry\n",
      "dtypes: float64(11), geometry(1), int64(2), object(12)\n",
      "memory usage: 304.6+ KB\n"
     ]
    }
   ],
   "source": [
    "schoolsData.info()"
   ]
  },
  {
   "cell_type": "code",
   "execution_count": 7,
   "id": "78334fd6",
   "metadata": {},
   "outputs": [
    {
     "name": "stdout",
     "output_type": "stream",
     "text": [
      "['CHARTER ELEMENTARY & KINDERGARTEN (K-6)' 'MIDDLE SCHOOL (GRADES 5-8)'\n",
      " 'ELEMENTARY (GRADES 2-4)' 'HIGH SCHOOL (GRADES 9-12)'\n",
      " 'PRIMARY (K-GRADE 1)' 'GRADES K-12' 'GRADES K-3' 'MIDDLE (GRADES 7-9)'\n",
      " 'ELEMENTARY (GRADES 4-6)' 'ELEMENTARY (K-GRADE 4)' 'ELEMENTARY (GRADE 5)'\n",
      " 'MIDDLE SCHOOL (GRADES 6-8)' 'ELEMENTARY (K-GRADE 3)'\n",
      " 'ELEMENTARY (K-GRADE 5)' 'GRADES K-8' 'HIGH SCHOOL (9-12)'\n",
      " 'ELEMENTARY (K-3)' 'MIDDLE SCHOOL (4-8)' 'PRIMARY SCHOOL (1-3)'\n",
      " 'GRADES 4-7' 'ELEMENTARY (K-GRADE 6)'\n",
      " 'MIDDLE/HIGH SCHOOL (GRADES 7 - 12)'\n",
      " 'CHARTER TECHNICAL SCHOOL OR INSTITUTE' 'CHARTER HIGH SCHOOL'\n",
      " 'GRADES K-7' 'GRADES K-10' 'GRADES K-5' 'GRADES K-11' 'GRADES K-4'\n",
      " 'ELEMENTARY' 'CHARTER MIDDLE/HIGH SCHOOL' 'HIGH SCHOOL' 'GRADES 4-6'\n",
      " 'INTERMEDIATE (7-9)' 'HIGH SCHOOL (GRADES 10-12)'\n",
      " 'ELEMENTARY (K-GRADE 2)' 'ELEMENTARY SCHOOL (K-GRADE 5)'\n",
      " 'ELEMENTARY (GRADES 3-8)' 'HS, GRADES 9-12' 'ELEMENTARY SCHOOL'\n",
      " 'MIDDLE SCHOOL & KINDERGARTEN' 'Intermediate School (3 - 6)'\n",
      " 'Middle School (7-8)' 'LOWER SCHOOL (GRADES K-2)' 'PRE K-GRADE 8'\n",
      " 'GRADES 6-12' 'K-GRADE 8' 'DOWNTOWN ELEMENTARY SCHOOL'\n",
      " 'MIDDLE SCHOOL (GRADES 6 AND 8)' 'ELEMENTARY SCHOOL (PK4-Grade 4)'\n",
      " 'ELEMENTARY SCHOOL (K-GRADE 2)' 'GRADES 5-8' 'GRADES 4-8' 'GRADES 2-5'\n",
      " 'MIDDLE SCHOOL' 'K-GRADE 5' None 'SIX-YEAR HIGH SCHOOL'\n",
      " 'SPECIAL SECONDARY SCHOOL FOR HANDICAPPED' 'FOUR-YEAR HIGH SCHOOL'\n",
      " 'ELEMENTARY SCHOOL, GRADES 4-6' 'K-GRADE 6' 'APPROVED JUNIOR HIGH SCHOOL'\n",
      " 'ELEMENTARY SCHOOL, GRADE 3' 'HIGH SCHOOL-OTHER' 'GRADES 5-6'\n",
      " 'PRESCHOOL-GRADE 8' 'SPECIAL ELEMENTARY SCHOOL FOR HANDICAPPED'\n",
      " 'NURSERY/PRE-SCHOOL' 'GRADES 9-12' 'PRESCHOOL- GRADE 8' 'GRADES 6-8'\n",
      " 'GRADES 5-8 AND PRE-K' 'PK-GRADE 8 & UNGRADED' 'GRADES 3-12'\n",
      " 'GREADES K-8' 'ALTERNATIVE EDUCATION PROGRAM, GRADES 6-12'\n",
      " 'ELEMENTARY, GRADES 2-5' 'ELEMENTARY (K-GRADE 1,5,6)'\n",
      " 'ELEMENTARY (GRADES K,1,5,6' 'GRADES 6-7' 'PRE-K - GRADE 8'\n",
      " 'MIDDLE, GRADES 5-8' 'K-GRADE 12' 'MS/HS' 'GRADES 7-8']\n"
     ]
    }
   ],
   "source": [
    "unique_values = schoolsData['SCHOOLTYPE'].unique()\n",
    "print(unique_values)"
   ]
  },
  {
   "cell_type": "markdown",
   "id": "4af00401",
   "metadata": {},
   "source": [
    "#### Producing NYC map"
   ]
  },
  {
   "cell_type": "code",
   "execution_count": 5,
   "id": "5418ef1a",
   "metadata": {},
   "outputs": [],
   "source": [
    "# Prepare legend\n",
    "legend_html = '''\n",
    "     <div style=\"position: fixed; \n",
    "                 bottom: 50px; left: 50px; width: 300px; height: 110px; \n",
    "                 border:1px solid grey; z-index:9999; font-size:10px;\n",
    "                 background-color: rgba(255, 255, 255, 0.7);\n",
    "                 padding: 10px;\n",
    "                 \">\n",
    "                   <div>The size of each circle reflects the sum of average shares of students scoring at the highest level (level 5) on New Jersey state ELA and math tests over the years 2015 to 2023. &nbsp; </div>\n",
    "                   <br>\n",
    "                   <div><i class=\"fa fa-circle\" style=\"border:2px solid #06a6cf; color:white; border-radius:50%; display:inline-block;\"></i><span style=\"margin-left: 5px;\">public school </span></div>\n",
    "                   <div><i class=\"fa fa-circle\" style=\"border:2px solid #f0a607; color:white; border-radius:50%; display:inline-block;\"></i><span style=\"margin-left: 5px;\">charter school </span></div>\n",
    "                   \n",
    "      </div>\n",
    "     '''"
   ]
  },
  {
   "cell_type": "code",
   "execution_count": 8,
   "id": "0695b887",
   "metadata": {
    "scrolled": false
   },
   "outputs": [
    {
     "data": {
      "text/html": [
       "<style>.output_scroll { height: auto !important; max-height: 1500px; }</style>"
      ],
      "text/plain": [
       "<IPython.core.display.HTML object>"
      ]
     },
     "metadata": {},
     "output_type": "display_data"
    },
    {
     "name": "stderr",
     "output_type": "stream",
     "text": [
      "100%|██████████████████████████████████████████████████████████████████████████████| 1499/1499 [00:24<00:00, 60.53it/s]\n"
     ]
    },
    {
     "name": "stdout",
     "output_type": "stream",
     "text": [
      "Saving map to file G:\\My Drive\\Kids\\NJ_schools_mapped\\processed_data\\NJShoolsMap.html ...\n",
      "Saved.\n"
     ]
    }
   ],
   "source": [
    "from IPython.core.display import display, HTML\n",
    "\n",
    "display(HTML(\"<style>.output_scroll { height: auto !important; max-height: 1500px; }</style>\"))\n",
    "\n",
    "# Create a map object, centered at NYC\n",
    "schools_map = folium.Map(location=[40.0842, -74.5357], zoom_start=9, tiles=\"OpenStreetMap\")\n",
    "   \n",
    "# Add dataframes with coordinates and test results to the map\n",
    "\n",
    "def my_style(x):\n",
    "    level5 = x['properties']['8yrs avg Lvl 5 Math+Ela']\n",
    "#     charter = x['properties']['SCHOOLTYPE']\n",
    "    charter_alt = x['properties']['School Name']\n",
    "    color = 'orange' if 'CHARTER' in (charter_alt or '') else 'blue'\n",
    "#     color = '#f0a607' if 'CHARTER' in (charter_alt or '') else '#06a6cf' \n",
    "    if level5 is None:\n",
    "        level5 = 0\n",
    "    #print(level5)\n",
    "    return {\n",
    "        \"radius\": (level5)*700,\n",
    "        \"color\": color        \n",
    "    }  \n",
    "\n",
    "\n",
    "# ## Adding the layer to the map\n",
    "# districts = folium.Choropleth(\n",
    "#     geo_data = NYCDistrictsData,\n",
    "#     data = DistrictAllData[DistrictAllData['Year'] == 2023],\n",
    "#     columns = ['District','# Level 4 Math+ELA'],\n",
    "#     key_on = \"feature.properties.school_dist\",\n",
    "#     fill_color = \"BuPu\",\n",
    "#     fill_opacity = 0.5,\n",
    "#     line_opacity=0.3,\n",
    "#     nan_fill_color=\"white\",\n",
    "#     legend_name = 'Sum of percentages of middle school test takers with Level 4 result in Math and ELA, 2023',\n",
    "#     popup = folium.GeoJsonPopup(fields=[\"school_dist\", \"Year\", \"# Level 1\", \"# Level 2\", \"# Level 3\", \"# Level 4\"]), \n",
    "#     name = \"School districts\"\n",
    "# ).add_to(schools_map)\n",
    "\n",
    "\n",
    "# Function to create iframe for a given row\n",
    "def create_iframe(row):    \n",
    "    html =  '<strong>{0}:</strong> {1}<br>\\\n",
    "    <strong>{2}:</strong> {3}<br>\\\n",
    "    <strong>{4}:</strong> {5}<br>\\\n",
    "    <strong>{6}:</strong> {7}<br>\\\n",
    "    <strong>{8}:</strong> {9}<br>\\\n",
    "    <img src=\"data:image/png;base64,{10}\"><br>\\\n",
    "    <img src=\"data:image/png;base64,{11}\">'.format(\n",
    "        'School Name', row['SCHOOLNAME'],\n",
    "        'School Code', row['SCHOOLCODE'],\n",
    "        'School District', row['DIST_NAME'],\n",
    "        'Level 5 share Avg 2015-2023 Math', round(row['8yrs avg Lvl 5 Math'], 2), \n",
    "        'Level 5 share Avg 2015-2023 ELA', round(row['8yrs avg Lvl 5 ELA'], 2),\n",
    "        row['plot Math'], row['plot ELA'])\n",
    "    return folium.IFrame(html, width=500, height=450)\n",
    "\n",
    "def create_popup(x):\n",
    "    iframe = create_iframe(x)\n",
    "    popup = folium.Popup(iframe)\n",
    "    return popup\n",
    "\n",
    "# Iterate over the GeoDataFrame and add a popup to each feature\n",
    "for _, row in tqdm(schoolsData.iterrows(), total = len(schoolsData)):\n",
    "    iframe = create_iframe(row)\n",
    "        \n",
    "    data = gpd.GeoDataFrame(row.to_frame().T, crs=schoolsData.crs)\n",
    "    \n",
    "    folium.GeoJson(\n",
    "    data,\n",
    "    marker = folium.Circle(radius=10, fill_color='green', fill_opacity=0, color=\"green\", weight=4),\n",
    "    popup = folium.Popup(iframe),\n",
    "    style_function = my_style, \n",
    "    control = False    \n",
    "    #zoom_on_click = True,    \n",
    ").add_to(schools_map)    \n",
    "        \n",
    "#folium.LayerControl().add_to(MathTestMS_map)    \n",
    "\n",
    "#Adding legend to the map:\n",
    "# Add the HTML to the map using a feature group\n",
    "\n",
    "schools_map.get_root().html.add_child(folium.Element(legend_html))\n",
    "  \n",
    "# # Display the map\n",
    "# schools_map\n",
    "\n",
    "# Save map to html\n",
    "mfile = 'NJShoolsMap.html'\n",
    "mpath = os.path.join(basePath, outputFolder, mfile)\n",
    "print(f'Saving map to file {mpath} ...')\n",
    "schools_map.save(mpath)\n",
    "print(\"Saved.\")     \n",
    "\n",
    "del mpath, mfile"
   ]
  },
  {
   "cell_type": "markdown",
   "id": "fc73c6bb",
   "metadata": {},
   "source": [
    "#### Producing map zoomed on District 15"
   ]
  },
  {
   "cell_type": "code",
   "execution_count": null,
   "id": "b50ec845",
   "metadata": {
    "scrolled": true
   },
   "outputs": [],
   "source": [
    "from IPython.core.display import display, HTML\n",
    "\n",
    "display(HTML(\"<style>.output_scroll { height: auto !important; max-height: 1500px; }</style>\"))\n",
    "\n",
    "# Create a map object, centered at NYC\n",
    "MathTestMS_map = folium.Map(location=[40.666591, -73.995518], zoom_start=13, tiles=\"cartodb positron\")\n",
    "   \n",
    "# Add dataframes with coordinates and test results to the map\n",
    "\n",
    "def my_style(x):\n",
    "    level4 = x['properties']['3yrs avg Lvl 4 Math+Ela']\n",
    "    openTo = x['properties']['Open to']\n",
    "    color = 'yellow' if openTo == 'Citywide'  else '#3862e0' if openTo == 'Brooklyn' else '#54B96D'\n",
    "    weight = 2 if openTo == 'Citywide'  else 2 if openTo == 'Brooklyn' else 0.5\n",
    "    if level4 is None:\n",
    "        level4 = 0\n",
    "    #print(level4)\n",
    "    return {\n",
    "        \"radius\": (level4)*150,\n",
    "        \"color\": color,\n",
    "        \"weight\": weight\n",
    "    }  \n",
    "\n",
    "\n",
    "## Adding the layer to the map\n",
    "districts = folium.Choropleth(\n",
    "    geo_data = NYCDistrictsData,\n",
    "    data = DistrictAllData[DistrictAllData['Year'] == 2023],\n",
    "    columns = ['District','# Level 4 Math+ELA'],\n",
    "    key_on = \"feature.properties.school_dist\",\n",
    "    fill_color = \"BuPu\",\n",
    "    fill_opacity = 0.5,\n",
    "    line_opacity=0.3,\n",
    "    nan_fill_color=\"white\",\n",
    "    legend_name = 'Sum of percentages of middle school test takers with Level 4 result in Math and ELA, 2023',\n",
    "    popup = folium.GeoJsonPopup(fields=[\"school_dist\", \"Year\", \"# Level 1\", \"# Level 2\", \"# Level 3\", \"# Level 4\"]), \n",
    "    name = \"School districts\"\n",
    ").add_to(MathTestMS_map)\n",
    "\n",
    "# folium.GeoJson(\n",
    "#     NYCpublicSchoolsMath_mappable[NYCpublicSchoolsMath_mappable['Year'] == 2023],\n",
    "#     marker = folium.Circle(radius=10, fill_color='yellow', fill_opacity=1.0, color=\"orange\", weight=0.5),\n",
    "#     tooltip = folium.GeoJsonTooltip(fields=[\"LEGAL_NAME\",\"RECORD_TYPE_DESC\", \"# Level 4\"]),\n",
    "#     popup = folium.GeoJsonPopup(fields=[\"LEGAL_NAME\",\"RECORD_TYPE_DESC\", \"# Level 4\"]),\n",
    "#     style_function = my_style,        \n",
    "#     zoom_on_click = True,\n",
    "#     name = \"All middle schools\"\n",
    "# ).add_to(MathTestMS_map)\n",
    "\n",
    "# Function to create iframe for a given row\n",
    "def create_iframe(row):    \n",
    "    html =  '<strong>{0}:</strong> {1}<br><strong>{2}:</strong> {3}<br><strong>{4}:</strong> {5}<br>\\\n",
    "    <strong>{6}:</strong> {7}<br><strong>{8}:</strong> {9}<br><img src=\"data:image/png;base64,{10}\"><br>\\\n",
    "    <img src=\"data:image/png;base64,{11}\"<br> <img src=\"data:image/png;base64,{12}\">'.format(\n",
    "        'School Name', row['LEGAL_NAME'],\n",
    "        'School Number', row['DBN'],\n",
    "        'Total Enrollment, students', row['Total Enrollment'],\n",
    "        'Level 4 share Avg 2019-2023 Math', round(row['3yrs avg Lvl 4 Math'], 2), \n",
    "        'Level 4 share Avg 2019-2023 ELA', round(row['3yrs avg Lvl 4 ELA'], 2),\n",
    "        row['plot Math'], row['plot ELA'], row['Dvst_chart'])\n",
    "    return folium.IFrame(html, width=500, height=450)\n",
    "\n",
    "def create_popup(x):\n",
    "    iframe = create_iframe(x)\n",
    "    popup = folium.Popup(iframe)\n",
    "    return popup\n",
    "\n",
    "# Iterate over the GeoDataFrame and add a popup to each feature\n",
    "for _, row in tqdm(NYCSchoolsAVGData.iterrows(), total = len(NYCSchoolsAVGData)):\n",
    "    iframe = create_iframe(row)\n",
    "        \n",
    "    data = gpd.GeoDataFrame(row.to_frame().T, crs=NYCSchoolsAVGData.crs)\n",
    "    \n",
    "    folium.GeoJson(\n",
    "    data,\n",
    "    marker = folium.Circle(radius=10, fill_color='green', fill_opacity=1.0, color=\"green\", weight=0.5),\n",
    "    popup = folium.Popup(iframe),\n",
    "    style_function = my_style, \n",
    "    control = False    \n",
    "    #zoom_on_click = True,    \n",
    ").add_to(MathTestMS_map)    \n",
    "        \n",
    "folium.LayerControl().add_to(MathTestMS_map)    \n",
    "  \n",
    "# # Display the map\n",
    "# MathTestMS_map\n",
    "\n",
    "# Save map to html\n",
    "mfile = 'NYCMSmap_Dist15.html'\n",
    "mpath = os.path.join(basePath, outputFolder, mfile)\n",
    "print(f'Saving map to file {mpath} ...')\n",
    "MathTestMS_map.save(mpath)\n",
    "print(\"Saved.\")   "
   ]
  },
  {
   "cell_type": "code",
   "execution_count": null,
   "id": "1b63827a",
   "metadata": {},
   "outputs": [],
   "source": []
  },
  {
   "cell_type": "raw",
   "id": "285fcb29",
   "metadata": {},
   "source": [
    "import re\n",
    "import csv\n",
    "\n",
    "# Lists of schools\n",
    "brooklyn_schools = [\n",
    "\"MS 113 Ronald Edmonds Learning Center (13K113) audition or Language criteria\",\n",
    "\"Urban Assembly Institute of Math and Science for Young Women (13K527)\",\n",
    "\"Fort Greene Prep (13K691) Language criteria\",\n",
    "\"Juan Morel Campos Secondary School (14K071)\",\n",
    "\"PS/MS 84 Jose de Diego (14K084) Language criteria\",\n",
    "\"IS 318 Eugenio Maria De Hostos (14K318)\",\n",
    "\"Young Women’s Leadership School of Brooklyn (14K614)\",\n",
    "\"Lyons Community School (14K586)\",\n",
    "\"JHS 88 Peter Rouget (15K088)\",\n",
    "\"Boerum Hill School for International Studies (15K497)\",\n",
    "\"IS 136 Charles O. Dewey (15K136)\",\n",
    "\"Ebbets Field (17K352)\",\n",
    "\"Science, Technology and Research Early College HS at Erasmus (17K543) school based assessment\",\n",
    "\"East Flatbush Community Research School (18K581)\",\n",
    "\"IS 285 Meyer Levin (18K285) audition and open\",\n",
    "\"Legacy School of the Arts (19K907) audition\",\n",
    "\"JHS 218 James P. Sinnott (19K218) Language criteria\",\n",
    "\"JHS 220 John J. Pershing (20K220)\",\n",
    "\"Urban Assembly School for Leadership and Empowerment (20K609)\",\n",
    "\"IS 228 David Boody (21K228) audition, talent assessment, test\",\n",
    "\"IS 281 Joseph B. Cavallaro (21K281)\",\n",
    "\"Eagle Academy for Young Men (23K644)\",\n",
    "\"Kappa V (23K518)\",\n",
    "\"IS 349 Math, Science & Tech (32K349)\",\n",
    "\"JHS 383 Philippa Schuyler (32K383) course grades\",\n",
    "\"JHS 291 Roland Hayes (32K291)\",\n",
    "\"Evergreen Middle School for Urban Exploration (32K562)\",\n",
    "\"All City Leadership Secondary School (32K554) course grades\"\n",
    "]\n",
    "\n",
    "citywide_schools = [\n",
    "\"New Explorations into Science, Technology & Math (01M539) course grades\",\n",
    "\"The Anderson School (03M334) course grades\",\n",
    "\"Tag Young Scholars (04M012) course grades\",\n",
    "\"Brooklyn School of Inquiry (20K686) course grades\",\n",
    "\"The 30th Avenue School (30Q300) course grades\",\n",
    "\"School for Global Leaders  (01M378)\",\n",
    "\"The 47 American Sign Language & English Lower School (02M347)\",\n",
    "\"Ballet Tech, NYC Public School Dance (02M442) audition\",\n",
    "\"Ella Baker School (02M225)\",\n",
    "\"I.C.E. Institute for Collaborative Education (02M407)\",\n",
    "\"School of the Future Middle and High School (02M413)\",\n",
    "\"Professional Performing Arts School (02M408) audition\",\n",
    "\"Quest to Learn (02M422)\",\n",
    "\"Special Music School (03M859) audition\",\n",
    "\"MS 224 Manhattan East School for Arts & Academics (04M224)\",\n",
    "\"J.H.S. 123 James M. Kieran  (08X123)\",\n",
    "\"Restoration Academy Magnet School of Global Exploration and Innovation (13K301)\",\n",
    "\"J.H.S. 050 John D. Wells  (14K050) Language criteria\",\n",
    "\"MS 448 Brooklyn Collaborative (15K448)\",\n",
    "\"Park Slope Collegiate  (15K464)\",\n",
    "\"M.S. 035 Stephen Decatur  (16K035)\",\n",
    "\"The Brooklyn Green School  (16K898)\",\n",
    "\"Medgar Evers College Preparatory School (17K590) school based assessment\",\n",
    "\"Lenox Academy (18K235) course grades\",\n",
    "\"I.S. 171 Abraham Lincoln  (19K171)\",\n",
    "\"Van Siclen Community Middle School  (19K654)\",\n",
    "\"Mark Twain IS 239 for the Gifted & Talented (21K239) variety of school based assessments and audition depending on the program\",\n",
    "\"I.S. 392  (23K392)\",\n",
    "\"Scholar’s Academy (27Q323) course grades\",\n",
    "\"Catherine & Count Basie Middle School  (28Q072)\",\n",
    "\"Redwood Middle School  (28Q332)\",\n",
    "\"M.S. 358  (28Q358)\",\n",
    "\"Baccalaureate School for Global Education (30Q580) school based assessment\"\n",
    "]\n",
    "\n",
    "# Function to process schools\n",
    "def process_schools(school_list, open_to):\n",
    "    processed_schools = []\n",
    "    pattern = re.compile(r\"(.+?)\\s+\\((\\d+[KMQ]\\d{3})\\)(.*)\")\n",
    "    for school in school_list:\n",
    "        match = pattern.match(school)\n",
    "        if match:\n",
    "            school_name = match.group(1).strip()\n",
    "            dbn = match.group(2).strip()\n",
    "            comments = match.group(3).strip()\n",
    "            processed_schools.append([dbn, school_name, open_to, comments])\n",
    "    return processed_schools\n",
    "\n",
    "# Process both lists\n",
    "processed_brooklyn = process_schools(brooklyn_schools, \"Brooklyn\")\n",
    "processed_citywide = process_schools(citywide_schools, \"Citywide\")\n",
    "\n",
    "# Combine lists\n",
    "all_schools = processed_brooklyn + processed_citywide\n",
    "\n",
    "# Write to CSV\n",
    "csv_filename = \"cityBoroughWideschools.csv\"\n",
    "csv_path = os.path.join(basePath, dataFolder, csv_filename)\n",
    "with open(csv_filename, \"w\", newline='') as csvfile:\n",
    "    writer = csv.writer(csvfile)\n",
    "    writer.writerow(['DBN', 'School Name', 'Open to', 'Comments']) # CSV header\n",
    "    for school in all_schools:\n",
    "        writer.writerow(school)\n",
    "\n",
    "print(f\"CSV file '{csv_filename}' has been created with {len(all_schools)} schools.\")\n"
   ]
  },
  {
   "cell_type": "code",
   "execution_count": null,
   "id": "d0d0fdc4-6e59-4aa6-a99e-2dcd9222326d",
   "metadata": {},
   "outputs": [],
   "source": []
  }
 ],
 "metadata": {
  "kernelspec": {
   "display_name": "Python 3 (ipykernel)",
   "language": "python",
   "name": "python3"
  },
  "language_info": {
   "codemirror_mode": {
    "name": "ipython",
    "version": 3
   },
   "file_extension": ".py",
   "mimetype": "text/x-python",
   "name": "python",
   "nbconvert_exporter": "python",
   "pygments_lexer": "ipython3",
   "version": "3.7.12"
  }
 },
 "nbformat": 4,
 "nbformat_minor": 5
}
