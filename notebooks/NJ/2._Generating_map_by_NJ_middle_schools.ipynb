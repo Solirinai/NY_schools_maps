{
 "cells": [
  {
   "cell_type": "markdown",
   "id": "888b8e0c",
   "metadata": {},
   "source": [
    "# Analysis of NJ public and charter schools results in ELA and math grades 6-8."
   ]
  },
  {
   "cell_type": "markdown",
   "id": "3e1cc970-ea50-4b77-a0bc-3b7d63c9b1f0",
   "metadata": {},
   "source": [
    "<span style=\"color: red;\">**If kernel can't connect to server again run command:**\n",
    "*netsh winsock reset*<span>"
   ]
  },
  {
   "cell_type": "markdown",
   "id": "dc01637a",
   "metadata": {},
   "source": [
    "<a id=\"TOC\"></a> \n",
    "## Table of Contents\n",
    "1. [Data sources, definitions, about](#data)\n",
    "2. [Imports: modules and data](#modules)\n",
    "3. [Generating the map and its design elements](#maps) \n"
   ]
  },
  {
   "cell_type": "markdown",
   "id": "2db80942",
   "metadata": {},
   "source": [
    "<a id=\"data\"></a> \n",
    "## Data, definitions"
   ]
  },
  {
   "cell_type": "markdown",
   "id": "00c1d9de-c41d-4577-8a53-84356c5ebcc4",
   "metadata": {},
   "source": [
    "#### Data:\n",
    "1. Data New Jersey Student Learning Assessments (NJSLA) results 2015-2023 for grades 6-8 for public and charter schools:\n",
    "<br>State of New Jersey, Department of Education:\n",
    "Statewide Assessment Reports\n",
    "<br>https://www.nj.gov/education/assessment/results/reports/\n",
    "2. NJ schools locations: NJGIN Open Data <br>\n",
    "https://njogis-newjersey.opendata.arcgis.com/datasets/d8223610010a4c3887cfb88b904545ff/explore"
   ]
  },
  {
   "cell_type": "markdown",
   "id": "c53d80ad",
   "metadata": {},
   "source": [
    "####  Performance levels for New Jersey Student Learning Standards for English Language Arts and Math  \n",
    "\n",
    "**Level 1**: Did Not Yet Meet Expectations<br> \n",
    "**Level 2**: Partially Met Expectations <br>\n",
    "**Level 3**: Approached Expectations  <br>\n",
    "**Level 4**: Met Expectations  <br>\n",
    "**Level 5**: Exceeded Expectations  <br>\n",
    "\n",
    "*Source: New Jersey Assessments Resource Center, 2022, https://nj.mypearsonsupport.com/resources/reporting/NJSLA_Score_Interpretation_Guide_Spring2022.pdf*"
   ]
  },
  {
   "cell_type": "markdown",
   "id": "ac719a6d",
   "metadata": {},
   "source": [
    "## Questions\n",
    "*1. How the test results changed?*\n",
    "<br>Changes in test scores proportions are charted for MATH and ELA for years 2015-2023 for middle school grades (grades 6-8).\n",
    "<br><br>\n",
    "*2. What are academic results of the school?* \n",
    "<br> The schools are compared by the sum of average level 5 scores for years 2015-2023 for all middle grades combined (or the years available in NJ DOE data for part of these years)."
   ]
  },
  {
   "cell_type": "markdown",
   "id": "79f39c8f",
   "metadata": {},
   "source": [
    "## Limitations\n",
    "1. Some elementary schools go up to grade 6. For these schools' share of level 5 results is usually higher than in schools with grades 6-8 or 7-8. Since they teach only the first of the middle grades, they were excluded to make a more grounded view of the middle schools quality.<br><br>\n",
    "2. Some school names in the original NJSLA data are inconsistently spelled or contain errors in the records across different years. As a result, these discrepancies created separate entries in the allResultsAVG2015_23DF dataframe. Consequently, certain schools have multiple overlapping points on the map, with pop-ups displaying data for different years.\n",
    "While this may affect the map's visual clarity and completeness, the current representation still provides a comprehensive overview of the academic proficiency of middle schools in New Jersey. Further data cleaning to eliminate this issue required more time and effort, which was unnecessary for the project's purpose."
   ]
  },
  {
   "cell_type": "markdown",
   "id": "9ffba7a6",
   "metadata": {},
   "source": [
    "#### About this notebook\n",
    "\n",
    "- The notebook '*1._Data_processing_by_NJ_middle_schools*' contains the steps for processing data on state testing of public and charter schools in New Jersey. \n",
    "- This notebook '*2._Generating_map_by_NJ_middle_schools*' contains code to generate the map from the processed data.\n",
    "- The map is available at: https://njmsmap.netlify.app"
   ]
  },
  {
   "cell_type": "markdown",
   "id": "b7250733",
   "metadata": {},
   "source": [
    "<a id=\"modules\"></a> \n",
    "#### Imports: modules"
   ]
  },
  {
   "cell_type": "code",
   "execution_count": 1,
   "id": "69e42758",
   "metadata": {},
   "outputs": [],
   "source": [
    "import os\n",
    "import pandas as pd\n",
    "import geopandas as gpd\n",
    "import folium\n",
    "# from shapely.geometry import Point\n",
    "from tqdm import tqdm\n",
    "\n",
    "pd.set_option('display.float_format', '{:.3f}'.format)"
   ]
  },
  {
   "cell_type": "code",
   "execution_count": 2,
   "id": "be3dd827",
   "metadata": {},
   "outputs": [],
   "source": [
    "basePath = r\"G:\\My Drive\\Kids\\NJ_schools_mapped\"\n",
    "dataFolder = r\"raw_data\"\n",
    "outputFolder = r\"processed_data\""
   ]
  },
  {
   "cell_type": "markdown",
   "id": "caca0ad5",
   "metadata": {},
   "source": [
    "#### Read schools geolocation file"
   ]
  },
  {
   "cell_type": "code",
   "execution_count": 3,
   "id": "de3422dd",
   "metadata": {},
   "outputs": [],
   "source": [
    "# Read saved GeoJSON with average tests results and plots\n",
    "schoolsFile = 'NJpublicSchoolsData.geojson'\n",
    "schoolsPath = os.path.join(basePath, outputFolder,schoolsFile)\n",
    "schoolsData = gpd.read_file(schoolsPath)"
   ]
  },
  {
   "cell_type": "code",
   "execution_count": 4,
   "id": "6fef70a7",
   "metadata": {},
   "outputs": [
    {
     "name": "stdout",
     "output_type": "stream",
     "text": [
      "<class 'geopandas.geodataframe.GeoDataFrame'>\n",
      "RangeIndex: 1025 entries, 0 to 1024\n",
      "Data columns (total 24 columns):\n",
      " #   Column                   Non-Null Count  Dtype   \n",
      "---  ------                   --------------  -----   \n",
      " 0   OBJECTID                 1025 non-null   int64   \n",
      " 1   DIST_NAME                1025 non-null   object  \n",
      " 2   SCHOOLTYPE               1008 non-null   object  \n",
      " 3   SCHOOL                   1025 non-null   object  \n",
      " 4   SCHOOLNAME               1025 non-null   object  \n",
      " 5   CITY                     1025 non-null   object  \n",
      " 6   School_Key               1025 non-null   object  \n",
      " 7   School Name              1025 non-null   object  \n",
      " 8   8yrs avg Lvl 1 Math      1021 non-null   float64 \n",
      " 9   8yrs avg Lvl 2 Math      1021 non-null   float64 \n",
      " 10  8yrs avg Lvl 3 Math      1021 non-null   float64 \n",
      " 11  8yrs avg Lvl 4 Math      1021 non-null   float64 \n",
      " 12  8yrs avg Lvl 5 Math      1021 non-null   float64 \n",
      " 13  8yrs avg Lvl 1 ELA       1022 non-null   float64 \n",
      " 14  8yrs avg Lvl 2 ELA       1022 non-null   float64 \n",
      " 15  8yrs avg Lvl 3 ELA       1022 non-null   float64 \n",
      " 16  8yrs avg Lvl 4 ELA       1022 non-null   float64 \n",
      " 17  8yrs avg Lvl 5 ELA       1022 non-null   float64 \n",
      " 18  8yrs avg Lvl 5 Math+Ela  1021 non-null   float64 \n",
      " 19  plot Math                1025 non-null   object  \n",
      " 20  plot ELA                 1025 non-null   object  \n",
      " 21  matched_name             1025 non-null   object  \n",
      " 22  matched_score            1025 non-null   int64   \n",
      " 23  geometry                 1025 non-null   geometry\n",
      "dtypes: float64(11), geometry(1), int64(2), object(10)\n",
      "memory usage: 192.3+ KB\n"
     ]
    }
   ],
   "source": [
    "# Checking the geodataframe\n",
    "schoolsData.info()"
   ]
  },
  {
   "cell_type": "raw",
   "id": "adaa2763",
   "metadata": {},
   "source": [
    "# Alternative way to exclude elementary schools from the resulting map is the code below. \n",
    "# However, 'elementary' schools might go up to 8 grade, therefore, the K-6 schools were cleaned up at the previous step in \n",
    "# the notebook '1._Data_processing_by_NJ_middle_schools'.\n",
    "\n",
    "\n",
    "schoolsData = schoolsData[~schoolsData['SCHOOLTYPE'].str.contains('ELEMENTARY', na=False)]"
   ]
  },
  {
   "cell_type": "markdown",
   "id": "873610ae",
   "metadata": {},
   "source": [
    "<a id=\"maps\"></a> \n",
    "### Map of the NJ middle schools by assessment results "
   ]
  },
  {
   "cell_type": "markdown",
   "id": "63507d8e",
   "metadata": {},
   "source": [
    "Below mapping is done with the __[Folium library](https://python-visualization.github.io/folium/latest/)__"
   ]
  },
  {
   "cell_type": "markdown",
   "id": "4af00401",
   "metadata": {},
   "source": [
    "#### Producing map of New Jersey middle schools"
   ]
  },
  {
   "cell_type": "code",
   "execution_count": 5,
   "id": "48ad2dfe",
   "metadata": {},
   "outputs": [],
   "source": [
    "# Prepare legend\n",
    "legend_html = '''\n",
    "     <div style=\"position: fixed; \n",
    "                 bottom: 50px; left: 50px; width: 300px;  \n",
    "                 border:0px solid grey; z-index:9999; font-size:10px;\n",
    "                 background-color: rgba(255, 255, 255, 0.7);\n",
    "                 padding: 10px;\n",
    "                 display: flex;\n",
    "                 flex-direction: column;\n",
    "                 max-height: calc(100vh - 100px); /* Prevent overflow */\n",
    "                 overflow-y: auto; /* Add scrollbar if content exceeds max-height */                 \n",
    "                 \">\n",
    "                   <div style=\"flex-grow: 1; margin-bottom: 10px;\">\n",
    "                   Circle size - the sum of average shares of students scoring at the highest level (level 5) on New Jersey state ELA and math tests over the years 2015 to 2023.\n",
    "                   </div>                   \n",
    "                   <div><i class=\"fa fa-circle\" style=\"border:2px solid #06a6cf; color:white; border-radius:50%; display:inline-block;\"></i><span style=\"margin-left: 5px;\">public school </span></div>\n",
    "                   <br>\n",
    "                   <div><i class=\"fa fa-circle\" style=\"border:2px solid #f0a607; color:white; border-radius:50%; display:inline-block;\"></i><span style=\"margin-left: 5px;\">charter school </span></div>\n",
    "                   \n",
    "      </div>\n",
    "     '''"
   ]
  },
  {
   "cell_type": "code",
   "execution_count": 11,
   "id": "5e6a1837",
   "metadata": {},
   "outputs": [],
   "source": [
    "# Add map introduction\n",
    "\n",
    "intro_html = \"\"\"\n",
    "     <div style=\"position: fixed; \n",
    "                 top: 50px; left: 50px; width: 300px;  \n",
    "                 border:0px solid grey; z-index:9999; font-size:10px;\n",
    "                 background-color: rgba(255, 255, 255, 0.7);\n",
    "                 padding: 10px;\n",
    "                 display: flex;\n",
    "                 flex-direction: column;\n",
    "                 max-height: calc(100vh - 100px); /* Prevent overflow */\n",
    "                 overflow-y: auto; /* Add scrollbar if content exceeds max-height */                 \n",
    "                 \">\n",
    "                   <div style=\"margin-bottom: 10px;\">\n",
    "                       <span style = \"font-weight:bold; font-size: 1.5em;\">New Jersey Public and Charter Middle Schools\n",
    "                       </span>\n",
    "                   </div>  \n",
    "                   <div style=\"flex-grow: 1;\">The map is part of the project to map middle schools academic results in New York and New Jersey. See more:\n",
    "                   <br>\n",
    "                   <ul>\n",
    "                       <li><a href = \"https://github.com/Solirinai/NY_schools_maps\" target=\"_blank\">Github repository with code and data sources.</a></li>\n",
    "                       <li><a href = \"https://nycmsmap.netlify.app\" target=\"_blank\">Map of New York City public middle schools.</a></li>\n",
    "                       <li><a href = \"https://nysmsmap.netlify.app\" target=\"_blank\">Map of New York State public and charter middle schools.</a></li>\n",
    "                   </ul>\n",
    "                   </div>                 \n",
    "                 \n",
    "      </div>\n",
    "\"\"\""
   ]
  },
  {
   "cell_type": "code",
   "execution_count": 6,
   "id": "b787089f",
   "metadata": {},
   "outputs": [],
   "source": [
    "# Add click instructions\n",
    "\n",
    "intro_click = '''<div style=\"position: fixed; \n",
    "                 top: 50px; right: 50px; width: 300px;  \n",
    "                 border:0px solid grey; z-index:9999; font-size:10px;\n",
    "                 background-color: rgba(255, 255, 255, 0.7);\n",
    "                 padding: 10px;\n",
    "                 display: flex;\n",
    "                 flex-direction: column;\n",
    "                 max-height: calc(100vh - 100px); /* Prevent overflow */\n",
    "                 overflow-y: auto; /* Add scrollbar if content exceeds max-height */                 \n",
    "                 \">\n",
    "                   <div style=\"flex-grow: 1;\">\n",
    "                    Click on a circle to see historical test results for middle school grades (grades 6-8) for the school.\n",
    "                   </div>                                     \n",
    "      </div>\n",
    "     '''"
   ]
  },
  {
   "cell_type": "code",
   "execution_count": 13,
   "id": "225b2cde",
   "metadata": {},
   "outputs": [],
   "source": [
    "# Add click instructions\n",
    "\n",
    "notes = '''<div style=\"position: fixed; \n",
    "                 bottom: 50px; right: 50px; width: 300px;  \n",
    "                 border:0px solid grey; z-index:9999; font-size:10px;\n",
    "                 background-color: rgba(255, 255, 255, 0.7);\n",
    "                 padding: 10px;\n",
    "                 display: flex;\n",
    "                 flex-direction: column;\n",
    "                 max-height: calc(100vh - 100px); /* Prevent overflow */\n",
    "                 overflow-y: auto; /* Add scrollbar if content exceeds max-height */                 \n",
    "                 \">\n",
    "                   <div style=\"margin-bottom: 10px;\">\n",
    "                   <span style = \"font-weight:bold; font-size: 1.0em;\">Limitations:</span>\n",
    "                   </div> \n",
    "                   <div style=\"flex-grow: 1; margin-bottom: 10px;\">\n",
    "                       <div>\n",
    "                       <ul>\n",
    "                           <li> K-6 schools are excluded.</li>\n",
    "                           <li> Due to inconsistent spelling of school names in the source data, certain schools have multiple overlapping circles on the map, with pop-ups displaying data for different years.</li>\n",
    "                       </ul>\n",
    "                       </div> \n",
    "                       <div>\n",
    "                       <span style = \"font-weight:bold; font-size: 1.0em;\">Data</span>\n",
    "                       <ul>\n",
    "                       <li><a href = 'https://www.nj.gov/education/assessment/results/reports/' target=\"_blank\">New Jersey Statewide Assessment Reports, State of New Jersey, Department of Education</a>.</li>\n",
    "                       <li><a href = \"https://njogis-newjersey.opendata.arcgis.com\" target=\"_blank\"> NJ schools locations: NJGIN Open Data</a>.</li>\n",
    "                       </ul> \n",
    "                       </div>\n",
    "                       <div>Map developed by <a href = \"https://github.com/Solirinai\" target=\"_blank\">Solirinai</a>.</div>\n",
    "                   </div>\n",
    "      </div>\n",
    "     '''"
   ]
  },
  {
   "cell_type": "code",
   "execution_count": 14,
   "id": "0695b887",
   "metadata": {
    "scrolled": false
   },
   "outputs": [
    {
     "data": {
      "text/html": [
       "<style>.output_scroll { height: auto !important; max-height: 1500px; }</style>"
      ],
      "text/plain": [
       "<IPython.core.display.HTML object>"
      ]
     },
     "metadata": {},
     "output_type": "display_data"
    },
    {
     "name": "stderr",
     "output_type": "stream",
     "text": [
      "100%|██████████████████████████████████████████████████████████████████████████████| 1025/1025 [00:16<00:00, 62.61it/s]\n"
     ]
    },
    {
     "name": "stdout",
     "output_type": "stream",
     "text": [
      "Saving map to file G:\\My Drive\\Kids\\NJ_schools_mapped\\processed_data\\NJMidSchoolsMap.html ...\n",
      "Saved.\n"
     ]
    }
   ],
   "source": [
    "from IPython.core.display import display, HTML\n",
    "\n",
    "display(HTML(\"<style>.output_scroll { height: auto !important; max-height: 1500px; }</style>\"))\n",
    "\n",
    "# Create a map object, centered at New Jersey\n",
    "\n",
    "schools_map = folium.Map(location=[40.0842, -74.5357], zoom_start=9, tiles=\"cartodb positron\")\n",
    "   \n",
    "# Add function to make size of the circle marker proportional to the '8yrs avg Lvl 5 Math+Ela' column\n",
    "\n",
    "def my_style(x):\n",
    "    level5 = x['properties']['8yrs avg Lvl 5 Math+Ela']\n",
    "    charter_alt = x['properties']['School Name']\n",
    "    color = '#f0a607' if 'CHARTER' in (charter_alt or '') else '#06a6cf' \n",
    "    if level5 is None:\n",
    "        level5 = 0\n",
    "    return {\n",
    "        \"radius\": (level5)*2000,\n",
    "        \"color\": color        \n",
    "    }  \n",
    "\n",
    "# Function to create iframe for a given row\n",
    "def create_iframe(row):    \n",
    "    html =  '<strong>{0}:</strong> {1}<br>\\\n",
    "    <strong>{2}:</strong> {3}<br>\\\n",
    "    <strong>{4}:</strong> {5}<br>\\\n",
    "    <strong>{6}:</strong> {7}<br>\\\n",
    "    <strong>{8}:</strong> {9}<br>\\\n",
    "    <img src=\"data:image/png;base64,{10}\"><br>\\\n",
    "    <img src=\"data:image/png;base64,{11}\">'.format(\n",
    "        'School Name', row['SCHOOLNAME'],\n",
    "        'School District', row['DIST_NAME'],\n",
    "        'School Name from NJ DOE data', row['School_Key'],\n",
    "        'Level 5 share Avg 2015-2023 Math', round(row['8yrs avg Lvl 5 Math'], 2), \n",
    "        'Level 5 share Avg 2015-2023 ELA', round(row['8yrs avg Lvl 5 ELA'], 2),\n",
    "        row['plot Math'], row['plot ELA'])\n",
    "    return folium.IFrame(html, width=500, height=450)\n",
    "\n",
    "def create_popup(x):\n",
    "    iframe = create_iframe(x)\n",
    "    popup = folium.Popup(iframe)\n",
    "    return popup\n",
    "\n",
    "# Iterate over the geodataframe and add a pop-up to each feature\n",
    "for _, row in tqdm(schoolsData.iterrows(), total = len(schoolsData)):\n",
    "    iframe = create_iframe(row)\n",
    "        \n",
    "    data = gpd.GeoDataFrame(row.to_frame().T, crs=schoolsData.crs)\n",
    "    \n",
    "    folium.GeoJson(\n",
    "    data,\n",
    "    marker = folium.Circle(radius=10, fill_color='green', fill_opacity=0, color=\"green\", weight=2),\n",
    "    popup = folium.Popup(iframe),\n",
    "    style_function = my_style, \n",
    "    control = False,       \n",
    ").add_to(schools_map)    \n",
    "        \n",
    "# Adding HTML elements to the map:\n",
    "\n",
    "schools_map.get_root().html.add_child(folium.Element(legend_html))\n",
    "schools_map.get_root().html.add_child(folium.Element(intro_html))\n",
    "schools_map.get_root().html.add_child(folium.Element(intro_click))\n",
    "schools_map.get_root().html.add_child(folium.Element(notes))\n",
    "  \n",
    "# # Display the map in the notebook (not recommended due to big size of the map)\n",
    "# schools_map\n",
    "\n",
    "# Save map to html\n",
    "mfile = 'NJMidSchoolsMap.html'\n",
    "mpath = os.path.join(basePath, outputFolder, mfile)\n",
    "print(f'Saving map to file {mpath} ...')\n",
    "schools_map.save(mpath)\n",
    "print(\"Saved.\")     \n",
    "\n",
    "del mpath, mfile"
   ]
  },
  {
   "cell_type": "code",
   "execution_count": null,
   "id": "1b63827a",
   "metadata": {},
   "outputs": [],
   "source": []
  },
  {
   "cell_type": "code",
   "execution_count": null,
   "id": "d0d0fdc4-6e59-4aa6-a99e-2dcd9222326d",
   "metadata": {},
   "outputs": [],
   "source": []
  }
 ],
 "metadata": {
  "kernelspec": {
   "display_name": "Python 3 (ipykernel)",
   "language": "python",
   "name": "python3"
  },
  "language_info": {
   "codemirror_mode": {
    "name": "ipython",
    "version": 3
   },
   "file_extension": ".py",
   "mimetype": "text/x-python",
   "name": "python",
   "nbconvert_exporter": "python",
   "pygments_lexer": "ipython3",
   "version": "3.7.12"
  }
 },
 "nbformat": 4,
 "nbformat_minor": 5
}
