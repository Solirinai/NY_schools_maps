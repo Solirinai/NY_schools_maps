{
 "cells": [
  {
   "cell_type": "markdown",
   "id": "888b8e0c",
   "metadata": {},
   "source": [
    "# Analysis of NYC public schools results in ELA and math grades 6-8"
   ]
  },
  {
   "cell_type": "markdown",
   "id": "3e1cc970-ea50-4b77-a0bc-3b7d63c9b1f0",
   "metadata": {},
   "source": [
    "<span style=\"color: red;\">**If kernel can't connect to server again run command:**\n",
    "*netsh winsock reset*<span>"
   ]
  },
  {
   "cell_type": "markdown",
   "id": "6768cc78",
   "metadata": {},
   "source": [
    "### Processing data by schools"
   ]
  },
  {
   "cell_type": "markdown",
   "id": "dc01637a",
   "metadata": {},
   "source": [
    "<a id=\"TOC\"></a> \n",
    "## Table of Contents\n",
    "1. [Data sources and definitions](#data)\n",
    "2. [Research questions](#questions)\n",
    "2. [Analysis of test results by middle schools](#analysis)\n",
    "    1. [Imports: modules](#modules)\n",
    "    3. [Read and prepare data](#read)\n",
    "    4. [Getting the baseline change in tests results - citywide change](#citywide)\n",
    "    5. [Getting the test results for middle schools and calculate comparison indicator by school](#middle) \n",
    "        1. [Best middle schools by math](#best)\n",
    "        2. [Create dataframe with average 2013-2023 math and ELA test results for all middle school grades](#ten)\n",
    "        3. [Create dataframe with average 2019-2023 (last 3 tests) math and ela test results for all middle school grades](#three)\n",
    "    6.[Create final dataframe with data for mapping](#final)\n",
    "        1. [Adding school status (citywide, boroughwide) and the diversity data to the dataframe with all tests resuls](#status)\n",
    "        2. [Matching the schools names from GeoJSON schools location file and the results dataframe and merging](#match)\n",
    "        3. [Adding history ELA/math results, demographic data as plots to the geodata frame and saving into GeoJSON file](#plots)"
   ]
  },
  {
   "cell_type": "markdown",
   "id": "e8a5b215",
   "metadata": {},
   "source": [
    "<a id=\"data\"></a> \n",
    "### Data sources and definitions"
   ]
  },
  {
   "cell_type": "markdown",
   "id": "00c1d9de-c41d-4577-8a53-84356c5ebcc4",
   "metadata": {},
   "source": [
    "#### Data:\n",
    "1. New York City grades 3-8 New York State English Language Arts and Math State Tests results 2013-2023:<br>https://infohub.nyced.org/reports/academics/test-results\n",
    "2. New York City schools demographic data:<br>https://data.cityofnewyork.us/Education/2017-18-2021-22-Demographic-Snapshot/c7ru-d68s/about_data\n",
    "2. NYS schools locations:<br>\n",
    "https://data.gis.ny.gov/maps/b6c624c740e4476689aa60fdc4aacb8f/about\n",
    "3. Citywide or Boroughwide status:\n",
    "<br>https://www.nycschoolhelp.com/borowide-citywide-middle-schools"
   ]
  },
  {
   "cell_type": "markdown",
   "id": "c53d80ad",
   "metadata": {},
   "source": [
    "#### Definitions of Performance Levels for the 2023 Grades 3-8 English Language Arts and Mathematics Tests  \n",
    "\n",
    "**NYS Level 1**: Students performing at this level are below proficient in standards for their grade. They may demonstrate limited knowledge, skills, and practices embodied by the Learning Standards that are considered insufficient for the expectations at this grade. \n",
    "\n",
    "**NYS Level 2**: Students performing at this level are partially proficient in standards for their grade. They demonstrate knowledge, skills, and practices embodied by the Learning Standards that are considered partial but insufficient for the expectations at this grade. Students performing at Level 2 are considered on track to meet current New York high school graduation requirements but are not yet proficient in Learning Standards at this grade. \n",
    "\n",
    "**NYS Level 3**: Students performing at this level are proficient in standards for their grade. They demonstrate knowledge, skills, and practices embodied by the Learning Standards that are considered sufficient for the expectations at this grade.  \n",
    "\n",
    "**NYS Level 4**: Students performing at this level excel in standards for their grade. They demonstrate knowledge, skills, and practices embodied by the Learning Standards that are considered more than sufficient for the expectations at this grade.  \n",
    "\n",
    "*Source: NYSED, 2023, https://www.p12.nysed.gov/irs/ela-math/2023/ela-math-score-ranges-performance-levels-2023.pdf*"
   ]
  },
  {
   "cell_type": "raw",
   "id": "06c708fb",
   "metadata": {},
   "source": [
    "Scale Score Ranges Associated with Each Mathematics Performance Level \n",
    "\n",
    "Grade NYS Level 1 NYS Level 2 NYS Level 3 NYS Level 4 \n",
    "    3 377–423     424–449     450–486     487–501 \n",
    "    4 378–430     431–449     450–485     486–507 \n",
    "    5 381–431     432–449     450–482     483–506 \n",
    "    6 388–430     431–449     450–484     485–513 \n",
    "    7 379–429     430–449     450–476     477–509 \n",
    "    8 379–435     436–449     450–481     482–514 "
   ]
  },
  {
   "cell_type": "markdown",
   "id": "7a5aca68",
   "metadata": {},
   "source": [
    "<a id=\"questions\"></a> \n",
    "### Questions\n",
    "*1. How to compare the schools?*\n",
    "<br>In this analysis, we choose the sum of shares of students with level 4 test resulsts in state math and ELA test as comparison variable. The sum can be between 0 and 2. This indicator is selected to cover both subjects.\n",
    "Alternatively, the indicator can be sum of shares of students with levels 3+4 test results in math and ELA. The notebook would be needed to changed accordingly.\n",
    "<br><br>\n",
    "*2. How the test results changed?*\n",
    "<br>Compare last year test results in a school with the school 10-year average as percentage of average:\n",
    "<br> school_change = (school_current_year - school_10year_average)\n",
    "<br> citywide_change = (city_current_year - city_10year_average)\n",
    "<br><br>\n",
    "*3. How good the school is?* \n",
    "<br>Last three testing period results (2019, 2022, 2023) are different for some schools: due to COVID disruptions, testing procedures changes, in Destrict 15 due to admission rules changed. Therefore average 10 years scores do not reflect well schools situation now. Results for these 3 last testing years are taken instead.\n",
    "<br><br>\n",
    "*3. Is the school citywide or borowide?*\n",
    "<br>\n",
    "*4. Diversity?*\n",
    "<br>\n",
    "*5. School size?*"
   ]
  },
  {
   "cell_type": "markdown",
   "id": "68df411f",
   "metadata": {},
   "source": [
    "#### About this notebook\n",
    "\n",
    "- This notebook '*1._NYC_data_processing_by_schools.ipynb*' contains the steps for the processing data on state testing of NYC public middle schools. \n",
    "- The notebook '*2._NYC_ELA_math_data processing_by_districts.ipynb*' contains steps to process district-wide data for NYC public middle schools.\n",
    "- The notebook '*3._Generating_NYC_map_by_public_schools.ipynb*' contains code to generate the maps from the processed data.\n",
    "- The map is available at: https://nycmsmap.netlify.app."
   ]
  },
  {
   "cell_type": "markdown",
   "id": "4989f803",
   "metadata": {},
   "source": [
    "<a id=\"analysis\"></a> \n",
    "### Analysis of test results by middle schools"
   ]
  },
  {
   "cell_type": "markdown",
   "id": "b7250733",
   "metadata": {},
   "source": [
    "<a id=\"modules\"></a> \n",
    "#### Imports: modules"
   ]
  },
  {
   "cell_type": "code",
   "execution_count": null,
   "id": "362b901f",
   "metadata": {},
   "outputs": [],
   "source": [
    "# Appending the path to 'utils' module\n",
    "\n",
    "import sys\n",
    "\n",
    "parent_dir = 'C:\\\\GITHUB\\\\NY_schools_maps\\\\notebooks'\n",
    "sys.path.append(parent_dir)"
   ]
  },
  {
   "cell_type": "code",
   "execution_count": null,
   "id": "69e42758",
   "metadata": {},
   "outputs": [],
   "source": [
    "import os\n",
    "import pandas as pd\n",
    "import geopandas as gpd\n",
    "import matplotlib.pyplot as plt\n",
    "import base64\n",
    "from io import BytesIO\n",
    "import math\n",
    "from tqdm import tqdm\n",
    "from utils import match_name, create_plot, process_schools, create_chart\n",
    "\n",
    "pd.set_option('display.float_format', '{:.3f}'.format)"
   ]
  },
  {
   "cell_type": "code",
   "execution_count": null,
   "id": "a7acfccb",
   "metadata": {},
   "outputs": [],
   "source": [
    "#To reload 'uitls' module if something changed\n",
    "\n",
    "import utils\n",
    "from importlib import reload\n",
    "reload(utils)"
   ]
  },
  {
   "cell_type": "markdown",
   "id": "0c241dd2",
   "metadata": {},
   "source": [
    "Processing the information on citywide or open to Brooklyn borough residents middle schools from the *nyc school help* webpage into a csv file for reuse."
   ]
  },
  {
   "cell_type": "raw",
   "id": "ec4b04f3",
   "metadata": {},
   "source": [
    "import re\n",
    "import csv\n",
    "\n",
    "# Lists of schools\n",
    "brooklyn_schools = [\n",
    "\"MS 113 Ronald Edmonds Learning Center (13K113) audition or Language criteria\",\n",
    "\"Urban Assembly Institute of Math and Science for Young Women (13K527)\",\n",
    "\"Fort Greene Prep (13K691) Language criteria\",\n",
    "\"Juan Morel Campos Secondary School (14K071)\",\n",
    "\"PS/MS 84 Jose de Diego (14K084) Language criteria\",\n",
    "\"IS 318 Eugenio Maria De Hostos (14K318)\",\n",
    "\"Young Women’s Leadership School of Brooklyn (14K614)\",\n",
    "\"Lyons Community School (14K586)\",\n",
    "\"JHS 88 Peter Rouget (15K088)\",\n",
    "\"Boerum Hill School for International Studies (15K497)\",\n",
    "\"IS 136 Charles O. Dewey (15K136)\",\n",
    "\"Ebbets Field (17K352)\",\n",
    "\"Science, Technology and Research Early College HS at Erasmus (17K543) school based assessment\",\n",
    "\"East Flatbush Community Research School (18K581)\",\n",
    "\"IS 285 Meyer Levin (18K285) audition and open\",\n",
    "\"Legacy School of the Arts (19K907) audition\",\n",
    "\"JHS 218 James P. Sinnott (19K218) Language criteria\",\n",
    "\"JHS 220 John J. Pershing (20K220)\",\n",
    "\"Urban Assembly School for Leadership and Empowerment (20K609)\",\n",
    "\"IS 228 David Boody (21K228) audition, talent assessment, test\",\n",
    "\"IS 281 Joseph B. Cavallaro (21K281)\",\n",
    "\"Eagle Academy for Young Men (23K644)\",\n",
    "\"Kappa V (23K518)\",\n",
    "\"IS 349 Math, Science & Tech (32K349)\",\n",
    "\"JHS 383 Philippa Schuyler (32K383) course grades\",\n",
    "\"JHS 291 Roland Hayes (32K291)\",\n",
    "\"Evergreen Middle School for Urban Exploration (32K562)\",\n",
    "\"All City Leadership Secondary School (32K554) course grades\"\n",
    "]\n",
    "\n",
    "citywide_schools = [\n",
    "\"New Explorations into Science, Technology & Math (01M539) course grades\",\n",
    "\"The Anderson School (03M334) course grades\",\n",
    "\"Tag Young Scholars (04M012) course grades\",\n",
    "\"Brooklyn School of Inquiry (20K686) course grades\",\n",
    "\"The 30th Avenue School (30Q300) course grades\",\n",
    "\"School for Global Leaders  (01M378)\",\n",
    "\"The 47 American Sign Language & English Lower School (02M347)\",\n",
    "\"Ballet Tech, NYC Public School Dance (02M442) audition\",\n",
    "\"Ella Baker School (02M225)\",\n",
    "\"I.C.E. Institute for Collaborative Education (02M407)\",\n",
    "\"School of the Future Middle and High School (02M413)\",\n",
    "\"Professional Performing Arts School (02M408) audition\",\n",
    "\"Quest to Learn (02M422)\",\n",
    "\"Special Music School (03M859) audition\",\n",
    "\"MS 224 Manhattan East School for Arts & Academics (04M224)\",\n",
    "\"J.H.S. 123 James M. Kieran  (08X123)\",\n",
    "\"Restoration Academy Magnet School of Global Exploration and Innovation (13K301)\",\n",
    "\"J.H.S. 050 John D. Wells  (14K050) Language criteria\",\n",
    "\"MS 448 Brooklyn Collaborative (15K448)\",\n",
    "\"Park Slope Collegiate  (15K464)\",\n",
    "\"M.S. 035 Stephen Decatur  (16K035)\",\n",
    "\"The Brooklyn Green School  (16K898)\",\n",
    "\"Medgar Evers College Preparatory School (17K590) school based assessment\",\n",
    "\"Lenox Academy (18K235) course grades\",\n",
    "\"I.S. 171 Abraham Lincoln  (19K171)\",\n",
    "\"Van Siclen Community Middle School  (19K654)\",\n",
    "\"Mark Twain IS 239 for the Gifted & Talented (21K239) variety of school based assessments and audition depending on the program\",\n",
    "\"I.S. 392  (23K392)\",\n",
    "\"Scholar’s Academy (27Q323) course grades\",\n",
    "\"Catherine & Count Basie Middle School  (28Q072)\",\n",
    "\"Redwood Middle School  (28Q332)\",\n",
    "\"M.S. 358  (28Q358)\",\n",
    "\"Baccalaureate School for Global Education (30Q580) school based assessment\"\n",
    "]\n",
    "\n",
    "# Function to process schools\n",
    "def process_schools(school_list, open_to):\n",
    "    processed_schools = []\n",
    "    pattern = re.compile(r\"(.+?)\\s+\\((\\d+[KMQ]\\d{3})\\)(.*)\")\n",
    "    for school in school_list:\n",
    "        match = pattern.match(school)\n",
    "        if match:\n",
    "            school_name = match.group(1).strip()\n",
    "            dbn = match.group(2).strip()\n",
    "            comments = match.group(3).strip()\n",
    "            processed_schools.append([dbn, school_name, open_to, comments])\n",
    "    return processed_schools\n",
    "\n",
    "# Process both lists\n",
    "processed_brooklyn = process_schools(brooklyn_schools, \"Brooklyn\")\n",
    "processed_citywide = process_schools(citywide_schools, \"Citywide\")\n",
    "\n",
    "# Combine lists\n",
    "all_schools = processed_brooklyn + processed_citywide\n",
    "\n",
    "# Write to CSV\n",
    "csv_filename = \"cityBoroughWideschools.csv\"\n",
    "csv_path = os.path.join(basePath, dataFolder, csv_filename)\n",
    "with open(csv_filename, \"w\", newline='') as csvfile:\n",
    "    writer = csv.writer(csvfile)\n",
    "    writer.writerow(['DBN', 'School Name', 'Open to', 'Comments']) # CSV header\n",
    "    for school in all_schools:\n",
    "        writer.writerow(school)\n",
    "\n",
    "print(f\"CSV file '{csv_filename}' has been created with {len(all_schools)} schools.\")"
   ]
  },
  {
   "cell_type": "markdown",
   "id": "4ca0a9e3",
   "metadata": {},
   "source": [
    "<a id=\"read\"></a> \n",
    "#### Read data"
   ]
  },
  {
   "cell_type": "code",
   "execution_count": null,
   "id": "7daca94a",
   "metadata": {},
   "outputs": [],
   "source": [
    "basePath = r\"G:\\My Drive\\Kids\\NYC_schools_mapped\"\n",
    "dataFolder = r\"raw_data\"\n",
    "outputFolder = r\"processed_data\""
   ]
  },
  {
   "cell_type": "code",
   "execution_count": null,
   "id": "ce078287",
   "metadata": {},
   "outputs": [],
   "source": [
    "## Read data by schools\n",
    "\n",
    "#Read math results\n",
    "fileName_math = \"school-math-results-2013-2023-(public).xlsx\"\n",
    "mathPath = os.path.join(basePath,dataFolder,fileName_math)\n",
    "print(mathPath)\n",
    "sheetName_math = \"All\"\n",
    "mathResultsDF = pd.read_excel(mathPath, sheetName_math)\n",
    "\n",
    "#Read ELA results\n",
    "fileName_ELA = \"school-ela-results-2013-2023-(public).xlsx\"\n",
    "ELAPath = os.path.join(basePath, dataFolder, fileName_ELA)\n",
    "print(ELAPath)\n",
    "sheetName_ELA = \"All\"\n",
    "ELAResultsDF = pd.read_excel(ELAPath, sheetName_ELA)\n",
    "\n",
    "#Read demographic file\n",
    "fileName_demog = \"demographic-snapshot-2018-19-to-2022-23-(public).xlsx\"\n",
    "demogPath = os.path.join(basePath, dataFolder, fileName_demog)\n",
    "print(demogPath)\n",
    "sheetName_demog = \"School\"\n",
    "demogData = pd.read_excel(demogPath, sheetName_demog)\n",
    "\n",
    "#Read school status file\n",
    "fileName_status = \"cityBoroughWideschools.csv\"\n",
    "statusPath = os.path.join(basePath, dataFolder, fileName_status)\n",
    "print(statusPath)\n",
    "statusData = pd.read_csv(statusPath)"
   ]
  },
  {
   "cell_type": "code",
   "execution_count": null,
   "id": "da9da57b",
   "metadata": {},
   "outputs": [],
   "source": [
    "# Initializing the list of subjects to use throughout the notebook\n",
    "subjects = ['Math', 'ELA'] "
   ]
  },
  {
   "cell_type": "code",
   "execution_count": null,
   "id": "92ad005f",
   "metadata": {},
   "outputs": [],
   "source": [
    "# For convinience of future analysis, adding the data tables into dictionnairy by subjects\n",
    "resultsDFs = {'Math': mathResultsDF, 'ELA': ELAResultsDF}"
   ]
  },
  {
   "cell_type": "code",
   "execution_count": null,
   "id": "b19d00e5",
   "metadata": {},
   "outputs": [],
   "source": [
    "# resultsDF.info() showed that most of the columns are objects instead of numbers and \n",
    "# needed to be converted\n",
    "for subject in subjects:\n",
    "    resultsDF = resultsDFs[subject]\n",
    "    resultsDF_colToConvert = ['Mean Scale Score',\n",
    "     'Grade',                             \n",
    "     '# Level 1',\n",
    "     '% Level 1',\n",
    "     '# Level 2',\n",
    "     '% Level 2',\n",
    "     '# Level 3',\n",
    "     '% Level 3',\n",
    "     '# Level 4',\n",
    "     '% Level 4',\n",
    "     '# Level 3+4',\n",
    "     '% Level 3+4']\n",
    "    resultsDF[resultsDF_colToConvert] = resultsDF[resultsDF_colToConvert].apply(pd.to_numeric, errors = 'coerce')\n",
    "    resultsDF.info()\n",
    "    print(len(resultsDF))\n",
    "    \n",
    "del resultsDF"
   ]
  },
  {
   "cell_type": "code",
   "execution_count": null,
   "id": "62b41f98",
   "metadata": {},
   "outputs": [],
   "source": [
    "## Read citywide data\n",
    "\n",
    "# Read math results\n",
    "fileName_cityMath = \"citywide-math-results-2013-2023-(public).xlsx\"\n",
    "cityMathPath = os.path.join(basePath,dataFolder,fileName_cityMath)\n",
    "print(cityMathPath)\n",
    "sheetName_cityMath = \"All\"\n",
    "cityMathDF = pd.read_excel(cityMathPath, sheetName_cityMath)\n",
    "\n",
    "#Read ELA results\n",
    "fileName_cityELA = \"citywide-ela-results-2013-2023-(public).xlsx\"\n",
    "cityELAPath = os.path.join(basePath, dataFolder, fileName_cityELA)\n",
    "print(cityELAPath)\n",
    "sheetName_cityELA = \"All\"\n",
    "cityELADF = pd.read_excel(cityELAPath, sheetName_cityELA)"
   ]
  },
  {
   "cell_type": "code",
   "execution_count": null,
   "id": "57589bbe",
   "metadata": {},
   "outputs": [],
   "source": [
    "# Dictionnary for citywide results\n",
    "cityResultsDFs = {'Math': cityMathDF, 'ELA': cityELADF}"
   ]
  },
  {
   "cell_type": "code",
   "execution_count": null,
   "id": "4b8ca855",
   "metadata": {},
   "outputs": [],
   "source": [
    "# Checking columns types\n",
    "cityELADF.info()\n",
    "cityMathDF.info()"
   ]
  },
  {
   "cell_type": "code",
   "execution_count": null,
   "id": "a2144956",
   "metadata": {},
   "outputs": [],
   "source": [
    "# 'Grade' column in citywide data tables is object, convert to numeric\n",
    "for subject in subjects:\n",
    "    resultsDF = cityResultsDFs[subject]\n",
    "    resultsDF['Grade'] = resultsDF['Grade'].apply(pd.to_numeric, errors = 'coerce')\n",
    "    resultsDF.info()\n",
    "    print(len(resultsDF))\n",
    "    \n",
    "del resultsDF"
   ]
  },
  {
   "cell_type": "markdown",
   "id": "089a3188",
   "metadata": {},
   "source": [
    "<a id=\"citywide\"></a> \n",
    "### Getting the baseline change in tests results - citywide change"
   ]
  },
  {
   "cell_type": "markdown",
   "id": "22e3dfd2",
   "metadata": {},
   "source": [
    "#### Prepare citywide dataframe with only middle school tests results (grades 6-8)"
   ]
  },
  {
   "cell_type": "code",
   "execution_count": null,
   "id": "f694e9c5",
   "metadata": {},
   "outputs": [],
   "source": [
    "# Select middle school grades results from the citywide dataframes with math and ELA tests results by year\n",
    "# and calculate percentages of results of each level\n",
    "resultsMS_Norm = {}\n",
    "\n",
    "for subject in subjects:\n",
    "        \n",
    "    resultsDF = cityResultsDFs[subject]\n",
    "    \n",
    "    # Dataframe with only grades 6-8 results (middle schools and K-8) by years\n",
    "    resultsMS = resultsDF[(resultsDF['Grade'] >= 6)&(resultsDF['Grade'] <= 8)]\n",
    "    \n",
    "    # Dataframe with results grouped by years\n",
    "    resultsMS = resultsMS.groupby('Year')[['# Level 1','# Level 2','# Level 3','# Level 4']].sum()\n",
    "    \n",
    "    # Change column names to include subject\n",
    "    resultsMS.columns = [f'Level 1 {subject}',f'Level 2 {subject}',f'Level 3 {subject}',f'Level 4 {subject}']\n",
    "    \n",
    "    # Dataframe for middle schools by years with normalized values\n",
    "    resultsMS_Norm[subject] = resultsMS.div(resultsMS.sum(axis=1), axis=0)\n",
    "    resultsMS_Norm[subject].reset_index(inplace=True)\n",
    "    \n",
    "    print(resultsMS_Norm[subject].head())\n",
    "    \n",
    "    # Dataframe with average\n",
    "    \n",
    "del resultsDF, resultsMS"
   ]
  },
  {
   "cell_type": "code",
   "execution_count": null,
   "id": "20d86029",
   "metadata": {},
   "outputs": [],
   "source": [
    "# Get 10 years average test result\n",
    "\n",
    "resultsMS_10y_AVG = {}\n",
    "\n",
    "for subject in subjects:\n",
    "        \n",
    "    resultsDF = cityResultsDFs[subject]\n",
    "    \n",
    "    # Dataframe with only grades 6-8 results (middle schools and K-8) by years\n",
    "    resultsMS = resultsDF[(resultsDF['Grade'] >= 6)&(resultsDF['Grade'] <= 8)]\n",
    "    \n",
    "    # Dataframe with all results summed by all years\n",
    "    columns_to_sum = ['# Level 1','# Level 2','# Level 3','# Level 4']\n",
    "    resultsMS = resultsMS[columns_to_sum]\n",
    "    \n",
    "    # Change column names to include subject\n",
    "    resultsMS.columns = [f'Level 1 {subject}',f'Level 2 {subject}',f'Level 3 {subject}',f'Level 4 {subject}']\n",
    "    resultsMS = resultsMS.sum() #Dataframe got converted into a series, needs fixing later\n",
    "\n",
    "    # Change column names to include subject\n",
    "    resultsMS.columns = [f'Level 1 {subject}',f'Level 2 {subject}',f'Level 3 {subject}',f'Level 4 {subject}']\n",
    "    \n",
    "    # Dataframe for middle schools grades with normalized values\n",
    "    resultsMS_10y_AVG[subject] = resultsMS.div(resultsMS.sum(axis=0))\n",
    "    \n",
    "    # Convert the series back into a dataframe\n",
    "    resultsMS_10y_AVG[subject] = resultsMS_10y_AVG[subject].to_frame().T # Transpose to flip rows and columns\n",
    "   \n",
    "    print(resultsMS_10y_AVG[subject].head())\n",
    "        \n",
    "del resultsDF, resultsMS"
   ]
  },
  {
   "cell_type": "code",
   "execution_count": null,
   "id": "a4c206c0",
   "metadata": {},
   "outputs": [],
   "source": [
    "# Make a merged city dataframe with both math and ELA results\n",
    "\n",
    "DFs = list(resultsMS_10y_AVG.values())\n",
    "cityAVG10yDF = pd.merge(DFs[0], DFs[1], left_index=True, right_index=True)\n",
    "print(cityAVG10yDF.head())\n",
    "\n",
    "del DFs"
   ]
  },
  {
   "cell_type": "code",
   "execution_count": null,
   "id": "02c3c76c",
   "metadata": {},
   "outputs": [],
   "source": [
    "# Adding column with sum of shares of test results of level 4 in math and ELA\n",
    "\n",
    "cityAVG10yDF['Level 4 Math+Ela'] = cityAVG10yDF['Level 4 Math']+cityAVG10yDF['Level 4 ELA']"
   ]
  },
  {
   "cell_type": "code",
   "execution_count": null,
   "id": "8ad23dad",
   "metadata": {},
   "outputs": [],
   "source": [
    "# Add column 'Year' to 'cityAVG10yDF' dataframe to be able to merge the dataframes later\n",
    "\n",
    "cityAVG10yDF.insert(0, 'Year',0)"
   ]
  },
  {
   "cell_type": "code",
   "execution_count": null,
   "id": "78c10d64",
   "metadata": {},
   "outputs": [],
   "source": [
    "cityAVG10yDF.head()"
   ]
  },
  {
   "cell_type": "code",
   "execution_count": null,
   "id": "e2beb54c",
   "metadata": {},
   "outputs": [],
   "source": [
    "# Make a merged city dataframe with both math and ELA results by years\n",
    "\n",
    "DFs = list(resultsMS_Norm.values())\n",
    "cityResultsDF = pd.merge(DFs[0], DFs[1], on = ['Year'], how = 'inner')\n",
    "print(cityResultsDF.head(11))\n",
    "\n",
    "del DFs"
   ]
  },
  {
   "cell_type": "code",
   "execution_count": null,
   "id": "e92eca99",
   "metadata": {},
   "outputs": [],
   "source": [
    "# Calculating the column with sums of shares of level 4 results\n",
    "\n",
    "cityResultsDF['Level 4 Math+Ela'] = cityResultsDF['Level 4 Math']+cityResultsDF['Level 4 ELA']\n",
    "cityResultsDF.head(11)"
   ]
  },
  {
   "cell_type": "code",
   "execution_count": null,
   "id": "4434d0fe",
   "metadata": {},
   "outputs": [],
   "source": [
    "# Comparison = '2023 - 10 year average' to see citywide trend \n",
    "\n",
    "TenyAVG_2023DF = (cityResultsDF.iloc[8] - cityAVG10yDF.iloc[0])\n",
    "TenyAVG_2023DF = TenyAVG_2023DF.drop('Year')\n",
    "TenyAVG_2023DF"
   ]
  },
  {
   "cell_type": "markdown",
   "id": "2c9c28a2",
   "metadata": {},
   "source": [
    "<a id=\"middle\"></a> \n",
    "### Getting the test results for middle schools and calculate comparison indicator by school"
   ]
  },
  {
   "cell_type": "markdown",
   "id": "3044275a",
   "metadata": {},
   "source": [
    "#### Prepare schools dataframe with only middle school tests results (grades 6-8)"
   ]
  },
  {
   "cell_type": "code",
   "execution_count": null,
   "id": "236acec5",
   "metadata": {
    "scrolled": true
   },
   "outputs": [],
   "source": [
    "# Select middle school grades results from the dataframes with math and ELA tests results by schools\n",
    "\n",
    "resultsMS_bySchl_Norm ={}\n",
    "\n",
    "for subject in subjects:\n",
    "    \n",
    "    \n",
    "    resultsDF = resultsDFs[subject]\n",
    "    \n",
    "    # Dataframe with only grades 6-8 results (middle schools and K-8) by years\n",
    "    resultsMS_bySchl = resultsDF[(resultsDF['Grade'] >= 6)&(resultsDF['Grade'] <= 8)]\n",
    "    resultsMS_bySchl = resultsMS_bySchl.groupby(['DBN', 'School Name', 'Year'])[['# Level 1','# Level 2','# Level 3','# Level 4']].sum()\n",
    "    \n",
    "    # Change column names to include subject\n",
    "    resultsMS_bySchl.columns = [f'Level 1 {subject}',f'Level 2 {subject}',f'Level 3 {subject}',f'Level 4 {subject}']\n",
    "    \n",
    "    # Dataframe for middle schools by years with normalized values\n",
    "    resultsMS_bySchl_Norm[subject] = resultsMS_bySchl.div(resultsMS_bySchl.sum(axis=1), axis=0)\n",
    "    resultsMS_bySchl_Norm[subject].reset_index(inplace=True)\n",
    "    \n",
    "    print(resultsMS_bySchl_Norm[subject].head())\n",
    "    \n",
    "del resultsDF, resultsMS_bySchl"
   ]
  },
  {
   "cell_type": "code",
   "execution_count": null,
   "id": "e0f5b494",
   "metadata": {},
   "outputs": [],
   "source": [
    "# Make a merged dataframe with both math and ELA results\n",
    "\n",
    "DFs = list(resultsMS_bySchl_Norm.values())\n",
    "allResultsDF = pd.merge(DFs[0], DFs[1], on = ['DBN', 'Year'], how = 'inner', suffixes=('', '_drop'))\n",
    "allResultsDF = allResultsDF.loc[:, ~allResultsDF.columns.str.endswith('_drop')]\n",
    "allResultsDF.head(5)\n",
    "\n",
    "del DFs"
   ]
  },
  {
   "cell_type": "code",
   "execution_count": null,
   "id": "47b165f0",
   "metadata": {},
   "outputs": [],
   "source": [
    "# Add colomn with sum of shares of level4 students by math and level4 students ELA\n",
    "\n",
    "allResultsDF['Level 4 Math+Ela'] = allResultsDF[f'Level 4 {subjects[0]}']+allResultsDF[f'Level 4 {subjects[1]}']\n",
    "allResultsDF.head(10)"
   ]
  },
  {
   "cell_type": "markdown",
   "id": "df375bba",
   "metadata": {},
   "source": [
    "<a id=\"best\"></a> \n",
    "#### Select schools with the best results for all middle school grades in 2023\n",
    "Optional step,except for the first cell (dataframe for 2023), is not needed for the rest of the analysis."
   ]
  },
  {
   "cell_type": "code",
   "execution_count": null,
   "id": "5e8fe500",
   "metadata": {},
   "outputs": [],
   "source": [
    "# This dataframe for 2023 is used later to compare school progress to the citywide progress\n",
    "\n",
    "allSchools2023 = allResultsDF[(allResultsDF['Year'] == 2023)]\n",
    "allSchools2023.head()"
   ]
  },
  {
   "cell_type": "markdown",
   "id": "d896af0d",
   "metadata": {},
   "source": [
    "Optional steps if desired:"
   ]
  },
  {
   "cell_type": "raw",
   "id": "7067e709",
   "metadata": {},
   "source": [
    "# Select best schools by subjects\n",
    "\n",
    "for subject in subjects:\n",
    "    \n",
    "    resultsMS_bySchl_sorted = resultsMS_bySchl_Norm[subject].sort_values(by = ['Year', f'Level 4 {subject}'], ascending=[False, False])\n",
    "    print(resultsMS_bySchl_sorted.head(50))\n",
    "\n",
    "    resultsMS_bySchl_sorted.head(50).to_csv(f'50_schools_with_highest_level4_share_{subject}2023.csv', index = True)\n",
    "    \n",
    "del resultsMS_bySchl_sorted"
   ]
  },
  {
   "cell_type": "raw",
   "id": "3abc6a41",
   "metadata": {},
   "source": [
    "# Select top 50 schools by sum of level 4 resuts by math and ELA\n",
    "\n",
    "allResultsDF_sorted_2023 = allResultsDF.sort_values(by = ['Year', 'Level 4 Math+Ela'], ascending=[False, False])\n",
    "allRS2023Name = '50_schools_with_highest_level4_MathEla23.csv'\n",
    "allRS2023Path = os.path.join(basePath, outputFolder, allRS2023Name)\n",
    "allResultsDF_sorted_2023.head(50).to_csv(allRS2023Path, index = True)"
   ]
  },
  {
   "cell_type": "markdown",
   "id": "c9e02b6b",
   "metadata": {},
   "source": [
    "<a id=\"ten\"></a> \n",
    "#### Create dataframe with average 2013-2023 math and ELA test results for all middle school grades"
   ]
  },
  {
   "cell_type": "code",
   "execution_count": null,
   "id": "1aa767cf",
   "metadata": {},
   "outputs": [],
   "source": [
    "# Make a merged dataframe with both Math and ELA average 2013-2023 results by schools\n",
    "\n",
    "resultsMS_top50_AVG2013_23 = {}\n",
    "resultsMS_AVG2013_23 = {}\n",
    "\n",
    "for subject in subjects:\n",
    "    \n",
    "    resultsDF = resultsDFs[subject]\n",
    "    \n",
    "    # Dataframe with only grades 6-8 results (middle schools and K-8) by schools\n",
    "    resultsMS_bySchl_sumed = resultsDF[(resultsDF['Grade'] >= 6)&(resultsDF['Grade'] <= 8)].groupby(['DBN', 'School Name'])[['# Level 1','# Level 2','# Level 3','# Level 4']].sum()\n",
    "    # Rename columns\n",
    "    resultsMS_bySchl_sumed.columns = [f'# Level 1 {subject}',f'# Level 2 {subject}',f'# Level 3 {subject}',f'# Level 4 {subject}']\n",
    "\n",
    "    \n",
    "    # Dataframe for middle schools by years with normalized values\n",
    "    resultsMS_bySchl_sumed_Norm = resultsMS_bySchl_sumed.div(resultsMS_bySchl_sumed.sum(axis=1), axis=0)\n",
    "    resultsMS_bySchl_sumed_Norm.columns = [f'10yrs avg Lvl 1 {subject}',f'10yrs avg Lvl 2 {subject}',f'10yrs avg Lvl 3 {subject}',f'10yrs avg Lvl 4 {subject}']\n",
    "    resultsMS_bySchl_sumed_Norm.reset_index(inplace = True)\n",
    "    \n",
    "    # Add the dataframe to the respective dictionnary \n",
    "    resultsMS_AVG2013_23[subject] = resultsMS_bySchl_sumed_Norm\n",
    "    print(len(resultsMS_AVG2013_23[subject]))\n",
    "    \n",
    "del resultsDF, resultsMS_bySchl_sumed_Norm, resultsMS_bySchl_sumed"
   ]
  },
  {
   "cell_type": "code",
   "execution_count": null,
   "id": "2d5d432a",
   "metadata": {},
   "outputs": [],
   "source": [
    "# Make a merged dataframe with both Math and ELA average 2013-2023 results by schools\n",
    "\n",
    "AVG2013_23_DFs = list(resultsMS_AVG2013_23.values())\n",
    "allResultsAVG2013_23DF = pd.merge(AVG2013_23_DFs[0], AVG2013_23_DFs[1], on = ['DBN','School Name'], how = 'inner', suffixes=('', '_drop'))\n",
    "allResultsAVG2013_23DF = allResultsAVG2013_23DF.loc[:, ~allResultsAVG2013_23DF.columns.str.endswith('_drop')]\n",
    "allResultsAVG2013_23DF['10yrs avg Lvl 4 Math+Ela'] = allResultsAVG2013_23DF[f'10yrs avg Lvl 4 {subjects[0]}']+allResultsAVG2013_23DF[f'10yrs avg Lvl 4 {subjects[1]}']\n",
    "\n",
    "del AVG2013_23_DFs"
   ]
  },
  {
   "cell_type": "code",
   "execution_count": null,
   "id": "8bd60f2d",
   "metadata": {},
   "outputs": [],
   "source": [
    "allResultsAVG2013_23DF.head()"
   ]
  },
  {
   "cell_type": "code",
   "execution_count": null,
   "id": "53c981f2",
   "metadata": {},
   "outputs": [],
   "source": [
    "# Merging in the 2023 results\n",
    "\n",
    "allResultsAVG2013_23DF = allResultsAVG2013_23DF.merge(allSchools2023, left_on = 'School Name', right_on = 'School Name',  suffixes=('', '_drop'))\n",
    "allResultsAVG2013_23DF = allResultsAVG2013_23DF.loc[:, ~allResultsAVG2013_23DF.columns.str.endswith('_drop')]\n",
    "allResultsAVG2013_23DF.head()"
   ]
  },
  {
   "cell_type": "code",
   "execution_count": null,
   "id": "477bcc0c",
   "metadata": {},
   "outputs": [],
   "source": [
    "# Adding comparison between results of 2023 and 2013-2023 average\n",
    "\n",
    "allResultsAVG2013_23DF['2023-10yAVG'] = allResultsAVG2013_23DF['Level 4 Math+Ela'] - allResultsAVG2013_23DF['10yrs avg Lvl 4 Math+Ela']\n",
    "allResultsAVG2013_23DF.head()"
   ]
  },
  {
   "cell_type": "code",
   "execution_count": null,
   "id": "05939730",
   "metadata": {},
   "outputs": [],
   "source": [
    "allResultsAVG2013_23DF.info()"
   ]
  },
  {
   "cell_type": "markdown",
   "id": "2629b7e4",
   "metadata": {},
   "source": [
    "<a id=\"three\"></a> \n",
    "#### Create dataframe with average 2019-2023 (last 3 tests) math and ela test results for all middle school grades"
   ]
  },
  {
   "cell_type": "code",
   "execution_count": null,
   "id": "6c6c726a",
   "metadata": {},
   "outputs": [],
   "source": [
    "# Make a merged dataframe with both math and ELA average 2019-2023 results \n",
    "\n",
    "resultsMS_AVG2019_23 = {}\n",
    "\n",
    "for subject in subjects:\n",
    "    \n",
    "    resultsDF = resultsDFs[subject]\n",
    "    \n",
    "    # Dataframe with only grades 6-8 results (middle schools and K-8) by schools\n",
    "    resultsMS_bySchl_sumed = resultsDF[((resultsDF['Grade'] >= 6)&(resultsDF['Grade'] <= 8))&(resultsDF['Year'] >= 2019)].groupby(['DBN', 'School Name'])[['# Level 1','# Level 2','# Level 3','# Level 4']].sum()\n",
    "    # Rename columns\n",
    "    resultsMS_bySchl_sumed.columns = [f'# Level 1 {subject}',f'# Level 2 {subject}',f'# Level 3 {subject}',f'# Level 4 {subject}']\n",
    "\n",
    "    \n",
    "    # Dataframe for middle schools by years with normalized values\n",
    "    resultsMS_bySchl_sumed_Norm = resultsMS_bySchl_sumed.div(resultsMS_bySchl_sumed.sum(axis=1), axis=0)\n",
    "    resultsMS_bySchl_sumed_Norm.columns = [f'3yrs avg Lvl 1 {subject}',f'3yrs avg Lvl 2 {subject}',f'3yrs avg Lvl 3 {subject}',f'3yrs avg Lvl 4 {subject}']\n",
    "    resultsMS_bySchl_sumed_Norm.reset_index(inplace = True)\n",
    "    \n",
    "    # Add the dataframe to the respective dictionnary     \n",
    "    resultsMS_AVG2019_23[subject] = resultsMS_bySchl_sumed_Norm\n",
    "    print(len(resultsMS_AVG2019_23[subject]))\n",
    "    \n",
    "del resultsDF, resultsMS_bySchl_sumed_Norm, resultsMS_bySchl_sumed"
   ]
  },
  {
   "cell_type": "code",
   "execution_count": null,
   "id": "12a14355",
   "metadata": {},
   "outputs": [],
   "source": [
    "# Make a merged dataframe with both Math and ELA average 2019-2023 results \n",
    "\n",
    "AVG2019_23_DFs = list(resultsMS_AVG2019_23.values())\n",
    "allResultsAVG2019_23DF = pd.merge(AVG2019_23_DFs[0], AVG2019_23_DFs[1], on = ['DBN','School Name'], how = 'inner')\n",
    "allResultsAVG2019_23DF['3yrs avg Lvl 4 Math+Ela'] = allResultsAVG2019_23DF[f'3yrs avg Lvl 4 {subjects[0]}']+allResultsAVG2019_23DF[f'3yrs avg Lvl 4 {subjects[1]}']\n",
    "\n",
    "del AVG2019_23_DFs"
   ]
  },
  {
   "cell_type": "code",
   "execution_count": null,
   "id": "25369198",
   "metadata": {},
   "outputs": [],
   "source": [
    "allResultsAVG2019_23DF.head()"
   ]
  },
  {
   "cell_type": "markdown",
   "id": "b9bc3e59",
   "metadata": {},
   "source": [
    "<a id=\"final\"></a> \n",
    "### Create final dataframe with data for mapping"
   ]
  },
  {
   "cell_type": "code",
   "execution_count": null,
   "id": "2755359b",
   "metadata": {
    "scrolled": true
   },
   "outputs": [],
   "source": [
    "# Merge dataframes with average 10 years and last 3 tests results\n",
    "\n",
    "schoolsAllData = pd.merge(allResultsAVG2013_23DF, allResultsAVG2019_23DF, left_on = ['DBN', 'School Name'], right_on = ['DBN', 'School Name'], how = 'inner')\n",
    "schoolsAllData.head()"
   ]
  },
  {
   "cell_type": "code",
   "execution_count": null,
   "id": "1f922573",
   "metadata": {},
   "outputs": [],
   "source": [
    "# If needed, the dataframe can be saved to csv for safekeeping or for reuse without repeating \n",
    "# the steps above\n",
    "\n",
    "filename = 'schools2013_2023_AVG.csv'\n",
    "name = os.path.join(basePath, outputFolder,filename)\n",
    "schoolsAllData.to_csv(name, index = True)\n",
    "del filename, name"
   ]
  },
  {
   "cell_type": "code",
   "execution_count": null,
   "id": "eb8cda26",
   "metadata": {},
   "outputs": [],
   "source": [
    "schoolsAllData.info()"
   ]
  },
  {
   "cell_type": "markdown",
   "id": "d4425444",
   "metadata": {},
   "source": [
    "<a id=\"status\"></a> \n",
    "#### Adding school status (citywide, boroughwide) and the diversity data to the dataframe with all tests resuls"
   ]
  },
  {
   "cell_type": "code",
   "execution_count": null,
   "id": "476535d2",
   "metadata": {},
   "outputs": [],
   "source": [
    "# Preparing the demographic data\n",
    "\n",
    "demogData.columns = [col.replace('/', '_') for col in demogData.columns]"
   ]
  },
  {
   "cell_type": "code",
   "execution_count": null,
   "id": "6dfd02b2",
   "metadata": {},
   "outputs": [],
   "source": [
    "# Selecting the columns needed for analysis from demography data\n",
    "\n",
    "cols = ['DBN', 'Year', 'Total Enrollment', '% Asian', '% Black', '% Hispanic', '% Multi-Racial', '% Native American', '% White', '% Missing Race_Ethnicity Data']\n",
    "diversityData = demogData[cols]\n",
    "index = diversityData['Year'] == '2022-23'\n",
    "diversityData = diversityData[index]"
   ]
  },
  {
   "cell_type": "code",
   "execution_count": null,
   "id": "9e528508",
   "metadata": {},
   "outputs": [],
   "source": [
    "len(diversityData)"
   ]
  },
  {
   "cell_type": "code",
   "execution_count": null,
   "id": "dc0125ec",
   "metadata": {},
   "outputs": [],
   "source": [
    "# Merging the school diversity data and school status (open to city/borough) data\n",
    "\n",
    "diversityStatusData = pd.merge(diversityData, statusData, on = 'DBN', how = 'outer')\n",
    "len(diversityStatusData)"
   ]
  },
  {
   "cell_type": "code",
   "execution_count": null,
   "id": "f5b041aa",
   "metadata": {},
   "outputs": [],
   "source": [
    "# Merging schools data (short version) for analysis with demographic and status data\n",
    "\n",
    "schoolsMergedData = schoolsAllData.merge(diversityStatusData, on = 'DBN', how = 'inner', suffixes=('', '_drop'))\n",
    "schoolsMergedData = schoolsMergedData.loc[:, ~schoolsMergedData.columns.str.endswith('_drop')]"
   ]
  },
  {
   "cell_type": "code",
   "execution_count": null,
   "id": "938a20ca",
   "metadata": {},
   "outputs": [],
   "source": [
    "len(schoolsMergedData)"
   ]
  },
  {
   "cell_type": "code",
   "execution_count": null,
   "id": "0aadda82",
   "metadata": {},
   "outputs": [],
   "source": [
    "schoolsMergedData.info()"
   ]
  },
  {
   "cell_type": "markdown",
   "id": "caca0ad5",
   "metadata": {},
   "source": [
    "#### Read schools geolocation file"
   ]
  },
  {
   "cell_type": "code",
   "execution_count": null,
   "id": "d853ef71",
   "metadata": {},
   "outputs": [],
   "source": [
    "## Read GeoJSON into data frame\n",
    "SchoolsFile = 'NYC_K-12_schools_public.geojson'\n",
    "NYCSchoolsPath = os.path.join(basePath, dataFolder, SchoolsFile)\n",
    "NYCSchoolsData = gpd.read_file(NYCSchoolsPath)\n",
    "\n",
    "DistrictsFile = 'School Districts.geojson'\n",
    "NYCDistrictsPath = os.path.join(basePath, dataFolder, DistrictsFile)\n",
    "NYCDistrictsData = gpd.read_file(NYCDistrictsPath)"
   ]
  },
  {
   "cell_type": "markdown",
   "id": "ce0cc13f",
   "metadata": {},
   "source": [
    "<a id=\"match\"></a> \n",
    "#### Matching the schools names from GeoJSON schools location file and the results dataframe and merging"
   ]
  },
  {
   "cell_type": "code",
   "execution_count": null,
   "id": "728f41be",
   "metadata": {},
   "outputs": [],
   "source": [
    "#NYCSchoolsData.info() #Too many columns --> make a smaller copy\n",
    "NYCSchoolsDataShort = NYCSchoolsData[['OBJECTID', 'LEGAL_NAME', 'PHYSADDRLINE1', 'PHYSCITY', 'COUNTY_DESC', 'RECORD_TYPE_DESC', 'SDL_DESC', 'geometry']]\n",
    "NYCSchoolsDataShort.head()"
   ]
  },
  {
   "cell_type": "code",
   "execution_count": null,
   "id": "ec4b6d11",
   "metadata": {
    "scrolled": true
   },
   "outputs": [],
   "source": [
    "# Matching the school all data file with spatial data (geojson of schools locations)\n",
    "\n",
    "tqdm.pandas(desc=\"Matching Names\")\n",
    "\n",
    "# Matching names from resultsMS_bySchl_Norm[subject] to NYCSchoolsDataShort\n",
    "matched_tuples = schoolsMergedData['School Name'].progress_apply(lambda x: match_name(x, NYCSchoolsDataShort['LEGAL_NAME'], min_score=80))\n",
    "\n",
    "print('Done.')"
   ]
  },
  {
   "cell_type": "code",
   "execution_count": null,
   "id": "bb750bde",
   "metadata": {},
   "outputs": [],
   "source": [
    "print('Appending mathes to the dataframe.')\n",
    "schoolsMergedData['matched_name'] = list(zip(*matched_tuples))[0]\n",
    "schoolsMergedData['matched_score'] = list(zip(*matched_tuples))[1]\n",
    "print('Done.')"
   ]
  },
  {
   "cell_type": "code",
   "execution_count": null,
   "id": "6ac8fd35",
   "metadata": {},
   "outputs": [],
   "source": [
    "schoolsMergedData.head()"
   ]
  },
  {
   "cell_type": "code",
   "execution_count": null,
   "id": "d8cfaa4f",
   "metadata": {},
   "outputs": [],
   "source": [
    "# Merging DataFrames based on the matched name\n",
    "schoolsAllData_mappable = pd.merge(NYCSchoolsDataShort,schoolsMergedData, left_on='LEGAL_NAME', right_on='matched_name')"
   ]
  },
  {
   "cell_type": "code",
   "execution_count": null,
   "id": "79d80f2b",
   "metadata": {},
   "outputs": [],
   "source": [
    "schoolsAllData_mappable.info()"
   ]
  },
  {
   "cell_type": "code",
   "execution_count": null,
   "id": "9af8ec92",
   "metadata": {
    "scrolled": true
   },
   "outputs": [],
   "source": [
    "print(schoolsAllData_mappable['matched_name'].isnull().sum())"
   ]
  },
  {
   "cell_type": "markdown",
   "id": "a5e7cc2c",
   "metadata": {},
   "source": [
    "<a id=\"plots\"></a> \n",
    "#### Adding history ELA/math results, diversity data as plots to the geodata frame and saving into GeoJSON file"
   ]
  },
  {
   "cell_type": "code",
   "execution_count": null,
   "id": "58381b4b",
   "metadata": {},
   "outputs": [],
   "source": [
    "# Make piecharts for popups in the map and add them as columns to the mappable dataframe\n",
    "\n",
    "# Initialize AVGDF_mappable_plots with the original DataFrame to preserve its content across merges\n",
    "schools_mappable_plots = schoolsAllData_mappable.copy()\n",
    "\n",
    "# Set interactive mode off\n",
    "plt.ioff()\n",
    "\n",
    "# list of schools names\n",
    "\n",
    "schoolsNames = schoolsAllData_mappable['DBN'].to_list()\n",
    "\n",
    "# Create disctionnary to hold the dataframes by schools\n",
    "schoolDFs = {}\n",
    "\n",
    "# Make dataframes by schools \n",
    "for name in schoolsNames:\n",
    "    dfName = name\n",
    "    schoolDFs[dfName] = schools_mappable_plots[schools_mappable_plots['DBN'] == name]\n",
    "\n",
    "plots = []\n",
    "plotsDFs = {}\n",
    "\n",
    "print(\"Making test results plots ...\")\n",
    "\n",
    "columns_to_plot = ['% Asian', '% Black', '% Hispanic', '% Multi-Racial', '% Native American', '% White', '% Missing Race_Ethnicity Data']  \n",
    "# Plot dataframes by school\n",
    "for schoolDF, current_dataframe in tqdm(schoolDFs.items()):\n",
    "    # schoolDF contains the name of the dataframe\n",
    "    # current_dataframe contains the dataframe itself\n",
    "\n",
    "        # Do something with current_dataframe\n",
    "        # Create a plot\n",
    "        fig = create_chart(current_dataframe, schoolDF, columns_to_plot)\n",
    "\n",
    "        # Convert the plot to a PNG image and then encode it\n",
    "        io_buf = BytesIO()\n",
    "        fig.savefig(io_buf, format='png', bbox_inches='tight')\n",
    "        # Close the figure\n",
    "        plt.close()        \n",
    "        #Reading file to get the base64 string\n",
    "        io_buf.seek(0)\n",
    "        base64_string = base64.b64encode(io_buf.read()).decode('utf8')\n",
    "\n",
    "        pair = (schoolDF, base64_string)\n",
    "\n",
    "        plots.append(pair)\n",
    "\n",
    "print('Adding plots to the data frame with test results.')           \n",
    "# add the plots to the geodataframe of middle schools subject results \n",
    "plotsDFs = pd.DataFrame(plots, columns=['DBN', 'Dvst_chart'])\n",
    "\n",
    "schools_mappable_plots = pd.merge(schools_mappable_plots, plotsDFs, left_on = 'DBN', right_on='DBN')\n",
    "    \n",
    "del schoolDFs, columns_to_plot, plotsDFs\n",
    "print('Done.')   "
   ]
  },
  {
   "cell_type": "code",
   "execution_count": null,
   "id": "9eb4915a",
   "metadata": {},
   "outputs": [],
   "source": [
    "schools_mappable_plots.info()"
   ]
  },
  {
   "cell_type": "code",
   "execution_count": null,
   "id": "080714a3",
   "metadata": {},
   "outputs": [],
   "source": [
    "# Make plots for popups in the map and add them as columns to the mappable dataframe\n",
    "\n",
    "# Set interactive mode off\n",
    "plt.ioff()\n",
    "\n",
    "# list of schools names\n",
    "\n",
    "schoolsNames = schools_mappable_plots['DBN'].to_list()\n",
    "testResults = allResultsDF\n",
    "\n",
    "# Create disctionnary to hold the dataframes by schools\n",
    "schoolDFs = {}\n",
    "\n",
    "# Make dataframes by schools \n",
    "for name in schoolsNames:\n",
    "    dfName = name\n",
    "    schoolDFs[dfName] = testResults[testResults['DBN'] == name]\n",
    "\n",
    "plots = []\n",
    "plotsDFs = {}\n",
    "\n",
    "print(\"Making test results plots ...\")\n",
    "\n",
    "for subject in subjects:\n",
    "    columns_to_plot = [f\"Level 1 {subject}\", f\"Level 2 {subject}\", f\"Level 3 {subject}\", f\"Level 4 {subject}\"]  \n",
    "    # Plot dataframes by school\n",
    "    for schoolDF, current_dataframe in tqdm(schoolDFs.items()):\n",
    "        # schoolDF contains the name of the dataframe\n",
    "        # current_dataframe contains the dataframe itself\n",
    "\n",
    "            # Do something with current_dataframe\n",
    "            # Create a plot\n",
    "            fig = create_plot(current_dataframe, schoolDF, columns_to_plot)\n",
    "\n",
    "            # Convert the plot to a PNG image and then encode it\n",
    "            io_buf = BytesIO()\n",
    "            fig.savefig(io_buf, format='png', bbox_inches='tight')\n",
    "            # Close the figure\n",
    "            plt.close()\n",
    "            #Reading file to get the base64 string\n",
    "            io_buf.seek(0)\n",
    "            base64_string = base64.b64encode(io_buf.read()).decode('utf8')\n",
    "\n",
    "            pair = (schoolDF, base64_string)\n",
    "\n",
    "            plots.append(pair)\n",
    "\n",
    "    # add the plots to the geodataframe of middle schools subject results \n",
    "    plotsDF = pd.DataFrame(plots, columns=['DBN', f'plot {subject}'])\n",
    "\n",
    "    plotsDFs[subject] = plotsDF\n",
    "    \n",
    "print('Adding plots to the data frame with test results.')                \n",
    "for subject, df in plotsDFs.items():\n",
    "    schools_mappable_plots = pd.merge(schools_mappable_plots, df, left_on = 'DBN', right_on='DBN')\n",
    "\n",
    "print('Done.')     "
   ]
  },
  {
   "cell_type": "code",
   "execution_count": null,
   "id": "27b9f440",
   "metadata": {},
   "outputs": [],
   "source": [
    "## Saving the resulting geodataframe into geoJSON file to make a map separately.\n",
    "\n",
    "# If the area to display is less than the whole city or the number of schools\n",
    "# selected to display is relatively small, the map can be displayed within a jupyter notebook,\n",
    "# but in this case the dataframe is too big and the map is too loaded with symbols to use them this way.\n",
    "# Therefore, we'll separate the map making and the data analysis into different notebooks and \n",
    "# later save a maps as html file. The geoJSON is used at this next step.\n",
    "\n",
    "fname = 'schoolDataPlots.geojson'\n",
    "fpath = os.path.join(basePath, outputFolder, fname)\n",
    "print(f'Saving to {fpath} ...')\n",
    "schools_mappable_plots.to_file(fpath, driver=\"GeoJSON\")\n",
    "print('Saved.')\n",
    "\n",
    "del fname, fpath"
   ]
  },
  {
   "cell_type": "code",
   "execution_count": null,
   "id": "a0382d95",
   "metadata": {},
   "outputs": [],
   "source": [
    "schools_mappable_plots.info()"
   ]
  },
  {
   "cell_type": "code",
   "execution_count": null,
   "id": "d0d0fdc4-6e59-4aa6-a99e-2dcd9222326d",
   "metadata": {},
   "outputs": [],
   "source": []
  }
 ],
 "metadata": {
  "kernelspec": {
   "display_name": "Python 3 (ipykernel)",
   "language": "python",
   "name": "python3"
  },
  "language_info": {
   "codemirror_mode": {
    "name": "ipython",
    "version": 3
   },
   "file_extension": ".py",
   "mimetype": "text/x-python",
   "name": "python",
   "nbconvert_exporter": "python",
   "pygments_lexer": "ipython3",
   "version": "3.7.12"
  }
 },
 "nbformat": 4,
 "nbformat_minor": 5
}
