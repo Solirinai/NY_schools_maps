{
 "cells": [
  {
   "cell_type": "markdown",
   "id": "241ed892",
   "metadata": {},
   "source": [
    "# Analysis of NYS public and charter schools results in ELA and math grades 6-8."
   ]
  },
  {
   "cell_type": "markdown",
   "id": "7d5485cb",
   "metadata": {},
   "source": [
    "## Data processing."
   ]
  },
  {
   "cell_type": "markdown",
   "id": "99b477d6",
   "metadata": {},
   "source": [
    "<a id=\"TOC\"></a> \n",
    "## Table of Contents\n",
    "1. [Data sources and definitions](#data)\n",
    "2. [Imports: modules](#modules)\n",
    "3. [Read and prepare data](#read)\n",
    "4. [Generating geoJSON for mapping](#maps) "
   ]
  },
  {
   "cell_type": "markdown",
   "id": "0fe2b62f",
   "metadata": {},
   "source": [
    "<a id=\"data\"></a> \n",
    "## Data, definitions"
   ]
  },
  {
   "cell_type": "markdown",
   "id": "b9d32c58",
   "metadata": {},
   "source": [
    "#### Data sources:\n",
    "\n",
    "**1) State test Math and ELA results (2022-2023)**\n",
    "\n",
    "Report Card Database (251.35 megabytes): This Access database contains assessment results (elementary- and intermediate-level ELA, Math, and Science; Annual Regents; Total Cohort Regents; NYSESLAT; NYSAA), for the state, districts, public with charter schools, by county, and Need to Resource Capacity group.\n",
    "https://data.nysed.gov/downloads.php\n",
    "\n",
    "**2) Schools locations**\n",
    "\n",
    "NYS GIS Clearinghouse: NYS Schools\n",
    "https://data.gis.ny.gov/maps/b6c624c740e4476689aa60fdc4aacb8f/about"
   ]
  },
  {
   "cell_type": "markdown",
   "id": "8b1a013c",
   "metadata": {},
   "source": [
    "#### Definitions of Performance Levels for the 2023 Grades 3-8 English Language Arts and Mathematics Tests  \n",
    "\n",
    "**NYS Level 1**: Students performing at this level are below proficient in standards for their grade. They may demonstrate limited knowledge, skills, and practices embodied by the Learning Standards that are considered insufficient for the expectations at this grade. \n",
    "\n",
    "**NYS Level 2**: Students performing at this level are partially proficient in standards for their grade. They demonstrate knowledge, skills, and practices embodied by the Learning Standards that are considered partial but insufficient for the expectations at this grade. Students performing at Level 2 are considered on track to meet current New York high school graduation requirements but are not yet proficient in Learning Standards at this grade. \n",
    "\n",
    "**NYS Level 3**: Students performing at this level are proficient in standards for their grade. They demonstrate knowledge, skills, and practices embodied by the Learning Standards that are considered sufficient for the expectations at this grade.  \n",
    "\n",
    "**NYS Level 4**: Students performing at this level excel in standards for their grade. They demonstrate knowledge, skills, and practices embodied by the Learning Standards that are considered more than sufficient for the expectations at this grade.  \n",
    "\n",
    "*Source: NYSED, 2023, https://www.p12.nysed.gov/irs/ela-math/2023/ela-math-score-ranges-performance-levels-2023.pdf*"
   ]
  },
  {
   "cell_type": "markdown",
   "id": "d2b1fde9",
   "metadata": {},
   "source": [
    "### Imports"
   ]
  },
  {
   "cell_type": "code",
   "execution_count": 2,
   "id": "a643aeb5",
   "metadata": {},
   "outputs": [],
   "source": [
    "# Appending the path to utils\n",
    "\n",
    "import sys\n",
    "\n",
    "parent_dir = 'C:\\\\GITHUB\\\\NY_schools_maps\\\\notebooks'\n",
    "sys.path.append(parent_dir)"
   ]
  },
  {
   "cell_type": "code",
   "execution_count": 3,
   "id": "ac4e38a2",
   "metadata": {},
   "outputs": [],
   "source": [
    "import os\n",
    "import pandas as pd\n",
    "import geopandas as gpd\n",
    "import matplotlib.pyplot as plt\n",
    "import folium\n",
    "from shapely.geometry import Point\n",
    "from fuzzywuzzy import process\n",
    "import fuzzywuzzy\n",
    "import base64\n",
    "from io import BytesIO\n",
    "import math\n",
    "from tqdm import tqdm\n",
    "from utils import create_plot, match_name\n",
    "\n",
    "pd.set_option('display.float_format', '{:.3f}'.format)"
   ]
  },
  {
   "cell_type": "markdown",
   "id": "b58b281f",
   "metadata": {},
   "source": [
    "### Read data"
   ]
  },
  {
   "cell_type": "code",
   "execution_count": 4,
   "id": "9f875d79",
   "metadata": {},
   "outputs": [],
   "source": [
    "basePath = r\"G:\\My Drive\\Kids\\NYC_schools_mapped\"\n",
    "dataFolder = r\"raw_data\"\n",
    "outputFolder = r\"processed_data\""
   ]
  },
  {
   "cell_type": "code",
   "execution_count": null,
   "id": "9c705168",
   "metadata": {},
   "outputs": [],
   "source": [
    "# Read GeoJSON into data frame\n",
    "SchoolsFile = 'NYC_K-12_schools.geojson'\n",
    "NYCSchoolsPath = os.path.join(basePath, dataFolder, SchoolsFile)\n",
    "NYCSchoolsGeom = gpd.read_file(NYCSchoolsPath)"
   ]
  },
  {
   "cell_type": "code",
   "execution_count": 5,
   "id": "4ade718e",
   "metadata": {},
   "outputs": [
    {
     "name": "stdout",
     "output_type": "stream",
     "text": [
      "G:\\My Drive\\Kids\\NYC_schools_mapped\\raw_data\\NYC_MATH_2022-2023_from_NYS.xlsx\n",
      "G:\\My Drive\\Kids\\NYC_schools_mapped\\raw_data\\NYC_ELA_2022-2023_from_NYS.xlsx\n"
     ]
    }
   ],
   "source": [
    "## Read schools test results files\n",
    "\n",
    "# read schools math results file\n",
    "fileName_math = \"NYC_MATH_2022-2023_from_NYS.xlsx\"\n",
    "mathPath = os.path.join(basePath,dataFolder,fileName_math)\n",
    "print(mathPath)\n",
    "mathResultsDF = pd.read_excel(mathPath)\n",
    "\n",
    "# read schools ELA results file\n",
    "fileName_ELA = \"NYC_ELA_2022-2023_from_NYS.xlsx\"\n",
    "ELAPath = os.path.join(basePath, dataFolder, fileName_ELA)\n",
    "print(ELAPath)\n",
    "ELAResultsDF = pd.read_excel(ELAPath)"
   ]
  },
  {
   "cell_type": "code",
   "execution_count": null,
   "id": "5909f491",
   "metadata": {},
   "outputs": [],
   "source": [
    "## Read district results files\n",
    "\n",
    "# Read file with district wide Math test results to add to the map\n",
    "DistrictMathFile = \"DistrictsMSMAthNorm.xlsx\"\n",
    "DistrictMathPath = os.path.join(basePath, outputFolder, DistrictMathFile)\n",
    "DistrictMSMathData = pd.read_excel(DistrictMathPath)\n",
    "print(DistrictMSMathData.head(5))\n",
    "\n",
    "# Read file with district wide ELA test results to add to the map\n",
    "DistrictELAFile = \"DistrictsMSELANorm.xlsx\"\n",
    "DistrictELAPath = os.path.join(basePath, outputFolder, DistrictELAFile)\n",
    "DistrictMSELAData = pd.read_excel(DistrictELAPath)\n",
    "print(DistrictMSELAData.head(5))"
   ]
  },
  {
   "cell_type": "code",
   "execution_count": null,
   "id": "a7c86918",
   "metadata": {},
   "outputs": [],
   "source": [
    "mathResultsDF.info()"
   ]
  },
  {
   "cell_type": "code",
   "execution_count": null,
   "id": "32ad8bb8",
   "metadata": {},
   "outputs": [],
   "source": [
    "ELAResultsDF.info()"
   ]
  },
  {
   "cell_type": "markdown",
   "id": "38a60316",
   "metadata": {},
   "source": [
    "### Prepare layer with district data"
   ]
  },
  {
   "cell_type": "code",
   "execution_count": null,
   "id": "7eafb90c",
   "metadata": {},
   "outputs": [],
   "source": [
    "mathColumns = {'# Level 1':'# Level 1 Math','# Level 2':'# Level 2 Math', '# Level 3':'# Level 3 Math','# Level 4':'# Level 4 Math'}\n",
    "DistrictMSMathData.rename(columns = mathColumns, inplace = True) \n",
    "print(DistrictMSMathData.head())\n",
    "\n",
    "ELAColumns = {'# Level 1':'# Level 1 ELA','# Level 2':'# Level 2 ELA', '# Level 3':'# Level 3 ELA','# Level 4':'# Level 4 ELA'}\n",
    "DistrictMSELAData.rename(columns = ELAColumns, inplace = True)\n",
    "DistrictMSELAData.head()"
   ]
  },
  {
   "cell_type": "code",
   "execution_count": null,
   "id": "2b4ca7ac",
   "metadata": {},
   "outputs": [],
   "source": [
    "DistrictAllData = pd.merge(DistrictMSMathData, DistrictMSELAData, on = ['Year', 'District'], how = 'inner')"
   ]
  },
  {
   "cell_type": "code",
   "execution_count": null,
   "id": "c749bcc7",
   "metadata": {},
   "outputs": [],
   "source": [
    "DistrictAllData['# Level 4 Math+ELA'] = DistrictAllData['# Level 4 Math'] + DistrictAllData['# Level 4 ELA']"
   ]
  },
  {
   "cell_type": "markdown",
   "id": "15b93bc7",
   "metadata": {},
   "source": [
    "### Prepare school layer"
   ]
  },
  {
   "cell_type": "code",
   "execution_count": null,
   "id": "da1984a9",
   "metadata": {},
   "outputs": [],
   "source": [
    "# Get locations for public schools only \n",
    "#(select only public schools (public, charter, charter, SATELLITE SITE FOR CHARTER SCHOOLS) from geoJSON)\n",
    "\n",
    "NYCSchoolsGeom = NYCSchoolsGeom[NYCSchoolsGeom['INST_TYPE_DESC'] == 'PUBLIC SCHOOLS']\n",
    "NYCSchoolsGeom"
   ]
  },
  {
   "cell_type": "code",
   "execution_count": null,
   "id": "81d063d0",
   "metadata": {
    "scrolled": true
   },
   "outputs": [],
   "source": [
    "# Make a dataframe from geoJSON with minimum needed columns\n",
    "\n",
    "NYCSchoolsGeom_short = NYCSchoolsGeom[['OBJECTID', 'LEGAL_NAME', 'INSTSUBTYPDESC', 'SDL_DESC', 'geometry']]\n",
    "NYCSchoolsGeom_short"
   ]
  },
  {
   "cell_type": "code",
   "execution_count": null,
   "id": "c798930e",
   "metadata": {},
   "outputs": [],
   "source": [
    "name = 'NYCPubChSchools_temp.csv'\n",
    "path = os.path.join(basePath, outputFolder, name)\n",
    "NYCSchoolsGeom_short.to_csv(path)\n",
    "\n",
    "del name, path"
   ]
  },
  {
   "cell_type": "code",
   "execution_count": null,
   "id": "f9118481",
   "metadata": {},
   "outputs": [],
   "source": [
    "# Dictionnary for schools test results results\n",
    "subjects = ['Math', 'ELA']\n",
    "resultsDFs = {'Math': mathResultsDF, 'ELA': ELAResultsDF}"
   ]
  },
  {
   "cell_type": "code",
   "execution_count": null,
   "id": "265640a9",
   "metadata": {},
   "outputs": [],
   "source": [
    "for subject in subjects:\n",
    "    resultsDF = resultsDFs[subject]\n",
    "    resultsDF = resultsDF[resultsDF['Year'] == 2023]\n",
    "    resultsDF = resultsDF[['ENTITY_NAME', 'Year', 'ASSESSMENT_NAME', 'LEVEL1_COUNT', 'LEVEL2_COUNT', 'LEVEL3_COUNT', 'LEVEL4_COUNT']]\n",
    "    resultsDF.info()\n",
    "    resultsDFs[subject] = resultsDF\n",
    "    print(len(resultsDF))\n",
    "    \n",
    "del resultsDF"
   ]
  },
  {
   "cell_type": "code",
   "execution_count": null,
   "id": "4eaf2746",
   "metadata": {},
   "outputs": [],
   "source": [
    "# resultsDF.info() showed that most of the columns are objects instead of numbers and needed to be converted\n",
    "for subject in subjects:\n",
    "    resultsDF = resultsDFs[subject]\n",
    "    resultsDF_colToConvert = ['LEVEL1_COUNT', 'LEVEL2_COUNT', 'LEVEL3_COUNT', 'LEVEL4_COUNT']\n",
    "    resultsDF[resultsDF_colToConvert] = resultsDF[resultsDF_colToConvert].apply(pd.to_numeric, errors = 'coerce')\n",
    "    resultsDF.info()\n",
    "    resultsDFs[subject] = resultsDF\n",
    "    print(len(resultsDF))\n",
    "    \n",
    "del resultsDF"
   ]
  },
  {
   "cell_type": "code",
   "execution_count": null,
   "id": "e60a2729",
   "metadata": {},
   "outputs": [],
   "source": [
    "results_Norm = {}\n",
    "\n",
    "for subject in subjects:\n",
    "        \n",
    "    resultsDF = resultsDFs[subject]\n",
    "    \n",
    "    resultsDF_grouped = resultsDF.groupby(['ENTITY_NAME', 'Year'])[['LEVEL1_COUNT', 'LEVEL2_COUNT', 'LEVEL3_COUNT', 'LEVEL4_COUNT']].sum()\n",
    "    # Change column names to include subject\n",
    "    resultsDF_grouped.columns = [f'Level 1 {subject}',f'Level 2 {subject}',f'Level 3 {subject}',f'Level 4 {subject}']\n",
    "    \n",
    "    # Dataframe for middle schools by years with normalized values\n",
    "    results_Norm[subject] = resultsDF_grouped.div(resultsDF_grouped.sum(axis=1), axis=0)\n",
    "    results_Norm[subject].reset_index(inplace=True)\n",
    "    \n",
    "    print(results_Norm[subject].head(20))\n",
    "    \n",
    "    # Dataframe with average\n",
    "    \n",
    "del resultsDF, resultsDF_grouped"
   ]
  },
  {
   "cell_type": "code",
   "execution_count": null,
   "id": "953ec391",
   "metadata": {},
   "outputs": [],
   "source": [
    "# Make a merged dataframe with both Math and ELA results\n",
    "DFs = list(results_Norm.values())\n",
    "allResultsDF = pd.merge(DFs[0], DFs[1], on = ['ENTITY_NAME', 'Year'], how = 'inner')\n",
    "allResultsDF.head(5)"
   ]
  },
  {
   "cell_type": "code",
   "execution_count": null,
   "id": "c5605a9c",
   "metadata": {},
   "outputs": [],
   "source": [
    "allResultsDF.info()"
   ]
  },
  {
   "cell_type": "code",
   "execution_count": null,
   "id": "390cb1c8",
   "metadata": {},
   "outputs": [],
   "source": [
    "allResultsDF['Level 4 Math+Ela'] = allResultsDF[f'Level 4 {subjects[0]}']+allResultsDF[f'Level 4 {subjects[1]}']\n",
    "allResultsDF.head(10)"
   ]
  },
  {
   "cell_type": "code",
   "execution_count": null,
   "id": "54475e78",
   "metadata": {},
   "outputs": [],
   "source": [
    "name = 'NYCPubChSchoolsTestResults2023_temp.csv'\n",
    "path = os.path.join(basePath, outputFolder, name)\n",
    "allResultsDF.to_csv(path)\n",
    "\n",
    "del name, path"
   ]
  },
  {
   "cell_type": "code",
   "execution_count": null,
   "id": "e52803bb",
   "metadata": {},
   "outputs": [],
   "source": [
    "# Make plots for popups in the map and add them as columns to the mappable dataframe\n",
    "\n",
    "\n",
    "# list of schools names\n",
    "\n",
    "schoolsNames = allResultsDF['ENTITY_NAME'].to_list()\n",
    "testResults = allResultsDF\n",
    "\n",
    "# Create disctionnary to hold the dataframes by schools\n",
    "schoolDFs = {}\n",
    "\n",
    "# Make dataframes by schools \n",
    "for name in schoolsNames:\n",
    "    dfName = name\n",
    "    schoolDFs[dfName] = testResults[testResults['ENTITY_NAME'] == name]\n",
    "\n",
    "plots = []\n",
    "plotsDFs = {}\n",
    "\n",
    "for subject in subjects:\n",
    "    columns_to_plot = [f\"Level 1 {subject}\", f\"Level 2 {subject}\", f\"Level 3 {subject}\", f\"Level 4 {subject}\"]  \n",
    "    # Plot dataframes by school\n",
    "    for schoolDF, current_dataframe in schoolDFs.items():\n",
    "        # schoolDF contains the name of the dataframe\n",
    "        # current_dataframe contains the dataframe itself\n",
    "\n",
    "            # Do something with current_dataframe\n",
    "            # Create a plot\n",
    "            fig = create_plot(current_dataframe, schoolDF, columns_to_plot)\n",
    "\n",
    "            # Convert the plot to a PNG image and then encode it\n",
    "            io_buf = BytesIO()\n",
    "            fig.savefig(io_buf, format='png', bbox_inches='tight')\n",
    "            io_buf.seek(0)\n",
    "            base64_string = base64.b64encode(io_buf.read()).decode('utf8')\n",
    "\n",
    "            pair = (schoolDF, base64_string)\n",
    "\n",
    "            plots.append(pair)\n",
    "\n",
    "    # add the plots to the geodataframe of middle schools subject results \n",
    "    plotsDF = pd.DataFrame(plots, columns=['ENTITY_NAME', f'plot {subject}'])\n",
    "\n",
    "    plotsDFs[subject] = plotsDF\n",
    "            \n",
    "for subject, df in plotsDFs.items():\n",
    "    allResultsDF = pd.merge(allResultsDF, df, left_on = 'ENTITY_NAME', right_on='ENTITY_NAME')"
   ]
  },
  {
   "cell_type": "code",
   "execution_count": null,
   "id": "4a1e552c",
   "metadata": {},
   "outputs": [],
   "source": [
    "allResultsDF.info()"
   ]
  },
  {
   "cell_type": "code",
   "execution_count": null,
   "id": "2c234ef8",
   "metadata": {},
   "outputs": [],
   "source": [
    "# Matching the school all data file with spatial data (geojson of schools locations)\n",
    "\n",
    "# Matching names from resultsMS_bySchl_Norm[subject] to NYCSchoolsDataShort\n",
    "allResultsDF['matched_name'] = allResultsDF['ENTITY_NAME'].apply(lambda x: match_name(x, NYCSchoolsGeom_short['LEGAL_NAME'], min_score=60))\n",
    "\n",
    "name = 'NYCPubChSchoolsTestResults2023_tempMatched.csv'\n",
    "path = os.path.join(basePath, outputFolder, name)\n",
    "allResultsDF.to_csv(path)\n",
    "\n",
    "del name, path\n",
    "\n",
    "# Merging DataFrames based on the matched name\n",
    "finalGeoDF = pd.merge(NYCSchoolsGeom_short,allResultsDF, left_on='LEGAL_NAME', right_on='matched_name')\n",
    "allData_Name = 'PublicCharterNYCschools.geojson'\n",
    "allData_Path = os.path.join(basePath,outputFolder, allData_Name)\n",
    "finalGeoDF.to_file(allData_Path, driver=\"GeoJSON\")\n",
    "\n",
    "del allData_Name, allData_Path"
   ]
  },
  {
   "cell_type": "raw",
   "id": "298c8ac6",
   "metadata": {},
   "source": [
    "finalGeoDF = NYCSchoolsGeom_short.merge(allResultsDF, left_on = 'LEGAL_NAME', right_on='ENTITY_NAME')"
   ]
  },
  {
   "cell_type": "raw",
   "id": "3e2f52bd",
   "metadata": {},
   "source": [
    "name = 'PublicCharterNYCschools.geojson'\n",
    "path = os.path.join(basePath, outputFolder, name)\n",
    "finalGeoDF.to_file(path, driver='GeoJSON')\n",
    "\n",
    "del name, path"
   ]
  },
  {
   "cell_type": "code",
   "execution_count": null,
   "id": "d1ddbb45",
   "metadata": {},
   "outputs": [],
   "source": [
    "finalGeoDF.info()"
   ]
  },
  {
   "cell_type": "markdown",
   "id": "aee70bd3",
   "metadata": {},
   "source": [
    "### Generating the map"
   ]
  },
  {
   "cell_type": "code",
   "execution_count": null,
   "id": "078e925d",
   "metadata": {},
   "outputs": [],
   "source": [
    "# Prepare legend\n",
    "legend_html = '''\n",
    "     <div style=\"position: fixed; \n",
    "                 bottom: 50px; left: 50px; width: 300px; height: 110px; \n",
    "                 border:1px solid grey; z-index:9999; font-size:10px;\n",
    "                 background-color: rgba(255, 255, 255, 0.7);\n",
    "                 padding: 10px;\n",
    "                 \">\n",
    "                   <div><i class=\"fa fa-circle\" style=\"border:0.5px solid #54B96D; color:green; border-radius:50%; display:inline-block;\"></i><span style=\"margin-left: 5px;\"> NYC public schools</span><br>\n",
    "                   The size of each circle reflects the average share of students scoring at the highest level (level 4) on state ELA and math tests over the years 2019 to 2023. &nbsp; </div>\n",
    "                   <br>\n",
    "                   <div><i class=\"fa fa-circle\" style=\"border:2px solid yellow; color:green; border-radius:50%; display:inline-block;\"></i><span style=\"margin-left: 5px;\">Open to all city residents </span></div>\n",
    "                   <div><i class=\"fa fa-circle\" style=\"border:2px solid #3862e0; color:green;border-radius:50%; display:inline-block;\"></i><span style=\"margin-left: 5px;\">Open to Brooklyn residents </span></div>\n",
    "                   \n",
    "      </div>\n",
    "     '''"
   ]
  },
  {
   "cell_type": "code",
   "execution_count": null,
   "id": "a11263cf",
   "metadata": {},
   "outputs": [],
   "source": [
    "from IPython.core.display import display, HTML\n",
    "\n",
    "display(HTML(\"<style>.output_scroll { height: auto !important; max-height: 1500px; }</style>\"))\n",
    "\n",
    "# Create a map object, centered at NYC\n",
    "mapNYC = folium.Map(location=[40.6839, -73.9026], zoom_start=11, tiles=\"cartodb positron\")\n",
    "   \n",
    "# Add dataframes with coordinates and test results to the map\n",
    "\n",
    "def my_style(x):\n",
    "    level4 = x['properties']['Level 4 Math+Ela']\n",
    "    charter = x['properties']['INSTSUBTYPDESC']\n",
    "    color = '#f0a607' if charter == 'CHARTER SCHOOL'  else '#f0a607' if charter == 'SATELLITE SITE FOR CHARTER SCHOOLS' else '#06a6cf'\n",
    "    #fill_color = '#f0a607' if charter == 'CHARTER SCHOOL'  else '#f0a607' if charter == 'SATELLITE SITE FOR CHARTER SCHOOLS' else '#06a6cf'\n",
    "    if level4 is None:\n",
    "        level4 = 0\n",
    "    #print(level4)\n",
    "    return {\n",
    "        \"radius\": (level4)*500,\n",
    "        \"color\": color,\n",
    "        #\"fill_color\": fill_color,\n",
    "    }  \n",
    "\n",
    "\n",
    "## Adding the layer to the map\n",
    "districts = folium.Choropleth(\n",
    "    geo_data = NYCDistrictsGeom,\n",
    "    data = DistrictAllData[DistrictAllData['Year'] == 2023],\n",
    "    columns = ['District','# Level 4 Math+ELA'],\n",
    "    key_on = \"feature.properties.school_dist\",\n",
    "    fill_color = \"BuPu\",\n",
    "    fill_opacity = 0.8,\n",
    "    line_opacity=0.3,\n",
    "    nan_fill_color=\"white\",\n",
    "    legend_name = 'Sum of percentages of middle school test takers with Level 4 result in Math and ELA, 2023',\n",
    "    popup = folium.GeoJsonPopup(fields=[\"school_dist\", \"Year\", \"# Level 1\", \"# Level 2\", \"# Level 3\", \"# Level 4\"]), \n",
    "    name = \"School districts\"\n",
    ").add_to(mapNYC)\n",
    "\n",
    "\n",
    "# Function to create iframe for a given row\n",
    "def create_iframe(row):    \n",
    "    html =  '<strong>{0}:</strong> {1}<br><strong>{2}:</strong> {3}<br><strong>{4}:</strong> {5}<br>\\\n",
    "    <br><img src=\"data:image/png;base64,{6}\"><br>\\\n",
    "    <img src=\"data:image/png;base64,{7}\">'.format(\n",
    "        'School Name', row['LEGAL_NAME'],\n",
    "        'Level 4 share 2023 Math', round(row['Level 4 Math'], 2), \n",
    "        'Level 4 share 2023 ELA', round(row['Level 4 ELA'], 2),\n",
    "        row['plot Math'], row['plot ELA'])\n",
    "    return folium.IFrame(html, width=500, height=450)\n",
    "\n",
    "def create_popup(x):\n",
    "    iframe = create_iframe(x)\n",
    "    popup = folium.Popup(iframe)\n",
    "    return popup\n",
    "\n",
    "# Iterate over the GeoDataFrame and add a popup to each feature\n",
    "for _, row in tqdm(finalGeoDF.iterrows(), total = len(finalGeoDF)):\n",
    "    iframe = create_iframe(row)\n",
    "        \n",
    "    data = gpd.GeoDataFrame(row.to_frame().T, crs=finalGeoDF.crs)\n",
    "    \n",
    "    folium.GeoJson(\n",
    "    data,\n",
    "    marker = folium.Circle(radius=10, fill_color='white', fill_opacity=0, color=\"green\", weight=2),\n",
    "    #marker = folium.Circle(radius=10),    \n",
    "    popup = folium.Popup(iframe),\n",
    "    style_function = my_style, \n",
    "    control = False    \n",
    "    #zoom_on_click = True,    \n",
    ").add_to(mapNYC)    \n",
    "        \n",
    "folium.LayerControl().add_to(mapNYC)    \n",
    "  \n",
    "# # Display the map\n",
    "# mapNYC\n",
    "\n",
    "#Adding legend to the map\n",
    "\n",
    "# Add the HTML to the map using a feature group\n",
    "mapNYC.get_root().html.add_child(folium.Element(legend_html))\n",
    "\n",
    "# Save map to html\n",
    "mfile = 'NYCpublicAndCharter.html'\n",
    "mpath = os.path.join(basePath, outputFolder, mfile)\n",
    "mapNYC.save(mpath)"
   ]
  },
  {
   "cell_type": "code",
   "execution_count": null,
   "id": "dd03f1e5",
   "metadata": {},
   "outputs": [],
   "source": [
    "finalGeoDF['SDL_DESC'].unique()"
   ]
  },
  {
   "cell_type": "code",
   "execution_count": null,
   "id": "07221168",
   "metadata": {},
   "outputs": [],
   "source": [
    "NYCSchoolsGeom_short['SDL_DESC'].unique()"
   ]
  },
  {
   "cell_type": "code",
   "execution_count": null,
   "id": "e0fdc4ae",
   "metadata": {},
   "outputs": [],
   "source": [
    "NYCSchoolsGeom_short.info()"
   ]
  },
  {
   "cell_type": "code",
   "execution_count": null,
   "id": "00567f52",
   "metadata": {},
   "outputs": [],
   "source": []
  }
 ],
 "metadata": {
  "kernelspec": {
   "display_name": "Python 3 (ipykernel)",
   "language": "python",
   "name": "python3"
  },
  "language_info": {
   "codemirror_mode": {
    "name": "ipython",
    "version": 3
   },
   "file_extension": ".py",
   "mimetype": "text/x-python",
   "name": "python",
   "nbconvert_exporter": "python",
   "pygments_lexer": "ipython3",
   "version": "3.7.12"
  }
 },
 "nbformat": 4,
 "nbformat_minor": 5
}
