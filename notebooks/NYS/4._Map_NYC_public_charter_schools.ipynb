{
 "cells": [
  {
   "cell_type": "markdown",
   "id": "e0358236",
   "metadata": {},
   "source": [
    "# Analysis of NYC public and charter schools results in ELA and math grades 6-8."
   ]
  },
  {
   "cell_type": "markdown",
   "id": "9fe76e6d",
   "metadata": {},
   "source": [
    "## Generating the map"
   ]
  },
  {
   "cell_type": "markdown",
   "id": "b9d32c58",
   "metadata": {},
   "source": [
    "#### Data sources:\n",
    "\n",
    "**1) State test Math and ELA results (2022-2023)**\n",
    "\n",
    "Report Card Database (251.35 megabytes): This Access database contains assessment results (elementary- and intermediate-level ELA, Math, and Science; Annual Regents; Total Cohort Regents; NYSESLAT; NYSAA), for the state, districts, public with charter schools, by county, and Need to Resource Capacity group.\n",
    "https://data.nysed.gov/downloads.php\n",
    "\n",
    "**2) Schools locations**\n",
    "\n",
    "NYS GIS Clearinghouse: NYS Schools\n",
    "https://data.gis.ny.gov/maps/b6c624c740e4476689aa60fdc4aacb8f/about"
   ]
  },
  {
   "cell_type": "markdown",
   "id": "8b1a013c",
   "metadata": {},
   "source": [
    "#### Definitions of Performance Levels for the 2023 Grades 3-8 English Language Arts and Mathematics Tests  \n",
    "\n",
    "**NYS Level 1**: Students performing at this level are below proficient in standards for their grade. They may demonstrate limited knowledge, skills, and practices embodied by the Learning Standards that are considered insufficient for the expectations at this grade. \n",
    "\n",
    "**NYS Level 2**: Students performing at this level are partially proficient in standards for their grade. They demonstrate knowledge, skills, and practices embodied by the Learning Standards that are considered partial but insufficient for the expectations at this grade. Students performing at Level 2 are considered on track to meet current New York high school graduation requirements but are not yet proficient in Learning Standards at this grade. \n",
    "\n",
    "**NYS Level 3**: Students performing at this level are proficient in standards for their grade. They demonstrate knowledge, skills, and practices embodied by the Learning Standards that are considered sufficient for the expectations at this grade.  \n",
    "\n",
    "**NYS Level 4**: Students performing at this level excel in standards for their grade. They demonstrate knowledge, skills, and practices embodied by the Learning Standards that are considered more than sufficient for the expectations at this grade.  \n",
    "\n",
    "*Source: NYSED, 2023, https://www.p12.nysed.gov/irs/ela-math/2023/ela-math-score-ranges-performance-levels-2023.pdf*"
   ]
  },
  {
   "cell_type": "markdown",
   "id": "d2b1fde9",
   "metadata": {},
   "source": [
    "### Imports"
   ]
  },
  {
   "cell_type": "code",
   "execution_count": null,
   "id": "ac4e38a2",
   "metadata": {},
   "outputs": [],
   "source": [
    "import os\n",
    "import pandas as pd\n",
    "import geopandas as gpd\n",
    "import matplotlib.pyplot as plt\n",
    "import folium\n",
    "from shapely.geometry import Point\n",
    "from fuzzywuzzy import process\n",
    "import fuzzywuzzy\n",
    "import base64\n",
    "from io import BytesIO\n",
    "import math\n",
    "from tqdm import tqdm\n",
    "import importlib\n",
    "import utils\n",
    "importlib.reload(utils)\n",
    "from utils import create_plot, match_name\n",
    "\n",
    "pd.set_option('display.float_format', '{:.3f}'.format)"
   ]
  },
  {
   "cell_type": "markdown",
   "id": "b58b281f",
   "metadata": {},
   "source": [
    "### Read data"
   ]
  },
  {
   "cell_type": "code",
   "execution_count": null,
   "id": "9f875d79",
   "metadata": {},
   "outputs": [],
   "source": [
    "basePath = r\"G:\\My Drive\\Kids\\NYC_schools_mapped\"\n",
    "dataFolder = r\"raw_data\"\n",
    "outputFolder = r\"processed_data\""
   ]
  },
  {
   "cell_type": "code",
   "execution_count": null,
   "id": "9c705168",
   "metadata": {},
   "outputs": [],
   "source": [
    "# Read GeoJSON into data frame\n",
    "SchoolsFile = 'NYS_Schools.geojson'\n",
    "NYCSchoolsPath = os.path.join(basePath, dataFolder, SchoolsFile)\n",
    "NYCSchoolsGeom = gpd.read_file(NYCSchoolsPath)\n",
    "\n",
    "# DistrictsFile = 'School Districts.geojson'\n",
    "# NYCDistrictsPath = os.path.join(basePath, dataFolder, DistrictsFile)\n",
    "# NYCDistrictsGeom = gpd.read_file(NYCDistrictsPath)"
   ]
  },
  {
   "cell_type": "code",
   "execution_count": null,
   "id": "4ade718e",
   "metadata": {},
   "outputs": [],
   "source": [
    "## Read schools test results files\n",
    "\n",
    "# read schools math results file\n",
    "fileName_math = \"NYS_MS_MATH_from_NYS.xlsx\"\n",
    "mathPath = os.path.join(basePath,dataFolder,fileName_math)\n",
    "print(mathPath)\n",
    "mathResultsDF = pd.read_excel(mathPath)\n",
    "\n",
    "# read schools ELA results file\n",
    "fileName_ELA = \"NYS_MS_ELA_from_NYS.xlsx\"\n",
    "ELAPath = os.path.join(basePath, dataFolder, fileName_ELA)\n",
    "print(ELAPath)\n",
    "ELAResultsDF = pd.read_excel(ELAPath)"
   ]
  },
  {
   "cell_type": "code",
   "execution_count": null,
   "id": "5909f491",
   "metadata": {},
   "outputs": [],
   "source": [
    "# ## Read district results files\n",
    "\n",
    "# # Read file with district wide Math test results to add to the map\n",
    "# DistrictMathFile = \"DistrictsMSMAthNorm.xlsx\"\n",
    "# DistrictMathPath = os.path.join(basePath, outputFolder, DistrictMathFile)\n",
    "# DistrictMSMathData = pd.read_excel(DistrictMathPath)\n",
    "# print(DistrictMSMathData.head(5))\n",
    "\n",
    "# # Read file with district wide ELA test results to add to the map\n",
    "# DistrictELAFile = \"DistrictsMSELANorm.xlsx\"\n",
    "# DistrictELAPath = os.path.join(basePath, outputFolder, DistrictELAFile)\n",
    "# DistrictMSELAData = pd.read_excel(DistrictELAPath)\n",
    "# print(DistrictMSELAData.head(5))"
   ]
  },
  {
   "cell_type": "code",
   "execution_count": null,
   "id": "a7c86918",
   "metadata": {},
   "outputs": [],
   "source": [
    "mathResultsDF.info()"
   ]
  },
  {
   "cell_type": "code",
   "execution_count": null,
   "id": "32ad8bb8",
   "metadata": {
    "scrolled": true
   },
   "outputs": [],
   "source": [
    "ELAResultsDF.info()"
   ]
  },
  {
   "cell_type": "code",
   "execution_count": null,
   "id": "7bbb0814",
   "metadata": {},
   "outputs": [],
   "source": [
    "mathResultsDF.rename(columns = {'YEAR':'Year'}, inplace = True)\n",
    "mathResultsDF.info()"
   ]
  },
  {
   "cell_type": "markdown",
   "id": "15b93bc7",
   "metadata": {},
   "source": [
    "### Prepare school layer"
   ]
  },
  {
   "cell_type": "code",
   "execution_count": null,
   "id": "da1984a9",
   "metadata": {},
   "outputs": [],
   "source": [
    "# Get locations for public schools only \n",
    "#(select only public schools (public, charter, charter, SATELLITE SITE FOR CHARTER SCHOOLS) from geoJSON)\n",
    "\n",
    "NYCSchoolsGeom = NYCSchoolsGeom[NYCSchoolsGeom['INST_TYPE_DESC'] == 'PUBLIC SCHOOLS']\n",
    "NYCSchoolsGeom"
   ]
  },
  {
   "cell_type": "code",
   "execution_count": null,
   "id": "81d063d0",
   "metadata": {
    "scrolled": true
   },
   "outputs": [],
   "source": [
    "# Make a dataframe from geoJSON with minimum needed columns\n",
    "\n",
    "NYCSchoolsGeom_short = NYCSchoolsGeom[['OBJECTID', 'LEGAL_NAME', 'INSTSUBTYPDESC', 'SDL_DESC', 'geometry']]\n",
    "NYCSchoolsGeom_short"
   ]
  },
  {
   "cell_type": "code",
   "execution_count": null,
   "id": "c798930e",
   "metadata": {},
   "outputs": [],
   "source": [
    "name = 'NYSPubChSchools_temp.csv'\n",
    "path = os.path.join(basePath, outputFolder, name)\n",
    "NYCSchoolsGeom_short.to_csv(path)\n",
    "\n",
    "del name, path"
   ]
  },
  {
   "cell_type": "code",
   "execution_count": null,
   "id": "f9118481",
   "metadata": {},
   "outputs": [],
   "source": [
    "# Dictionnary for schools test results results\n",
    "subjects = ['Math', 'ELA']\n",
    "resultsDFs = {'Math': mathResultsDF, 'ELA': ELAResultsDF}"
   ]
  },
  {
   "cell_type": "code",
   "execution_count": null,
   "id": "2784cc44",
   "metadata": {},
   "outputs": [],
   "source": [
    "# resultsDF.info() showed that most of the columns are objects instead of numbers and needed to be converted\n",
    "for subject in subjects:\n",
    "    resultsDF = resultsDFs[subject]\n",
    "    resultsDF_colToConvert = ['LEVEL1_COUNT',\n",
    "     'LEVEL2_COUNT',                             \n",
    "     'LEVEL3_COUNT',\n",
    "     'LEVEL4_COUNT',\n",
    "     ]\n",
    "    resultsDF[resultsDF_colToConvert] = resultsDF[resultsDF_colToConvert].apply(pd.to_numeric, errors = 'coerce')\n",
    "    resultsDF.info()\n",
    "    print(len(resultsDF))\n",
    "    \n",
    "del resultsDF"
   ]
  },
  {
   "cell_type": "code",
   "execution_count": null,
   "id": "265640a9",
   "metadata": {},
   "outputs": [],
   "source": [
    "for subject in subjects:\n",
    "    resultsDF = resultsDFs[subject]\n",
    "    resultsDF = resultsDF[['ENTITY_NAME', 'Year', 'ASSESSMENT_NAME', 'LEVEL1_COUNT', 'LEVEL2_COUNT', 'LEVEL3_COUNT', 'LEVEL4_COUNT']]\n",
    "    resultsDF.info()\n",
    "    resultsDFs[subject] = resultsDF\n",
    "    print(len(resultsDF))\n",
    "    \n",
    "del resultsDF"
   ]
  },
  {
   "cell_type": "code",
   "execution_count": null,
   "id": "369656c8",
   "metadata": {},
   "outputs": [],
   "source": [
    "results_AVG2y = {}\n",
    "\n",
    "for subject in subjects:\n",
    "        \n",
    "    resultsDF = resultsDFs[subject]\n",
    "    \n",
    "    resultsDF_grouped = resultsDF.groupby(['ENTITY_NAME'])[['LEVEL1_COUNT', 'LEVEL2_COUNT', 'LEVEL3_COUNT', 'LEVEL4_COUNT']].sum()\n",
    "    # Change column names to include subject\n",
    "    resultsDF_grouped.columns = [f'Level 1 {subject}',f'Level 2 {subject}',f'Level 3 {subject}',f'Level 4 {subject}']\n",
    "    \n",
    "    # Dataframe for middle schools by years with normalized values\n",
    "    results_AVG2y[subject] = resultsDF_grouped.div(resultsDF_grouped.sum(axis=1), axis=0)\n",
    "    results_AVG2y[subject].reset_index(inplace=True)\n",
    "    \n",
    "    print(results_AVG2y[subject].head(20))\n",
    "    \n",
    "    # Dataframe with average\n",
    "    \n",
    "del resultsDF, resultsDF_grouped"
   ]
  },
  {
   "cell_type": "code",
   "execution_count": null,
   "id": "e60a2729",
   "metadata": {},
   "outputs": [],
   "source": [
    "results_Norm = {}\n",
    "\n",
    "for subject in subjects:\n",
    "        \n",
    "    resultsDF = resultsDFs[subject]\n",
    "    \n",
    "    resultsDF_grouped = resultsDF.groupby(['ENTITY_NAME', 'Year'])[['LEVEL1_COUNT', 'LEVEL2_COUNT', 'LEVEL3_COUNT', 'LEVEL4_COUNT']].sum()\n",
    "    # Change column names to include subject\n",
    "    resultsDF_grouped.columns = [f'Level 1 {subject}',f'Level 2 {subject}',f'Level 3 {subject}',f'Level 4 {subject}']\n",
    "    \n",
    "    # Dataframe for middle schools by years with normalized values\n",
    "    results_Norm[subject] = resultsDF_grouped.div(resultsDF_grouped.sum(axis=1), axis=0)\n",
    "    results_Norm[subject].reset_index(inplace=True)\n",
    "    \n",
    "    print(results_Norm[subject].head(20))\n",
    "    \n",
    "    # Dataframe with average\n",
    "    \n",
    "del resultsDF, resultsDF_grouped"
   ]
  },
  {
   "cell_type": "code",
   "execution_count": null,
   "id": "91c4a6fd",
   "metadata": {},
   "outputs": [],
   "source": [
    "# Make a merged dataframe with both Math and ELA results for 2y average\n",
    "DFs = list(results_AVG2y.values())\n",
    "allResultsDFAVG2y = pd.merge(DFs[0], DFs[1], on = ['ENTITY_NAME'], how = 'inner')\n",
    "allResultsDFAVG2y.head(5)"
   ]
  },
  {
   "cell_type": "code",
   "execution_count": null,
   "id": "ae97aa69",
   "metadata": {},
   "outputs": [],
   "source": [
    "allResultsDFAVG2y.info()"
   ]
  },
  {
   "cell_type": "code",
   "execution_count": null,
   "id": "953ec391",
   "metadata": {},
   "outputs": [],
   "source": [
    "# Make a merged dataframe with both Math and ELA results\n",
    "DFs = list(results_Norm.values())\n",
    "allResultsDF = pd.merge(DFs[0], DFs[1], on = ['ENTITY_NAME', 'Year'], how = 'inner')\n",
    "allResultsDF.head(5)"
   ]
  },
  {
   "cell_type": "code",
   "execution_count": null,
   "id": "c5605a9c",
   "metadata": {},
   "outputs": [],
   "source": [
    "allResultsDF.info()"
   ]
  },
  {
   "cell_type": "code",
   "execution_count": null,
   "id": "5a568dd9",
   "metadata": {},
   "outputs": [],
   "source": [
    "print(allResultsDF.duplicated(subset='ENTITY_NAME').sum())"
   ]
  },
  {
   "cell_type": "code",
   "execution_count": null,
   "id": "ddffa415",
   "metadata": {},
   "outputs": [],
   "source": [
    "allResultsDFAVG2y['Level 4 Math+Ela'] = allResultsDFAVG2y[f'Level 4 {subjects[0]}']+allResultsDFAVG2y[f'Level 4 {subjects[1]}']\n",
    "allResultsDFAVG2y.head(5)"
   ]
  },
  {
   "cell_type": "code",
   "execution_count": null,
   "id": "390cb1c8",
   "metadata": {},
   "outputs": [],
   "source": [
    "allResultsDF['Level 4 Math+Ela'] = allResultsDF[f'Level 4 {subjects[0]}']+allResultsDF[f'Level 4 {subjects[1]}']\n",
    "allResultsDF.head(10)"
   ]
  },
  {
   "cell_type": "code",
   "execution_count": null,
   "id": "181996df",
   "metadata": {},
   "outputs": [],
   "source": [
    "allResultsDF.info()"
   ]
  },
  {
   "cell_type": "code",
   "execution_count": null,
   "id": "54475e78",
   "metadata": {},
   "outputs": [],
   "source": [
    "name = 'NYSPubChSchoolsTestResults2023_temp.csv'\n",
    "path = os.path.join(basePath, outputFolder, name)\n",
    "allResultsDF.to_csv(path)\n",
    "\n",
    "del name, path"
   ]
  },
  {
   "cell_type": "code",
   "execution_count": null,
   "id": "e52803bb",
   "metadata": {},
   "outputs": [],
   "source": [
    "# Make plots for popups in the map and add them as columns to the mappable dataframe\n",
    "\n",
    "# Set interactive mode off\n",
    "plt.ioff()\n",
    "\n",
    "# list of schools names\n",
    "\n",
    "schoolsNames = allResultsDF['ENTITY_NAME'].to_list()\n",
    "testResults = allResultsDF\n",
    "\n",
    "# Create disctionnary to hold the dataframes by schools\n",
    "schoolDFs = {}\n",
    "\n",
    "# Make dataframes by schools \n",
    "for name in schoolsNames:\n",
    "    dfName = name\n",
    "    schoolDFs[dfName] = testResults[testResults['ENTITY_NAME'] == name]\n",
    "\n",
    "plots = []\n",
    "plotsDFs = {}\n",
    "\n",
    "print(\"Making test results plots ...\")\n",
    "\n",
    "for subject in subjects:\n",
    "    columns_to_plot = [f\"Level 1 {subject}\", f\"Level 2 {subject}\", f\"Level 3 {subject}\", f\"Level 4 {subject}\"]  \n",
    "    # Plot dataframes by school\n",
    "    for schoolDF, current_dataframe in tqdm(schoolDFs.items()):\n",
    "        # schoolDF contains the name of the dataframe\n",
    "        # current_dataframe contains the dataframe itself\n",
    "\n",
    "            # Do something with current_dataframe\n",
    "            # Create a plot\n",
    "            fig = create_plot(current_dataframe, schoolDF, columns_to_plot)\n",
    "\n",
    "            # Convert the plot to a PNG image and then encode it\n",
    "            io_buf = BytesIO()\n",
    "            fig.savefig(io_buf, format='png', bbox_inches='tight', dpi=85)\n",
    "            # Close the figure\n",
    "            plt.close()\n",
    "            #Reading file to get the base64 string\n",
    "            io_buf.seek(0)\n",
    "            base64_string = base64.b64encode(io_buf.read()).decode('utf8')\n",
    "\n",
    "            pair = (schoolDF, base64_string)\n",
    "\n",
    "            plots.append(pair)\n",
    "\n",
    "    # add the plots to the geodataframe of middle schools subject results \n",
    "    plotsDFs[subject] = pd.DataFrame(plots, columns=['ENTITY_NAME', f'plot {subject}'])\n",
    "    \n",
    "# Concatenate all plots DataFrames along the columns before merging\n",
    "combined_plots_df = pd.concat(plotsDFs.values(), axis=1)\n",
    "            \n",
    "print('Adding plots to the data frame with test results.')    \n",
    "allResultsDFAVG2y = pd.merge(allResultsDFAVG2y, combined_plots_df, left_on = 'ENTITY_NAME', right_on=combined_plots_df.iloc[:, 0])\n",
    "print('Done.')    \n",
    "# Set interactive mode on\n",
    "# plt.ion()"
   ]
  },
  {
   "cell_type": "code",
   "execution_count": null,
   "id": "7630db94",
   "metadata": {},
   "outputs": [],
   "source": [
    "allResultsDFAVG2y.info()"
   ]
  },
  {
   "cell_type": "code",
   "execution_count": null,
   "id": "4a1e552c",
   "metadata": {},
   "outputs": [],
   "source": [
    "allResultsDF.info()"
   ]
  },
  {
   "cell_type": "code",
   "execution_count": null,
   "id": "3746ee26",
   "metadata": {},
   "outputs": [],
   "source": [
    "allResultsDFAVG2y = allResultsDFAVG2y.drop(['ENTITY_NAME_y', 'ENTITY_NAME_x'], axis = 1)"
   ]
  },
  {
   "cell_type": "code",
   "execution_count": null,
   "id": "c348f97c",
   "metadata": {},
   "outputs": [],
   "source": [
    "allResultsDFAVG2y.head()"
   ]
  },
  {
   "cell_type": "code",
   "execution_count": null,
   "id": "1483a58e",
   "metadata": {},
   "outputs": [],
   "source": [
    "allResultsDF = allResultsDF.drop(['ENTITY_NAME_y', 'ENTITY_NAME_x'], axis=1)"
   ]
  },
  {
   "cell_type": "code",
   "execution_count": null,
   "id": "436120ce",
   "metadata": {},
   "outputs": [],
   "source": [
    "allResultsDF.head()"
   ]
  },
  {
   "cell_type": "code",
   "execution_count": null,
   "id": "8e90c445",
   "metadata": {},
   "outputs": [],
   "source": [
    "allResultsDF_2023 = allResultsDF[allResultsDF['Year'] == 2023]"
   ]
  },
  {
   "cell_type": "code",
   "execution_count": null,
   "id": "a143471d",
   "metadata": {},
   "outputs": [],
   "source": [
    "allResultsDF_2023.head()"
   ]
  },
  {
   "cell_type": "code",
   "execution_count": null,
   "id": "bec3eab1",
   "metadata": {},
   "outputs": [],
   "source": [
    "# Matching the school all data file average for 2 years \n",
    "#with spatial data (geojson of schools locations)\n",
    "\n",
    "tqdm.pandas(desc=\"Matching Names\")\n",
    "\n",
    "matched_tuples = allResultsDFAVG2y['ENTITY_NAME'].progress_apply(\n",
    "    lambda x: match_name(x, NYCSchoolsGeom_short['LEGAL_NAME'], min_score=60))\n",
    "\n",
    "print('Done.')"
   ]
  },
  {
   "cell_type": "code",
   "execution_count": null,
   "id": "9fcf204e",
   "metadata": {},
   "outputs": [],
   "source": [
    "# Matching the school all data file with spatial data (geojson of schools locations)\n",
    "\n",
    "tqdm.pandas(desc=\"Matching Names\")\n",
    "\n",
    "matched_tuples = allResultsDF_2023['ENTITY_NAME'].progress_apply(\n",
    "    lambda x: match_name(x, NYCSchoolsGeom_short['LEGAL_NAME'], min_score=60))\n",
    "\n",
    "print('Done.')"
   ]
  },
  {
   "cell_type": "code",
   "execution_count": null,
   "id": "879968b5",
   "metadata": {
    "scrolled": false
   },
   "outputs": [],
   "source": [
    "allResultsDF_2023.info()"
   ]
  },
  {
   "cell_type": "code",
   "execution_count": null,
   "id": "f68994c3",
   "metadata": {},
   "outputs": [],
   "source": [
    "print('Appending mathes to the dataframe.')\n",
    "allResultsDFAVG2y['matched_name'] = list(zip(*matched_tuples))[0]\n",
    "allResultsDFAVG2y['matched_score'] = list(zip(*matched_tuples))[1]\n",
    "print('Done.')"
   ]
  },
  {
   "cell_type": "code",
   "execution_count": null,
   "id": "b2b7b99f",
   "metadata": {},
   "outputs": [],
   "source": [
    "print('Appending mathes to the dataframe.')\n",
    "allResultsDF_2023['matched_name'] = list(zip(*matched_tuples))[0]\n",
    "allResultsDF_2023['matched_score'] = list(zip(*matched_tuples))[1]\n",
    "print('Done.')"
   ]
  },
  {
   "cell_type": "code",
   "execution_count": null,
   "id": "a9ec3869",
   "metadata": {},
   "outputs": [],
   "source": [
    "# Unmatched or matched incorrectly names identified by \n",
    "# visual observations on the map or by analysing the geoJSON in prefered software\n",
    "\n",
    "unmatched = {\n",
    "'BGLIG-SHIRLEY RODRIGUEZ-REMENESKI CS':'BRONX GLOBAL LEARNING INSTITUTE FOR GIRLS CHARTER SCHOOL THE SHIRLEY RODRGUEZ-REMENESKI SCHOOL',\n",
    "'MEADOW HILL GLOBAL EXPLORATIONS MAGN':'',\n",
    "'SEED HARLEM':'SCHOOL OF EARTH EXPLORATION AND DISCOVERY HARLEM (SEED HARLEM)',\n",
    "'PS/IS 210 21ST CENTURY ACADEMY':'PS/IS 210 TWENTY-FIRST CENTURY ACADEMY FOR COMMUNITY LEADERSHIP',\n",
    "'HARBOR HEIGHTS':'HARBOR VIEW SCHOOL (THE)',\n",
    "'QUEENS COLLEGIATE':'QUEENS COLLEGIATE - A COLLEGE BOARD SCHOOL',\n",
    "'LAWRENCE ES-BROADWAY':'',\n",
    "'BROOKLYN EAST COLLEGIATE CS':'',\n",
    "'COLLEGIATE ACADEMY-MATH-PERSONAL AWA':'COLLEGIATE ACADEMY FOR MATHEMATICS AND PERSONAL AWARENESS CHARTER SCHOOL',\n",
    "'SOUNDVIEW ACADEMY':'SOUNDVIEW ACADEMY FOR CULTURE AND SCHOLARSHIP',\n",
    "'MS 224 MANHATTAN EAST':'MS 224 MANHATTAN EAST SCHOOL FOR ARTS & ACADEMICS',\n",
    "'PATHWAYS COLLEGE PREPARATORY':'PATHWAYS COLLEGE PREPARATORY SCHOOL:  A COLLEGE BOARD SCHOOL',\n",
    "'30TH AVENUE SCHOOL':'30TH AVENUE SCHOOL (THE) (G & T CITYWIDE)',\n",
    "'OPPENHEIM-EPHRATAH-ST JOHNSVILLE JS':'OPPENHEIM-EPHRATAH-ST JOHNSVILLE JUNIOR/SENIOR HIGH SCHOOL',\n",
    "'SCIENCE AND TECHNOLOGY ACADEMY':'SCIENCE AND TECHNOLOGY',\n",
    "'SULLIVAN WEST HIGH SCHOOL':'SULLIVAN WEST HIGH SCHOOL AT LAKE HUNTINGTON',\n",
    "}"
   ]
  },
  {
   "cell_type": "code",
   "execution_count": null,
   "id": "0b85e564",
   "metadata": {},
   "outputs": [],
   "source": [
    "# Replacing the erroneus matches in the allResultsDF_2023 data frame\n",
    "\n",
    "def replace_values(row):\n",
    "    if row['ENTITY_NAME'] in unmatched:\n",
    "        row['matched_name'] = unmatched[row['ENTITY_NAME']]\n",
    "    return row\n",
    "\n",
    "allResultsDFAVG2y = allResultsDFAVG2y.apply(replace_values, axis = 1)"
   ]
  },
  {
   "cell_type": "code",
   "execution_count": null,
   "id": "c0a44e43",
   "metadata": {},
   "outputs": [],
   "source": [
    "# Replacing the erroneus matches in the allResultsDF_2023 data frame\n",
    "\n",
    "def replace_values(row):\n",
    "    if row['ENTITY_NAME'] in unmatched:\n",
    "        row['matched_name'] = unmatched[row['ENTITY_NAME']]\n",
    "    return row\n",
    "\n",
    "allResultsDF_2023 = allResultsDF_2023.apply(replace_values, axis = 1)"
   ]
  },
  {
   "cell_type": "code",
   "execution_count": null,
   "id": "2c234ef8",
   "metadata": {
    "scrolled": true
   },
   "outputs": [],
   "source": [
    "name = 'NYSPubChSchoolsTestResults2023_tempMatched.csv'\n",
    "path = os.path.join(basePath, outputFolder, name)\n",
    "print(f'Saving to {path} ...')\n",
    "allResultsDF_2023.to_csv(path)\n",
    "print('Saved.')\n",
    "del name, path\n",
    "\n",
    "# Merging DataFrames based on the matched name\n",
    "\n",
    "finalGeoDF = pd.merge(NYCSchoolsGeom_short,allResultsDF_2023, left_on='LEGAL_NAME', right_on='matched_name')\n",
    "allData_Name = 'PublicCharterNYSschools.geojson'\n",
    "allData_Path = os.path.join(basePath,outputFolder, allData_Name)\n",
    "print(f'Saving to {allData_Path} ...')\n",
    "finalGeoDF.to_file(allData_Path, driver=\"GeoJSON\")\n",
    "print('Saved.')\n",
    "\n",
    "del allData_Name, allData_Path"
   ]
  },
  {
   "cell_type": "code",
   "execution_count": null,
   "id": "1a7eaa86",
   "metadata": {},
   "outputs": [],
   "source": [
    "name = 'NYSPubChSchoolsTestResults2yAVG_tempMatched.csv'\n",
    "path = os.path.join(basePath, outputFolder, name)\n",
    "print(f'Saving to {path} ...')\n",
    "allResultsDFAVG2y.to_csv(path)\n",
    "print('Saved.')\n",
    "del name, path\n",
    "\n",
    "# Merging DataFrames based on the matched name\n",
    "\n",
    "finalGeoDF = pd.merge(NYCSchoolsGeom_short, allResultsDFAVG2y, left_on='LEGAL_NAME', right_on='matched_name')\n",
    "allData_Name = 'PublicCharterNYSschools2yAVG.geojson'\n",
    "allData_Path = os.path.join(basePath,outputFolder, allData_Name)\n",
    "print(f'Saving to {allData_Path} ...')\n",
    "finalGeoDF.to_file(allData_Path, driver=\"GeoJSON\")\n",
    "print('Saved.')\n",
    "\n",
    "del allData_Name, allData_Path"
   ]
  },
  {
   "cell_type": "code",
   "execution_count": null,
   "id": "948eedbf",
   "metadata": {},
   "outputs": [],
   "source": [
    "finalGeoDF.info()"
   ]
  },
  {
   "cell_type": "raw",
   "id": "658bec7f",
   "metadata": {},
   "source": [
    "# Matching the school all data file with spatial data (geojson of schools locations)\n",
    "\n",
    "# Matching names from resultsMS_bySchl_Norm[subject] to NYCSchoolsDataShort\n",
    "allResultsDF['matched_name'] = allResultsDF['ENTITY_NAME'].apply(lambda x: match_name(x, NYCSchoolsGeom_short['LEGAL_NAME'], min_score=60))\n",
    "\n",
    "name = 'NYSPubChSchoolsTestResults2023_tempMatched.csv'\n",
    "path = os.path.join(basePath, outputFolder, name)\n",
    "allResultsDF.to_csv(path)\n",
    "\n",
    "del name, path\n",
    "\n",
    "# Merging DataFrames based on the matched name\n",
    "finalGeoDF = pd.merge(NYCSchoolsGeom_short,allResultsDF, left_on='LEGAL_NAME', right_on='matched_name')\n",
    "allData_Name = 'PublicCharterNYSschools.geojson'\n",
    "allData_Path = os.path.join(basePath,outputFolder, allData_Name)\n",
    "finalGeoDF.to_file(allData_Path, driver=\"GeoJSON\")\n",
    "\n",
    "del allData_Name, allData_Path"
   ]
  },
  {
   "cell_type": "raw",
   "id": "298c8ac6",
   "metadata": {},
   "source": [
    "finalGeoDF = NYCSchoolsGeom_short.merge(allResultsDF, left_on = 'LEGAL_NAME', right_on='ENTITY_NAME')"
   ]
  },
  {
   "cell_type": "raw",
   "id": "3e2f52bd",
   "metadata": {},
   "source": [
    "name = 'PublicCharterNYSschools.geojson'\n",
    "path = os.path.join(basePath, outputFolder, name)\n",
    "finalGeoDF.to_file(path, driver='GeoJSON')\n",
    "\n",
    "del name, path"
   ]
  },
  {
   "cell_type": "code",
   "execution_count": null,
   "id": "d1ddbb45",
   "metadata": {},
   "outputs": [],
   "source": [
    "finalGeoDF.info()"
   ]
  },
  {
   "cell_type": "markdown",
   "id": "aee70bd3",
   "metadata": {},
   "source": [
    "### Generating the map"
   ]
  },
  {
   "cell_type": "code",
   "execution_count": null,
   "id": "a11263cf",
   "metadata": {},
   "outputs": [],
   "source": [
    "from IPython.core.display import display, HTML\n",
    "\n",
    "display(HTML(\"<style>.output_scroll { height: auto !important; max-height: 1500px; }</style>\"))\n",
    "\n",
    "# Create a map object, centered at NYC\n",
    "mapNYS = folium.Map(location=[40.6839, -73.9026], zoom_start=11, tiles=\"cartodb positron\")\n",
    "   \n",
    "# Add dataframes with coordinates and test results to the map\n",
    "\n",
    "def my_style(x):\n",
    "    level4 = x['properties']['Level 4 Math+Ela']\n",
    "    charter = x['properties']['INSTSUBTYPDESC']\n",
    "    color = '#f0a607' if charter == 'CHARTER SCHOOL'  else '#f0a607' if charter == 'SATELLITE SITE FOR CHARTER SCHOOLS' else '#06a6cf'\n",
    "    #fill_color = '#f0a607' if charter == 'CHARTER SCHOOL'  else '#f0a607' if charter == 'SATELLITE SITE FOR CHARTER SCHOOLS' else '#06a6cf'\n",
    "    if level4 is None:\n",
    "        level4 = 0\n",
    "    #print(level4)\n",
    "    return {\n",
    "        \"radius\": (level4)*500,\n",
    "        \"color\": color,\n",
    "        #\"fill_color\": fill_color,\n",
    "    }  \n",
    "\n",
    "\n",
    "# Function to create iframe for a given row\n",
    "def create_iframe(row):    \n",
    "    html =  '<strong>{0}:</strong> {1}<br><strong>{2}:</strong> {3}<br><strong>{4}:</strong> {5}<br>\\\n",
    "    <br><img src=\"data:image/png;base64,{6}\"><br>\\\n",
    "    <img src=\"data:image/png;base64,{7}\">'.format(\n",
    "        'School Name', row['LEGAL_NAME'],\n",
    "        'Level 4 share 2022-2023 AVG Math', round(row['Level 4 Math'], 2), \n",
    "        'Level 4 share 2022-2023 AVG ELA', round(row['Level 4 ELA'], 2),\n",
    "        row['plot Math'], row['plot ELA'])\n",
    "    return folium.IFrame(html, width=500, height=450)\n",
    "\n",
    "def create_popup(x):\n",
    "    iframe = create_iframe(x)\n",
    "    popup = folium.Popup(iframe)\n",
    "    return popup\n",
    "\n",
    "# Iterate over the GeoDataFrame and add a popup to each feature\n",
    "for _, row in tqdm(finalGeoDF.iterrows(), total = len(finalGeoDF)):\n",
    "    iframe = create_iframe(row)\n",
    "        \n",
    "    data = gpd.GeoDataFrame(row.to_frame().T, crs=finalGeoDF.crs)\n",
    "    \n",
    "    folium.GeoJson(\n",
    "    data,\n",
    "    marker = folium.Circle(radius=10, fill_color='white', fill_opacity=0, color=\"green\", weight=2),\n",
    "    #marker = folium.Circle(radius=10),    \n",
    "    popup = folium.Popup(iframe),\n",
    "    style_function = my_style, \n",
    "    control = False    \n",
    "    #zoom_on_click = True,    \n",
    ").add_to(mapNYS)    \n",
    "        \n",
    "folium.LayerControl().add_to(mapNYS)    \n",
    "  \n",
    "# # Display the map\n",
    "# mapNYC\n",
    "\n",
    "# Save map to html\n",
    "mfile = 'NYSpublicAndCharter2yAVG.html'\n",
    "mpath = os.path.join(basePath, outputFolder, mfile)\n",
    "print(f'Saving to {mpath} ...')\n",
    "mapNYS.save(mpath)\n",
    "print('Saved.')"
   ]
  },
  {
   "cell_type": "code",
   "execution_count": null,
   "id": "9fb52224",
   "metadata": {},
   "outputs": [],
   "source": [
    "from IPython.core.display import display, HTML\n",
    "\n",
    "display(HTML(\"<style>.output_scroll { height: auto !important; max-height: 1500px; }</style>\"))\n",
    "\n",
    "# Create a map object, centered at NYC\n",
    "mapNYS = folium.Map(location=[40.6839, -73.9026], zoom_start=11, tiles=\"cartodb positron\")\n",
    "   \n",
    "# Add dataframes with coordinates and test results to the map\n",
    "\n",
    "def my_style(x):\n",
    "    level4 = x['properties']['Level 4 Math+Ela']\n",
    "    charter = x['properties']['INSTSUBTYPDESC']\n",
    "    color = '#f0a607' if charter == 'CHARTER SCHOOL'  else '#f0a607' if charter == 'SATELLITE SITE FOR CHARTER SCHOOLS' else '#06a6cf'\n",
    "    #fill_color = '#f0a607' if charter == 'CHARTER SCHOOL'  else '#f0a607' if charter == 'SATELLITE SITE FOR CHARTER SCHOOLS' else '#06a6cf'\n",
    "    if level4 is None:\n",
    "        level4 = 0\n",
    "    #print(level4)\n",
    "    return {\n",
    "        \"radius\": (level4)*500,\n",
    "        \"color\": color,\n",
    "        #\"fill_color\": fill_color,\n",
    "    }  \n",
    "\n",
    "\n",
    "# Function to create iframe for a given row\n",
    "def create_iframe(row):    \n",
    "    html =  '<strong>{0}:</strong> {1}<br><strong>{2}:</strong> {3}<br><strong>{4}:</strong> {5}<br>\\\n",
    "    <br><img src=\"data:image/png;base64,{6}\"><br>\\\n",
    "    <img src=\"data:image/png;base64,{7}\">'.format(\n",
    "        'School Name', row['LEGAL_NAME'],\n",
    "        'Level 4 share 2023 Math', round(row['Level 4 Math'], 2), \n",
    "        'Level 4 share 2023 ELA', round(row['Level 4 ELA'], 2),\n",
    "        row['plot Math'], row['plot ELA'])\n",
    "    return folium.IFrame(html, width=500, height=450)\n",
    "\n",
    "def create_popup(x):\n",
    "    iframe = create_iframe(x)\n",
    "    popup = folium.Popup(iframe)\n",
    "    return popup\n",
    "\n",
    "# Iterate over the GeoDataFrame and add a popup to each feature\n",
    "for _, row in tqdm(finalGeoDF.iterrows(), total = len(finalGeoDF)):\n",
    "    iframe = create_iframe(row)\n",
    "        \n",
    "    data = gpd.GeoDataFrame(row.to_frame().T, crs=finalGeoDF.crs)\n",
    "    \n",
    "    folium.GeoJson(\n",
    "    data,\n",
    "    marker = folium.Circle(radius=10, fill_color='white', fill_opacity=0, color=\"green\", weight=2),\n",
    "    #marker = folium.Circle(radius=10),    \n",
    "    popup = folium.Popup(iframe),\n",
    "    style_function = my_style, \n",
    "    control = False    \n",
    "    #zoom_on_click = True,    \n",
    ").add_to(mapNYS)    \n",
    "        \n",
    "folium.LayerControl().add_to(mapNYS)    \n",
    "  \n",
    "# # Display the map\n",
    "# mapNYC\n",
    "\n",
    "# Save map to html\n",
    "mfile = 'NYSpublicAndCharter.html'\n",
    "mpath = os.path.join(basePath, outputFolder, mfile)\n",
    "print(f'Saving to {mpath} ...')\n",
    "mapNYS.save(mpath)\n",
    "print('Saved.')"
   ]
  },
  {
   "cell_type": "code",
   "execution_count": null,
   "id": "dd03f1e5",
   "metadata": {},
   "outputs": [],
   "source": [
    "finalGeoDF['SDL_DESC'].unique()"
   ]
  },
  {
   "cell_type": "code",
   "execution_count": null,
   "id": "07221168",
   "metadata": {},
   "outputs": [],
   "source": [
    "NYCSchoolsGeom_short['SDL_DESC'].unique()"
   ]
  },
  {
   "cell_type": "code",
   "execution_count": null,
   "id": "e0fdc4ae",
   "metadata": {},
   "outputs": [],
   "source": [
    "NYCSchoolsGeom_short.info()"
   ]
  },
  {
   "cell_type": "code",
   "execution_count": null,
   "id": "a17c9145",
   "metadata": {},
   "outputs": [],
   "source": [
    "import folium\n",
    "m = folium.Map(location=[40.6839, -73.9026], zoom_start=11, tiles=\"cartodb positron\")\n",
    "\n",
    "# mfile = 'PublicCharterNYSschools.geojson'\n",
    "# mpath = os.path.join(basePath, outputFolder, mfile)\n",
    "# mpath = os.path.join(basePath, dataFolder, SchoolsFile)\n",
    "# Add GeoJSON as an external file\n",
    "folium.GeoJson(NYCSchoolsGeom, \n",
    "               marker = folium.Circle(radius=10, fill_color='white', fill_opacity=0, color=\"green\", weight=2),\n",
    "               ).add_to(m)\n",
    "\n",
    "# Save the map\n",
    "m.save('map.html')\n",
    "\n",
    "# del mfile, mpath\n",
    "# del mpath"
   ]
  },
  {
   "cell_type": "code",
   "execution_count": null,
   "id": "5d72b119",
   "metadata": {},
   "outputs": [],
   "source": [
    "%pwd"
   ]
  },
  {
   "cell_type": "code",
   "execution_count": null,
   "id": "3bce2491",
   "metadata": {},
   "outputs": [],
   "source": [
    "import folium\n",
    "m = folium.Map(location=[40.6839, -73.9026], zoom_start=11, tiles=\"cartodb positron\")\n",
    "\n",
    "folium.GeoJson(finalGeoDF, \n",
    "               marker = folium.Circle(radius=10, fill_color='white', fill_opacity=0, color=\"green\", weight=2),\n",
    "               ).add_to(m)\n",
    "\n",
    "# Save the map\n",
    "m.save('map2.html')"
   ]
  },
  {
   "cell_type": "code",
   "execution_count": null,
   "id": "7b4c4b6d",
   "metadata": {},
   "outputs": [],
   "source": [
    "finalGeoDF.head()"
   ]
  },
  {
   "cell_type": "code",
   "execution_count": null,
   "id": "bcb3e47c",
   "metadata": {},
   "outputs": [],
   "source": [
    "import folium\n",
    "m = folium.Map(location=[40.6839, -73.9026], zoom_start=11, tiles=\"cartodb positron\")\n",
    "\n",
    "mfile = 'PublicCharterNYSschools.geojson'\n",
    "mpath = os.path.join(basePath, outputFolder, mfile)\n",
    "# mpath = os.path.join(basePath, dataFolder, SchoolsFile)\n",
    "# Add GeoJSON as an external file\n",
    "folium.GeoJson(mpath, \n",
    "               marker = folium.Circle(radius=10, fill_color='white', fill_opacity=0, color=\"green\", weight=2),\n",
    "               ).add_to(m)\n",
    "\n",
    "# Save the map\n",
    "mfile = 'map3.html'\n",
    "mpath = os.path.join(basePath, outputFolder, mfile)\n",
    "m.save(mpath)\n",
    "\n",
    "del mfile, mpath\n",
    "# del mpath"
   ]
  },
  {
   "cell_type": "code",
   "execution_count": null,
   "id": "c093b726",
   "metadata": {},
   "outputs": [],
   "source": [
    "import folium\n",
    "m = folium.Map(location=[40.6839, -73.9026], zoom_start=11, tiles=\"cartodb positron\")\n",
    "\n",
    "mfile = 'NYS_Schools.geojson'\n",
    "mpath = os.path.join(basePath, dataFolder, SchoolsFile)\n",
    "\n",
    "# Add GeoJSON as an external file\n",
    "folium.GeoJson(mpath,  name='geojson').add_to(m)\n",
    "\n",
    "# Save the map\n",
    "m.save('map.html')\n",
    "\n",
    "del mfile, mpath\n",
    "# del mpath"
   ]
  },
  {
   "cell_type": "code",
   "execution_count": null,
   "id": "50afd8fd",
   "metadata": {},
   "outputs": [],
   "source": []
  }
 ],
 "metadata": {
  "kernelspec": {
   "display_name": "Python 3 (ipykernel)",
   "language": "python",
   "name": "python3"
  },
  "language_info": {
   "codemirror_mode": {
    "name": "ipython",
    "version": 3
   },
   "file_extension": ".py",
   "mimetype": "text/x-python",
   "name": "python",
   "nbconvert_exporter": "python",
   "pygments_lexer": "ipython3",
   "version": "3.7.12"
  }
 },
 "nbformat": 4,
 "nbformat_minor": 5
}
