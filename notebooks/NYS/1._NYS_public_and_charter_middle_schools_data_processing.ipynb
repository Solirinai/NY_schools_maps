{
 "cells": [
  {
   "cell_type": "markdown",
   "id": "241ed892",
   "metadata": {},
   "source": [
    "# Analysis of NYS public and charter schools results in ELA and math grades 6-8."
   ]
  },
  {
   "cell_type": "markdown",
   "id": "7d5485cb",
   "metadata": {},
   "source": [
    "## Data processing."
   ]
  },
  {
   "cell_type": "markdown",
   "id": "99b477d6",
   "metadata": {},
   "source": [
    "<a id=\"TOC\"></a> \n",
    "#### Table of Contents\n",
    "1. [Data sources, definitions](#data)\n",
    "2. [Imports: modules](#modules)\n",
    "3. [Read and prepare data](#read)\n",
    "5. [Processing school data, preparing plots for pop-ups](#processing)\n",
    "    1. [Merging data by schools, averaging by years](#averaging)\n",
    "    2. [Adding plots by schools, tests for map pop-ups](#plotting)\n",
    "8. [Matching test and location data for final geoJSON](#maps)    "
   ]
  },
  {
   "cell_type": "markdown",
   "id": "0fe2b62f",
   "metadata": {},
   "source": [
    "<a id=\"data\"></a> \n",
    "### Data, definitions"
   ]
  },
  {
   "cell_type": "markdown",
   "id": "b9d32c58",
   "metadata": {},
   "source": [
    "#### Data sources:\n",
    "\n",
    "**1) State test Math and ELA results (2022-2023)**\n",
    "\n",
    "New York State Education Department: Report Card Database (251.35 megabytes): \"This Access database contains assessment results (elementary- and intermediate-level ELA, Math, and Science; Annual Regents; Total Cohort Regents; NYSESLAT; NYSAA), for the state, districts, public with charter schools, by county, and Need to Resource Capacity group.\"\n",
    "https://data.nysed.gov/downloads.php\n",
    "\n",
    "**2) Schools locations**\n",
    "\n",
    "NYS GIS Clearinghouse: NYS Schools\n",
    "https://data.gis.ny.gov/maps/b6c624c740e4476689aa60fdc4aacb8f/about"
   ]
  },
  {
   "cell_type": "markdown",
   "id": "8b1a013c",
   "metadata": {},
   "source": [
    "#### Definitions of Performance Levels for the 2023 Grades 3-8 English Language Arts and Mathematics Tests  \n",
    "\n",
    "**NYS Level 1**: Students performing at this level are below proficient in standards for their grade. They may demonstrate limited knowledge, skills, and practices embodied by the Learning Standards that are considered insufficient for the expectations at this grade. \n",
    "\n",
    "**NYS Level 2**: Students performing at this level are partially proficient in standards for their grade. They demonstrate knowledge, skills, and practices embodied by the Learning Standards that are considered partial but insufficient for the expectations at this grade. Students performing at Level 2 are considered on track to meet current New York high school graduation requirements but are not yet proficient in Learning Standards at this grade. \n",
    "\n",
    "**NYS Level 3**: Students performing at this level are proficient in standards for their grade. They demonstrate knowledge, skills, and practices embodied by the Learning Standards that are considered sufficient for the expectations at this grade.  \n",
    "\n",
    "**NYS Level 4**: Students performing at this level excel in standards for their grade. They demonstrate knowledge, skills, and practices embodied by the Learning Standards that are considered more than sufficient for the expectations at this grade.  \n",
    "\n",
    "*Source: NYSED, 2023, https://www.p12.nysed.gov/irs/ela-math/2023/ela-math-score-ranges-performance-levels-2023.pdf*"
   ]
  },
  {
   "cell_type": "markdown",
   "id": "a99b0c42",
   "metadata": {},
   "source": [
    "#### About this notebook\n",
    "\n",
    "- This notebook '*1._NYS_public_and_charter_middle_schools_data_processing*' contains the steps for processing data on state testing of public and charter schools in New York State. \n",
    "- The notebook '*2._Generating_NYS_middle_schools_map*' contains code to generate the map from the processed data.\n",
    "- The map is available at: https://nysmsmap.netlify.app"
   ]
  },
  {
   "cell_type": "markdown",
   "id": "d2b1fde9",
   "metadata": {},
   "source": [
    "<a id=\"modules\"></a>\n",
    "### Imports"
   ]
  },
  {
   "cell_type": "code",
   "execution_count": null,
   "id": "a643aeb5",
   "metadata": {},
   "outputs": [],
   "source": [
    "# Appending the path to 'utils' modules with this project's functions \n",
    "\n",
    "import sys\n",
    "\n",
    "parent_dir = 'C:\\\\GITHUB\\\\NY_schools_maps\\\\notebooks'\n",
    "sys.path.append(parent_dir)"
   ]
  },
  {
   "cell_type": "code",
   "execution_count": null,
   "id": "ac4e38a2",
   "metadata": {},
   "outputs": [],
   "source": [
    "import os\n",
    "import pandas as pd\n",
    "import geopandas as gpd\n",
    "import matplotlib.pyplot as plt\n",
    "from fuzzywuzzy import process\n",
    "import fuzzywuzzy\n",
    "import base64\n",
    "from io import BytesIO\n",
    "import math\n",
    "from tqdm import tqdm\n",
    "from utils import create_plot, match_name\n",
    "\n",
    "pd.set_option('display.float_format', '{:.3f}'.format)"
   ]
  },
  {
   "cell_type": "markdown",
   "id": "b58b281f",
   "metadata": {},
   "source": [
    "<a id=\"read\"></a>\n",
    "### Read data"
   ]
  },
  {
   "cell_type": "code",
   "execution_count": null,
   "id": "9f875d79",
   "metadata": {},
   "outputs": [],
   "source": [
    "basePath = r\"G:\\My Drive\\Kids\\NYC_schools_mapped\"\n",
    "dataFolder = r\"raw_data\"\n",
    "outputFolder = r\"processed_data\""
   ]
  },
  {
   "cell_type": "code",
   "execution_count": null,
   "id": "9c705168",
   "metadata": {},
   "outputs": [],
   "source": [
    "# Read GeoJSON into dataframe\n",
    "SchoolsFile = 'NYS_Schools.geojson'\n",
    "NYSchoolsPath = os.path.join(basePath, dataFolder, SchoolsFile)\n",
    "NYSchoolsGeom = gpd.read_file(NYSchoolsPath)"
   ]
  },
  {
   "cell_type": "code",
   "execution_count": null,
   "id": "4ade718e",
   "metadata": {},
   "outputs": [],
   "source": [
    "## Read schools test results files\n",
    "\n",
    "# read schools math results file\n",
    "fileName_math = \"NYS_MS_MATH_from_NYS.xlsx\"\n",
    "mathPath = os.path.join(basePath,dataFolder,fileName_math)\n",
    "print(mathPath)\n",
    "mathResultsDF = pd.read_excel(mathPath)\n",
    "\n",
    "# read schools ELA results file\n",
    "fileName_ELA = \"NYS_MS_ELA_from_NYS.xlsx\"\n",
    "ELAPath = os.path.join(basePath, dataFolder, fileName_ELA)\n",
    "print(ELAPath)\n",
    "ELAResultsDF = pd.read_excel(ELAPath)"
   ]
  },
  {
   "cell_type": "code",
   "execution_count": null,
   "id": "a7c86918",
   "metadata": {
    "scrolled": false
   },
   "outputs": [],
   "source": [
    "mathResultsDF.info()"
   ]
  },
  {
   "cell_type": "code",
   "execution_count": null,
   "id": "32ad8bb8",
   "metadata": {
    "scrolled": true
   },
   "outputs": [],
   "source": [
    "ELAResultsDF.info()"
   ]
  },
  {
   "cell_type": "markdown",
   "id": "15b93bc7",
   "metadata": {},
   "source": [
    "<a id=\"processing\"></a>\n",
    "### Processing school data, preparing plots for pop-ups"
   ]
  },
  {
   "cell_type": "markdown",
   "id": "078b9f1a",
   "metadata": {},
   "source": [
    "<a id=\"averaging\"></a>\n",
    "#### Merging data by schools, averaging by years"
   ]
  },
  {
   "cell_type": "code",
   "execution_count": null,
   "id": "f9118481",
   "metadata": {},
   "outputs": [],
   "source": [
    "# Dictionnary for schools test results dataframes to use throughout the analysis\n",
    "subjects = ['Math', 'ELA']\n",
    "resultsDFs = {'Math': mathResultsDF, 'ELA': ELAResultsDF}"
   ]
  },
  {
   "cell_type": "code",
   "execution_count": null,
   "id": "245e79dd",
   "metadata": {},
   "outputs": [],
   "source": [
    "# Renaming \"YEAR\" column to use the 'create_plot' function below\n",
    "for subject in subjects:\n",
    "    resultsDF = resultsDFs[subject]\n",
    "    resultsDF = resultsDF.rename(columns = {'YEAR':'Year'})\n",
    "    resultsDFs[subject] = resultsDF\n",
    "    \n",
    "del resultsDF"
   ]
  },
  {
   "cell_type": "code",
   "execution_count": null,
   "id": "4eaf2746",
   "metadata": {},
   "outputs": [],
   "source": [
    "# .info() above showed that most of the columns in the test results dataframes\n",
    "# are objects instead of numbers and needed to be converted, so:\n",
    "\n",
    "for subject in subjects:\n",
    "    resultsDF = resultsDFs[subject]\n",
    "    resultsDF_colToConvert = ['LEVEL1_COUNT', 'LEVEL2_COUNT', 'LEVEL3_COUNT', 'LEVEL4_COUNT']\n",
    "    resultsDF[resultsDF_colToConvert] = resultsDF[resultsDF_colToConvert].apply(pd.to_numeric, errors = 'coerce')\n",
    "    resultsDF.info()\n",
    "    resultsDFs[subject] = resultsDF\n",
    "    print(len(resultsDF))\n",
    "    \n",
    "del resultsDF"
   ]
  },
  {
   "cell_type": "code",
   "execution_count": null,
   "id": "e60a2729",
   "metadata": {},
   "outputs": [],
   "source": [
    "# Normalizing the results datagfames for making plots for pop-ups later\n",
    "\n",
    "results_Norm = {}\n",
    "\n",
    "for subject in subjects:\n",
    "        \n",
    "    resultsDF = resultsDFs[subject]\n",
    "    \n",
    "    resultsDF_grouped = resultsDF.groupby(['ENTITY_CD', 'ENTITY_NAME', 'Year'])[['LEVEL1_COUNT', 'LEVEL2_COUNT', 'LEVEL3_COUNT', 'LEVEL4_COUNT']].sum()\n",
    "  \n",
    "    # Change column names to include subject\n",
    "    resultsDF_grouped.columns = [f'Level 1 {subject}',f'Level 2 {subject}',f'Level 3 {subject}',f'Level 4 {subject}']\n",
    "    \n",
    "    # Dataframe for middle schools by years with normalized values\n",
    "    results_Norm[subject] = resultsDF_grouped.div(resultsDF_grouped.sum(axis=1), axis=0)\n",
    "    results_Norm[subject].reset_index(inplace=True)\n",
    "    \n",
    "    print(results_Norm[subject].head())\n",
    "    \n",
    "del resultsDF, resultsDF_grouped"
   ]
  },
  {
   "cell_type": "code",
   "execution_count": null,
   "id": "953ec391",
   "metadata": {},
   "outputs": [],
   "source": [
    "# Make a merged dataframe with both Math and ELA results\n",
    "DFs = list(results_Norm.values())\n",
    "allResultsDF = pd.merge(DFs[0], DFs[1], on = ['ENTITY_CD', 'Year'], how = 'inner', suffixes=('', '_drop'))\n",
    "allResultsDF = allResultsDF.loc[:, ~allResultsDF.columns.str.endswith('_drop')]\n",
    "allResultsDF.head(5)\n",
    "\n",
    "del DFs"
   ]
  },
  {
   "cell_type": "code",
   "execution_count": null,
   "id": "c5605a9c",
   "metadata": {},
   "outputs": [],
   "source": [
    "allResultsDF.info()"
   ]
  },
  {
   "cell_type": "code",
   "execution_count": null,
   "id": "cd8614be",
   "metadata": {},
   "outputs": [],
   "source": [
    "# Calculating average results for 2 years\n",
    "\n",
    "results_AVG2y = {}\n",
    "\n",
    "for subject in subjects:\n",
    "        \n",
    "    resultsDF = resultsDFs[subject]\n",
    "    \n",
    "    resultsDF_grouped = resultsDF.groupby(['ENTITY_CD', 'ENTITY_NAME'])[['LEVEL1_COUNT', 'LEVEL2_COUNT', 'LEVEL3_COUNT', 'LEVEL4_COUNT']].sum()\n",
    "    # Change column names to include subject\n",
    "    resultsDF_grouped.columns = [f'Level 1 {subject}',f'Level 2 {subject}',f'Level 3 {subject}',f'Level 4 {subject}']\n",
    "    \n",
    "    # Dataframe for middle schools by years with normalized values\n",
    "    results_AVG2y[subject] = resultsDF_grouped.div(resultsDF_grouped.sum(axis=1), axis=0)\n",
    "    results_AVG2y[subject].reset_index(inplace=True)\n",
    "    \n",
    "    print(results_AVG2y[subject].head())\n",
    "    \n",
    "del resultsDF, resultsDF_grouped"
   ]
  },
  {
   "cell_type": "code",
   "execution_count": null,
   "id": "1f50ccae",
   "metadata": {},
   "outputs": [],
   "source": [
    "# Make a merged dataframe with both Math and ELA results for 2 years average\n",
    "\n",
    "DFs = list(results_AVG2y.values())\n",
    "allResultsDFAVG2y = pd.merge(DFs[0], DFs[1], on = ['ENTITY_CD','ENTITY_NAME'], how = 'inner')\n",
    "allResultsDFAVG2y.head()"
   ]
  },
  {
   "cell_type": "code",
   "execution_count": null,
   "id": "d14711db",
   "metadata": {},
   "outputs": [],
   "source": [
    "# Adding column to classify the schools on the map\n",
    "\n",
    "allResultsDFAVG2y['Level 4 Math+Ela'] = allResultsDFAVG2y[f'Level 4 {subjects[0]}']+allResultsDFAVG2y[f'Level 4 {subjects[1]}']\n",
    "allResultsDFAVG2y.head()"
   ]
  },
  {
   "cell_type": "markdown",
   "id": "c2351aac",
   "metadata": {},
   "source": [
    "<a id=\"plotting\"></a>\n",
    "#### Adding plots by schools, tests for map pop-ups"
   ]
  },
  {
   "cell_type": "code",
   "execution_count": null,
   "id": "e52803bb",
   "metadata": {},
   "outputs": [],
   "source": [
    "# Make plots for pop-ups in the map and add them as columns to the mappable dataframe\n",
    "\n",
    "# Set interactive mode off\n",
    "plt.ioff()\n",
    "\n",
    "# list of schools names\n",
    "\n",
    "schoolsNames = allResultsDF['ENTITY_NAME'].to_list()\n",
    "testResults = allResultsDF\n",
    "print(\"Schools' list ready.\")\n",
    "\n",
    "# Create disctionnary to hold the dataframes by schools\n",
    "schoolDFs = {}\n",
    "\n",
    "# Make dataframes by schools \n",
    "for name in schoolsNames:\n",
    "    dfName = name\n",
    "    schoolDFs[dfName] = testResults[testResults['ENTITY_NAME'] == name]\n",
    "print('Dataframes by schools ready.')    \n",
    "\n",
    "plotsDFs = {}\n",
    "\n",
    "print(\"Making test results plots ...\")\n",
    "\n",
    "for subject in subjects:\n",
    "    plots = []\n",
    "    columns_to_plot = [f\"Level 1 {subject}\", f\"Level 2 {subject}\", f\"Level 3 {subject}\", f\"Level 4 {subject}\"]  \n",
    "   \n",
    "    # Plot dataframes by school\n",
    "    for schoolDF, current_dataframe in tqdm(schoolDFs.items()):\n",
    "        # schoolDF contains the name of the dataframe\n",
    "        # current_dataframe contains the dataframe itself\n",
    "\n",
    "            # Do something with current_dataframe\n",
    "            # Create a plot\n",
    "            fig = create_plot(current_dataframe, schoolDF, columns_to_plot)\n",
    "\n",
    "            # Convert the plot to a PNG image and then encode it\n",
    "            io_buf = BytesIO()\n",
    "            fig.savefig(io_buf, format='png', bbox_inches='tight', dpi=85)\n",
    "            # Close the figure\n",
    "            plt.close()\n",
    "            #Reading file to get the base64 string\n",
    "            io_buf.seek(0)\n",
    "            base64_string = base64.b64encode(io_buf.read()).decode('utf8')\n",
    "\n",
    "            pair = (schoolDF, base64_string)\n",
    "\n",
    "            plots.append(pair)\n",
    "\n",
    "    # add the plots to the geodataframe of middle schools subject results \n",
    "    plotsDFs[subject] = pd.DataFrame(plots, columns=['ENTITY_NAME', f'plot {subject}'])\n",
    "    \n",
    "# Concatenate all plots DataFrames along the columns before merging\n",
    "combined_plots_df = pd.concat(plotsDFs.values(), axis=1)\n",
    "            \n",
    "print('Adding plots to the data frame with test results.')    \n",
    "allResultsDFAVG2y = pd.merge(allResultsDFAVG2y, combined_plots_df, left_on = 'ENTITY_NAME', right_on=combined_plots_df.iloc[:, 0], suffixes=('', '_drop'))\n",
    "allResultsDFAVG2y = allResultsDFAVG2y.loc[:, ~allResultsDFAVG2y.columns.str.endswith('_drop')]\n",
    "print('Done.')    \n",
    "# Set interactive mode on\n",
    "# plt.ion()"
   ]
  },
  {
   "cell_type": "code",
   "execution_count": null,
   "id": "4a1e552c",
   "metadata": {},
   "outputs": [],
   "source": [
    "allResultsDFAVG2y.info()"
   ]
  },
  {
   "cell_type": "markdown",
   "id": "43a5b515",
   "metadata": {},
   "source": [
    "<a id=\"maps\"></a> \n",
    "### Matching test and location data for final geoJSON"
   ]
  },
  {
   "cell_type": "markdown",
   "id": "5b5a20f0",
   "metadata": {},
   "source": [
    "#### Read schools geolocation file"
   ]
  },
  {
   "cell_type": "code",
   "execution_count": null,
   "id": "da1984a9",
   "metadata": {},
   "outputs": [],
   "source": [
    "# Get locations for public schools only (select only public schools \n",
    "# (public, charter, charter, SATELLITE SITE FOR CHARTER SCHOOLS) from the geoJSON)\n",
    "\n",
    "NYSchoolsGeom = NYSchoolsGeom[NYSchoolsGeom['INST_TYPE_DESC'] == 'PUBLIC SCHOOLS']\n",
    "NYSchoolsGeom"
   ]
  },
  {
   "cell_type": "code",
   "execution_count": null,
   "id": "81d063d0",
   "metadata": {
    "scrolled": true
   },
   "outputs": [],
   "source": [
    "# Make a dataframe from geoJSON with minimum columns\n",
    "\n",
    "NYSchoolsGeom_short = NYSchoolsGeom[['OBJECTID', 'LEGAL_NAME', 'INSTSUBTYPDESC', 'SDL_DESC', 'geometry']]\n",
    "NYSchoolsGeom_short"
   ]
  },
  {
   "cell_type": "code",
   "execution_count": null,
   "id": "2c234ef8",
   "metadata": {},
   "outputs": [],
   "source": [
    "# Matching the school all data file average for 2 years \n",
    "# with spatial data (geojson of schools locations)\n",
    "\n",
    "tqdm.pandas(desc=\"Matching Names\")\n",
    "\n",
    "matched_tuples = allResultsDFAVG2y['ENTITY_NAME'].progress_apply(\n",
    "    lambda x: match_name(x, NYSchoolsGeom_short['LEGAL_NAME'], min_score=65))\n",
    "\n",
    "print('Done.')"
   ]
  },
  {
   "cell_type": "code",
   "execution_count": null,
   "id": "608f682f",
   "metadata": {},
   "outputs": [],
   "source": [
    "print('Appending matches to the dataframe.')\n",
    "allResultsDFAVG2y['matched_name'] = list(zip(*matched_tuples))[0]\n",
    "allResultsDFAVG2y['matched_score'] = list(zip(*matched_tuples))[1]\n",
    "print('Done.')"
   ]
  },
  {
   "cell_type": "code",
   "execution_count": null,
   "id": "ad1ef5cc",
   "metadata": {},
   "outputs": [],
   "source": [
    "# Checking how many rows remained unmatched to see if minimum score is optimal\n",
    "\n",
    "(allResultsDFAVG2y['matched_score'] == -1).sum()\n",
    "\n",
    "# 41 if minimal score = 70\n",
    "# 15 if minimal score = 65 - better"
   ]
  },
  {
   "cell_type": "code",
   "execution_count": null,
   "id": "33cc45f8",
   "metadata": {},
   "outputs": [],
   "source": [
    "# Unmatched or matched incorrectly names identified by \n",
    "# visual observations on the map or by analysing the geoJSON in prefered software\n",
    "\n",
    "unmatched = {\n",
    "    'JOHNSTOWN JUNIOR-SENIOR HS':'JOHNSTOWN HIGH SCHOOL',\n",
    "    'YOUNG WOMEN\\'S COLLEGE PREP CS':'YOUNG WOMEN\\'S COLLEGE PREPARATORY CHARTER SCHOOL OF ROCHESTER',\n",
    "    'SEED HARLEM':'SCHOOL OF EARTH EXPLORATION AND DISCOVERY HARLEM (SEED HARLEM)',\n",
    "    'PS/IS 210 21ST CENTURY ACADEMY':'PS/IS 210 TWENTY-FIRST CENTURY ACADEMY FOR COMMUNITY LEADERSHIP',\n",
    "    'BGLIG-SHIRLEY RODRIGUEZ-REMENESKI CS':'BRONX GLOBAL LEARNING INSTITUTE FOR GIRLS CHARTER SCHOOL THE SHIRLEY RODRGUEZ-REMENESKI SCHOOL',\n",
    "    'ARCHIMEDES ACAD-MATH, SCI, TECH':'ARCHIMEDES ACADEMY FOR MATH SCIENCE AND TECHNOLOGY APPLICATIONS',\n",
    "    'QUEENS COLLEGIATE':'QUEENS COLLEGIATE - A COLLEGE BOARD SCHOOL',\n",
    "    'VALENCE COLLEGE PREP CS':'VALENCE COLLEGE PREPARATORY CHARTER SCHOOL',\n",
    "    'MEADOW HILL GLOBAL EXPLORATIONS MAGN':'MEADOW HILL SCHOOL',\n",
    "    'A MACARTHUR BARR MS 5-6 ACADEMY':'A MACARTHUR BARR MIDDLE SCHOOL',\n",
    "    'LAWRENCE ES-BROADWAY':'LAWRENCE ELEMENTARY SCHOOL AT BROADWAY CAMPUS',\n",
    "    'BROOKLYN EAST COLLEGIATE CS':'',\n",
    "    'SOUNDVIEW ACADEMY':'SOUNDVIEW ACADEMY FOR CULTURE AND SCHOLARSHIP',\n",
    "    'COLLEGIATE ACADEMY-MATH-PERSONAL AWA':'COLLEGIATE ACADEMY FOR MATHEMATICS AND PERSONAL AWARENESS CHARTER SCHOOL',\n",
    "    'MS 224 MANHATTAN EAST':'MS 224 MANHATTAN EAST SCHOOL FOR ARTS & ACADEMICS',\n",
    "    'PATHWAYS COLLEGE PREPARATORY':'PATHWAYS COLLEGE PREPARATORY SCHOOL:  A COLLEGE BOARD SCHOOL',\n",
    "    'GELLER HOUSE SCHOOL':'',\n",
    "    '30TH AVENUE SCHOOL':'30TH AVENUE SCHOOL (THE) (G & T CITYWIDE)',\n",
    "    'HUNTS POINT SCHOOL (THE)':'HUNTERS POINT COMMUNITY MIDDLE SCHOOL',\n",
    "    'ACADEMY OF MEDICAL TECHNOLOGY':'ACADEMY OF MEDICAL TECHNOLOGY - A COLLEGE BOARD SCHOOL',\n",
    "    'GEORGE WASHINGTON CARVER HS':'GEORGE WASHINGTON CARVER HIGH SCHOOL FOR THE SCIENCES',\n",
    "    'SCIENCE AND TECHNOLOGY ACADEMY':'SCIENCE AND TECHNOLOGY ACADEMY:  A MOTT HALL SCHOOL',\n",
    "    'ACHIEVEMENT FIRST NORTH BROOKLYN PRE':'ACHIEVEMENT FIRST NORTH BROOKLYN PREPARATORY CHARTER SCHOOL',\n",
    "    'SULLIVAN WEST HIGH SCHOOL':'SULLIVAN WEST HIGH SCHOOL AT LAKE HUNTINGTON',\n",
    "    'BUFFALO COLLEGIATE CHARTER SCHOOL':'',\n",
    "    'FDA VIII MIDDLE SCHOOL':'',\n",
    "    'NY MILLS SCHOOL':'NEW YORK MILLS SCHOOL',\n",
    "    'DALTON-NUNDA INTERMEDIATE SCHOOL':'DALTON-NUNDA MIDDLE SCHOOL',\n",
    "    'PATHWAYS COLLEGE PREPARATORY SCHOOL':'PATHWAYS COLLEGE PREPARATORY SCHOOL:  A COLLEGE BOARD SCHOOL',\n",
    "    'WEST GENESEE MIDDLE SCHOOL':'WEST GENESEE INTERMEDIATE SCHOOL',\n",
    "    'DENZEL WASHINGTON SCHOOL-ARTS':'DENZEL WASHINGTON SCHOOL OF THE ARTS AT NELLIE A THORNTON CAMPUS',\n",
    "    'WEST HEMPSTEAD MIDDLE SCHOOL':'WEST HEMPSTEAD SECONDARY SCHOOL',\n",
    "    'KAPPA V':'KAPPA V (KNOWLEDGE AND POWER PREP ACADEMY)',\n",
    "    'LEADERSHIP ACADEMY FOR YOUNG MEN':'',\n",
    "    'KIPP NYC WASHINGTON HEIGHTS ACADEMY':'KIPP NYC WASHINGTON HEIGHTS ACADEMY CHARTER SCHOOL',\n",
    "    'GIRLS PREP CHARTER SCHOOL-BRONX':'GIRLS PREPARATORY CHARTER SCHOOL BRONX MIDDLE SCHOOL',\n",
    "    'YOUNG WOMEN\\'S LEADERSHIP OF SI':'YOUNG WOMEN\\'S LEADERSHIP OF STATEN ISLAND',\n",
    "    'GIRLS PREP CHARTER SCHOOL':'GIRLS PREPARATORY CHARTER SCHOOL OF NY MIDDLE SCHOOL',\n",
    "    'FORTE PREPARATORY ACADEMY CS':'FORTE PREPARATORY ACADEMY CHARTER SCHOOL',\n",
    "    'DOLGEVILLE MIDDLE SCHOOL':'',\n",
    "    'PS/IS 157 BENJAMIN FRANKLIN':'PS/IS 157 BENJAMIN FRANKLIN HEATH AND SCIENCE ACADEMY (THE)',\n",
    "    'KIPP AMP CHARTER SCHOOL':'KIPP ALWAYS MENTALLY PREPARED CHARTER SCHOOL',\n",
    "    'MYERS MIDDLE SCHOOL':'',\n",
    "    'MULLEN ELEMENTARY SCHOOL':'STANLEY G FALK SCHOOL - MULLEN ELEMENTARY',\n",
    "    'FRONT STREET ELEMENTARY SCHOOL':'',\n",
    "    'KEY COLLEGIATE CHARTER SCHOOL':'',\n",
    "}"
   ]
  },
  {
   "cell_type": "code",
   "execution_count": null,
   "id": "3d11488f",
   "metadata": {},
   "outputs": [],
   "source": [
    "# Replacing the erroneus matches in the 'allResultsDF_2023' dataframe\n",
    "\n",
    "def replace_values(row):\n",
    "    if row['ENTITY_NAME'] in unmatched:\n",
    "        row['matched_name'] = unmatched[row['ENTITY_NAME']]\n",
    "    return row\n",
    "\n",
    "allResultsDFAVG2y = allResultsDFAVG2y.apply(replace_values, axis = 1)"
   ]
  },
  {
   "cell_type": "code",
   "execution_count": null,
   "id": "36effd60",
   "metadata": {},
   "outputs": [],
   "source": [
    "# Merging dataframes based on the matched name\n",
    "\n",
    "finalGeoDF = pd.merge(NYSchoolsGeom_short, allResultsDFAVG2y, left_on='LEGAL_NAME', right_on='matched_name')\n",
    "allData_Name = 'PublicCharterNYSschools.geojson'\n",
    "allData_Path = os.path.join(basePath,outputFolder, allData_Name)\n",
    "print(f'Saving to {allData_Path} ...')\n",
    "finalGeoDF.to_file(allData_Path, driver=\"GeoJSON\")\n",
    "print('Saved.')\n",
    "\n",
    "del allData_Name, allData_Path"
   ]
  },
  {
   "cell_type": "code",
   "execution_count": null,
   "id": "46fa8da5",
   "metadata": {},
   "outputs": [],
   "source": []
  }
 ],
 "metadata": {
  "kernelspec": {
   "display_name": "Python 3 (ipykernel)",
   "language": "python",
   "name": "python3"
  },
  "language_info": {
   "codemirror_mode": {
    "name": "ipython",
    "version": 3
   },
   "file_extension": ".py",
   "mimetype": "text/x-python",
   "name": "python",
   "nbconvert_exporter": "python",
   "pygments_lexer": "ipython3",
   "version": "3.7.12"
  }
 },
 "nbformat": 4,
 "nbformat_minor": 5
}
