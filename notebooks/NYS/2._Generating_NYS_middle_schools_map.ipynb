{
 "cells": [
  {
   "cell_type": "markdown",
   "id": "3a271671",
   "metadata": {},
   "source": [
    "# Analysis of NYS public and charter schools results in ELA and math grades 6-8."
   ]
  },
  {
   "cell_type": "markdown",
   "id": "f862a571",
   "metadata": {},
   "source": [
    "## Generating the map"
   ]
  },
  {
   "cell_type": "markdown",
   "id": "91f5ba8c",
   "metadata": {},
   "source": [
    "<a id=\"TOC\"></a> \n",
    "#### Table of Contents\n",
    "1. [Data sources, definitions](#data)\n",
    "2. [Imports, read data](#modules)\n",
    "3. [Generating the map](#map)    "
   ]
  },
  {
   "cell_type": "markdown",
   "id": "b9d32c58",
   "metadata": {},
   "source": [
    "<a id=\"data\"></a> \n",
    "\n",
    "### Data sources:\n",
    "\n",
    "**1) State test Math and ELA results (2022-2023)**\n",
    "\n",
    "New York State Education Department: Report Card Database (251.35 megabytes): This Access database contains assessment results (elementary- and intermediate-level ELA, Math, and Science; Annual Regents; Total Cohort Regents; NYSESLAT; NYSAA), for the state, districts, public with charter schools, by county, and Need to Resource Capacity group.\n",
    "https://data.nysed.gov/downloads.php\n",
    "\n",
    "**2) Schools locations**\n",
    "\n",
    "NYS GIS Clearinghouse: NYS Schools\n",
    "https://data.gis.ny.gov/maps/b6c624c740e4476689aa60fdc4aacb8f/about"
   ]
  },
  {
   "cell_type": "markdown",
   "id": "8b1a013c",
   "metadata": {},
   "source": [
    "#### Definitions of Performance Levels for the 2023 Grades 3-8 English Language Arts and Mathematics Tests  \n",
    "\n",
    "**NYS Level 1**: Students performing at this level are below proficient in standards for their grade. They may demonstrate limited knowledge, skills, and practices embodied by the Learning Standards that are considered insufficient for the expectations at this grade. \n",
    "\n",
    "**NYS Level 2**: Students performing at this level are partially proficient in standards for their grade. They demonstrate knowledge, skills, and practices embodied by the Learning Standards that are considered partial but insufficient for the expectations at this grade. Students performing at Level 2 are considered on track to meet current New York high school graduation requirements but are not yet proficient in Learning Standards at this grade. \n",
    "\n",
    "**NYS Level 3**: Students performing at this level are proficient in standards for their grade. They demonstrate knowledge, skills, and practices embodied by the Learning Standards that are considered sufficient for the expectations at this grade.  \n",
    "\n",
    "**NYS Level 4**: Students performing at this level excel in standards for their grade. They demonstrate knowledge, skills, and practices embodied by the Learning Standards that are considered more than sufficient for the expectations at this grade.  \n",
    "\n",
    "*Source: NYSED, 2023, https://www.p12.nysed.gov/irs/ela-math/2023/ela-math-score-ranges-performance-levels-2023.pdf*"
   ]
  },
  {
   "cell_type": "markdown",
   "id": "6d780d64",
   "metadata": {},
   "source": [
    "## Limitations\n",
    "1. Some school names in the original NYS Education Department data are inconsistently spelled or contain errors in the records across different years. As a result, these discrepancies created separate entries in the test results dataframes. Consequently, certain schools have multiple overlapping points on the map, with pop-ups displaying data for different years.\n",
    "While this may affect the map's visual clarity and completeness, the current representation still provides a comprehensive overview of the academic proficiency of middle schools in New York State. Further data cleaning to eliminate this issue required more time and effort, which was unnecessary for the project's purpose."
   ]
  },
  {
   "cell_type": "markdown",
   "id": "ef81289e",
   "metadata": {},
   "source": [
    "#### About this notebook\n",
    "\n",
    "- The notebook '*1._NYS_public_and_charter_middle_schools_data_processing*' contains the steps for processing data on state testing of public and charter schools in New York State. \n",
    "- This notebook '*2._Generating_NYS_middle_schools_map*' contains code to generate the map from the processed data.\n",
    "- The map is available at: https://nysmsmap.netlify.app"
   ]
  },
  {
   "cell_type": "markdown",
   "id": "d2b1fde9",
   "metadata": {},
   "source": [
    "<a id=\"modules\"></a>\n",
    "### Imports"
   ]
  },
  {
   "cell_type": "code",
   "execution_count": 1,
   "id": "ac4e38a2",
   "metadata": {},
   "outputs": [],
   "source": [
    "import os\n",
    "import pandas as pd\n",
    "import geopandas as gpd\n",
    "import matplotlib.pyplot as plt\n",
    "import folium\n",
    "from shapely.geometry import Point\n",
    "from tqdm import tqdm\n",
    "\n",
    "pd.set_option('display.float_format', '{:.3f}'.format)"
   ]
  },
  {
   "cell_type": "markdown",
   "id": "b58b281f",
   "metadata": {},
   "source": [
    "### Read data"
   ]
  },
  {
   "cell_type": "code",
   "execution_count": 2,
   "id": "9f875d79",
   "metadata": {},
   "outputs": [],
   "source": [
    "basePath = r\"G:\\My Drive\\Kids\\NYC_schools_mapped\"\n",
    "dataFolder = r\"raw_data\"\n",
    "outputFolder = r\"processed_data\""
   ]
  },
  {
   "cell_type": "code",
   "execution_count": 3,
   "id": "9c705168",
   "metadata": {},
   "outputs": [],
   "source": [
    "# Read GeoJSON into data frame\n",
    "SchoolsFile = 'PublicCharterNYSschools.geojson'\n",
    "NYSchoolsPath = os.path.join(basePath, outputFolder, SchoolsFile)\n",
    "NYSchoolsGeom = gpd.read_file(NYSchoolsPath)"
   ]
  },
  {
   "cell_type": "markdown",
   "id": "aee70bd3",
   "metadata": {},
   "source": [
    "<a id=\"map\"></a>\n",
    "### Generating the map and exporting to html"
   ]
  },
  {
   "cell_type": "markdown",
   "id": "ecea060a",
   "metadata": {},
   "source": [
    "Below mapping is done with the __[Folium library](https://python-visualization.github.io/folium/latest/)__"
   ]
  },
  {
   "cell_type": "code",
   "execution_count": 4,
   "id": "c903f0ea",
   "metadata": {},
   "outputs": [],
   "source": [
    "# Prepare legend\n",
    "legend_html = '''\n",
    "     <div style=\"position: fixed; \n",
    "                 bottom: 50px; left: 50px; width: 300px;  \n",
    "                 border:0px solid grey; z-index:9999; font-size:10px;\n",
    "                 background-color: rgba(255, 255, 255, 0.7);\n",
    "                 padding: 10px;\n",
    "                 display: flex;\n",
    "                 flex-direction: column;\n",
    "                 max-height: calc(100vh - 100px); /* Prevent overflow */\n",
    "                 overflow-y: auto; /* Add scrollbar if content exceeds max-height */                 \n",
    "                 \">\n",
    "                   <div style=\"flex-grow: 1; margin-bottom: 10px;\">\n",
    "                   Circle size - the sum of average shares of students scoring at the highest level (level 4) on New York state ELA and math tests over the years 2022-2023.\n",
    "                   </div>                   \n",
    "                   <div><i class=\"fa fa-circle\" style=\"border:2px solid #06a6cf; color:white; border-radius:50%; display:inline-block;\"></i><span style=\"margin-left: 5px;\">public school </span></div>\n",
    "                   <br>\n",
    "                   <div><i class=\"fa fa-circle\" style=\"border:2px solid #f0a607; color:white; border-radius:50%; display:inline-block;\"></i><span style=\"margin-left: 5px;\">charter school </span></div>\n",
    "                   \n",
    "      </div>\n",
    "     '''"
   ]
  },
  {
   "cell_type": "code",
   "execution_count": 5,
   "id": "d4d1e2e8",
   "metadata": {},
   "outputs": [],
   "source": [
    "# Prepare map introduction\n",
    "\n",
    "intro_html = \"\"\"\n",
    "     <div style=\"position: fixed; \n",
    "                 top: 50px; left: 50px; width: 300px;  \n",
    "                 border:0px solid grey; z-index:9999; font-size:10px;\n",
    "                 background-color: rgba(255, 255, 255, 0.7);\n",
    "                 padding: 10px;\n",
    "                 display: flex;\n",
    "                 flex-direction: column;\n",
    "                 max-height: calc(100vh - 100px); /* Prevent overflow */\n",
    "                 overflow-y: auto; /* Add scrollbar if content exceeds max-height */                 \n",
    "                 \">\n",
    "                   <div style=\"margin-bottom: 10px;\">\n",
    "                       <span style = \"font-weight:bold; font-size: 1.5em;\">New York State Public and Charter Middle Schools\n",
    "                       </span>\n",
    "                   </div>  \n",
    "                   <div style=\"flex-grow: 1;\">The map is part of the project to map academic results of middle schools in New York and New Jersey. See more:\n",
    "                   <br>\n",
    "                   <ul>\n",
    "                       <li><a href = \"https://github.com/Solirinai/NY_schools_maps\" target=\"_blank\">Github repository with code and data sources.<a></li>\n",
    "                       <li><a href = \"https://nycmsmap.netlify.app\" target=\"_blank\">Map of New York City public middle schools.<a></li>\n",
    "                       <li><a href = \"https://njmsmap.netlify.app\" target=\"_blank\">Map of New Jersey public and charter middle schools.</a></li>\n",
    "                   </ul>\n",
    "                   </div>                 \n",
    "                 \n",
    "      </div>\n",
    "\"\"\""
   ]
  },
  {
   "cell_type": "code",
   "execution_count": 6,
   "id": "be2ad494",
   "metadata": {},
   "outputs": [],
   "source": [
    "# Prepare click instructions\n",
    "\n",
    "intro_click = '''<div style=\"position: fixed; \n",
    "                 top: 50px; right: 50px; width: 300px;  \n",
    "                 border:0px solid grey; z-index:9999; font-size:10px;\n",
    "                 background-color: rgba(255, 255, 255, 0.7);\n",
    "                 padding: 10px;\n",
    "                 display: flex;\n",
    "                 flex-direction: column;\n",
    "                 max-height: calc(100vh - 100px); /* Prevent overflow */\n",
    "                 overflow-y: auto; /* Add scrollbar if content exceeds max-height */                 \n",
    "                 \">\n",
    "                   <div style=\"flex-grow: 1;\">\n",
    "                    Click on a circle to see historical test results for middle school grades (grades 6-8) for the school.\n",
    "                   </div>                                     \n",
    "      </div>\n",
    "     '''"
   ]
  },
  {
   "cell_type": "code",
   "execution_count": 7,
   "id": "4b03eb75",
   "metadata": {},
   "outputs": [],
   "source": [
    "# Prepare notes and explanations\n",
    "\n",
    "notes = '''<div style=\"position: fixed; \n",
    "                 bottom: 50px; right: 50px; width: 300px;  \n",
    "                 border:0px solid grey; z-index:9999; font-size:10px;\n",
    "                 background-color: rgba(255, 255, 255, 0.7);\n",
    "                 padding: 10px;\n",
    "                 display: flex;\n",
    "                 flex-direction: column;\n",
    "                 max-height: calc(100vh - 100px); /* Prevent overflow */\n",
    "                 overflow-y: auto; /* Add scrollbar if content exceeds max-height */                 \n",
    "                 \">\n",
    "                   <div style=\"margin-bottom: 10px;\">\n",
    "                   <span style = \"font-weight:bold; font-size: 1.0em;\">Limitations:</span>\n",
    "                   </div> \n",
    "                   <div style=\"flex-grow: 1; margin-bottom: 10px;\">\n",
    "                       <div>\n",
    "                       <ul>\n",
    "                           <li> Due to inconsistent spelling of school names in the source data, certain schools have multiple overlapping circles on the map, with pop-ups displaying data for different years.</li>\n",
    "                       </ul>\n",
    "                       </div> \n",
    "                       <div>\n",
    "                       <span style = \"font-weight:bold; font-size: 1.0em;\">Data</span>\n",
    "                       <ul>\n",
    "                       <li><a href = 'https://data.nysed.gov/downloads.php'>Report Card Database, 2022-23, New York State Education Department</a>.</li>\n",
    "                       <li><a href = \"https://data.gis.ny.gov/maps/b6c624c740e4476689aa60fdc4aacb8f/about\"> NYS Schools, NYS GIS Clearinghouse</a>.</li>\n",
    "                       </ul> \n",
    "                       </div>\n",
    "                       <div>Map developed by <a href = \"https://github.com/Solirinai\">Solirinai</a>.</div>\n",
    "                   </div>\n",
    "      </div>\n",
    "     '''"
   ]
  },
  {
   "cell_type": "code",
   "execution_count": 8,
   "id": "a11263cf",
   "metadata": {},
   "outputs": [
    {
     "data": {
      "text/html": [
       "<style>.output_scroll { height: auto !important; max-height: 1500px; }</style>"
      ],
      "text/plain": [
       "<IPython.core.display.HTML object>"
      ]
     },
     "metadata": {},
     "output_type": "display_data"
    },
    {
     "name": "stderr",
     "output_type": "stream",
     "text": [
      "100%|██████████████████████████████████████████████████████████████████████████████| 2308/2308 [01:42<00:00, 22.54it/s]\n"
     ]
    },
    {
     "name": "stdout",
     "output_type": "stream",
     "text": [
      "Saving to G:\\My Drive\\Kids\\NYC_schools_mapped\\processed_data\\NYSpublicAndCharter2yAVG.html ...\n",
      "Saved.\n"
     ]
    }
   ],
   "source": [
    "from IPython.core.display import display, HTML\n",
    "\n",
    "display(HTML(\"<style>.output_scroll { height: auto !important; max-height: 1500px; }</style>\"))\n",
    "\n",
    "# Create a map object, centered at NYS\n",
    "mapNYS = folium.Map(location=[42.5790, -76.1000], zoom_start=8, tiles=\"cartodb positron\")\n",
    "   \n",
    "# Add function to define size of circle based on 'Level 4 Math+Ela' column\n",
    "\n",
    "def my_style(x):\n",
    "    level4 = x['properties']['Level 4 Math+Ela']\n",
    "    charter = x['properties']['INSTSUBTYPDESC']\n",
    "    color = '#f0a607' if charter == 'CHARTER SCHOOL'  else '#f0a607' if charter == 'SATELLITE SITE FOR CHARTER SCHOOLS' else '#06a6cf'\n",
    "    if level4 is None:\n",
    "        level4 = 0\n",
    "    return {\n",
    "        \"radius\": (level4)*500,\n",
    "        \"color\": color,\n",
    "    }  \n",
    "\n",
    "\n",
    "# Function to create iframe for a given row in the geodataframe\n",
    "\n",
    "def create_iframe(row):    \n",
    "    html =  '<strong>{0}:</strong> {1}<br><strong>{2}:</strong> {3}<br><strong>{4}:</strong> {5}<br>\\\n",
    "    <br><img src=\"data:image/png;base64,{6}\"><br>\\\n",
    "    <img src=\"data:image/png;base64,{7}\">'.format(\n",
    "        'School Name', row['LEGAL_NAME'],\n",
    "        'Level 4 share 2022-2023 AVG Math', round(row['Level 4 Math'], 2), \n",
    "        'Level 4 share 2022-2023 AVG ELA', round(row['Level 4 ELA'], 2),\n",
    "        row['plot Math'], row['plot ELA'])\n",
    "    return folium.IFrame(html, width=500, height=450)\n",
    "\n",
    "def create_popup(x):\n",
    "    iframe = create_iframe(x)\n",
    "    popup = folium.Popup(iframe)\n",
    "    return popup\n",
    "\n",
    "# Iterate over the geodataframe and add a pop-up to each feature\n",
    "for _, row in tqdm(NYSchoolsGeom.iterrows(), total = len(NYSchoolsGeom)):\n",
    "    iframe = create_iframe(row)\n",
    "        \n",
    "    data = gpd.GeoDataFrame(row.to_frame().T, crs=NYSchoolsGeom.crs)\n",
    "    \n",
    "    folium.GeoJson(\n",
    "    data,\n",
    "    marker = folium.Circle(radius=10, fill_color='white', fill_opacity=0, color=\"green\", weight=2),     \n",
    "    popup = folium.Popup(iframe),\n",
    "    style_function = my_style, \n",
    "    control = False    \n",
    ").add_to(mapNYS)    \n",
    "        \n",
    "    \n",
    "# Adding HTML elements to the map\n",
    "\n",
    "mapNYS.get_root().html.add_child(folium.Element(legend_html))\n",
    "mapNYS.get_root().html.add_child(folium.Element(intro_html))\n",
    "mapNYS.get_root().html.add_child(folium.Element(intro_click))\n",
    "mapNYS.get_root().html.add_child(folium.Element(notes))\n",
    "    \n",
    "# # Display the map in the notebook (not recommended due to big size of the map)\n",
    "# mapNYS\n",
    "\n",
    "# Save map to html\n",
    "mfile = 'NYSpublicAndCharter2yAVG.html'\n",
    "mpath = os.path.join(basePath, outputFolder, mfile)\n",
    "print(f'Saving to {mpath} ...')\n",
    "mapNYS.save(mpath)\n",
    "print('Saved.')"
   ]
  },
  {
   "cell_type": "code",
   "execution_count": null,
   "id": "50afd8fd",
   "metadata": {},
   "outputs": [],
   "source": []
  }
 ],
 "metadata": {
  "kernelspec": {
   "display_name": "Python 3 (ipykernel)",
   "language": "python",
   "name": "python3"
  },
  "language_info": {
   "codemirror_mode": {
    "name": "ipython",
    "version": 3
   },
   "file_extension": ".py",
   "mimetype": "text/x-python",
   "name": "python",
   "nbconvert_exporter": "python",
   "pygments_lexer": "ipython3",
   "version": "3.7.12"
  }
 },
 "nbformat": 4,
 "nbformat_minor": 5
}
