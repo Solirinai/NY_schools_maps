{
 "cells": [
  {
   "cell_type": "markdown",
   "id": "6566b21b",
   "metadata": {},
   "source": [
    "### Data sources:\n",
    "\n",
    "**1) NYS regents results (2022-2023):**\n",
    "\n",
    "Report Card Database (332.61 megabytes)\n",
    "This Access database contains accountability statuses and indicator data (performance, chronic absenteeism, graduation rate, participation rate), assessment results (elementary- and intermediate-level ELA, Math, and Science; Annual Regents; Total Cohort Regents; NYSESLAT; NYSAA), and postsecondary enrollment rate for the state, districts, public and charter schools, by county, and Need to Resource Capacity group. The database also includes Staff Qualifications and Expenditures per Pupil for the state, districts, and public and charter schools.<br>\n",
    "https://data.nysed.gov/downloads.php<br>\n",
    "https://data.nysed.gov/files/essa/22-23/SRC2023.zip<br>\n",
    "\n",
    "**2) NYS high schools enrollment:**\n",
    "\n",
    "Enrollment Database (6.27 megabytes)\n",
    "This database contains school, district, county, and statewide enrollment by grade, race/ethnicity, gender, and other groups.<br>\n",
    "https://data.nysed.gov/downloads.php<br>\n",
    "https://data.nysed.gov/files/enrollment/22-23/enrollment_2023.zip<br>\n",
    "\n",
    "**3) Schools locations**\n",
    "\n",
    "NYS GIS Clearinghouse: NYS Schools<br>\n",
    "https://data.gis.ny.gov/maps/b6c624c740e4476689aa60fdc4aacb8f/about"
   ]
  },
  {
   "cell_type": "markdown",
   "id": "4918fa61",
   "metadata": {},
   "source": [
    "### Imports"
   ]
  },
  {
   "cell_type": "code",
   "execution_count": 1,
   "id": "b4480a9a",
   "metadata": {},
   "outputs": [],
   "source": [
    "import os\n",
    "import sys\n",
    "import pandas as pd\n",
    "import geopandas as gpd\n",
    "# import matplotlib.pyplot as plt\n",
    "import folium\n",
    "# from shapely.geometry import Point\n",
    "# from fuzzywuzzy import process\n",
    "# import fuzzywuzzy\n",
    "# import base64\n",
    "# from io import BytesIO\n",
    "import math\n",
    "from tqdm import tqdm\n",
    "import importlib\n",
    "# import utils\n",
    "\n",
    "\n",
    "pd.set_option('display.float_format', '{:.3f}'.format)"
   ]
  },
  {
   "cell_type": "code",
   "execution_count": 2,
   "id": "e7a33dc3",
   "metadata": {},
   "outputs": [],
   "source": [
    "parent_dir = 'C:\\\\GITHUB\\\\NY_schools_maps\\\\notebooks'\n",
    "sys.path.append(parent_dir)"
   ]
  },
  {
   "cell_type": "code",
   "execution_count": 3,
   "id": "40fb1d59",
   "metadata": {},
   "outputs": [
    {
     "name": "stderr",
     "output_type": "stream",
     "text": [
      "C:\\Users\\Student\\anaconda3\\envs\\AC37\\lib\\site-packages\\fuzzywuzzy\\fuzz.py:11: UserWarning: Using slow pure-python SequenceMatcher. Install python-Levenshtein to remove this warning\n",
      "  warnings.warn('Using slow pure-python SequenceMatcher. Install python-Levenshtein to remove this warning')\n"
     ]
    }
   ],
   "source": [
    "# importlib.reload(utils)\n",
    "from utils import match_name"
   ]
  },
  {
   "cell_type": "code",
   "execution_count": 4,
   "id": "8975953e",
   "metadata": {},
   "outputs": [],
   "source": [
    "basePath = r\"G:\\My Drive\\Kids\\NYC_schools_mapped\"\n",
    "dataFolder = r\"raw_data\"\n",
    "outputFolder = r\"processed_data\""
   ]
  },
  {
   "cell_type": "code",
   "execution_count": 5,
   "id": "75cbcbc0",
   "metadata": {},
   "outputs": [
    {
     "name": "stdout",
     "output_type": "stream",
     "text": [
      "G:\\My Drive\\Kids\\NYC_schools_mapped\\raw_data\\NYS_Schools.geojson\n"
     ]
    }
   ],
   "source": [
    "# Read GeoJSON into data frame\n",
    "schoolsFile = 'NYS_Schools.geojson'\n",
    "NYSSchoolsPath = os.path.join(basePath, dataFolder, schoolsFile)\n",
    "print(NYSSchoolsPath)\n",
    "NYSSchoolsGeom = gpd.read_file(NYSSchoolsPath)\n",
    "\n",
    "del schoolsFile, NYSSchoolsPath"
   ]
  },
  {
   "cell_type": "code",
   "execution_count": 6,
   "id": "9837b092",
   "metadata": {},
   "outputs": [
    {
     "name": "stdout",
     "output_type": "stream",
     "text": [
      "G:\\My Drive\\Kids\\NYC_schools_mapped\\raw_data\\Regents results by school and cohorts.xlsx\n"
     ]
    }
   ],
   "source": [
    "# Read file with number of diplomas\n",
    "fileName_diplomas = \"Regents results by school and cohorts.xlsx\"\n",
    "diplomasPath = os.path.join(basePath,dataFolder,fileName_diplomas)\n",
    "print(diplomasPath)\n",
    "diplomasDF = pd.read_excel(diplomasPath)\n",
    "\n",
    "del fileName_diplomas, diplomasPath"
   ]
  },
  {
   "cell_type": "code",
   "execution_count": 7,
   "id": "407a7f6b",
   "metadata": {},
   "outputs": [
    {
     "name": "stdout",
     "output_type": "stream",
     "text": [
      "G:\\My Drive\\Kids\\NYC_schools_mapped\\raw_data\\Regents results by school_2.xlsx\n"
     ]
    }
   ],
   "source": [
    "# Read file with regents scores\n",
    "fileName_scores = \"Regents results by school_2.xlsx\"\n",
    "scoresPath = os.path.join(basePath, dataFolder, fileName_scores)\n",
    "print(scoresPath)\n",
    "scoresDF = pd.read_excel(scoresPath)\n",
    "\n",
    "del fileName_scores, scoresPath"
   ]
  },
  {
   "cell_type": "code",
   "execution_count": 8,
   "id": "f6dc9ce1",
   "metadata": {},
   "outputs": [
    {
     "name": "stdout",
     "output_type": "stream",
     "text": [
      "G:\\My Drive\\Kids\\NYC_schools_mapped\\raw_data\\Number of high schoolers by school.xlsx\n"
     ]
    }
   ],
   "source": [
    "# Read file with school enrollment\n",
    "fileName_enrollment = \"Number of high schoolers by school.xlsx\"\n",
    "enrollmentPath = os.path.join(basePath,dataFolder,fileName_enrollment)\n",
    "print(enrollmentPath)\n",
    "enrollmentDF = pd.read_excel(enrollmentPath)\n",
    "\n",
    "del fileName_enrollment, enrollmentPath"
   ]
  },
  {
   "cell_type": "markdown",
   "id": "487deb68",
   "metadata": {},
   "source": [
    "_______________________________________________________________________________\n",
    "\n",
    "Schools names are stored:\n",
    "- in the *diplomasDF* in the column *'aggregation_name'*\n",
    "- in the *enrollmentDF* in the column *'ENTITY_NAME'*\n",
    "- in the *scoresDF* in the column *'ENTITY_NAME'*\n",
    "- in the *NYSSchoolsGeom* in the column *'LEGAL_NAME'*\n",
    "________________________________________________________________________________"
   ]
  },
  {
   "cell_type": "markdown",
   "id": "f9eb17fc",
   "metadata": {},
   "source": [
    "### Preparing data"
   ]
  },
  {
   "cell_type": "markdown",
   "id": "e2ba3f36",
   "metadata": {},
   "source": [
    "#### By dataframes"
   ]
  },
  {
   "cell_type": "markdown",
   "id": "3367ae5c",
   "metadata": {},
   "source": [
    "##### Processing datafreame with numbers of graduates and types of diplomas"
   ]
  },
  {
   "cell_type": "code",
   "execution_count": 9,
   "id": "d36472df",
   "metadata": {
    "scrolled": true
   },
   "outputs": [
    {
     "name": "stdout",
     "output_type": "stream",
     "text": [
      "<class 'pandas.core.frame.DataFrame'>\n",
      "RangeIndex: 7746 entries, 0 to 7745\n",
      "Data columns (total 14 columns):\n",
      " #   Column                      Non-Null Count  Dtype \n",
      "---  ------                      --------------  ----- \n",
      " 0   report_school_year          7746 non-null   object\n",
      " 1   aggregation_type            7746 non-null   object\n",
      " 2   aggregation_name            7746 non-null   object\n",
      " 3   subgroup_name               7746 non-null   object\n",
      " 4   grad_cnt                    7746 non-null   object\n",
      " 5   local_cnt                   7746 non-null   object\n",
      " 6   reg_cnt                     7746 non-null   object\n",
      " 7   reg_adv_cnt                 7746 non-null   object\n",
      " 8   non_diploma_credential_cnt  7746 non-null   object\n",
      " 9   still_enr_cnt               7746 non-null   object\n",
      " 10  ged_cnt                     7746 non-null   object\n",
      " 11  dropout_cnt                 7746 non-null   object\n",
      " 12  membership_code             7746 non-null   int64 \n",
      " 13  membership_desc             7746 non-null   object\n",
      "dtypes: int64(1), object(13)\n",
      "memory usage: 847.3+ KB\n"
     ]
    }
   ],
   "source": [
    "diplomasDF.info()"
   ]
  },
  {
   "cell_type": "code",
   "execution_count": 10,
   "id": "1c31efc8",
   "metadata": {},
   "outputs": [
    {
     "data": {
      "text/plain": [
       "array(['2022-23'], dtype=object)"
      ]
     },
     "execution_count": 10,
     "metadata": {},
     "output_type": "execute_result"
    }
   ],
   "source": [
    "# Checking the school year covered\n",
    "diplomasDF['report_school_year'].unique()"
   ]
  },
  {
   "cell_type": "code",
   "execution_count": 11,
   "id": "d561fafb",
   "metadata": {},
   "outputs": [],
   "source": [
    "# Converting the columns in diplomasDF with numbers saved as objects into numeric \n",
    "columns_to_convert = [\n",
    " 'grad_cnt',\n",
    " 'local_cnt',\n",
    " 'reg_cnt',\n",
    " 'reg_adv_cnt',\n",
    " 'non_diploma_credential_cnt',\n",
    " 'still_enr_cnt',\n",
    " 'ged_cnt',\n",
    " 'dropout_cnt']\n",
    "diplomasDF[columns_to_convert] = diplomasDF[columns_to_convert].apply(pd.to_numeric, errors='coerce')\n",
    "\n",
    "del columns_to_convert"
   ]
  },
  {
   "cell_type": "code",
   "execution_count": 12,
   "id": "a1bde3ec",
   "metadata": {},
   "outputs": [],
   "source": [
    "# Selecting only numbers for cohort 2019 from diplomasDF for easier comparisons\n",
    "condition = diplomasDF['membership_code'] == 11\n",
    "diplomasDF = diplomasDF[condition]\n",
    "\n",
    "del condition"
   ]
  },
  {
   "cell_type": "code",
   "execution_count": 13,
   "id": "68944f78",
   "metadata": {},
   "outputs": [
    {
     "name": "stdout",
     "output_type": "stream",
     "text": [
      "<class 'pandas.core.frame.DataFrame'>\n",
      "Int64Index: 1295 entries, 4 to 7744\n",
      "Data columns (total 14 columns):\n",
      " #   Column                      Non-Null Count  Dtype  \n",
      "---  ------                      --------------  -----  \n",
      " 0   report_school_year          1295 non-null   object \n",
      " 1   aggregation_type            1295 non-null   object \n",
      " 2   aggregation_name            1295 non-null   object \n",
      " 3   subgroup_name               1295 non-null   object \n",
      " 4   grad_cnt                    1273 non-null   float64\n",
      " 5   local_cnt                   1273 non-null   float64\n",
      " 6   reg_cnt                     1273 non-null   float64\n",
      " 7   reg_adv_cnt                 1273 non-null   float64\n",
      " 8   non_diploma_credential_cnt  1273 non-null   float64\n",
      " 9   still_enr_cnt               1273 non-null   float64\n",
      " 10  ged_cnt                     1273 non-null   float64\n",
      " 11  dropout_cnt                 1273 non-null   float64\n",
      " 12  membership_code             1295 non-null   int64  \n",
      " 13  membership_desc             1295 non-null   object \n",
      "dtypes: float64(8), int64(1), object(5)\n",
      "memory usage: 151.8+ KB\n"
     ]
    }
   ],
   "source": [
    "diplomasDF.info()"
   ]
  },
  {
   "cell_type": "markdown",
   "id": "a0e8e1ee",
   "metadata": {},
   "source": [
    "##### Processing dataframe with number of students in high school grades by school"
   ]
  },
  {
   "cell_type": "code",
   "execution_count": 14,
   "id": "4852c5dd",
   "metadata": {},
   "outputs": [
    {
     "name": "stdout",
     "output_type": "stream",
     "text": [
      "<class 'pandas.core.frame.DataFrame'>\n",
      "RangeIndex: 1347 entries, 0 to 1346\n",
      "Data columns (total 6 columns):\n",
      " #   Column       Non-Null Count  Dtype \n",
      "---  ------       --------------  ----- \n",
      " 0   ENTITY_NAME  1347 non-null   object\n",
      " 1   Year         1347 non-null   int64 \n",
      " 2   12           1347 non-null   int64 \n",
      " 3   11           1347 non-null   int64 \n",
      " 4   10           1347 non-null   int64 \n",
      " 5   9            1347 non-null   int64 \n",
      "dtypes: int64(5), object(1)\n",
      "memory usage: 63.3+ KB\n"
     ]
    }
   ],
   "source": [
    "enrollmentDF.info()"
   ]
  },
  {
   "cell_type": "code",
   "execution_count": 15,
   "id": "fc1950f0",
   "metadata": {},
   "outputs": [
    {
     "data": {
      "text/html": [
       "<div>\n",
       "<style scoped>\n",
       "    .dataframe tbody tr th:only-of-type {\n",
       "        vertical-align: middle;\n",
       "    }\n",
       "\n",
       "    .dataframe tbody tr th {\n",
       "        vertical-align: top;\n",
       "    }\n",
       "\n",
       "    .dataframe thead th {\n",
       "        text-align: right;\n",
       "    }\n",
       "</style>\n",
       "<table border=\"1\" class=\"dataframe\">\n",
       "  <thead>\n",
       "    <tr style=\"text-align: right;\">\n",
       "      <th></th>\n",
       "      <th>ENTITY_NAME</th>\n",
       "      <th>Year</th>\n",
       "      <th>12</th>\n",
       "      <th>11</th>\n",
       "      <th>10</th>\n",
       "      <th>9</th>\n",
       "    </tr>\n",
       "  </thead>\n",
       "  <tbody>\n",
       "    <tr>\n",
       "      <th>0</th>\n",
       "      <td>ALBANY HIGH SCHOOL</td>\n",
       "      <td>2023</td>\n",
       "      <td>611</td>\n",
       "      <td>581</td>\n",
       "      <td>654</td>\n",
       "      <td>754</td>\n",
       "    </tr>\n",
       "    <tr>\n",
       "      <th>1</th>\n",
       "      <td>GREEN TECH HIGH CHARTER SCHOOL</td>\n",
       "      <td>2023</td>\n",
       "      <td>59</td>\n",
       "      <td>55</td>\n",
       "      <td>74</td>\n",
       "      <td>118</td>\n",
       "    </tr>\n",
       "    <tr>\n",
       "      <th>2</th>\n",
       "      <td>ALBANY LEADERSHIP CS-GIRLS</td>\n",
       "      <td>2023</td>\n",
       "      <td>44</td>\n",
       "      <td>61</td>\n",
       "      <td>71</td>\n",
       "      <td>86</td>\n",
       "    </tr>\n",
       "    <tr>\n",
       "      <th>3</th>\n",
       "      <td>BERNE-KNOX-WESTERLO JUNIOR-SENIOR HS</td>\n",
       "      <td>2023</td>\n",
       "      <td>49</td>\n",
       "      <td>58</td>\n",
       "      <td>61</td>\n",
       "      <td>52</td>\n",
       "    </tr>\n",
       "    <tr>\n",
       "      <th>4</th>\n",
       "      <td>BETHLEHEM CENTRAL SENIOR HIGH SCHOOL</td>\n",
       "      <td>2023</td>\n",
       "      <td>338</td>\n",
       "      <td>345</td>\n",
       "      <td>339</td>\n",
       "      <td>330</td>\n",
       "    </tr>\n",
       "  </tbody>\n",
       "</table>\n",
       "</div>"
      ],
      "text/plain": [
       "                            ENTITY_NAME  Year   12   11   10    9\n",
       "0                    ALBANY HIGH SCHOOL  2023  611  581  654  754\n",
       "1        GREEN TECH HIGH CHARTER SCHOOL  2023   59   55   74  118\n",
       "2            ALBANY LEADERSHIP CS-GIRLS  2023   44   61   71   86\n",
       "3  BERNE-KNOX-WESTERLO JUNIOR-SENIOR HS  2023   49   58   61   52\n",
       "4  BETHLEHEM CENTRAL SENIOR HIGH SCHOOL  2023  338  345  339  330"
      ]
     },
     "execution_count": 15,
     "metadata": {},
     "output_type": "execute_result"
    }
   ],
   "source": [
    "enrollmentDF.head()"
   ]
  },
  {
   "cell_type": "code",
   "execution_count": 16,
   "id": "4097cc9c",
   "metadata": {},
   "outputs": [],
   "source": [
    "# Calculating total number of students in high school grades in a school in 2022-2023 school year\n",
    "enrollmentDF['HStotal'] = enrollmentDF[['12', '11', '10', '9']].sum(axis = 1)"
   ]
  },
  {
   "cell_type": "code",
   "execution_count": 17,
   "id": "f8c66d9e",
   "metadata": {},
   "outputs": [
    {
     "data": {
      "text/html": [
       "<div>\n",
       "<style scoped>\n",
       "    .dataframe tbody tr th:only-of-type {\n",
       "        vertical-align: middle;\n",
       "    }\n",
       "\n",
       "    .dataframe tbody tr th {\n",
       "        vertical-align: top;\n",
       "    }\n",
       "\n",
       "    .dataframe thead th {\n",
       "        text-align: right;\n",
       "    }\n",
       "</style>\n",
       "<table border=\"1\" class=\"dataframe\">\n",
       "  <thead>\n",
       "    <tr style=\"text-align: right;\">\n",
       "      <th></th>\n",
       "      <th>ENTITY_NAME</th>\n",
       "      <th>Year</th>\n",
       "      <th>12</th>\n",
       "      <th>11</th>\n",
       "      <th>10</th>\n",
       "      <th>9</th>\n",
       "      <th>HStotal</th>\n",
       "    </tr>\n",
       "  </thead>\n",
       "  <tbody>\n",
       "    <tr>\n",
       "      <th>0</th>\n",
       "      <td>ALBANY HIGH SCHOOL</td>\n",
       "      <td>2023</td>\n",
       "      <td>611</td>\n",
       "      <td>581</td>\n",
       "      <td>654</td>\n",
       "      <td>754</td>\n",
       "      <td>2600</td>\n",
       "    </tr>\n",
       "    <tr>\n",
       "      <th>1</th>\n",
       "      <td>GREEN TECH HIGH CHARTER SCHOOL</td>\n",
       "      <td>2023</td>\n",
       "      <td>59</td>\n",
       "      <td>55</td>\n",
       "      <td>74</td>\n",
       "      <td>118</td>\n",
       "      <td>306</td>\n",
       "    </tr>\n",
       "    <tr>\n",
       "      <th>2</th>\n",
       "      <td>ALBANY LEADERSHIP CS-GIRLS</td>\n",
       "      <td>2023</td>\n",
       "      <td>44</td>\n",
       "      <td>61</td>\n",
       "      <td>71</td>\n",
       "      <td>86</td>\n",
       "      <td>262</td>\n",
       "    </tr>\n",
       "    <tr>\n",
       "      <th>3</th>\n",
       "      <td>BERNE-KNOX-WESTERLO JUNIOR-SENIOR HS</td>\n",
       "      <td>2023</td>\n",
       "      <td>49</td>\n",
       "      <td>58</td>\n",
       "      <td>61</td>\n",
       "      <td>52</td>\n",
       "      <td>220</td>\n",
       "    </tr>\n",
       "    <tr>\n",
       "      <th>4</th>\n",
       "      <td>BETHLEHEM CENTRAL SENIOR HIGH SCHOOL</td>\n",
       "      <td>2023</td>\n",
       "      <td>338</td>\n",
       "      <td>345</td>\n",
       "      <td>339</td>\n",
       "      <td>330</td>\n",
       "      <td>1352</td>\n",
       "    </tr>\n",
       "  </tbody>\n",
       "</table>\n",
       "</div>"
      ],
      "text/plain": [
       "                            ENTITY_NAME  Year   12   11   10    9  HStotal\n",
       "0                    ALBANY HIGH SCHOOL  2023  611  581  654  754     2600\n",
       "1        GREEN TECH HIGH CHARTER SCHOOL  2023   59   55   74  118      306\n",
       "2            ALBANY LEADERSHIP CS-GIRLS  2023   44   61   71   86      262\n",
       "3  BERNE-KNOX-WESTERLO JUNIOR-SENIOR HS  2023   49   58   61   52      220\n",
       "4  BETHLEHEM CENTRAL SENIOR HIGH SCHOOL  2023  338  345  339  330     1352"
      ]
     },
     "execution_count": 17,
     "metadata": {},
     "output_type": "execute_result"
    }
   ],
   "source": [
    "enrollmentDF.head()"
   ]
  },
  {
   "cell_type": "markdown",
   "id": "b72b589c",
   "metadata": {},
   "source": [
    "##### Processing the dataframe with regents scores"
   ]
  },
  {
   "cell_type": "code",
   "execution_count": 18,
   "id": "27f37c15",
   "metadata": {},
   "outputs": [
    {
     "name": "stdout",
     "output_type": "stream",
     "text": [
      "<class 'pandas.core.frame.DataFrame'>\n",
      "RangeIndex: 82829 entries, 0 to 82828\n",
      "Data columns (total 10 columns):\n",
      " #   Column         Non-Null Count  Dtype \n",
      "---  ------         --------------  ----- \n",
      " 0   SCHOOL_NAME    82829 non-null  object\n",
      " 1   YEAR           82829 non-null  int64 \n",
      " 2   SUBGROUP_NAME  82829 non-null  object\n",
      " 3   SUBJECT        82829 non-null  object\n",
      " 4   NUM_LEVEL1     82829 non-null  object\n",
      " 5   NUM_LEVEL2     82829 non-null  object\n",
      " 6   NUM_LEVEL3     82829 non-null  object\n",
      " 7   NUM_LEVEL4     82829 non-null  object\n",
      " 8   NUM_LEVEL5     82829 non-null  object\n",
      " 9   TOTAL_EXEMPT   82829 non-null  int64 \n",
      "dtypes: int64(2), object(8)\n",
      "memory usage: 6.3+ MB\n"
     ]
    }
   ],
   "source": [
    "scoresDF.info()"
   ]
  },
  {
   "cell_type": "code",
   "execution_count": 19,
   "id": "c9265fd4",
   "metadata": {},
   "outputs": [],
   "source": [
    "# Converting the columns in scoresDF with numbers saved as objects into numeric \n",
    "columns_to_convert = [\n",
    " 'NUM_LEVEL1',\n",
    " 'NUM_LEVEL2',\n",
    " 'NUM_LEVEL3',\n",
    " 'NUM_LEVEL4',\n",
    " 'NUM_LEVEL5',\n",
    " ]\n",
    "scoresDF[columns_to_convert] = scoresDF[columns_to_convert].apply(pd.to_numeric, errors='coerce')\n",
    "\n",
    "del columns_to_convert"
   ]
  },
  {
   "cell_type": "code",
   "execution_count": 20,
   "id": "568d8d76",
   "metadata": {},
   "outputs": [
    {
     "data": {
      "text/plain": [
       "array([2022, 2023], dtype=int64)"
      ]
     },
     "execution_count": 20,
     "metadata": {},
     "output_type": "execute_result"
    }
   ],
   "source": [
    "# Checking school years covered\n",
    "scoresDF['YEAR'].unique()"
   ]
  },
  {
   "cell_type": "code",
   "execution_count": 21,
   "id": "d3eb9dad",
   "metadata": {},
   "outputs": [],
   "source": [
    "# Leaving only the results for the school year 2022-23\n",
    "condition = scoresDF['YEAR'] == 2023\n",
    "scoresDF_2023 = scoresDF[condition]\n",
    "\n",
    "del condition"
   ]
  },
  {
   "cell_type": "code",
   "execution_count": 22,
   "id": "c1fbbdc3",
   "metadata": {},
   "outputs": [
    {
     "name": "stdout",
     "output_type": "stream",
     "text": [
      "<class 'pandas.core.frame.DataFrame'>\n",
      "Int64Index: 40827 entries, 3 to 82828\n",
      "Data columns (total 10 columns):\n",
      " #   Column         Non-Null Count  Dtype  \n",
      "---  ------         --------------  -----  \n",
      " 0   SCHOOL_NAME    40827 non-null  object \n",
      " 1   YEAR           40827 non-null  int64  \n",
      " 2   SUBGROUP_NAME  40827 non-null  object \n",
      " 3   SUBJECT        40827 non-null  object \n",
      " 4   NUM_LEVEL1     39366 non-null  float64\n",
      " 5   NUM_LEVEL2     39366 non-null  float64\n",
      " 6   NUM_LEVEL3     39366 non-null  float64\n",
      " 7   NUM_LEVEL4     39366 non-null  float64\n",
      " 8   NUM_LEVEL5     39366 non-null  float64\n",
      " 9   TOTAL_EXEMPT   40827 non-null  int64  \n",
      "dtypes: float64(5), int64(2), object(3)\n",
      "memory usage: 3.4+ MB\n"
     ]
    }
   ],
   "source": [
    "scoresDF_2023.info()"
   ]
  },
  {
   "cell_type": "code",
   "execution_count": 23,
   "id": "c56dfa64",
   "metadata": {},
   "outputs": [
    {
     "data": {
      "text/plain": [
       "array([2023], dtype=int64)"
      ]
     },
     "execution_count": 23,
     "metadata": {},
     "output_type": "execute_result"
    }
   ],
   "source": [
    "scoresDF_2023['YEAR'].unique()"
   ]
  },
  {
   "cell_type": "markdown",
   "id": "4c565021",
   "metadata": {},
   "source": [
    "____________________________________________________________________________________________\n",
    "The schools will be compared by the pseudo regents scores. Those scores (S) are the share of scores at each level 1-5 (N) gotten in all instances of taking a regents exam regardless of discipline:<br>\n",
    "S = $\\sum$ of instances where a student obtained level N at all regents taken by students this school year / $\\sum$ of all instances where a students took a regents exam\n",
    "____________________________________________________________________________________________"
   ]
  },
  {
   "cell_type": "code",
   "execution_count": 24,
   "id": "4de7276d",
   "metadata": {},
   "outputs": [],
   "source": [
    "# Calculating the pseudo regents scores by school\n",
    "scoresDF_2023_bySchools = scoresDF_2023.groupby(['SCHOOL_NAME'])[['NUM_LEVEL1', 'NUM_LEVEL2', 'NUM_LEVEL3', 'NUM_LEVEL4', 'NUM_LEVEL5']].sum()\n",
    "scoresDF_2023_bySchNorm = scoresDF_2023_bySchools.div(scoresDF_2023_bySchools.sum(axis=1), axis = 0)\n",
    "scoresDF_2023_bySchNorm.reset_index(inplace=True)"
   ]
  },
  {
   "cell_type": "code",
   "execution_count": 25,
   "id": "c258da3b",
   "metadata": {},
   "outputs": [
    {
     "name": "stdout",
     "output_type": "stream",
     "text": [
      "<class 'pandas.core.frame.DataFrame'>\n",
      "RangeIndex: 2586 entries, 0 to 2585\n",
      "Data columns (total 6 columns):\n",
      " #   Column       Non-Null Count  Dtype  \n",
      "---  ------       --------------  -----  \n",
      " 0   SCHOOL_NAME  2586 non-null   object \n",
      " 1   NUM_LEVEL1   2544 non-null   float64\n",
      " 2   NUM_LEVEL2   2544 non-null   float64\n",
      " 3   NUM_LEVEL3   2544 non-null   float64\n",
      " 4   NUM_LEVEL4   2544 non-null   float64\n",
      " 5   NUM_LEVEL5   2544 non-null   float64\n",
      "dtypes: float64(5), object(1)\n",
      "memory usage: 121.3+ KB\n"
     ]
    }
   ],
   "source": [
    "scoresDF_2023_bySchNorm.info()"
   ]
  },
  {
   "cell_type": "code",
   "execution_count": 26,
   "id": "6c0e57b6",
   "metadata": {},
   "outputs": [
    {
     "data": {
      "text/html": [
       "<div>\n",
       "<style scoped>\n",
       "    .dataframe tbody tr th:only-of-type {\n",
       "        vertical-align: middle;\n",
       "    }\n",
       "\n",
       "    .dataframe tbody tr th {\n",
       "        vertical-align: top;\n",
       "    }\n",
       "\n",
       "    .dataframe thead th {\n",
       "        text-align: right;\n",
       "    }\n",
       "</style>\n",
       "<table border=\"1\" class=\"dataframe\">\n",
       "  <thead>\n",
       "    <tr style=\"text-align: right;\">\n",
       "      <th></th>\n",
       "      <th>SCHOOL_NAME</th>\n",
       "      <th>NUM_LEVEL1</th>\n",
       "      <th>NUM_LEVEL2</th>\n",
       "      <th>NUM_LEVEL3</th>\n",
       "      <th>NUM_LEVEL4</th>\n",
       "      <th>NUM_LEVEL5</th>\n",
       "    </tr>\n",
       "  </thead>\n",
       "  <tbody>\n",
       "    <tr>\n",
       "      <th>0</th>\n",
       "      <td>30TH AVENUE SCHOOL</td>\n",
       "      <td>0.012</td>\n",
       "      <td>0.012</td>\n",
       "      <td>0.131</td>\n",
       "      <td>0.536</td>\n",
       "      <td>0.310</td>\n",
       "    </tr>\n",
       "    <tr>\n",
       "      <th>1</th>\n",
       "      <td>30TH AVENUE SCHOOL (THE)</td>\n",
       "      <td>0.012</td>\n",
       "      <td>0.012</td>\n",
       "      <td>0.131</td>\n",
       "      <td>0.536</td>\n",
       "      <td>0.310</td>\n",
       "    </tr>\n",
       "    <tr>\n",
       "      <th>2</th>\n",
       "      <td>47 AMER SIGN LANG &amp; ENG LOWER</td>\n",
       "      <td>NaN</td>\n",
       "      <td>NaN</td>\n",
       "      <td>NaN</td>\n",
       "      <td>NaN</td>\n",
       "      <td>NaN</td>\n",
       "    </tr>\n",
       "    <tr>\n",
       "      <th>3</th>\n",
       "      <td>A A KINGSTON MIDDLE SCHOOL</td>\n",
       "      <td>0.000</td>\n",
       "      <td>0.000</td>\n",
       "      <td>0.034</td>\n",
       "      <td>0.552</td>\n",
       "      <td>0.414</td>\n",
       "    </tr>\n",
       "    <tr>\n",
       "      <th>4</th>\n",
       "      <td>A D OLIVER MIDDLE SCHOOL</td>\n",
       "      <td>0.000</td>\n",
       "      <td>0.000</td>\n",
       "      <td>0.188</td>\n",
       "      <td>0.594</td>\n",
       "      <td>0.217</td>\n",
       "    </tr>\n",
       "  </tbody>\n",
       "</table>\n",
       "</div>"
      ],
      "text/plain": [
       "                     SCHOOL_NAME  NUM_LEVEL1  NUM_LEVEL2  NUM_LEVEL3  \\\n",
       "0             30TH AVENUE SCHOOL       0.012       0.012       0.131   \n",
       "1       30TH AVENUE SCHOOL (THE)       0.012       0.012       0.131   \n",
       "2  47 AMER SIGN LANG & ENG LOWER         NaN         NaN         NaN   \n",
       "3     A A KINGSTON MIDDLE SCHOOL       0.000       0.000       0.034   \n",
       "4       A D OLIVER MIDDLE SCHOOL       0.000       0.000       0.188   \n",
       "\n",
       "   NUM_LEVEL4  NUM_LEVEL5  \n",
       "0       0.536       0.310  \n",
       "1       0.536       0.310  \n",
       "2         NaN         NaN  \n",
       "3       0.552       0.414  \n",
       "4       0.594       0.217  "
      ]
     },
     "execution_count": 26,
     "metadata": {},
     "output_type": "execute_result"
    }
   ],
   "source": [
    "scoresDF_2023_bySchNorm.head()"
   ]
  },
  {
   "cell_type": "raw",
   "id": "c2ffc0ce",
   "metadata": {},
   "source": [
    "specialized_schools = [\n",
    "\"Stuyvesant High School\",\n",
    "\"High School for Mathematics, Science and Engineering at City College\",\n",
    "\"The Bronx High School of Science\",\n",
    "\"High School of American Studies at Lehman College\",\n",
    "\"Brooklyn Technical High School\",\n",
    "\"The Brooklyn Latin School\",\n",
    "\"Queens High School for the Sciences at York College\",\n",
    "\"Staten Island Technical High School\"\n",
    "]"
   ]
  },
  {
   "cell_type": "markdown",
   "id": "7f4712db",
   "metadata": {},
   "source": [
    "#### Joining the data into single geodataframe for mapping"
   ]
  },
  {
   "cell_type": "code",
   "execution_count": 42,
   "id": "74d34d17",
   "metadata": {},
   "outputs": [],
   "source": [
    "del joinedDF"
   ]
  },
  {
   "cell_type": "code",
   "execution_count": 43,
   "id": "a1e31a1b",
   "metadata": {},
   "outputs": [],
   "source": [
    "# Joining with enrollmentDF with scoresDF_2023_bySchNorm\n",
    "\n",
    "joinedDF = enrollmentDF.merge(scoresDF_2023_bySchNorm, left_on = 'ENTITY_NAME', right_on = 'SCHOOL_NAME', how = 'left')"
   ]
  },
  {
   "cell_type": "code",
   "execution_count": 44,
   "id": "c020f108",
   "metadata": {},
   "outputs": [
    {
     "name": "stdout",
     "output_type": "stream",
     "text": [
      "<class 'pandas.core.frame.DataFrame'>\n",
      "Int64Index: 1347 entries, 0 to 1346\n",
      "Data columns (total 13 columns):\n",
      " #   Column       Non-Null Count  Dtype  \n",
      "---  ------       --------------  -----  \n",
      " 0   ENTITY_NAME  1347 non-null   object \n",
      " 1   Year         1347 non-null   int64  \n",
      " 2   12           1347 non-null   int64  \n",
      " 3   11           1347 non-null   int64  \n",
      " 4   10           1347 non-null   int64  \n",
      " 5   9            1347 non-null   int64  \n",
      " 6   HStotal      1347 non-null   int64  \n",
      " 7   SCHOOL_NAME  1256 non-null   object \n",
      " 8   NUM_LEVEL1   1252 non-null   float64\n",
      " 9   NUM_LEVEL2   1252 non-null   float64\n",
      " 10  NUM_LEVEL3   1252 non-null   float64\n",
      " 11  NUM_LEVEL4   1252 non-null   float64\n",
      " 12  NUM_LEVEL5   1252 non-null   float64\n",
      "dtypes: float64(5), int64(6), object(2)\n",
      "memory usage: 147.3+ KB\n"
     ]
    }
   ],
   "source": [
    "joinedDF.info()"
   ]
  },
  {
   "cell_type": "code",
   "execution_count": 45,
   "id": "787a1d06",
   "metadata": {},
   "outputs": [],
   "source": [
    "# Deleting rows relevant to school districts\n",
    "joinedDF = joinedDF[~joinedDF['ENTITY_NAME'].str.contains('NYC GEOG DIST')]\n",
    "joinedDF = joinedDF[~joinedDF['ENTITY_NAME'].str.contains('HS DISTRICT')]\n",
    "joinedDF = joinedDF[~joinedDF['ENTITY_NAME'].str.contains('CSD')]\n"
   ]
  },
  {
   "cell_type": "code",
   "execution_count": 46,
   "id": "cac1aa23",
   "metadata": {},
   "outputs": [
    {
     "name": "stdout",
     "output_type": "stream",
     "text": [
      "<class 'pandas.core.frame.DataFrame'>\n",
      "Int64Index: 1297 entries, 0 to 1346\n",
      "Data columns (total 13 columns):\n",
      " #   Column       Non-Null Count  Dtype  \n",
      "---  ------       --------------  -----  \n",
      " 0   ENTITY_NAME  1297 non-null   object \n",
      " 1   Year         1297 non-null   int64  \n",
      " 2   12           1297 non-null   int64  \n",
      " 3   11           1297 non-null   int64  \n",
      " 4   10           1297 non-null   int64  \n",
      " 5   9            1297 non-null   int64  \n",
      " 6   HStotal      1297 non-null   int64  \n",
      " 7   SCHOOL_NAME  1255 non-null   object \n",
      " 8   NUM_LEVEL1   1251 non-null   float64\n",
      " 9   NUM_LEVEL2   1251 non-null   float64\n",
      " 10  NUM_LEVEL3   1251 non-null   float64\n",
      " 11  NUM_LEVEL4   1251 non-null   float64\n",
      " 12  NUM_LEVEL5   1251 non-null   float64\n",
      "dtypes: float64(5), int64(6), object(2)\n",
      "memory usage: 141.9+ KB\n"
     ]
    }
   ],
   "source": [
    "joinedDF.info()"
   ]
  },
  {
   "cell_type": "raw",
   "id": "c997bcb5",
   "metadata": {},
   "source": [
    "setEnrollment = set(enrollmentDF['ENTITY_NAME'])\n",
    "setScores = set(scoresDF_2023_bySchNorm['SCHOOL_NAME'])"
   ]
  },
  {
   "cell_type": "raw",
   "id": "8d681366",
   "metadata": {},
   "source": [
    "setJoined = set(joinedDF['ENTITY_NAME'])"
   ]
  },
  {
   "cell_type": "raw",
   "id": "c1f6772e",
   "metadata": {},
   "source": [
    "diff = setEnrollment-setJoined\n",
    "diff\n",
    "# based on the names on the list they are missing \n",
    "# from the file with regents results, mostly middle, elementary schools, \n",
    "# so the difference can be ignored."
   ]
  },
  {
   "cell_type": "code",
   "execution_count": 47,
   "id": "f790864c",
   "metadata": {},
   "outputs": [],
   "source": [
    "joinedDF = joinedDF.merge(diplomasDF, left_on = 'ENTITY_NAME', right_on = 'aggregation_name', how='left')"
   ]
  },
  {
   "cell_type": "code",
   "execution_count": 48,
   "id": "9bce9562",
   "metadata": {},
   "outputs": [
    {
     "name": "stdout",
     "output_type": "stream",
     "text": [
      "<class 'pandas.core.frame.DataFrame'>\n",
      "Int64Index: 1299 entries, 0 to 1298\n",
      "Data columns (total 27 columns):\n",
      " #   Column                      Non-Null Count  Dtype  \n",
      "---  ------                      --------------  -----  \n",
      " 0   ENTITY_NAME                 1299 non-null   object \n",
      " 1   Year                        1299 non-null   int64  \n",
      " 2   12                          1299 non-null   int64  \n",
      " 3   11                          1299 non-null   int64  \n",
      " 4   10                          1299 non-null   int64  \n",
      " 5   9                           1299 non-null   int64  \n",
      " 6   HStotal                     1299 non-null   int64  \n",
      " 7   SCHOOL_NAME                 1257 non-null   object \n",
      " 8   NUM_LEVEL1                  1253 non-null   float64\n",
      " 9   NUM_LEVEL2                  1253 non-null   float64\n",
      " 10  NUM_LEVEL3                  1253 non-null   float64\n",
      " 11  NUM_LEVEL4                  1253 non-null   float64\n",
      " 12  NUM_LEVEL5                  1253 non-null   float64\n",
      " 13  report_school_year          818 non-null    object \n",
      " 14  aggregation_type            818 non-null    object \n",
      " 15  aggregation_name            818 non-null    object \n",
      " 16  subgroup_name               818 non-null    object \n",
      " 17  grad_cnt                    813 non-null    float64\n",
      " 18  local_cnt                   813 non-null    float64\n",
      " 19  reg_cnt                     813 non-null    float64\n",
      " 20  reg_adv_cnt                 813 non-null    float64\n",
      " 21  non_diploma_credential_cnt  813 non-null    float64\n",
      " 22  still_enr_cnt               813 non-null    float64\n",
      " 23  ged_cnt                     813 non-null    float64\n",
      " 24  dropout_cnt                 813 non-null    float64\n",
      " 25  membership_code             818 non-null    float64\n",
      " 26  membership_desc             818 non-null    object \n",
      "dtypes: float64(14), int64(6), object(7)\n",
      "memory usage: 284.2+ KB\n"
     ]
    }
   ],
   "source": [
    "joinedDF.info()"
   ]
  },
  {
   "cell_type": "code",
   "execution_count": 32,
   "id": "4debece3",
   "metadata": {},
   "outputs": [],
   "source": [
    "# Deleting rows relevant to school districts\n",
    "joinedDF = joinedDF[~joinedDF['ENTITY_NAME'].str.contains('NYC GEOG DIST')]\n",
    "joinedDF = joinedDF[~joinedDF['ENTITY_NAME'].str.contains('HS DISTRICT')]\n",
    "joinedDF = joinedDF[~joinedDF['ENTITY_NAME'].str.contains('CSD')]"
   ]
  },
  {
   "cell_type": "code",
   "execution_count": 33,
   "id": "813140b3",
   "metadata": {},
   "outputs": [
    {
     "name": "stdout",
     "output_type": "stream",
     "text": [
      "<class 'pandas.core.frame.DataFrame'>\n",
      "Int64Index: 1299 entries, 0 to 1298\n",
      "Data columns (total 27 columns):\n",
      " #   Column                      Non-Null Count  Dtype  \n",
      "---  ------                      --------------  -----  \n",
      " 0   ENTITY_NAME                 1299 non-null   object \n",
      " 1   Year                        1299 non-null   int64  \n",
      " 2   12                          1299 non-null   int64  \n",
      " 3   11                          1299 non-null   int64  \n",
      " 4   10                          1299 non-null   int64  \n",
      " 5   9                           1299 non-null   int64  \n",
      " 6   HStotal                     1299 non-null   int64  \n",
      " 7   SCHOOL_NAME                 1257 non-null   object \n",
      " 8   NUM_LEVEL1                  1253 non-null   float64\n",
      " 9   NUM_LEVEL2                  1253 non-null   float64\n",
      " 10  NUM_LEVEL3                  1253 non-null   float64\n",
      " 11  NUM_LEVEL4                  1253 non-null   float64\n",
      " 12  NUM_LEVEL5                  1253 non-null   float64\n",
      " 13  report_school_year          818 non-null    object \n",
      " 14  aggregation_type            818 non-null    object \n",
      " 15  aggregation_name            818 non-null    object \n",
      " 16  subgroup_name               818 non-null    object \n",
      " 17  grad_cnt                    813 non-null    float64\n",
      " 18  local_cnt                   813 non-null    float64\n",
      " 19  reg_cnt                     813 non-null    float64\n",
      " 20  reg_adv_cnt                 813 non-null    float64\n",
      " 21  non_diploma_credential_cnt  813 non-null    float64\n",
      " 22  still_enr_cnt               813 non-null    float64\n",
      " 23  ged_cnt                     813 non-null    float64\n",
      " 24  dropout_cnt                 813 non-null    float64\n",
      " 25  membership_code             818 non-null    float64\n",
      " 26  membership_desc             818 non-null    object \n",
      "dtypes: float64(14), int64(6), object(7)\n",
      "memory usage: 284.2+ KB\n"
     ]
    }
   ],
   "source": [
    "joinedDF.info()"
   ]
  },
  {
   "cell_type": "raw",
   "id": "f720a648",
   "metadata": {},
   "source": [
    "name = 'joinedDF_tempMatched6.csv'\n",
    "path = os.path.join(basePath, outputFolder, name)\n",
    "print(f'Saving to {path} ...')\n",
    "joinedDF.to_csv(path)\n",
    "print('Saved.')\n",
    "del name, path"
   ]
  },
  {
   "cell_type": "code",
   "execution_count": 35,
   "id": "4adcb5f1",
   "metadata": {},
   "outputs": [
    {
     "data": {
      "text/html": [
       "<div>\n",
       "<style scoped>\n",
       "    .dataframe tbody tr th:only-of-type {\n",
       "        vertical-align: middle;\n",
       "    }\n",
       "\n",
       "    .dataframe tbody tr th {\n",
       "        vertical-align: top;\n",
       "    }\n",
       "\n",
       "    .dataframe thead th {\n",
       "        text-align: right;\n",
       "    }\n",
       "</style>\n",
       "<table border=\"1\" class=\"dataframe\">\n",
       "  <thead>\n",
       "    <tr style=\"text-align: right;\">\n",
       "      <th></th>\n",
       "      <th>ENTITY_NAME</th>\n",
       "      <th>Year</th>\n",
       "      <th>12</th>\n",
       "      <th>11</th>\n",
       "      <th>10</th>\n",
       "      <th>9</th>\n",
       "      <th>HStotal</th>\n",
       "      <th>SCHOOL_NAME</th>\n",
       "      <th>NUM_LEVEL1</th>\n",
       "      <th>NUM_LEVEL2</th>\n",
       "      <th>...</th>\n",
       "      <th>grad_cnt</th>\n",
       "      <th>local_cnt</th>\n",
       "      <th>reg_cnt</th>\n",
       "      <th>reg_adv_cnt</th>\n",
       "      <th>non_diploma_credential_cnt</th>\n",
       "      <th>still_enr_cnt</th>\n",
       "      <th>ged_cnt</th>\n",
       "      <th>dropout_cnt</th>\n",
       "      <th>membership_code</th>\n",
       "      <th>membership_desc</th>\n",
       "    </tr>\n",
       "  </thead>\n",
       "  <tbody>\n",
       "    <tr>\n",
       "      <th>0</th>\n",
       "      <td>ALBANY HIGH SCHOOL</td>\n",
       "      <td>2023</td>\n",
       "      <td>611</td>\n",
       "      <td>581</td>\n",
       "      <td>654</td>\n",
       "      <td>754</td>\n",
       "      <td>2600</td>\n",
       "      <td>ALBANY HIGH SCHOOL</td>\n",
       "      <td>0.301</td>\n",
       "      <td>0.214</td>\n",
       "      <td>...</td>\n",
       "      <td>548.000</td>\n",
       "      <td>0.000</td>\n",
       "      <td>417.000</td>\n",
       "      <td>131.000</td>\n",
       "      <td>6.000</td>\n",
       "      <td>76.000</td>\n",
       "      <td>0.000</td>\n",
       "      <td>74.000</td>\n",
       "      <td>11.000</td>\n",
       "      <td>2019 Total Cohort - 4 Year Outcome - August 2023</td>\n",
       "    </tr>\n",
       "    <tr>\n",
       "      <th>1</th>\n",
       "      <td>GREEN TECH HIGH CHARTER SCHOOL</td>\n",
       "      <td>2023</td>\n",
       "      <td>59</td>\n",
       "      <td>55</td>\n",
       "      <td>74</td>\n",
       "      <td>118</td>\n",
       "      <td>306</td>\n",
       "      <td>GREEN TECH HIGH CHARTER SCHOOL</td>\n",
       "      <td>0.539</td>\n",
       "      <td>0.240</td>\n",
       "      <td>...</td>\n",
       "      <td>49.000</td>\n",
       "      <td>0.000</td>\n",
       "      <td>33.000</td>\n",
       "      <td>16.000</td>\n",
       "      <td>0.000</td>\n",
       "      <td>5.000</td>\n",
       "      <td>0.000</td>\n",
       "      <td>0.000</td>\n",
       "      <td>11.000</td>\n",
       "      <td>2019 Total Cohort - 4 Year Outcome - August 2023</td>\n",
       "    </tr>\n",
       "    <tr>\n",
       "      <th>2</th>\n",
       "      <td>ALBANY LEADERSHIP CS-GIRLS</td>\n",
       "      <td>2023</td>\n",
       "      <td>44</td>\n",
       "      <td>61</td>\n",
       "      <td>71</td>\n",
       "      <td>86</td>\n",
       "      <td>262</td>\n",
       "      <td>ALBANY LEADERSHIP CS-GIRLS</td>\n",
       "      <td>0.356</td>\n",
       "      <td>0.214</td>\n",
       "      <td>...</td>\n",
       "      <td>50.000</td>\n",
       "      <td>0.000</td>\n",
       "      <td>41.000</td>\n",
       "      <td>9.000</td>\n",
       "      <td>0.000</td>\n",
       "      <td>1.000</td>\n",
       "      <td>0.000</td>\n",
       "      <td>4.000</td>\n",
       "      <td>11.000</td>\n",
       "      <td>2019 Total Cohort - 4 Year Outcome - August 2023</td>\n",
       "    </tr>\n",
       "    <tr>\n",
       "      <th>3</th>\n",
       "      <td>BERNE-KNOX-WESTERLO JUNIOR-SENIOR HS</td>\n",
       "      <td>2023</td>\n",
       "      <td>49</td>\n",
       "      <td>58</td>\n",
       "      <td>61</td>\n",
       "      <td>52</td>\n",
       "      <td>220</td>\n",
       "      <td>BERNE-KNOX-WESTERLO JUNIOR-SENIOR HS</td>\n",
       "      <td>0.100</td>\n",
       "      <td>0.110</td>\n",
       "      <td>...</td>\n",
       "      <td>NaN</td>\n",
       "      <td>NaN</td>\n",
       "      <td>NaN</td>\n",
       "      <td>NaN</td>\n",
       "      <td>NaN</td>\n",
       "      <td>NaN</td>\n",
       "      <td>NaN</td>\n",
       "      <td>NaN</td>\n",
       "      <td>NaN</td>\n",
       "      <td>NaN</td>\n",
       "    </tr>\n",
       "    <tr>\n",
       "      <th>4</th>\n",
       "      <td>BETHLEHEM CENTRAL SENIOR HIGH SCHOOL</td>\n",
       "      <td>2023</td>\n",
       "      <td>338</td>\n",
       "      <td>345</td>\n",
       "      <td>339</td>\n",
       "      <td>330</td>\n",
       "      <td>1352</td>\n",
       "      <td>BETHLEHEM CENTRAL SENIOR HIGH SCHOOL</td>\n",
       "      <td>0.010</td>\n",
       "      <td>0.026</td>\n",
       "      <td>...</td>\n",
       "      <td>333.000</td>\n",
       "      <td>0.000</td>\n",
       "      <td>110.000</td>\n",
       "      <td>223.000</td>\n",
       "      <td>6.000</td>\n",
       "      <td>2.000</td>\n",
       "      <td>0.000</td>\n",
       "      <td>8.000</td>\n",
       "      <td>11.000</td>\n",
       "      <td>2019 Total Cohort - 4 Year Outcome - August 2023</td>\n",
       "    </tr>\n",
       "  </tbody>\n",
       "</table>\n",
       "<p>5 rows × 27 columns</p>\n",
       "</div>"
      ],
      "text/plain": [
       "                            ENTITY_NAME  Year   12   11   10    9  HStotal  \\\n",
       "0                    ALBANY HIGH SCHOOL  2023  611  581  654  754     2600   \n",
       "1        GREEN TECH HIGH CHARTER SCHOOL  2023   59   55   74  118      306   \n",
       "2            ALBANY LEADERSHIP CS-GIRLS  2023   44   61   71   86      262   \n",
       "3  BERNE-KNOX-WESTERLO JUNIOR-SENIOR HS  2023   49   58   61   52      220   \n",
       "4  BETHLEHEM CENTRAL SENIOR HIGH SCHOOL  2023  338  345  339  330     1352   \n",
       "\n",
       "                            SCHOOL_NAME  NUM_LEVEL1  NUM_LEVEL2  ...  \\\n",
       "0                    ALBANY HIGH SCHOOL       0.301       0.214  ...   \n",
       "1        GREEN TECH HIGH CHARTER SCHOOL       0.539       0.240  ...   \n",
       "2            ALBANY LEADERSHIP CS-GIRLS       0.356       0.214  ...   \n",
       "3  BERNE-KNOX-WESTERLO JUNIOR-SENIOR HS       0.100       0.110  ...   \n",
       "4  BETHLEHEM CENTRAL SENIOR HIGH SCHOOL       0.010       0.026  ...   \n",
       "\n",
       "   grad_cnt  local_cnt  reg_cnt reg_adv_cnt non_diploma_credential_cnt  \\\n",
       "0   548.000      0.000  417.000     131.000                      6.000   \n",
       "1    49.000      0.000   33.000      16.000                      0.000   \n",
       "2    50.000      0.000   41.000       9.000                      0.000   \n",
       "3       NaN        NaN      NaN         NaN                        NaN   \n",
       "4   333.000      0.000  110.000     223.000                      6.000   \n",
       "\n",
       "  still_enr_cnt ged_cnt  dropout_cnt  membership_code  \\\n",
       "0        76.000   0.000       74.000           11.000   \n",
       "1         5.000   0.000        0.000           11.000   \n",
       "2         1.000   0.000        4.000           11.000   \n",
       "3           NaN     NaN          NaN              NaN   \n",
       "4         2.000   0.000        8.000           11.000   \n",
       "\n",
       "                                    membership_desc  \n",
       "0  2019 Total Cohort - 4 Year Outcome - August 2023  \n",
       "1  2019 Total Cohort - 4 Year Outcome - August 2023  \n",
       "2  2019 Total Cohort - 4 Year Outcome - August 2023  \n",
       "3                                               NaN  \n",
       "4  2019 Total Cohort - 4 Year Outcome - August 2023  \n",
       "\n",
       "[5 rows x 27 columns]"
      ]
     },
     "execution_count": 35,
     "metadata": {},
     "output_type": "execute_result"
    }
   ],
   "source": [
    "joinedDF.head()"
   ]
  },
  {
   "cell_type": "code",
   "execution_count": 36,
   "id": "cc1d0f09",
   "metadata": {},
   "outputs": [
    {
     "data": {
      "text/plain": [
       "['OBJECTID',\n",
       " 'LEGAL_NAME',\n",
       " 'PHYSADDRLINE1',\n",
       " 'PHYSADDRLINE2',\n",
       " 'PHYSCITY',\n",
       " 'PHYSICALSTATE',\n",
       " 'PHYSZIPCD5',\n",
       " 'COUNTY_DESC',\n",
       " 'Contact_Name',\n",
       " 'CEO_TITLE',\n",
       " 'CEO_PHONENUM',\n",
       " 'CEO_EMAIL',\n",
       " 'INST_TYPE_DESC',\n",
       " 'INSTSUBTYPDESC',\n",
       " 'RECORD_TYPE_DESC',\n",
       " 'COMMUNITY_TYPE_DESC',\n",
       " 'DIST_TYPE_DESC',\n",
       " 'SDL_DESC',\n",
       " 'INSTIT_ID',\n",
       " 'SED_CODE',\n",
       " 'geometry']"
      ]
     },
     "execution_count": 36,
     "metadata": {},
     "output_type": "execute_result"
    }
   ],
   "source": [
    "list(NYSSchoolsGeom.columns)"
   ]
  },
  {
   "cell_type": "code",
   "execution_count": 37,
   "id": "c5f24273",
   "metadata": {},
   "outputs": [
    {
     "name": "stdout",
     "output_type": "stream",
     "text": [
      "<class 'geopandas.geodataframe.GeoDataFrame'>\n",
      "RangeIndex: 8125 entries, 0 to 8124\n",
      "Data columns (total 21 columns):\n",
      " #   Column               Non-Null Count  Dtype   \n",
      "---  ------               --------------  -----   \n",
      " 0   OBJECTID             8125 non-null   int64   \n",
      " 1   LEGAL_NAME           8125 non-null   object  \n",
      " 2   PHYSADDRLINE1        8125 non-null   object  \n",
      " 3   PHYSADDRLINE2        8125 non-null   object  \n",
      " 4   PHYSCITY             8125 non-null   object  \n",
      " 5   PHYSICALSTATE        8125 non-null   object  \n",
      " 6   PHYSZIPCD5           8125 non-null   object  \n",
      " 7   COUNTY_DESC          8125 non-null   object  \n",
      " 8   Contact_Name         8125 non-null   object  \n",
      " 9   CEO_TITLE            8125 non-null   object  \n",
      " 10  CEO_PHONENUM         7918 non-null   object  \n",
      " 11  CEO_EMAIL            8125 non-null   object  \n",
      " 12  INST_TYPE_DESC       8125 non-null   object  \n",
      " 13  INSTSUBTYPDESC       8125 non-null   object  \n",
      " 14  RECORD_TYPE_DESC     8125 non-null   object  \n",
      " 15  COMMUNITY_TYPE_DESC  8125 non-null   object  \n",
      " 16  DIST_TYPE_DESC       8125 non-null   object  \n",
      " 17  SDL_DESC             8125 non-null   object  \n",
      " 18  INSTIT_ID            8125 non-null   int64   \n",
      " 19  SED_CODE             8125 non-null   object  \n",
      " 20  geometry             8125 non-null   geometry\n",
      "dtypes: geometry(1), int64(2), object(18)\n",
      "memory usage: 1.3+ MB\n"
     ]
    }
   ],
   "source": [
    "NYSSchoolsGeom.info()"
   ]
  },
  {
   "cell_type": "code",
   "execution_count": 38,
   "id": "45e730c9",
   "metadata": {},
   "outputs": [],
   "source": [
    "columns_to_drop = [\n",
    " 'PHYSADDRLINE1',\n",
    " 'PHYSADDRLINE2',\n",
    " 'PHYSCITY',\n",
    " 'PHYSICALSTATE',\n",
    " 'PHYSZIPCD5',\n",
    " 'COUNTY_DESC',\n",
    " 'Contact_Name',\n",
    " 'CEO_TITLE',\n",
    " 'CEO_PHONENUM',\n",
    " 'CEO_EMAIL',\n",
    " 'INST_TYPE_DESC',\n",
    " 'RECORD_TYPE_DESC',\n",
    " 'COMMUNITY_TYPE_DESC',\n",
    " 'DIST_TYPE_DESC',\n",
    " 'INSTIT_ID',\n",
    " 'SED_CODE']\n",
    "NYSSchoolsGeom_short = NYSSchoolsGeom.drop(columns_to_drop, axis = 1)"
   ]
  },
  {
   "cell_type": "code",
   "execution_count": 49,
   "id": "2fb564e6",
   "metadata": {},
   "outputs": [
    {
     "name": "stderr",
     "output_type": "stream",
     "text": [
      "Matching Names: 100%|██████████████████████████████████████████████████████████████| 1299/1299 [21:04<00:00,  1.03it/s]"
     ]
    },
    {
     "name": "stdout",
     "output_type": "stream",
     "text": [
      "Done.\n"
     ]
    },
    {
     "name": "stderr",
     "output_type": "stream",
     "text": [
      "\n"
     ]
    }
   ],
   "source": [
    "# Matching the school data file with spatial data (geojson of schools locations)\n",
    "\n",
    "tqdm.pandas(desc=\"Matching Names\")\n",
    "\n",
    "matched_tuples = joinedDF['ENTITY_NAME'].progress_apply(\n",
    "    lambda x: match_name(x, NYSSchoolsGeom_short['LEGAL_NAME'], min_score=73))\n",
    "\n",
    "print('Done.')"
   ]
  },
  {
   "cell_type": "code",
   "execution_count": 59,
   "id": "97159ac9",
   "metadata": {},
   "outputs": [
    {
     "name": "stdout",
     "output_type": "stream",
     "text": [
      "<class 'geopandas.geodataframe.GeoDataFrame'>\n",
      "RangeIndex: 8125 entries, 0 to 8124\n",
      "Data columns (total 5 columns):\n",
      " #   Column          Non-Null Count  Dtype   \n",
      "---  ------          --------------  -----   \n",
      " 0   OBJECTID        8125 non-null   int64   \n",
      " 1   LEGAL_NAME      8125 non-null   object  \n",
      " 2   INSTSUBTYPDESC  8125 non-null   object  \n",
      " 3   SDL_DESC        8125 non-null   object  \n",
      " 4   geometry        8125 non-null   geometry\n",
      "dtypes: geometry(1), int64(1), object(3)\n",
      "memory usage: 317.5+ KB\n"
     ]
    }
   ],
   "source": [
    "NYSSchoolsGeom_short.info()"
   ]
  },
  {
   "cell_type": "code",
   "execution_count": 50,
   "id": "74fc8700",
   "metadata": {},
   "outputs": [
    {
     "name": "stdout",
     "output_type": "stream",
     "text": [
      "Appending mathes to the dataframe.\n",
      "Done.\n"
     ]
    }
   ],
   "source": [
    "print('Appending mathes to the dataframe.')\n",
    "joinedDF['matched_name'] = list(zip(*matched_tuples))[0]\n",
    "joinedDF['matched_score'] = list(zip(*matched_tuples))[1]\n",
    "print('Done.')"
   ]
  },
  {
   "cell_type": "code",
   "execution_count": 61,
   "id": "f8e141a7",
   "metadata": {},
   "outputs": [
    {
     "data": {
      "text/html": [
       "<div>\n",
       "<style scoped>\n",
       "    .dataframe tbody tr th:only-of-type {\n",
       "        vertical-align: middle;\n",
       "    }\n",
       "\n",
       "    .dataframe tbody tr th {\n",
       "        vertical-align: top;\n",
       "    }\n",
       "\n",
       "    .dataframe thead th {\n",
       "        text-align: right;\n",
       "    }\n",
       "</style>\n",
       "<table border=\"1\" class=\"dataframe\">\n",
       "  <thead>\n",
       "    <tr style=\"text-align: right;\">\n",
       "      <th></th>\n",
       "      <th>ENTITY_NAME</th>\n",
       "      <th>Year</th>\n",
       "      <th>12</th>\n",
       "      <th>11</th>\n",
       "      <th>10</th>\n",
       "      <th>9</th>\n",
       "      <th>HStotal</th>\n",
       "      <th>SCHOOL_NAME</th>\n",
       "      <th>NUM_LEVEL1</th>\n",
       "      <th>NUM_LEVEL2</th>\n",
       "      <th>...</th>\n",
       "      <th>reg_cnt</th>\n",
       "      <th>reg_adv_cnt</th>\n",
       "      <th>non_diploma_credential_cnt</th>\n",
       "      <th>still_enr_cnt</th>\n",
       "      <th>ged_cnt</th>\n",
       "      <th>dropout_cnt</th>\n",
       "      <th>membership_code</th>\n",
       "      <th>membership_desc</th>\n",
       "      <th>matched_name</th>\n",
       "      <th>matched_score</th>\n",
       "    </tr>\n",
       "  </thead>\n",
       "  <tbody>\n",
       "    <tr>\n",
       "      <th>0</th>\n",
       "      <td>ALBANY HIGH SCHOOL</td>\n",
       "      <td>2023</td>\n",
       "      <td>611</td>\n",
       "      <td>581</td>\n",
       "      <td>654</td>\n",
       "      <td>754</td>\n",
       "      <td>2600</td>\n",
       "      <td>ALBANY HIGH SCHOOL</td>\n",
       "      <td>0.301</td>\n",
       "      <td>0.214</td>\n",
       "      <td>...</td>\n",
       "      <td>417.000</td>\n",
       "      <td>131.000</td>\n",
       "      <td>6.000</td>\n",
       "      <td>76.000</td>\n",
       "      <td>0.000</td>\n",
       "      <td>74.000</td>\n",
       "      <td>11.000</td>\n",
       "      <td>2019 Total Cohort - 4 Year Outcome - August 2023</td>\n",
       "      <td>ALBANY HIGH SCHOOL</td>\n",
       "      <td>100</td>\n",
       "    </tr>\n",
       "    <tr>\n",
       "      <th>1</th>\n",
       "      <td>GREEN TECH HIGH CHARTER SCHOOL</td>\n",
       "      <td>2023</td>\n",
       "      <td>59</td>\n",
       "      <td>55</td>\n",
       "      <td>74</td>\n",
       "      <td>118</td>\n",
       "      <td>306</td>\n",
       "      <td>GREEN TECH HIGH CHARTER SCHOOL</td>\n",
       "      <td>0.539</td>\n",
       "      <td>0.240</td>\n",
       "      <td>...</td>\n",
       "      <td>33.000</td>\n",
       "      <td>16.000</td>\n",
       "      <td>0.000</td>\n",
       "      <td>5.000</td>\n",
       "      <td>0.000</td>\n",
       "      <td>0.000</td>\n",
       "      <td>11.000</td>\n",
       "      <td>2019 Total Cohort - 4 Year Outcome - August 2023</td>\n",
       "      <td>GREEN TECH HIGH CHARTER SCHOOL</td>\n",
       "      <td>100</td>\n",
       "    </tr>\n",
       "    <tr>\n",
       "      <th>2</th>\n",
       "      <td>ALBANY LEADERSHIP CS-GIRLS</td>\n",
       "      <td>2023</td>\n",
       "      <td>44</td>\n",
       "      <td>61</td>\n",
       "      <td>71</td>\n",
       "      <td>86</td>\n",
       "      <td>262</td>\n",
       "      <td>ALBANY LEADERSHIP CS-GIRLS</td>\n",
       "      <td>0.356</td>\n",
       "      <td>0.214</td>\n",
       "      <td>...</td>\n",
       "      <td>41.000</td>\n",
       "      <td>9.000</td>\n",
       "      <td>0.000</td>\n",
       "      <td>1.000</td>\n",
       "      <td>0.000</td>\n",
       "      <td>4.000</td>\n",
       "      <td>11.000</td>\n",
       "      <td>2019 Total Cohort - 4 Year Outcome - August 2023</td>\n",
       "      <td>ALBANY LEADERSHIP CMS FOR GIRLS</td>\n",
       "      <td>91</td>\n",
       "    </tr>\n",
       "    <tr>\n",
       "      <th>3</th>\n",
       "      <td>BERNE-KNOX-WESTERLO JUNIOR-SENIOR HS</td>\n",
       "      <td>2023</td>\n",
       "      <td>49</td>\n",
       "      <td>58</td>\n",
       "      <td>61</td>\n",
       "      <td>52</td>\n",
       "      <td>220</td>\n",
       "      <td>BERNE-KNOX-WESTERLO JUNIOR-SENIOR HS</td>\n",
       "      <td>0.100</td>\n",
       "      <td>0.110</td>\n",
       "      <td>...</td>\n",
       "      <td>NaN</td>\n",
       "      <td>NaN</td>\n",
       "      <td>NaN</td>\n",
       "      <td>NaN</td>\n",
       "      <td>NaN</td>\n",
       "      <td>NaN</td>\n",
       "      <td>NaN</td>\n",
       "      <td>NaN</td>\n",
       "      <td>BERNE-KNOX-WESTERLO JUNIOR-SENIOR HIGH SCHOOL</td>\n",
       "      <td>86</td>\n",
       "    </tr>\n",
       "    <tr>\n",
       "      <th>4</th>\n",
       "      <td>BETHLEHEM CENTRAL SENIOR HIGH SCHOOL</td>\n",
       "      <td>2023</td>\n",
       "      <td>338</td>\n",
       "      <td>345</td>\n",
       "      <td>339</td>\n",
       "      <td>330</td>\n",
       "      <td>1352</td>\n",
       "      <td>BETHLEHEM CENTRAL SENIOR HIGH SCHOOL</td>\n",
       "      <td>0.010</td>\n",
       "      <td>0.026</td>\n",
       "      <td>...</td>\n",
       "      <td>110.000</td>\n",
       "      <td>223.000</td>\n",
       "      <td>6.000</td>\n",
       "      <td>2.000</td>\n",
       "      <td>0.000</td>\n",
       "      <td>8.000</td>\n",
       "      <td>11.000</td>\n",
       "      <td>2019 Total Cohort - 4 Year Outcome - August 2023</td>\n",
       "      <td>BETHLEHEM CENTRAL SENIOR HIGH SCHOOL</td>\n",
       "      <td>100</td>\n",
       "    </tr>\n",
       "  </tbody>\n",
       "</table>\n",
       "<p>5 rows × 29 columns</p>\n",
       "</div>"
      ],
      "text/plain": [
       "                            ENTITY_NAME  Year   12   11   10    9  HStotal  \\\n",
       "0                    ALBANY HIGH SCHOOL  2023  611  581  654  754     2600   \n",
       "1        GREEN TECH HIGH CHARTER SCHOOL  2023   59   55   74  118      306   \n",
       "2            ALBANY LEADERSHIP CS-GIRLS  2023   44   61   71   86      262   \n",
       "3  BERNE-KNOX-WESTERLO JUNIOR-SENIOR HS  2023   49   58   61   52      220   \n",
       "4  BETHLEHEM CENTRAL SENIOR HIGH SCHOOL  2023  338  345  339  330     1352   \n",
       "\n",
       "                            SCHOOL_NAME  NUM_LEVEL1  NUM_LEVEL2  ...  reg_cnt  \\\n",
       "0                    ALBANY HIGH SCHOOL       0.301       0.214  ...  417.000   \n",
       "1        GREEN TECH HIGH CHARTER SCHOOL       0.539       0.240  ...   33.000   \n",
       "2            ALBANY LEADERSHIP CS-GIRLS       0.356       0.214  ...   41.000   \n",
       "3  BERNE-KNOX-WESTERLO JUNIOR-SENIOR HS       0.100       0.110  ...      NaN   \n",
       "4  BETHLEHEM CENTRAL SENIOR HIGH SCHOOL       0.010       0.026  ...  110.000   \n",
       "\n",
       "   reg_adv_cnt  non_diploma_credential_cnt still_enr_cnt ged_cnt dropout_cnt  \\\n",
       "0      131.000                       6.000        76.000   0.000      74.000   \n",
       "1       16.000                       0.000         5.000   0.000       0.000   \n",
       "2        9.000                       0.000         1.000   0.000       4.000   \n",
       "3          NaN                         NaN           NaN     NaN         NaN   \n",
       "4      223.000                       6.000         2.000   0.000       8.000   \n",
       "\n",
       "  membership_code                                   membership_desc  \\\n",
       "0          11.000  2019 Total Cohort - 4 Year Outcome - August 2023   \n",
       "1          11.000  2019 Total Cohort - 4 Year Outcome - August 2023   \n",
       "2          11.000  2019 Total Cohort - 4 Year Outcome - August 2023   \n",
       "3             NaN                                               NaN   \n",
       "4          11.000  2019 Total Cohort - 4 Year Outcome - August 2023   \n",
       "\n",
       "                                    matched_name  matched_score  \n",
       "0                             ALBANY HIGH SCHOOL            100  \n",
       "1                 GREEN TECH HIGH CHARTER SCHOOL            100  \n",
       "2                ALBANY LEADERSHIP CMS FOR GIRLS             91  \n",
       "3  BERNE-KNOX-WESTERLO JUNIOR-SENIOR HIGH SCHOOL             86  \n",
       "4           BETHLEHEM CENTRAL SENIOR HIGH SCHOOL            100  \n",
       "\n",
       "[5 rows x 29 columns]"
      ]
     },
     "execution_count": 61,
     "metadata": {},
     "output_type": "execute_result"
    }
   ],
   "source": [
    "joinedDF.head()"
   ]
  },
  {
   "cell_type": "code",
   "execution_count": 51,
   "id": "acf51391",
   "metadata": {},
   "outputs": [
    {
     "name": "stdout",
     "output_type": "stream",
     "text": [
      "Saving to G:\\My Drive\\Kids\\NYC_schools_mapped\\processed_data\\joinedDF_tempMatched7.csv ...\n",
      "Saved.\n"
     ]
    }
   ],
   "source": [
    "name = 'joinedDF_tempMatched7.csv'\n",
    "path = os.path.join(basePath, outputFolder, name)\n",
    "print(f'Saving to {path} ...')\n",
    "joinedDF.to_csv(path)\n",
    "print('Saved.')\n",
    "del name, path"
   ]
  },
  {
   "cell_type": "code",
   "execution_count": 53,
   "id": "11fdec6a",
   "metadata": {},
   "outputs": [],
   "source": [
    "unmatched = {\n",
    "    'NY MILLS SCHOOL':'',\n",
    "    'PS 469-BRONX SCHOOL-CON LRN':'',\n",
    "    'SULLIVAN WEST HIGH SCHOOL':'',\n",
    "    'HIGH SCHOOL-ENTERPRISE, BUS & TECH':'',\n",
    "    'BRONX ENG & TECH ACADEMY':'',\n",
    "    'GEORGE WASHINGTON CARVER HS':'',\n",
    "    'INTER PREP SCHOOL (THE)':'',\n",
    "    'ROBERT H GODDARD HS-COMM/TECH':'',\n",
    "    'MATH, ENG, SCI ACADEMY CHARTER HS':'',\n",
    "    'FIORELLO H LAGUARDIA HIGH SCHOOL':'FIORELLO H LAGUARDIA HIGH SCHOOL OF MUSIC ART AND PERFORMING ARTS',\n",
    "    'MT VERNON SCHOOL DISTRICT':'',\n",
    "    'CITY POLYTECHNIC HIGH SCHOOL':'CITY POLYTECHNIC HIGH SCHOOL OF ENGINEERING ARCHITECTURE AND TECHNOLOGY',\n",
    "    'BROOKLYN COLLEGIATE':'BROOKLYN COLLEGIATE: A COLLEGE BOARD SCHOOL'\n",
    "}"
   ]
  },
  {
   "cell_type": "code",
   "execution_count": 54,
   "id": "1a165ac9",
   "metadata": {},
   "outputs": [],
   "source": [
    "# Replacing the erroneus matches in the allResultsDF_2023 data frame\n",
    "\n",
    "def replace_values(row):\n",
    "    if row['ENTITY_NAME'] in unmatched:\n",
    "        row['matched_name'] = unmatched[row['ENTITY_NAME']]\n",
    "    return row\n",
    "\n",
    "joinedDF = joinedDF.apply(replace_values, axis = 1)"
   ]
  },
  {
   "cell_type": "code",
   "execution_count": 55,
   "id": "3c1f4332",
   "metadata": {},
   "outputs": [
    {
     "name": "stdout",
     "output_type": "stream",
     "text": [
      "Saving to G:\\My Drive\\Kids\\NYC_schools_mapped\\processed_data\\NYSHS_regents.geojson ...\n",
      "Saved.\n"
     ]
    }
   ],
   "source": [
    "# Merging dataframes based on the matched name\n",
    "\n",
    "finalGeoDF = pd.merge(NYSSchoolsGeom_short, joinedDF, left_on='LEGAL_NAME', right_on='matched_name')\n",
    "allData_Name = 'NYSHS_regents.geojson'\n",
    "allData_Path = os.path.join(basePath,outputFolder, allData_Name)\n",
    "print(f'Saving to {allData_Path} ...')\n",
    "finalGeoDF.to_file(allData_Path, driver=\"GeoJSON\")\n",
    "print('Saved.')\n",
    "\n",
    "del allData_Name, allData_Path"
   ]
  },
  {
   "cell_type": "code",
   "execution_count": 56,
   "id": "c800c7c2",
   "metadata": {},
   "outputs": [
    {
     "name": "stdout",
     "output_type": "stream",
     "text": [
      "<class 'geopandas.geodataframe.GeoDataFrame'>\n",
      "Int64Index: 1237 entries, 0 to 1236\n",
      "Data columns (total 34 columns):\n",
      " #   Column                      Non-Null Count  Dtype   \n",
      "---  ------                      --------------  -----   \n",
      " 0   OBJECTID                    1237 non-null   int64   \n",
      " 1   LEGAL_NAME                  1237 non-null   object  \n",
      " 2   INSTSUBTYPDESC              1237 non-null   object  \n",
      " 3   SDL_DESC                    1237 non-null   object  \n",
      " 4   geometry                    1237 non-null   geometry\n",
      " 5   ENTITY_NAME                 1237 non-null   object  \n",
      " 6   Year                        1237 non-null   int64   \n",
      " 7   12                          1237 non-null   int64   \n",
      " 8   11                          1237 non-null   int64   \n",
      " 9   10                          1237 non-null   int64   \n",
      " 10  9                           1237 non-null   int64   \n",
      " 11  HStotal                     1237 non-null   int64   \n",
      " 12  SCHOOL_NAME                 1197 non-null   object  \n",
      " 13  NUM_LEVEL1                  1193 non-null   float64 \n",
      " 14  NUM_LEVEL2                  1193 non-null   float64 \n",
      " 15  NUM_LEVEL3                  1193 non-null   float64 \n",
      " 16  NUM_LEVEL4                  1193 non-null   float64 \n",
      " 17  NUM_LEVEL5                  1193 non-null   float64 \n",
      " 18  report_school_year          819 non-null    object  \n",
      " 19  aggregation_type            819 non-null    object  \n",
      " 20  aggregation_name            819 non-null    object  \n",
      " 21  subgroup_name               819 non-null    object  \n",
      " 22  grad_cnt                    814 non-null    float64 \n",
      " 23  local_cnt                   814 non-null    float64 \n",
      " 24  reg_cnt                     814 non-null    float64 \n",
      " 25  reg_adv_cnt                 814 non-null    float64 \n",
      " 26  non_diploma_credential_cnt  814 non-null    float64 \n",
      " 27  still_enr_cnt               814 non-null    float64 \n",
      " 28  ged_cnt                     814 non-null    float64 \n",
      " 29  dropout_cnt                 814 non-null    float64 \n",
      " 30  membership_code             819 non-null    float64 \n",
      " 31  membership_desc             819 non-null    object  \n",
      " 32  matched_name                1237 non-null   object  \n",
      " 33  matched_score               1237 non-null   int64   \n",
      "dtypes: float64(14), geometry(1), int64(8), object(11)\n",
      "memory usage: 338.2+ KB\n"
     ]
    }
   ],
   "source": [
    "finalGeoDF.info()"
   ]
  },
  {
   "cell_type": "markdown",
   "id": "01090176",
   "metadata": {},
   "source": [
    "finalGeoDF['reg_adv_pct'] = finalGeoDF['reg_adv_cnt']/finalGeoDF['12']"
   ]
  },
  {
   "cell_type": "raw",
   "id": "74429d32",
   "metadata": {},
   "source": [
    "finalGeoDF = finalGeoDF[finalGeoDF['ENTITY_NAME'] != 'EMMA LAZARUS HIGH SCHOOL']"
   ]
  },
  {
   "cell_type": "markdown",
   "id": "5159ef36",
   "metadata": {},
   "source": [
    "### Generating the map"
   ]
  },
  {
   "cell_type": "code",
   "execution_count": 57,
   "id": "6a320f4f",
   "metadata": {},
   "outputs": [
    {
     "data": {
      "text/html": [
       "<style>.output_scroll { height: auto !important; max-height: 1500px; }</style>"
      ],
      "text/plain": [
       "<IPython.core.display.HTML object>"
      ]
     },
     "metadata": {},
     "output_type": "display_data"
    },
    {
     "name": "stderr",
     "output_type": "stream",
     "text": [
      "100%|██████████████████████████████████████████████████████████████████████████████| 1237/1237 [00:49<00:00, 25.13it/s]\n"
     ]
    },
    {
     "name": "stdout",
     "output_type": "stream",
     "text": [
      "Saving to G:\\My Drive\\Kids\\NYC_schools_mapped\\processed_data\\NYSHS_quality.html ...\n",
      "Saved.\n"
     ]
    }
   ],
   "source": [
    "from IPython.core.display import display, HTML\n",
    "\n",
    "display(HTML(\"<style>.output_scroll { height: auto !important; max-height: 1500px; }</style>\"))\n",
    "\n",
    "# Create a map object, centered at NYS\n",
    "mapNYS = folium.Map(location=[42.7000, -74.2179], zoom_start=8, tiles=\"cartodb positron\")\n",
    "   \n",
    "# Add dataframes with coordinates and test results to the map\n",
    "\n",
    "def my_style(x):\n",
    "    regntsLVL5 = x['properties']['NUM_LEVEL5']\n",
    "    charter = x['properties']['INSTSUBTYPDESC']\n",
    "    color = '#f0a607' if charter == 'CHARTER SCHOOL'  else '#f0a607' if charter == 'SATELLITE SITE FOR CHARTER SCHOOLS' else '#06a6cf'\n",
    "    if regntsLVL5 is None:\n",
    "        regntsLVL5 = 0\n",
    "    return {\n",
    "        \"radius\": (regntsLVL5)*2000,\n",
    "        \"color\": color,\n",
    "    }  \n",
    "\n",
    "\n",
    "# Function to create iframe for a given row\n",
    "def create_iframe(row):    \n",
    "    html =  '<strong>{0}:</strong> {1}<br><strong>{2}:</strong> {3}<br><strong>{4}:</strong> {5}\\\n",
    "    <br><strong>{6}:</strong> {7}<br><strong>{8}:</strong> {9}'.format(\n",
    "        'School Name', row['LEGAL_NAME'],\n",
    "        'Advance Regents Diplomas count 2022-23', round(row['reg_adv_cnt'], 2),\n",
    "        'Number of students in grades 9-12', row['HStotal'],\n",
    "        'Share of regents level 5 score', round(row['NUM_LEVEL5'], 2),\n",
    "        'Share of regents level 4 score', round(row['NUM_LEVEL4'], 2)\n",
    "    )\n",
    "    return folium.IFrame(html, width=500, height=150)\n",
    "\n",
    "def create_popup(x):\n",
    "    iframe = create_iframe(x)\n",
    "    popup = folium.Popup(iframe)\n",
    "    return popup\n",
    "\n",
    "# Iterate over the GeoDataFrame and add a popup to each feature\n",
    "for _, row in tqdm(finalGeoDF.iterrows(), total = len(finalGeoDF)):\n",
    "    iframe = create_iframe(row)\n",
    "        \n",
    "    data = gpd.GeoDataFrame(row.to_frame().T, crs=finalGeoDF.crs)\n",
    "    \n",
    "    folium.GeoJson(\n",
    "    data,\n",
    "    marker = folium.Circle(radius=10, fill_color='white', fill_opacity=0, color=\"green\", weight=2),\n",
    "    #marker = folium.Circle(radius=10),    \n",
    "    popup = folium.Popup(iframe),\n",
    "    style_function = my_style, \n",
    "    control = False    \n",
    "    #zoom_on_click = True,    \n",
    ").add_to(mapNYS)    \n",
    "        \n",
    "folium.LayerControl().add_to(mapNYS)    \n",
    "  \n",
    "# # Display the map\n",
    "# mapNYC\n",
    "\n",
    "# Save map to html\n",
    "mfile = 'NYSHS_quality.html'\n",
    "mpath = os.path.join(basePath, outputFolder, mfile)\n",
    "print(f'Saving to {mpath} ...')\n",
    "mapNYS.save(mpath)\n",
    "print('Saved.')"
   ]
  },
  {
   "cell_type": "code",
   "execution_count": null,
   "id": "701048c4",
   "metadata": {},
   "outputs": [],
   "source": [
    "sq"
   ]
  }
 ],
 "metadata": {
  "kernelspec": {
   "display_name": "Python 3 (ipykernel)",
   "language": "python",
   "name": "python3"
  },
  "language_info": {
   "codemirror_mode": {
    "name": "ipython",
    "version": 3
   },
   "file_extension": ".py",
   "mimetype": "text/x-python",
   "name": "python",
   "nbconvert_exporter": "python",
   "pygments_lexer": "ipython3",
   "version": "3.7.12"
  }
 },
 "nbformat": 4,
 "nbformat_minor": 5
}
