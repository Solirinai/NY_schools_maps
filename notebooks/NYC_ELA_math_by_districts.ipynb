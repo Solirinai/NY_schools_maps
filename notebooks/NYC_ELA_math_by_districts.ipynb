{
 "cells": [
  {
   "cell_type": "markdown",
   "id": "888b8e0c",
   "metadata": {},
   "source": [
    "# Analysis of NYC public schools results in ELA and math grades 6-8: prepare data by districts"
   ]
  },
  {
   "cell_type": "markdown",
   "id": "3e1cc970-ea50-4b77-a0bc-3b7d63c9b1f0",
   "metadata": {},
   "source": [
    "<span style=\"color: red;\">**If kernel can't connect to server again run command:**\n",
    "*netsh winsock reset*<span>"
   ]
  },
  {
   "cell_type": "markdown",
   "id": "7b64d144",
   "metadata": {},
   "source": [
    "## Table of contents\n",
    "\n",
    "1. [Data sources](#data)\n",
    "4. [Performace levels: definions](#levels_definition)\n",
    "2. [Imports: modules](#modules)\n",
    "3. [Read data](#read_data)\n",
    "5. [Analysis](#analysis)\n",
    "    1. [Share of students with results MATH \"Level 4\" in all NYC public schools by year (Grades 3-8)](#share)\n",
    "    1. [Math results timeseries chart: NYC](#city)\n",
    "    1. [Middle Schools (grades 6-8) test results by school district](#MS_charts_district)"
   ]
  },
  {
   "cell_type": "markdown",
   "id": "00c1d9de-c41d-4577-8a53-84356c5ebcc4",
   "metadata": {},
   "source": [
    "<a id=\"data\"></a> \n",
    "#### Data:\n",
    "1. Data New York City grades 3-8 New York State English Language Arts and Math State Tests results 2013-2023:<br>https://infohub.nyced.org/reports/academics/test-results\n",
    "2. New York City school districts boundaries:<br>https://data.cityofnewyork.us/Education/School-Districts/r8nu-ymqj"
   ]
  },
  {
   "cell_type": "markdown",
   "id": "c53d80ad",
   "metadata": {},
   "source": [
    "<a id=\"levels_definition\"></a> \n",
    "#### Definitions of Performance Levels for the 2023 Grades 3-8 English Language Arts and Mathematics Tests  \n",
    "\n",
    "**NYS Level 1**: Students performing at this level are below proficient in standards for their grade. They may demonstrate limited knowledge, skills, and practices embodied by the Learning Standards that are considered insufficient for the expectations at this grade. \n",
    "\n",
    "**NYS Level 2**: Students performing at this level are partially proficient in standards for their grade. They demonstrate knowledge, skills, and practices embodied by the Learning Standards that are considered partial but insufficient for the expectations at this grade. Students performing at Level 2 are considered on track to meet current New York high school graduation requirements but are not yet proficient in Learning Standards at this grade. \n",
    "\n",
    "**NYS Level 3**: Students performing at this level are proficient in standards for their grade. They demonstrate knowledge, skills, and practices embodied by the Learning Standards that are considered sufficient for the expectations at this grade.  \n",
    "\n",
    "**NYS Level 4**: Students performing at this level excel in standards for their grade. They demonstrate knowledge, skills, and practices embodied by the Learning Standards that are considered more than sufficient for the expectations at this grade.  \n",
    "\n",
    "*Source: NYSED, 2023, https://www.p12.nysed.gov/irs/ela-math/2023/ela-math-score-ranges-performance-levels-2023.pdf*"
   ]
  },
  {
   "cell_type": "raw",
   "id": "06c708fb",
   "metadata": {},
   "source": [
    "Scale Score Ranges Associated with Each Mathematics Performance Level \n",
    "\n",
    "Grade NYS Level 1 NYS Level 2 NYS Level 3 NYS Level 4 \n",
    "    3 377–423     424–449     450–486     487–501 \n",
    "    4 378–430     431–449     450–485     486–507 \n",
    "    5 381–431     432–449     450–482     483–506 \n",
    "    6 388–430     431–449     450–484     485–513 \n",
    "    7 379–429     430–449     450–476     477–509 \n",
    "    8 379–435     436–449     450–481     482–514 "
   ]
  },
  {
   "cell_type": "markdown",
   "id": "6c76a2e7",
   "metadata": {},
   "source": [
    "<a id=\"questions\"></a> \n",
    "### Question\n",
    "*1. How to compare the school districts?*\n",
    "<br>In this analysis, we choose the sum of shares of students with level 4 test resulsts in state math and ELA test as comparison variable. The sum can be between 0 and 2. This indicator is selected to cover both subjects.\n",
    "ALternatively, the indicator can be sum of shares of students with levels 3+4 test results in math and ELA. The notebook would be needed to changed accordingly."
   ]
  },
  {
   "cell_type": "markdown",
   "id": "b7250733",
   "metadata": {},
   "source": [
    "<a id=\"modules\"></a> \n",
    "#### Imports: modules"
   ]
  },
  {
   "cell_type": "code",
   "execution_count": 1,
   "id": "69e42758",
   "metadata": {},
   "outputs": [],
   "source": [
    "import os\n",
    "import pandas as pd\n",
    "#import geopandas as gpd\n",
    "import matplotlib.pyplot as plt\n",
    "\n",
    "pd.set_option('display.float_format', '{:.3f}'.format)"
   ]
  },
  {
   "cell_type": "markdown",
   "id": "4ca0a9e3",
   "metadata": {},
   "source": [
    "<a id=\"read_data\"></a> \n",
    "#### Read data"
   ]
  },
  {
   "cell_type": "code",
   "execution_count": 2,
   "id": "ce078287",
   "metadata": {},
   "outputs": [
    {
     "name": "stdout",
     "output_type": "stream",
     "text": [
      "G:\\My Drive\\Kids\\NYC_schools_mapped\\raw_data\\school-math-results-2013-2023-(public).xlsx\n",
      "G:\\My Drive\\Kids\\NYC_schools_mapped\\raw_data\\school-ela-results-2013-2023-(public).xlsx\n"
     ]
    }
   ],
   "source": [
    "basePath = r\"G:\\My Drive\\Kids\\NYC_schools_mapped\\raw_data\"\n",
    "\n",
    "#Read math results\n",
    "fileName_math = \"school-math-results-2013-2023-(public).xlsx\"\n",
    "mathPath = os.path.join(basePath,fileName_math)\n",
    "print(mathPath)\n",
    "sheetName_math = \"All\"\n",
    "mathResultsDF = pd.read_excel(mathPath, sheetName_math)\n",
    "\n",
    "#Read ELA results\n",
    "fileName_ELA = \"school-ela-results-2013-2023-(public).xlsx\"\n",
    "ELAPath = os.path.join(basePath,fileName_ELA)\n",
    "print(ELAPath)\n",
    "sheetName_ELA = \"All\"\n",
    "ELAResultsDF = pd.read_excel(ELAPath, sheetName_ELA)"
   ]
  },
  {
   "cell_type": "code",
   "execution_count": 23,
   "id": "87a695e3",
   "metadata": {},
   "outputs": [],
   "source": [
    "# Change the subject below and rerun the notebook\n",
    "# subject = 'math'\n",
    "subject = 'ELA'"
   ]
  },
  {
   "cell_type": "code",
   "execution_count": 24,
   "id": "9687494d",
   "metadata": {},
   "outputs": [],
   "source": [
    "resultsDF = ELAResultsDF if subject == 'ELA' else mathResultsDF"
   ]
  },
  {
   "cell_type": "code",
   "execution_count": 25,
   "id": "e6ba8228",
   "metadata": {},
   "outputs": [
    {
     "data": {
      "text/html": [
       "<div>\n",
       "<style scoped>\n",
       "    .dataframe tbody tr th:only-of-type {\n",
       "        vertical-align: middle;\n",
       "    }\n",
       "\n",
       "    .dataframe tbody tr th {\n",
       "        vertical-align: top;\n",
       "    }\n",
       "\n",
       "    .dataframe thead th {\n",
       "        text-align: right;\n",
       "    }\n",
       "</style>\n",
       "<table border=\"1\" class=\"dataframe\">\n",
       "  <thead>\n",
       "    <tr style=\"text-align: right;\">\n",
       "      <th></th>\n",
       "      <th>DBN</th>\n",
       "      <th>School Name</th>\n",
       "      <th>Grade</th>\n",
       "      <th>Year</th>\n",
       "      <th>Category</th>\n",
       "      <th>Number Tested</th>\n",
       "      <th>Mean Scale Score</th>\n",
       "      <th># Level 1</th>\n",
       "      <th>% Level 1</th>\n",
       "      <th># Level 2</th>\n",
       "      <th>% Level 2</th>\n",
       "      <th># Level 3</th>\n",
       "      <th>% Level 3</th>\n",
       "      <th># Level 4</th>\n",
       "      <th>% Level 4</th>\n",
       "      <th># Level 3+4</th>\n",
       "      <th>% Level 3+4</th>\n",
       "    </tr>\n",
       "  </thead>\n",
       "  <tbody>\n",
       "    <tr>\n",
       "      <th>0</th>\n",
       "      <td>01M015</td>\n",
       "      <td>P.S. 015 ROBERTO CLEMENTE</td>\n",
       "      <td>3.000</td>\n",
       "      <td>2023</td>\n",
       "      <td>All Students</td>\n",
       "      <td>24</td>\n",
       "      <td>454.833</td>\n",
       "      <td>4.000</td>\n",
       "      <td>16.667</td>\n",
       "      <td>5.000</td>\n",
       "      <td>20.833</td>\n",
       "      <td>11.000</td>\n",
       "      <td>45.833</td>\n",
       "      <td>4.000</td>\n",
       "      <td>16.667</td>\n",
       "      <td>15.000</td>\n",
       "      <td>62.500</td>\n",
       "    </tr>\n",
       "    <tr>\n",
       "      <th>1</th>\n",
       "      <td>01M015</td>\n",
       "      <td>P.S. 015 ROBERTO CLEMENTE</td>\n",
       "      <td>4.000</td>\n",
       "      <td>2023</td>\n",
       "      <td>All Students</td>\n",
       "      <td>17</td>\n",
       "      <td>453.647</td>\n",
       "      <td>1.000</td>\n",
       "      <td>5.882</td>\n",
       "      <td>6.000</td>\n",
       "      <td>35.294</td>\n",
       "      <td>8.000</td>\n",
       "      <td>47.059</td>\n",
       "      <td>2.000</td>\n",
       "      <td>11.765</td>\n",
       "      <td>10.000</td>\n",
       "      <td>58.824</td>\n",
       "    </tr>\n",
       "    <tr>\n",
       "      <th>2</th>\n",
       "      <td>01M015</td>\n",
       "      <td>P.S. 015 ROBERTO CLEMENTE</td>\n",
       "      <td>5.000</td>\n",
       "      <td>2023</td>\n",
       "      <td>All Students</td>\n",
       "      <td>30</td>\n",
       "      <td>440.500</td>\n",
       "      <td>10.000</td>\n",
       "      <td>33.333</td>\n",
       "      <td>11.000</td>\n",
       "      <td>36.667</td>\n",
       "      <td>7.000</td>\n",
       "      <td>23.333</td>\n",
       "      <td>2.000</td>\n",
       "      <td>6.667</td>\n",
       "      <td>9.000</td>\n",
       "      <td>30.000</td>\n",
       "    </tr>\n",
       "    <tr>\n",
       "      <th>3</th>\n",
       "      <td>01M015</td>\n",
       "      <td>P.S. 015 ROBERTO CLEMENTE</td>\n",
       "      <td>6.000</td>\n",
       "      <td>2023</td>\n",
       "      <td>All Students</td>\n",
       "      <td>1</td>\n",
       "      <td>NaN</td>\n",
       "      <td>NaN</td>\n",
       "      <td>NaN</td>\n",
       "      <td>NaN</td>\n",
       "      <td>NaN</td>\n",
       "      <td>NaN</td>\n",
       "      <td>NaN</td>\n",
       "      <td>NaN</td>\n",
       "      <td>NaN</td>\n",
       "      <td>NaN</td>\n",
       "      <td>NaN</td>\n",
       "    </tr>\n",
       "    <tr>\n",
       "      <th>4</th>\n",
       "      <td>01M015</td>\n",
       "      <td>P.S. 015 ROBERTO CLEMENTE</td>\n",
       "      <td>NaN</td>\n",
       "      <td>2023</td>\n",
       "      <td>All Students</td>\n",
       "      <td>72</td>\n",
       "      <td>NaN</td>\n",
       "      <td>NaN</td>\n",
       "      <td>NaN</td>\n",
       "      <td>NaN</td>\n",
       "      <td>NaN</td>\n",
       "      <td>NaN</td>\n",
       "      <td>NaN</td>\n",
       "      <td>NaN</td>\n",
       "      <td>NaN</td>\n",
       "      <td>NaN</td>\n",
       "      <td>NaN</td>\n",
       "    </tr>\n",
       "  </tbody>\n",
       "</table>\n",
       "</div>"
      ],
      "text/plain": [
       "      DBN                School Name  Grade  Year      Category  \\\n",
       "0  01M015  P.S. 015 ROBERTO CLEMENTE  3.000  2023  All Students   \n",
       "1  01M015  P.S. 015 ROBERTO CLEMENTE  4.000  2023  All Students   \n",
       "2  01M015  P.S. 015 ROBERTO CLEMENTE  5.000  2023  All Students   \n",
       "3  01M015  P.S. 015 ROBERTO CLEMENTE  6.000  2023  All Students   \n",
       "4  01M015  P.S. 015 ROBERTO CLEMENTE    NaN  2023  All Students   \n",
       "\n",
       "   Number Tested  Mean Scale Score  # Level 1  % Level 1  # Level 2  \\\n",
       "0             24           454.833      4.000     16.667      5.000   \n",
       "1             17           453.647      1.000      5.882      6.000   \n",
       "2             30           440.500     10.000     33.333     11.000   \n",
       "3              1               NaN        NaN        NaN        NaN   \n",
       "4             72               NaN        NaN        NaN        NaN   \n",
       "\n",
       "   % Level 2  # Level 3  % Level 3  # Level 4  % Level 4  # Level 3+4  \\\n",
       "0     20.833     11.000     45.833      4.000     16.667       15.000   \n",
       "1     35.294      8.000     47.059      2.000     11.765       10.000   \n",
       "2     36.667      7.000     23.333      2.000      6.667        9.000   \n",
       "3        NaN        NaN        NaN        NaN        NaN          NaN   \n",
       "4        NaN        NaN        NaN        NaN        NaN          NaN   \n",
       "\n",
       "   % Level 3+4  \n",
       "0       62.500  \n",
       "1       58.824  \n",
       "2       30.000  \n",
       "3          NaN  \n",
       "4          NaN  "
      ]
     },
     "execution_count": 25,
     "metadata": {},
     "output_type": "execute_result"
    }
   ],
   "source": [
    "resultsDF.head()"
   ]
  },
  {
   "cell_type": "code",
   "execution_count": 26,
   "id": "b2754533",
   "metadata": {
    "scrolled": true
   },
   "outputs": [
    {
     "name": "stdout",
     "output_type": "stream",
     "text": [
      "<class 'pandas.core.frame.DataFrame'>\n",
      "RangeIndex: 42343 entries, 0 to 42342\n",
      "Data columns (total 17 columns):\n",
      " #   Column            Non-Null Count  Dtype  \n",
      "---  ------            --------------  -----  \n",
      " 0   DBN               42343 non-null  object \n",
      " 1   School Name       42343 non-null  object \n",
      " 2   Grade             32599 non-null  float64\n",
      " 3   Year              42343 non-null  int64  \n",
      " 4   Category          42343 non-null  object \n",
      " 5   Number Tested     42343 non-null  int64  \n",
      " 6   Mean Scale Score  42168 non-null  float64\n",
      " 7   # Level 1         42168 non-null  float64\n",
      " 8   % Level 1         42168 non-null  float64\n",
      " 9   # Level 2         42168 non-null  float64\n",
      " 10  % Level 2         42168 non-null  float64\n",
      " 11  # Level 3         42168 non-null  float64\n",
      " 12  % Level 3         42168 non-null  float64\n",
      " 13  # Level 4         42168 non-null  float64\n",
      " 14  % Level 4         42168 non-null  float64\n",
      " 15  # Level 3+4       42168 non-null  float64\n",
      " 16  % Level 3+4       42168 non-null  float64\n",
      "dtypes: float64(12), int64(2), object(3)\n",
      "memory usage: 5.5+ MB\n"
     ]
    }
   ],
   "source": [
    "resultsDF.info()"
   ]
  },
  {
   "cell_type": "code",
   "execution_count": 27,
   "id": "b19d00e5",
   "metadata": {},
   "outputs": [
    {
     "name": "stdout",
     "output_type": "stream",
     "text": [
      "<class 'pandas.core.frame.DataFrame'>\n",
      "RangeIndex: 42343 entries, 0 to 42342\n",
      "Data columns (total 17 columns):\n",
      " #   Column            Non-Null Count  Dtype  \n",
      "---  ------            --------------  -----  \n",
      " 0   DBN               42343 non-null  object \n",
      " 1   School Name       42343 non-null  object \n",
      " 2   Grade             32599 non-null  float64\n",
      " 3   Year              42343 non-null  int64  \n",
      " 4   Category          42343 non-null  object \n",
      " 5   Number Tested     42343 non-null  int64  \n",
      " 6   Mean Scale Score  42168 non-null  float64\n",
      " 7   # Level 1         42168 non-null  float64\n",
      " 8   % Level 1         42168 non-null  float64\n",
      " 9   # Level 2         42168 non-null  float64\n",
      " 10  % Level 2         42168 non-null  float64\n",
      " 11  # Level 3         42168 non-null  float64\n",
      " 12  % Level 3         42168 non-null  float64\n",
      " 13  # Level 4         42168 non-null  float64\n",
      " 14  % Level 4         42168 non-null  float64\n",
      " 15  # Level 3+4       42168 non-null  float64\n",
      " 16  % Level 3+4       42168 non-null  float64\n",
      "dtypes: float64(12), int64(2), object(3)\n",
      "memory usage: 5.5+ MB\n"
     ]
    }
   ],
   "source": [
    "# resultsDF.info() showed that most of the columns are objects instead of numbers and needed to be converted\n",
    "resultsDF_colToConvert = ['Mean Scale Score',\n",
    " 'Grade',                             \n",
    " '# Level 1',\n",
    " '% Level 1',\n",
    " '# Level 2',\n",
    " '% Level 2',\n",
    " '# Level 3',\n",
    " '% Level 3',\n",
    " '# Level 4',\n",
    " '% Level 4',\n",
    " '# Level 3+4',\n",
    " '% Level 3+4']\n",
    "resultsDF[resultsDF_colToConvert] = resultsDF[resultsDF_colToConvert].apply(pd.to_numeric, errors = 'coerce')\n",
    "resultsDF.info()"
   ]
  },
  {
   "cell_type": "markdown",
   "id": "133be020",
   "metadata": {},
   "source": [
    "<a id=\"analysis\"></a> \n",
    "## Analysis"
   ]
  },
  {
   "cell_type": "markdown",
   "id": "17b77e85",
   "metadata": {},
   "source": [
    "<a id=\"MS_charts_district\"></a>\n",
    "#### Making middle school test results column charts by school districts"
   ]
  },
  {
   "cell_type": "code",
   "execution_count": 8,
   "id": "bde1ed66",
   "metadata": {},
   "outputs": [
    {
     "name": "stdout",
     "output_type": "stream",
     "text": [
      "['01', '02', '03', '04', '05', '06', '07', '08', '09', '10', '11', '12', '13', '14', '15', '16', '17', '18', '19', '20', '21', '22', '23', '24', '25', '26', '27', '28', '29', '30', '31', '32']\n"
     ]
    }
   ],
   "source": [
    "# Make a list of districts numbers in 2-digit format\n",
    "districts = []\n",
    "for i in range(1,33):\n",
    "    prefix = str(i).zfill(2) #make sure that each number is represented as a two-character string, starting with 0 if necessary\n",
    "    districts.append(prefix)\n",
    "print(districts)"
   ]
  },
  {
   "cell_type": "code",
   "execution_count": 28,
   "id": "3870a5d5",
   "metadata": {},
   "outputs": [],
   "source": [
    "# Dictionaries to hold dataframes\n",
    "district_dfs = {}\n",
    "district_grouped_dfs = {}\n",
    "\n",
    "#Create the dataframes\n",
    "for i in districts:\n",
    "    dfName = 'dist'+i+'_MS_DF_'+subject\n",
    "    dfNameGrouped = dfName + '_grpd'\n",
    "    district_dfs[dfName] = resultsDF[(resultsDF['DBN'].str.startswith(i)) & (resultsDF['Grade'] >= 6)&(resultsDF['Grade'] <= 8)]\n",
    "    district_grouped_dfs[dfNameGrouped] = district_dfs[dfName].groupby('Year')[['# Level 1','# Level 2','# Level 3','# Level 4']].sum()\n",
    "# To access a dataframe: some_dataframe = district_dfs['distXX_MS_DF_XXXX']  \n",
    "# Replace XX with the desired district code    "
   ]
  },
  {
   "cell_type": "code",
   "execution_count": null,
   "id": "ec9567db",
   "metadata": {},
   "outputs": [],
   "source": [
    "#Create a normalized bar chart for each dataframe in the district_dfs \n",
    "#1. Normalize the dataframe rows to sum to 1\n",
    "for dfNameGrouped, current_dataframe in district_grouped_dfs.items():\n",
    "    # dfNameGrouped contains the name of the dataframe\n",
    "    # current_dataframe contains the dataframe itself\n",
    "    # Do something with current_dataframe\n",
    "    #current_dataframe.dropna()\n",
    "    normalized_df = current_dataframe.div(current_dataframe.sum(axis=1), axis=0)\n",
    "\n",
    "    # 2. Plot the normalized dataframe\n",
    "    normalized_df.plot(kind='bar', stacked=True, figsize=(10,6))\n",
    "    \n",
    "    title = 'Results by years, ' + subject + ' ' + dfNameGrouped\n",
    "    plt.title(title)  # Set the title\n",
    "    plt.xlabel('Year')  # X-axis label\n",
    "    plt.ylabel('Share of students tested')  # Y-axis label\n",
    "    plt.grid(axis='y')\n",
    "    plt.yticks([0, 0.2, 0.4, 0.6, 0.8, 1.0], ['0%', '20%', '40%', '60%', '80%', '100%'])  # Adjust y-ticks to percentage\n",
    "\n",
    "    plt.tight_layout()\n",
    "    pdfTitle = title + '.pdf' \n",
    "    plt.savefig(pdfTitle) # Save output as a pdf\n",
    "    plt.show()"
   ]
  },
  {
   "cell_type": "code",
   "execution_count": 29,
   "id": "4aa9a724",
   "metadata": {},
   "outputs": [],
   "source": [
    "# Produce a data frame with MS results by districts\n",
    "\n",
    "## Prepare combined DF\n",
    "districts_combined = pd.DataFrame()\n",
    "## Select columns to normalize\n",
    "columns_to_normalize = ['# Level 1', '# Level 2', '# Level 3', '# Level 4']\n",
    "\n",
    "\n",
    "for dfNameGrouped, dataframe in district_grouped_dfs.items():\n",
    "    for column in columns_to_normalize:\n",
    "        # Calculate row sum for selected columns\n",
    "        row_sum = dataframe[columns_to_normalize].sum(axis=1)\n",
    "        dataframe[column] = dataframe[column].div(row_sum)\n",
    "    # Select district number (simbols 5 and 6 from DF names)\n",
    "    symbols = dfNameGrouped[4:6]\n",
    "    # Create a new column with these symbols\n",
    "    dataframe['District'] = symbols\n",
    "    # Concatenate the data frames\n",
    "    districts_combined = pd.concat([districts_combined, dataframe], ignore_index=False)"
   ]
  },
  {
   "cell_type": "code",
   "execution_count": 30,
   "id": "439cd2b9",
   "metadata": {},
   "outputs": [
    {
     "data": {
      "text/html": [
       "<div>\n",
       "<style scoped>\n",
       "    .dataframe tbody tr th:only-of-type {\n",
       "        vertical-align: middle;\n",
       "    }\n",
       "\n",
       "    .dataframe tbody tr th {\n",
       "        vertical-align: top;\n",
       "    }\n",
       "\n",
       "    .dataframe thead th {\n",
       "        text-align: right;\n",
       "    }\n",
       "</style>\n",
       "<table border=\"1\" class=\"dataframe\">\n",
       "  <thead>\n",
       "    <tr style=\"text-align: right;\">\n",
       "      <th></th>\n",
       "      <th>Year</th>\n",
       "      <th># Level 1</th>\n",
       "      <th># Level 2</th>\n",
       "      <th># Level 3</th>\n",
       "      <th># Level 4</th>\n",
       "      <th>District</th>\n",
       "    </tr>\n",
       "  </thead>\n",
       "  <tbody>\n",
       "    <tr>\n",
       "      <th>0</th>\n",
       "      <td>2013</td>\n",
       "      <td>0.265</td>\n",
       "      <td>0.461</td>\n",
       "      <td>0.465</td>\n",
       "      <td>0.997</td>\n",
       "      <td>01</td>\n",
       "    </tr>\n",
       "    <tr>\n",
       "      <th>1</th>\n",
       "      <td>2014</td>\n",
       "      <td>0.214</td>\n",
       "      <td>0.438</td>\n",
       "      <td>0.518</td>\n",
       "      <td>0.997</td>\n",
       "      <td>01</td>\n",
       "    </tr>\n",
       "    <tr>\n",
       "      <th>2</th>\n",
       "      <td>2015</td>\n",
       "      <td>0.216</td>\n",
       "      <td>0.397</td>\n",
       "      <td>0.537</td>\n",
       "      <td>0.997</td>\n",
       "      <td>01</td>\n",
       "    </tr>\n",
       "    <tr>\n",
       "      <th>3</th>\n",
       "      <td>2016</td>\n",
       "      <td>0.156</td>\n",
       "      <td>0.425</td>\n",
       "      <td>0.535</td>\n",
       "      <td>0.997</td>\n",
       "      <td>01</td>\n",
       "    </tr>\n",
       "    <tr>\n",
       "      <th>4</th>\n",
       "      <td>2017</td>\n",
       "      <td>0.169</td>\n",
       "      <td>0.395</td>\n",
       "      <td>0.501</td>\n",
       "      <td>0.998</td>\n",
       "      <td>01</td>\n",
       "    </tr>\n",
       "  </tbody>\n",
       "</table>\n",
       "</div>"
      ],
      "text/plain": [
       "   Year  # Level 1  # Level 2  # Level 3  # Level 4 District\n",
       "0  2013      0.265      0.461      0.465      0.997       01\n",
       "1  2014      0.214      0.438      0.518      0.997       01\n",
       "2  2015      0.216      0.397      0.537      0.997       01\n",
       "3  2016      0.156      0.425      0.535      0.997       01\n",
       "4  2017      0.169      0.395      0.501      0.998       01"
      ]
     },
     "execution_count": 30,
     "metadata": {},
     "output_type": "execute_result"
    }
   ],
   "source": [
    "# Make sure that column \"Years\" is not index column\n",
    "districts_combined.reset_index(inplace=True)\n",
    "districts_combined.head()"
   ]
  },
  {
   "cell_type": "code",
   "execution_count": 31,
   "id": "9e65cc49",
   "metadata": {},
   "outputs": [],
   "source": [
    "# Export the data frame with MS results by districts to excel file for future use\n",
    "fileName = f'DistrictsMS{subject}Norm.xlsx'\n",
    "path = os.path.join(basePath, fileName)\n",
    "districts_combined.to_excel(path)\n",
    "\n",
    "del fileName, path"
   ]
  },
  {
   "cell_type": "code",
   "execution_count": null,
   "id": "a11b77cc",
   "metadata": {},
   "outputs": [],
   "source": []
  }
 ],
 "metadata": {
  "kernelspec": {
   "display_name": "Python 3 (ipykernel)",
   "language": "python",
   "name": "python3"
  },
  "language_info": {
   "codemirror_mode": {
    "name": "ipython",
    "version": 3
   },
   "file_extension": ".py",
   "mimetype": "text/x-python",
   "name": "python",
   "nbconvert_exporter": "python",
   "pygments_lexer": "ipython3",
   "version": "3.7.12"
  }
 },
 "nbformat": 4,
 "nbformat_minor": 5
}
